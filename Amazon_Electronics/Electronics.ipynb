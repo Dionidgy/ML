{
 "cells": [
  {
   "cell_type": "markdown",
   "metadata": {},
   "source": [
    "# Тестовое задание"
   ]
  },
  {
   "cell_type": "code",
   "execution_count": 108,
   "metadata": {},
   "outputs": [],
   "source": [
    "import pandas as pd\n",
    "import numpy as np\n",
    "import nltk\n",
    "from sklearn.feature_extraction.text import CountVectorizer,TfidfVectorizer\n",
    "import string"
   ]
  },
  {
   "cell_type": "code",
   "execution_count": 183,
   "metadata": {},
   "outputs": [],
   "source": [
    "count_vect = CountVectorizer(max_df = 0.8, min_df = 0.05, ngram_range=(1, 3))\n",
    "tfidf_vect = TfidfVectorizer(max_df = 0.8, min_df = 0.05, ngram_range=(1, 3))\n",
    "porter_stemmer = nltk.stem.PorterStemmer()"
   ]
  },
  {
   "cell_type": "markdown",
   "metadata": {},
   "source": [
    "## Cкачиваем файл с данными"
   ]
  },
  {
   "cell_type": "code",
   "execution_count": 4,
   "metadata": {},
   "outputs": [],
   "source": [
    "#!wget http://snap.stanford.edu/data/amazon/productGraph/categoryFiles/reviews_Electronics_5.json.gz\n",
    "#или\n",
    "#!wget https://drive.google.com/open?id=1DwwTyIn5zW7KTxp4bONHtKNa6DlT9PUj"
   ]
  },
  {
   "cell_type": "markdown",
   "metadata": {},
   "source": [
    "## Если необходимо, преобразуем JSON к CSV"
   ]
  },
  {
   "cell_type": "code",
   "execution_count": null,
   "metadata": {},
   "outputs": [],
   "source": [
    "df = pd.read_json ('reviews_Electronics_5.json', lines=True )\n",
    "df.to_csv ('Electronics_5.csv', index = None)"
   ]
  },
  {
   "cell_type": "markdown",
   "metadata": {},
   "source": [
    "# Предобработка"
   ]
  },
  {
   "cell_type": "code",
   "execution_count": 110,
   "metadata": {},
   "outputs": [],
   "source": [
    "dat = pd.read_csv(\"Electronics_5.csv\")[[\"asin\",\"reviewText\", \"overall\"]]"
   ]
  },
  {
   "cell_type": "markdown",
   "metadata": {},
   "source": [
    "## Добавляем бинрную оценку"
   ]
  },
  {
   "cell_type": "code",
   "execution_count": 112,
   "metadata": {},
   "outputs": [],
   "source": [
    "dat[\"bin\"] = dat.overall > 3"
   ]
  },
  {
   "cell_type": "markdown",
   "metadata": {},
   "source": [
    "## Отрежем кусок даты"
   ]
  },
  {
   "cell_type": "code",
   "execution_count": 120,
   "metadata": {},
   "outputs": [],
   "source": [
    "dat_t, dat = dat, dat[0:11]"
   ]
  },
  {
   "cell_type": "markdown",
   "metadata": {},
   "source": [
    "## Натравим на необработанные данные"
   ]
  },
  {
   "cell_type": "code",
   "execution_count": null,
   "metadata": {},
   "outputs": [],
   "source": [
    "dat_count_deft = count_vect.fit_transform(dat.reviewText)\n",
    "dat_tfidf_deft = tfidf_vect.fit_transform(dat.reviewText)\n"
   ]
  },
  {
   "cell_type": "markdown",
   "metadata": {},
   "source": [
    "## Приводим к базовой форме"
   ]
  },
  {
   "cell_type": "code",
   "execution_count": 121,
   "metadata": {},
   "outputs": [],
   "source": [
    "# for i in range(len(dat[\"words\"])):\n",
    "#     dat[\"words\"][i] = (\" \").join(list(map(lambda x: porter_stemmer.stem(x.lower().translate(str.maketrans('', '', string.punctuation))), \\\n",
    "#                                           filter(lambda word: word.lower() not in nltk.corpus.stopwords.words('english'), dat[\"words\"][i]))))"
   ]
  },
  {
   "cell_type": "code",
   "execution_count": 187,
   "metadata": {},
   "outputs": [
    {
     "name": "stderr",
     "output_type": "stream",
     "text": [
      "/home/denis/anaconda3/lib/python3.7/site-packages/ipykernel_launcher.py:1: SettingWithCopyWarning: \n",
      "A value is trying to be set on a copy of a slice from a DataFrame.\n",
      "Try using .loc[row_indexer,col_indexer] = value instead\n",
      "\n",
      "See the caveats in the documentation: http://pandas.pydata.org/pandas-docs/stable/user_guide/indexing.html#returning-a-view-versus-a-copy\n",
      "  \"\"\"Entry point for launching an IPython kernel.\n",
      "/home/denis/anaconda3/lib/python3.7/site-packages/ipykernel_launcher.py:4: SettingWithCopyWarning: \n",
      "A value is trying to be set on a copy of a slice from a DataFrame\n",
      "\n",
      "See the caveats in the documentation: http://pandas.pydata.org/pandas-docs/stable/user_guide/indexing.html#returning-a-view-versus-a-copy\n",
      "  after removing the cwd from sys.path.\n",
      "/home/denis/anaconda3/lib/python3.7/site-packages/IPython/core/interactiveshell.py:3326: SettingWithCopyWarning: \n",
      "A value is trying to be set on a copy of a slice from a DataFrame\n",
      "\n",
      "See the caveats in the documentation: http://pandas.pydata.org/pandas-docs/stable/user_guide/indexing.html#returning-a-view-versus-a-copy\n",
      "  exec(code_obj, self.user_global_ns, self.user_ns)\n"
     ]
    }
   ],
   "source": [
    "dat[\"words\"] = list(map(lambda s: nltk.word_tokenize(s.replace(\"'\", \" \")), dat.reviewText))\n",
    "\n",
    "for i in range(len(dat.words)):\n",
    "    dat.words[i] = (\" \").join(list(map(lambda s: (porter_stemmer.stem(s)), dat.words[i]))).lower().translate(str.maketrans('', '', string.punctuation))"
   ]
  },
  {
   "cell_type": "markdown",
   "metadata": {},
   "source": [
    "## Натравим на обработанные данные"
   ]
  },
  {
   "cell_type": "code",
   "execution_count": 184,
   "metadata": {},
   "outputs": [],
   "source": [
    "dat_count = count_vect.fit_transform(dat.words)\n",
    "dat_tfidf = tfidf_vect.fit_transform(dat.words)"
   ]
  },
  {
   "cell_type": "markdown",
   "metadata": {},
   "source": [
    "## Проверим, что получилось"
   ]
  },
  {
   "cell_type": "code",
   "execution_count": 185,
   "metadata": {},
   "outputs": [
    {
     "data": {
      "text/html": [
       "<div>\n",
       "<style scoped>\n",
       "    .dataframe tbody tr th:only-of-type {\n",
       "        vertical-align: middle;\n",
       "    }\n",
       "\n",
       "    .dataframe tbody tr th {\n",
       "        vertical-align: top;\n",
       "    }\n",
       "\n",
       "    .dataframe thead th {\n",
       "        text-align: right;\n",
       "    }\n",
       "</style>\n",
       "<table border=\"1\" class=\"dataframe\">\n",
       "  <thead>\n",
       "    <tr style=\"text-align: right;\">\n",
       "      <th></th>\n",
       "      <th>asin</th>\n",
       "      <th>reviewText</th>\n",
       "      <th>overall</th>\n",
       "      <th>bin</th>\n",
       "      <th>words</th>\n",
       "    </tr>\n",
       "  </thead>\n",
       "  <tbody>\n",
       "    <tr>\n",
       "      <td>0</td>\n",
       "      <td>0528881469</td>\n",
       "      <td>We got this GPS for my husband who is an (OTR)...</td>\n",
       "      <td>5</td>\n",
       "      <td>True</td>\n",
       "      <td>we got thi gp for my husband who is an  otr  o...</td>\n",
       "    </tr>\n",
       "    <tr>\n",
       "      <td>1</td>\n",
       "      <td>0528881469</td>\n",
       "      <td>I'm a professional OTR truck driver, and I bou...</td>\n",
       "      <td>1</td>\n",
       "      <td>False</td>\n",
       "      <td>i m a profession otr truck driver  and i bough...</td>\n",
       "    </tr>\n",
       "    <tr>\n",
       "      <td>2</td>\n",
       "      <td>0528881469</td>\n",
       "      <td>Well, what can I say.  I've had this unit in m...</td>\n",
       "      <td>3</td>\n",
       "      <td>False</td>\n",
       "      <td>well  what can i say  i ve had thi unit in my ...</td>\n",
       "    </tr>\n",
       "    <tr>\n",
       "      <td>3</td>\n",
       "      <td>0528881469</td>\n",
       "      <td>Not going to write a long review, even thought...</td>\n",
       "      <td>2</td>\n",
       "      <td>False</td>\n",
       "      <td>not go to write a long review  even thought th...</td>\n",
       "    </tr>\n",
       "    <tr>\n",
       "      <td>4</td>\n",
       "      <td>0528881469</td>\n",
       "      <td>I've had mine for a year and here's what we go...</td>\n",
       "      <td>1</td>\n",
       "      <td>False</td>\n",
       "      <td>i ve had mine for a year and here s what we go...</td>\n",
       "    </tr>\n",
       "    <tr>\n",
       "      <td>5</td>\n",
       "      <td>0594451647</td>\n",
       "      <td>I am using this with a Nook HD+. It works as d...</td>\n",
       "      <td>5</td>\n",
       "      <td>True</td>\n",
       "      <td>i am use thi with a nook hd  it work as descri...</td>\n",
       "    </tr>\n",
       "    <tr>\n",
       "      <td>6</td>\n",
       "      <td>0594451647</td>\n",
       "      <td>The cable is very wobbly and sometimes disconn...</td>\n",
       "      <td>2</td>\n",
       "      <td>False</td>\n",
       "      <td>the cabl is veri wobbl and sometim disconnect ...</td>\n",
       "    </tr>\n",
       "    <tr>\n",
       "      <td>7</td>\n",
       "      <td>0594451647</td>\n",
       "      <td>This adaptor is real easy to setup and use rig...</td>\n",
       "      <td>5</td>\n",
       "      <td>True</td>\n",
       "      <td>thi adaptor is real easi to setup and use righ...</td>\n",
       "    </tr>\n",
       "    <tr>\n",
       "      <td>8</td>\n",
       "      <td>0594451647</td>\n",
       "      <td>This adapter easily connects my Nook HD 7&amp;#34;...</td>\n",
       "      <td>4</td>\n",
       "      <td>True</td>\n",
       "      <td>thi adapt easili connect my nook hd 7   34  to...</td>\n",
       "    </tr>\n",
       "    <tr>\n",
       "      <td>9</td>\n",
       "      <td>0594451647</td>\n",
       "      <td>This product really works great but I found th...</td>\n",
       "      <td>5</td>\n",
       "      <td>True</td>\n",
       "      <td>thi product realli work great but i found the ...</td>\n",
       "    </tr>\n",
       "    <tr>\n",
       "      <td>10</td>\n",
       "      <td>0594481813</td>\n",
       "      <td>This item is just as was described in the orig...</td>\n",
       "      <td>4</td>\n",
       "      <td>True</td>\n",
       "      <td>thi item is just as wa describ in the origin d...</td>\n",
       "    </tr>\n",
       "  </tbody>\n",
       "</table>\n",
       "</div>"
      ],
      "text/plain": [
       "          asin                                         reviewText  overall  \\\n",
       "0   0528881469  We got this GPS for my husband who is an (OTR)...        5   \n",
       "1   0528881469  I'm a professional OTR truck driver, and I bou...        1   \n",
       "2   0528881469  Well, what can I say.  I've had this unit in m...        3   \n",
       "3   0528881469  Not going to write a long review, even thought...        2   \n",
       "4   0528881469  I've had mine for a year and here's what we go...        1   \n",
       "5   0594451647  I am using this with a Nook HD+. It works as d...        5   \n",
       "6   0594451647  The cable is very wobbly and sometimes disconn...        2   \n",
       "7   0594451647  This adaptor is real easy to setup and use rig...        5   \n",
       "8   0594451647  This adapter easily connects my Nook HD 7&#34;...        4   \n",
       "9   0594451647  This product really works great but I found th...        5   \n",
       "10  0594481813  This item is just as was described in the orig...        4   \n",
       "\n",
       "      bin                                              words  \n",
       "0    True  we got thi gp for my husband who is an  otr  o...  \n",
       "1   False  i m a profession otr truck driver  and i bough...  \n",
       "2   False  well  what can i say  i ve had thi unit in my ...  \n",
       "3   False  not go to write a long review  even thought th...  \n",
       "4   False  i ve had mine for a year and here s what we go...  \n",
       "5    True  i am use thi with a nook hd  it work as descri...  \n",
       "6   False  the cabl is veri wobbl and sometim disconnect ...  \n",
       "7    True  thi adaptor is real easi to setup and use righ...  \n",
       "8    True  thi adapt easili connect my nook hd 7   34  to...  \n",
       "9    True  thi product realli work great but i found the ...  \n",
       "10   True  thi item is just as wa describ in the origin d...  "
      ]
     },
     "execution_count": 185,
     "metadata": {},
     "output_type": "execute_result"
    }
   ],
   "source": [
    "dat"
   ]
  },
  {
   "cell_type": "code",
   "execution_count": 10,
   "metadata": {},
   "outputs": [
    {
     "data": {
      "text/plain": [
       "array([[0, 0, 0, ..., 0, 0, 0],\n",
       "       [0, 0, 0, ..., 0, 1, 0],\n",
       "       [2, 2, 0, ..., 0, 0, 0],\n",
       "       ...,\n",
       "       [0, 0, 0, ..., 0, 0, 0],\n",
       "       [0, 0, 0, ..., 1, 0, 1],\n",
       "       [0, 0, 0, ..., 0, 0, 0]])"
      ]
     },
     "execution_count": 10,
     "metadata": {},
     "output_type": "execute_result"
    }
   ],
   "source": [
    "dat_count.toarray()"
   ]
  },
  {
   "cell_type": "code",
   "execution_count": 11,
   "metadata": {},
   "outputs": [
    {
     "data": {
      "text/plain": [
       "array([[0.        , 0.        , 0.        , ..., 0.        , 0.        ,\n",
       "        0.        ],\n",
       "       [0.        , 0.        , 0.        , ..., 0.        , 0.05515774,\n",
       "        0.        ],\n",
       "       [0.05199244, 0.06082669, 0.        , ..., 0.        , 0.        ,\n",
       "        0.        ],\n",
       "       ...,\n",
       "       [0.        , 0.        , 0.        , ..., 0.        , 0.        ,\n",
       "        0.        ],\n",
       "       [0.        , 0.        , 0.        , ..., 0.07066887, 0.        ,\n",
       "        0.09400997],\n",
       "       [0.        , 0.        , 0.        , ..., 0.        , 0.        ,\n",
       "        0.        ]])"
      ]
     },
     "execution_count": 11,
     "metadata": {},
     "output_type": "execute_result"
    }
   ],
   "source": [
    "dat_tfidf.toarray()"
   ]
  },
  {
   "cell_type": "code",
   "execution_count": 118,
   "metadata": {},
   "outputs": [
    {
     "data": {
      "text/plain": [
       "array([[0, 0, 0, ..., 0, 1, 0],\n",
       "       [1, 0, 0, ..., 1, 3, 0],\n",
       "       [0, 2, 2, ..., 0, 5, 0],\n",
       "       ...,\n",
       "       [0, 0, 0, ..., 0, 0, 0],\n",
       "       [0, 0, 0, ..., 0, 6, 3],\n",
       "       [0, 0, 0, ..., 0, 0, 0]])"
      ]
     },
     "execution_count": 118,
     "metadata": {},
     "output_type": "execute_result"
    }
   ],
   "source": [
    "dat_count_deft.toarray()"
   ]
  },
  {
   "cell_type": "code",
   "execution_count": 154,
   "metadata": {},
   "outputs": [
    {
     "data": {
      "text/plain": [
       "662"
      ]
     },
     "execution_count": 154,
     "metadata": {},
     "output_type": "execute_result"
    }
   ],
   "source": [
    "len(dat_count.toarray()[0])"
   ]
  },
  {
   "cell_type": "code",
   "execution_count": 160,
   "metadata": {},
   "outputs": [
    {
     "data": {
      "text/plain": [
       "662"
      ]
     },
     "execution_count": 160,
     "metadata": {},
     "output_type": "execute_result"
    }
   ],
   "source": [
    "len(count_vect.get_feature_names())"
   ]
  },
  {
   "cell_type": "code",
   "execution_count": 186,
   "metadata": {},
   "outputs": [
    {
     "name": "stdout",
     "output_type": "stream",
     "text": [
      "['10', '10 feet', '10 feet away', '10 ton', '10 ton counti', '10 via', '10 via or', '10 year', '10 year old', '100', '100 page', '100 page long', '100 thorough', '100 thorough list', '12', '12 bridg', '12 bridg when', '13', '13 of', '13 of cours', '13 the', '13 the length', '15', '15 mile', '15 mile down', '1mil', '1mil mile', '1mil mile and', '23', '23 mile', '23 mile of', '2400', '2400 dollar', '2400 dollar ticket', '25', '25 in', '25 in denver', '25ft', '25ft high', '25ft high qualiti', '30', '30 on', '30 on cheap', '34', '34 to', '34 to my', '34 tv', '34 tv is', '3d', '3d from', '3d from few', '45', '45 second', '45 second to', '465t', '465t or', '465t or the', '465t realli', '465t realli do', '50', '50 have', '50 have crash', '52', '52 34', '52 34 tv', '53', '53 and', '53 and the', '700', '700 at', '700 at truck', '700 even', '700 even though', '700 for', '700 for sever', '700 howev', '700 howev want', '700 it', '700 it seem', '700 or', '700 or is', '700 rout', '700 rout me', '700 took', '700 took almost', '700 upward', '700 upward of', '700 wa', '700 wa 10', '700 wa complet', '73280', '73280 unless', '73280 unless the', '755t', '755t nontruck', '755t nontruck gp', '800', '800 yard', '800 yard and', '80000', '80000 of', '80000 of my', 'abil', 'abil to', 'abil to coordin', 'abil to plan', 'abil to rout', 'abil to track', 'abl', 'abl to', 'abl to place', 'about', 'about 15', 'about 15 mile', 'about 50', 'about 50 have', 'about four', 'about four day', 'about the', 'about the unit', 'about thi', 'about thi unit', 'access', 'access hdmi', 'access hdmi port', 'accessori', 'accessori to', 'accessori to have', 'accord', 'accord to', 'accord to thi', 'across', 'across the', 'across the citi', 'across the room', 'actual', 'actual rout', 'actual rout me', 'adapt', 'adapt but', 'adapt but it', 'adapt connect', 'adapt connect for', 'adapt easili', 'adapt easili connect', 'adapt in', 'adapt in place', 'adapt to', 'adapt to operate', 'adapt work', 'adapt work fine', 'adaptor', 'adaptor found', 'adaptor found it', 'adaptor is', 'adaptor is real', 'adaptor veri', 'adaptor veri much', 'add', 'add my', 'add my own', 'add up', 'add up to', 'address', 'address into', 'address into memori', 'address is', 'address is po', 'address so', 'address so could', 'adequ', 'adequ as', 'adequ as to', 'advis', 'advis the', 'advis the tnd', 'aesthet', 'aesthet pleas', 'aesthet pleas and', 'after', 'after charg', 'after charg it', 'after my', 'after my pickup', 'after perus', 'after perus variou', 'after play', 'after play with', 'all', 'all expect', 'all expect alot', 'all get', 'all get you', 'all in', 'all in all', 'all it', 'all it is', 'all my', 'all my truck', 'all of', 'all of us', 'all seem', 'all seem to', 'all that', 'all that unusu', 'all the', 'all the way', 'all truck', 'all truck specif', 'allot', 'allot it', 'allot it just', 'allot of', 'allot of cool', 'allot of great', 'allot of leadway', 'almost', 'almost minut', 'almost minut to', 'along', 'along the', 'along the rout', 'alot', 'alot out', 'alot out of', 'also', 'also be', 'also be nice', 'also forc', 'also forc the', 'also from', 'also from the', 'also good', 'also good for', 'also it', 'also it eas', 'also unaccept', 'also unaccept in', 'also updat', 'also updat the', 'am', 'am now', 'am now haul', 'am somewhat', 'am somewhat unimpressedpro', 'am still', 'am still mull', 'am sure', 'am sure other', 'am use', 'am use thi', 'amongst', 'amongst all', 'amongst all truck', 'an', 'an access', 'an access hdmi', 'an aesthet', 'an aesthet pleas', 'an exchang', 'an exchang veri', 'an expert', 'an expert sourc', 'an omiss', 'an omiss of', 'an otr', 'an otr over', 'an sd', 'an sd card', 'an unrecover', 'an unrecover state', 'and also', 'and also it', 'and am', 'and am sure', 'and at', 'and at truck', 'and bought', 'and bought tnd', 'and buy', 'and buy the', 'and consid', 'and consid am', 'and done', 'and done most', 'and drive', 'and drive west', 'and durabl', 'and durabl built', 'and featur', 'and featur laden', 'and got', 'and got my', 'and got unit', 'and half', 'and half to', 'and have', 'and have the', 'and hd', 'and hd seri', 'and here', 'and here what', 'and instal', 'and instal the', 'and it', 'and it abil', 'and it happen', 'and it wa', 'and like', 'and like the', 'and made', 'and made notif', 'and more', 'and more than', 'and on', 'and on screen', 'and onli', 'and onli work', 'and other', 'and other factor', 'and pick', 'and pick up', 'and print', 'and print it', 'and road', 'and road atla', 'and rout', 'and rout you', 'and shortest', 'and shortest have', 'and sold', 'and sold as', 'and sometim', 'and sometim disconnect', 'and south', 'and south to', 'and that', 'and that just', 'and that might', 'and the', 'and the abil', 'and the featur', 'and the next', 'and the other', 'and the turn', 'and the volum', 'and the weight', 'and then', 'and then attempt', 'and then base', 'and told', 'and told it', 'and use', 'and use right', 'and use your', 'and verifi', 'and verifi through', 'and viasa', 'and viasa somewhat', 'and wa', 'and wa not', 'and wait', 'and wait that', 'and want', 'and want my', 'and when', 'and when made', 'and where', 'and where it', 'and will', 'and will rout', 'and with', 'and with ani', 'and within', 'and within minut', 'and wordofmouth', 'and wordofmouth my', 'and you', 'and you can', 'ani', 'ani gp', 'ani gp unit', 'ani hotel', 'ani hotel tv', 'ani issu', 'ani issu to', 'anoth', 'anoth chanc', 'anoth chanc after', 'anyth', 'anyth els', 'anyth els it', 'appear', 'appear it', 'appear it need', 'appear to', 'appear to be', 'are', 'are more', 'are more current', 'are sever', 'are sever driver', 'are sold', 'are sold ran', 'are the', 'are the same', 'are you', 'are you listen', 'area', 'area my', 'area my next', 'around', 'around much', 'around much without', 'around to', 'around to get', 'arriv', 'arriv few', 'arriv few day', 'as could', 'as could with', 'as describ', 'as describ the', 'as long', 'as long to', 'as my', 'as my old', 'as no', 'as no one', 'as non', 'as non truck', 'as previous', 'as previous mention', 'as stream', 'as stream server', 'as there', 'as there is', 'as to', 'as to how', 'as truck', 'as truck specif', 'as userfriendli', 'as userfriendli as', 'as wa', 'as wa describ', 'as well', 'as well but', 'at', 'at 10', 'at 10 ton', 'at all', 'at all it', 'at differ', 'at differ locat', 'at least', 'at least dozen', 'at least the', 'at return', 'at return it', 'at stop', 'at stop light', 'at thi', 'at thi point', 'at truck', 'at truck stop', 'atla', 'atla and', 'atla and also', 'atla so', 'atla so believ', 'atla with', 'atla with truck', 'attempt', 'attempt to', 'attempt to updat', 'avail', 'avail at', 'avail at thi', 'avail on', 'avail on an', 'avail via', 'avail via the', 'away', 'away you', 'away you might', 'awesomeanoth', 'awesomeanoth thing', 'awesomeanoth thing ve', 'az', 'az via', 'az via i71', 'back', 'back doe', 'back doe not', 'back to', 'back to garmin', 'back to the', 'back with', 'back with instruct', 'backi', 'backi then', 'backi then spent', 'backsid', 'backsid didn', 'backsid didn make', 'bad', 'bad problem', 'bad problem that', 'bad softwar', 'bad softwar thi', 'bad to', 'bad to say', 'base', 'base on', 'base on mileag', 'basic', 'basic garmin', 'basic garmin could', 'basic garmin for', 'basic garmin thi', 'basic item', 'basic item that', 'be', 'be also', 'be also updat', 'be an', 'be an aesthet', 'be an omiss', 'be down', 'be down non', 'be fairli', 'be fairli adequ', 'be nice', 'be nice if', 'be seen', 'be seen good', 'be sent', 'be sent patch', 'be somewhat', 'be somewhat outdat', 'be sure', 'be sure to', 'be the', 'be the extra', 'be veri', 'be veri challeng', 'be will', 'be will to', 'becaus', 'becaus it', 'becaus it make', 'becaus it realli', 'been', 'been field', 'been field test', 'been glitch', 'been glitch in', 'been use', 'been use basic', 'befor', 'befor but', 'befor but after', 'befor final', 'befor final get', 'believ', 'believ that', 'believ that is', 'belong', 'belong on', 'belong on today', 'below', 'below the', 'below the connect', 'best', 'best rout', 'best rout could', 'best rout to', 'best rout tool', 'bet', 'bet the', 'bet the other', 'better', 'better than', 'better than thi', 'big', 'big no', 'big no go', 'big of', 'big of deal', 'big truck', 'big truck rout', 'bigger', 'bigger screen', 'bigger screen bit', 'bigger screen the', 'bit', 'bit more', 'bit more than', 'bit pricey', 'bit pricey but', 'block', 'block my', 'block my cell', 'block off', 'block off it', 'boil', 'boil down', 'boil down to', 'bone', 'bone have', 'bone have to', 'boot', 'boot compar', 'boot compar to', 'boot itself', 'boot itself up', 'bottom', 'bottom it', 'bottom it appear', 'bought', 'bought the', 'bought the same', 'bought tnd', 'bought tnd 700', 'box', 'box had', 'box had not', 'box that', 'box that friend', 'bridg', 'bridg when', 'bridg when 13', 'built', 'built unit', 'built unit the', 'busi', 'busi watch', 'busi watch my', 'but', 'but after', 'but after play', 'but at', 'but at thi', 'but doe', 'but doe have', 'but found', 'but found the', 'but good', 'but good accessori', 'but it', 'but it abil', 'but it doe', 'but it realli', 'but on', 'but on the', 'but the', 'but the most', 'but the other', 'but then', 'but then it', 'but thi', 'but thi is', 'buy', 'buy softwar', 'buy softwar for', 'buy the', 'buy the garmin', 'by', 'by determin', 'by determin mileag', 'by multipl', 'by multipl stop', 'by nice', 'by nice garmen', 'by put', 'by put in', 'by the', 'by the use', 'by what', 'by what appear', 'cabl', 'cabl is', 'cabl is veri', 'cabl so', 'cabl so you', 'cabl thi', 'cabl thi is', 'cableswarn', 'cableswarn found', 'cableswarn found that', 'can', 'can be', 'can be veri', 'can determin', 'can determin total', 'can enter', 'can enter multipl', 'can make', 'can make it', 'can not', 'can not move', 'can not tell', 'can put', 'can put the', 'can say', 'can say ve', 'car', 'car actual', 'car actual rout', 'car on', 'car on my', 'car specif', 'car specif navteq', 'card', 'card hello', 'card hello don', 'card then', 'card then you', 'card to', 'card to the', 'cell', 'cell phone', 'cell phone advis', 'cell phone gp', 'chain', 'chain purchas', 'chain purchas it', 'challeng', 'challeng for', 'challeng for unit', 'chanc', 'chanc after', 'chanc after my', 'chang', 'chang also', 'chang also from', 'chang ie', 'chang ie in', 'chang or', 'chang or major', 'charg', 'charg it', 'charg it wa', 'cheap', 'cheap cableswarn', 'cheap cableswarn found', 'cheap printer', 'cheap printer now', 'check', 'check everi', 'check everi six', 'check weekli', 'check weekli and', 'choic', 'choic boil', 'choic boil down', 'chose', 'chose the', 'chose the tnd', 'chosen', 'chosen as', 'chosen as could', 'cincinnati', 'cincinnati just', 'cincinnati just off', 'cincinnati oh', 'cincinnati oh area', 'citi', 'citi and', 'citi and pick', 'citi instead', 'citi instead there', 'citi situat', 'citi situat might', 'citi turn', 'citi turn it', 'close', 'close to', 'close to what', 'colorado', 'colorado is', 'colorado is list', 'come', 'come home', 'come home it', 'come up', 'come up ect', 'common', 'common amongst', 'common amongst all', 'compani', 'compani repres', 'compani repres said', 'compani respons', 'compani respons wa', 'compani who', 'compani who own', 'compar', 'compar to', 'compar to my', 'complaint', 'complaint all', 'complaint all of', 'complaint have', 'complaint have three', 'complet', 'complet unfair', 'complet unfair and', 'complet updatedi', 'complet updatedi program', 'complex', 'complex of', 'complex of enter', 'computermi', 'computermi suggest', 'computermi suggest is', 'concept', 'concept and', 'concept and like', 'conjest', 'conjest citi', 'conjest citi situat', 'connect', 'connect but', 'connect but then', 'connect for', 'connect for it', 'connect it', 'connect it to', 'connect my', 'connect my nook', 'connect on', 'connect on the', 'connect to', 'connect to my', 'connect with', 'connect with rand', 'consid', 'consid am', 'consid am now', 'consider', 'consider after', 'consider after perus', 'contact', 'contact the', 'contact the seller', 'cool', 'cool stuff', 'cool stuff that', 'coordin', 'coordin with', 'coordin with the', 'correct', 'correct function', 'correct function they', 'could', 'could add', 'could add my', 'could add up', 'could be', 'could be sent', 'could due', 'could due it', 'could have', 'could have went', 'could of', 'could of just', 'could with', 'could with the', 'couldn', 'couldn make', 'couldn make the', 'counti', 'counti road', 'counti road do', 'counti road what', 'countri', 'countri trip', 'countri twice', 'countri twice it', 'countri what', 'countri what mean', 'coupl', 'coupl of', 'coupl of block', 'coupl of day', 'coupl updat', 'coupl updat down', 'cours', 'cours made', 'cours made sure', 'crash', 'crash to', 'crash to an', 'cross', 'cross countri', 'cross countri trip', 'current', 'current it', 'current it would', 'curv', 'curv with', 'curv with thi', 'databas', 'databas there', 'databas there is', 'day', 'day earlier', 'day earlier than', 'day get', 'day get the', 'day now', 'day now prior', 'deal', 'deal the', 'deal the second', 'decid', 'decid to', 'decid to give', 'denver', 'denver colorado', 'denver colorado is', 'describ', 'describ in', 'describ in the', 'describ the', 'describ the hd', 'descript', 'descript work', 'descript work without', 'deserv', 'deserv one', 'deserv one ve', 'design', 'design to', 'design to say', 'detect', 'detect problem', 'detect problem with', 'determin', 'determin mileag', 'determin mileag use', 'determin rout', 'determin rout mileag', 'determin total', 'determin total mileag', 'determin what', 'determin what it', 'determin which', 'determin which is', 'devic', 'devic are', 'devic are sold', 'devic have', 'devic have use', 'did', 'did after', 'did after charg', 'did but', 'did but it', 'did not', 'did not fall', 'didn', 'didn make', 'didn make me', 'differ', 'differ locat', 'differ locat along', 'differ way', 'differ way forc', 'direct', 'direct and', 'direct and wait', 'disagre', 'disagre with', 'disagre with other', 'disconnect', 'disconnect itselfth', 'disconnect itselfth price', 'do', 'do is', 'do is use', 'do like', 'do like thi', 'do not', 'do not have', 'do not think', 'dock', 'dock is', 'dock is well', 'doe', 'doe have', 'doe have the', 'doe not', 'doe not seem', 'doe not work', 'doe ve', 'doe ve never', 'dollar', 'dollar ticket', 'dollar ticket due', 'don', 'don belong', 'don belong on', 'don think', 'don think all', 'done', 'done is', 'done is take', 'done most', 'done most of', 'done truck', 'done truck specif', 'down', 'down non', 'down non truck', 'down road', 'down road you', 'down street', 'down street post', 'down the', 'down the line', 'down the same', 'down the wrong', 'down to', 'down to the', 'dozen', 'dozen time', 'dozen time with', 'drive', 'drive allot', 'drive allot it', 'drive way', 'drive way or', 'drive west', 'drive west and', 'driven', 'driven well', 'driven well over', 'driver', 'driver and', 'driver and bought', 'driver gp', 'driver gp we', 'driver with', 'driver with 2400', 'driver within', 'driver within our', 'due', 'due it', 'due it like', 'due to', 'due to the', 'due to thi', 'durabl', 'durabl built', 'durabl built unit', 'each', 'each rout', 'each rout and', 'earlier', 'earlier than', 'earlier than expect', 'eas', 'eas of', 'eas of put', 'eas of updatingnow', 'eas of use', 'easi', 'easi rout', 'easi rout is', 'easi to', 'easi to setup', 'easier', 'easier rand', 'easier rand mcnalli', 'easili', 'easili connect', 'easili connect my', 'ect', 'ect love', 'ect love the', 'els', 'els it', 'els it is', 'email', 'email back', 'email back with', 'email receiv', 'email receiv email', 'enter', 'enter multipl', 'enter multipl stop', 'enter rout', 'enter rout as', 'especi', 'especi sinc', 'especi sinc everi', 'even', 'even close', 'even close to', 'even interst', 'even interst 25', 'even though', 'even though it', 'even thought', 'even thought thi', 'ever', 'ever done', 'ever done truck', 'everi', 'everi road', 'everi road in', 'everi six', 'everi six month', 'everi time', 'everi time refus', 'evertim', 'evertim you', 'evertim you had', 'exampl', 'exampl if', 'exampl if need', 'excel', 'except', 'except of', 'except of it', 'exchang', 'exchang veri', 'exchang veri impress', 'excit', 'excit about', 'excit about thi', 'excit especi', 'excit especi sinc', 'expect', 'expect alot', 'expect alot out', 'expect within', 'expect within week', 'expert', 'expert sourc', 'expert sourc connect', 'explain', 'explain whi', 'explain whi the', 'extend', 'extend the', 'extend the screen', 'extra', 'extra screen', 'extra screen size', 'fact', 'fact that', 'fact that couldn', 'fact that it', 'factor', 'factor determin', 'factor determin which', 'fairli', 'fairli adequ', 'fairli adequ as', 'fall', 'fall or', 'fall or anyth', 'fastest', 'fastest and', 'fastest and shortest', 'favorit', 'favorit featur', 'favorit featur in', 'fb', 'fb on', 'fb on bigger', 'featur', 'featur allot', 'featur allot of', 'featur in', 'featur in that', 'featur laden', 'featur laden find', 'featur wa', 'featur wa coupl', 'featur what', 'featur what would', 'feet', 'feet away', 'feet away you', 'few', 'few day', 'few day earlier', 'few year', 'few year back', 'field', 'field test', 'field test with', 'figur', 'figur rerout', 'figur rerout and', 'final', 'final get', 'final get me', 'find', 'find thi', 'find thi total', 'fine', 'fine use', 'fine use your', 'fine with', 'fine with other', 'first', 'first impress', 'first impress of', 'first thing', 'first thing did', 'first thing notic', 'fit', 'fit in', 'fit in loos', 'five', 'five star', 'five star becaus', 'flummox', 'flummox by', 'flummox by what', 'follow', 'follow item', 'follow item you', 'follow specif', 'follow specif rout', 'for', 'for about', 'for about four', 'for an', 'for an exchang', 'for car', 'for car actual', 'for coupl', 'for coupl of', 'for direct', 'for direct and', 'for each', 'for each rout', 'for have', 'for have the', 'for it', 'for it to', 'for long', 'for long period', 'for me', 'for me it', 'for me thi', 'for my', 'for my computermi', 'for my husband', 'for sever', 'for sever reason', 'for share', 'for share photo', 'for the', 'for the nook', 'for the normal', 'for the past', 'for travel', 'for travel becaus', 'for truckswayn', 'for unit', 'for unit of', 'for view', 'for view your', 'for year', 'for year and', 'for year never', 'forc', 'forc it', 'forc it into', 'forc the', 'forc the unit', 'forth', 'forth that', 'forth that might', 'forum', 'forum review', 'forum review site', 'found', 'found it', 'found it to', 'found that', 'found that my', 'found the', 'found the follow', 'four', 'four day', 'four day now', 'freeway', 'freeway but', 'freeway but on', 'freeway to', 'freeway to get', 'freez', 'freez up', 'freez up could', 'freez which', 'freez which is', 'friend', 'friend check', 'friend check weekli', 'friend that', 'friend that bought', 'from', 'from fb', 'from fb on', 'from few', 'from few year', 'from the', 'from the nook', 'from the time', 'function', 'function they', 'function they onli', 'furthermor', 'furthermor there', 'furthermor there is', 'garmen', 'garmen my', 'garmen my one', 'garmin', 'garmin 465t', 'garmin 465t or', 'garmin 465t realli', 'garmin 755t', 'garmin 755t nontruck', 'garmin at', 'garmin at least', 'garmin chose', 'garmin chose the', 'garmin could', 'garmin could due', 'garmin for', 'garmin for the', 'garmin furthermor', 'garmin furthermor there', 'garmin howev', 'garmin howev it', 'garmin like', 'garmin like the', 'garmin thi', 'garmin thi isn', 'garmin total', 'garmin total flummox', 'garmin whether', 'garmin whether thi', 'gave', 'gave thi', 'gave thi unit', 'get', 'get littl', 'get littl mix', 'get me', 'get me to', 'get on', 'get on the', 'get the', 'get the connect', 'get the impress', 'get to', 'get to check', 'get to my', 'get you', 'get you in', 'give', 'give it', 'give it anoth', 'glitch', 'glitch in', 'glitch in that', 'go', 'go back', 'go back to', 'go to', 'go to write', 'go with', 'go with thi', 'good', 'good accessori', 'good accessori to', 'good for', 'good for share', 'good for travel', 'good product', 'googl', 'googl and', 'googl and print', 'got', 'got it', 'got it self', 'got it tri', 'got my', 'got my money', 'got thi', 'got thi gp', 'got unit', 'got unit that', 'gotten', 'gotten me', 'gotten me lost', 'gp', 'gp as', 'gp as non', 'gp befor', 'gp befor but', 'gp for', 'gp for my', 'gp it', 'gp it determin', 'gp one', 'gp one of', 'gp rout', 'gp rout him', 'gp sprint', 'gp sprint said', 'gp that', 'gp that rout', 'gp the', 'gp the screen', 'gp track', 'gp track gave', 'gp unit', 'gp unit can', 'gp unit they', 'gp wa', 'gp wa not', 'gp we', 'gp we have', 'grafic', 'grafic and', 'grafic and on', 'great', 'great but', 'great but found', 'great for', 'great for the', 'great grafic', 'great grafic and', 'great when', 'great when it', 'ha', 'ha done', 'ha done is', 'ha ever', 'ha ever done', 'had', 'had allot', 'had allot of', 'had garmin', 'had garmin 755t', 'had mine', 'had mine for', 'had not', 'had not problem', 'had thi', 'had thi unit', 'had to', 'had to mani', 'had to rerout', 'half', 'half of', 'half of about', 'half to', 'half to rerout', 'happen', 'happen evertim', 'happen evertim you', 'happen multipl', 'happen multipl time', 'happi', 'happi thi', 'happi thi is', 'hasn', 'hasn gotten', 'hasn gotten me', 'haul', 'haul strictli', 'haul strictli hazmat', 'have', 'have be', 'have be sure', 'have been', 'have been use', 'have chosen', 'have chosen as', 'have crash', 'have crash to', 'have one', 'have one driver', 'have that', 'have that restrict', 'have the', 'have the garmin', 'have the same', 'have the trucker', 'have three', 'have three friend', 'have to', 'have to pick', 'have to say', 'have use', 'have use are', 'have use like', 'have went', 'have went onlin', 'have your', 'have your power', 'hazmat', 'hazmat want', 'hazmat want someth', 'hd', 'hd 34', 'hd 34 to', 'hd and', 'hd and hd', 'hd it', 'hd it work', 'hd pictur', 'hd pictur on', 'hd seri', 'hd seri it', 'hdmi', 'hdmi cabl', 'hdmi cabl so', 'hdmi cabl thi', 'hdmi devic', 'hdmi devic have', 'hdmi port', 'hdmi port it', 'hdtv', 'hdtv just', 'hdtv just disagre', 'hdtv through', 'hdtv through the', 'head', 'head to', 'head to phoenix', 'height', 'height 13', 'height 13 the', 'hello', 'hello don', 'hello don think', 'here', 'here sit', 'here sit at', 'here what', 'here what we', 'high', 'high qualiti', 'high qualiti hdmi', 'highway', 'highway chang', 'highway chang also', 'highway wa', 'highway wa park', 'him', 'him down', 'him down the', 'hold', 'hold the', 'hold the adapt', 'home', 'home address', 'home address is', 'home address so', 'home it', 'home it tri', 'hop', 'hop on', 'hop on i75', 'hope', 'hope to', 'hope to make', 'hotel', 'hotel tv', 'hotel tv potenti', 'how', 'how and', 'how and where', 'howev', 'howev be', 'howev be will', 'howev it', 'howev it start', 'howev it wa', 'howev want', 'howev want to', 'husband', 'husband who', 'husband who is', 'i71', 'i71 easi', 'i71 easi rout', 'i71 inde', 'i71 inde that', 'i75', 'i75 and', 'i75 and drive', 'i75 need', 'i75 need to', 'i75 on', 'i75 on the', 'ie', 'ie in', 'ie in town', 'ie take', 'ie take left', 'if', 'if can', 'if can make', 'if could', 'if could add', 'if need', 'if need to', 'if not', 'if not will', 'if want', 'if want tool', 'if you', 'if you let', 'if you need', 'illeg', 'illeg for', 'illeg for me', 'imagesoutstand', 'imagesoutstand volumecon', 'imagesoutstand volumecon inabl', 'import', 'import reason', 'import reason for', 'impress', 'impress all', 'impress all the', 'impress of', 'impress of the', 'impress that', 'impress that what', 'impress with', 'impress with the', 'in', 'in 800', 'in 800 yard', 'in all', 'in all expect', 'in conjest', 'in conjest citi', 'in denver', 'in denver colorado', 'in loos', 'in loos and', 'in million', 'in million and', 'in mind', 'in mind you', 'in most', 'in most databas', 'in my', 'in my truck', 'in place', 'in place on', 'in stop', 'in stop or', 'in that', 'in that unit', 'in the', 'in the cincinnati', 'in the countri', 'in the height', 'in the origin', 'in the rand', 'in the the', 'in the tnd', 'in town', 'in town down', 'in troubl', 'in troubl if', 'in unit', 'in unit of', 'in week', 'in week it', 'inabl', 'inabl to', 'inabl to determin', 'inde', 'inde that', 'inde that is', 'info', 'info that', 'info that useful', 'inform', 'inform put', 'inform put forth', 'inform them', 'inform them that', 'informationnontruck', 'informationnontruck specif', 'informationnontruck specif routingscost', 'initi', 'initi plugin', 'initi plugin it', 'instal', 'instal in', 'instal in the', 'instal the', 'instal the softwar', 'instead', 'instead there', 'instead there are', 'instruct', 'instruct for', 'instruct for an', 'intellirout', 'intellirout tnd', 'intellirout tnd 700', 'intersect', 'intersect of', 'intersect of i71', 'interst', 'interst 25', 'interst 25 in', 'into', 'into consider', 'into consider after', 'into memori', 'into memori noth', 'into my', 'into my prefer', 'is also', 'is also good', 'is an', 'is an access', 'is an otr', 'is awesomeanoth', 'is awesomeanoth thing', 'is come', 'is come up', 'is common', 'is common amongst', 'is complet', 'is complet unfair', 'is connect', 'is connect to', 'is excel', 'is fine', 'is fine use', 'is good', 'is good for', 'is illeg', 'is illeg for', 'is just', 'is just as', 'is limit', 'is limit to', 'is list', 'is list accord', 'is magnific', 'is magnific and', 'is nice', 'is nice to', 'is no', 'is no way', 'is not', 'is not 100', 'is not list', 'is nowher', 'is nowher near', 'is onli', 'is onli for', 'is out', 'is out in', 'is po', 'is po box', 'is post', 'is post at', 'is probabl', 'is probabl one', 'is problem', 'is problem that', 'is real', 'is real easi', 'is some', 'is some of', 'is somewhat', 'is somewhat of', 'is such', 'is such bad', 'is take', 'is take plain', 'is that', 'is that thi', 'is that truck', 'is the', 'is the best', 'is the poi', 'is to', 'is to by', 'is to just', 'is uniqu', 'is uniqu to', 'is use', 'is use map', 'is veri', 'is veri wobbl', 'is well', 'is well over', 'is well worth', 'is what', 'is what my', 'is whi', 'is whi it', 'isn', 'isn just', 'isn just my', 'issu', 'issu to', 'issu to be', 'it abil', 'it abil to', 'it and', 'it and got', 'it anoth', 'it anoth chanc', 'it appear', 'it appear it', 'it around', 'it around to', 'it arriv', 'it arriv few', 'it at', 'it at all', 'it at return', 'it coupl', 'it coupl of', 'it determin', 'it determin what', 'it did', 'it did but', 'it did not', 'it doe', 'it doe not', 'it doe ve', 'it eas', 'it eas of', 'it five', 'it five star', 'it freez', 'it freez which', 'it got', 'it got it', 'it had', 'it had allot', 'it happen', 'it happen multipl', 'it into', 'it into my', 'it is', 'it is also', 'it is connect', 'it is fine', 'it is not', 'it is nowher', 'it is well', 'it just', 'it just had', 'it like', 'it like the', 'it make', 'it make ani', 'it mistak', 'it mistak due', 'it need', 'it need power', 'it off', 'it off and', 'it out', 'it out hasn', 'it plug', 'it plug in', 'it put', 'it put me', 'it realli', 'it realli is', 'it realli not', 'it seem', 'it seem solid', 'it seem to', 'it seem you', 'it self', 'it self lost', 'it start', 'it start freez', 'it that', 'it that prefer', 'it the', 'it the softwar', 'it think', 'it think is', 'it to', 'it to be', 'it to my', 'it to work', 'it tri', 'it tri rout', 'it tri to', 'it truck', 'it truck driver', 'it up', 'it up will', 'it veri', 'it veri slow', 'it wa', 'it wa connect', 'it wa just', 'it wa lack', 'it wa not', 'it wa quit', 'it wa simpl', 'it wa some', 'it will', 'it will not', 'it work', 'it work as', 'it work will', 'it work with', 'it workabl', 'it workabl if', 'it would', 'it would also', 'it would take', 'item', 'item is', 'item is just', 'item that', 'item that it', 'item you', 'item you need', 'itself', 'itself up', 'itself up at', 'itselfth', 'itselfth price', 'itselfth price is', 'judgement', 'judgement too', 'judgement too busi', 'just', 'just as', 'just as wa', 'just been', 'just been glitch', 'just disagre', 'just disagre with', 'just had', 'just had to', 'just hop', 'just hop on', 'just my', 'just my complaint', 'just my luck', 'just off', 'just off of', 'just right', 'just right not', 'keep', 'keep in', 'keep in mind', 'keep mess', 'keep mess the', 'keep thi', 'keep thi unit', 'know', 'know what', 'know what the', 'lack', 'lack wa', 'lack wa the', 'laden', 'laden find', 'laden find thi', 'laptop', 'laptop and', 'laptop and instal', 'larg', 'larg screenterrif', 'larg screenterrif imagesoutstand', 'leadway', 'leadway on', 'leadway on it', 'learn', 'learn curv', 'learn curv with', 'least', 'least dozen', 'least dozen time', 'least the', 'least the one', 'left', 'left in', 'left in 800', 'left on', 'left on xyz', 'length', 'length 53', 'length 53 and', 'length of', 'length of the', 'less', 'less than', 'less than 10', 'let', 'let them', 'let them wa', 'lg', 'lg smarttv', 'lg smarttv 3d', 'life', 'life easier', 'life easier rand', 'light', 'light wait', 'light wait for', 'like', 'like monitor', 'like monitor and', 'like most', 'like most gp', 'like the', 'like the concept', 'like the prossesor', 'like the unit', 'like thi', 'like thi gp', 'like to', 'like to forc', 'limit', 'limit to', 'limit to 73280', 'line', 'line and', 'line and wa', 'list', 'list accord', 'list accord to', 'list also', 'list also unaccept', 'list in', 'list in the', 'list of', 'list of everi', 'listen', 'listen first', 'listen first thing', 'littl', 'littl longer', 'littl longer to', 'littl mix', 'littl mix up', 'live', 'live in', 'live in my', 'll', 'll all', 'll all get', 'll have', 'll have to', 'locat', 'locat along', 'locat along the', 'long', 'long as', 'long as there', 'long or', 'long or too', 'long period', 'long period of', 'long review', 'long review even', 'long there', 'long there is', 'long to', 'long to boot', 'long with', 'long with car', 'longer', 'longer to', 'longer to see', 'loos', 'loos and', 'loos and you', 'lost', 'lost ie', 'lost ie take', 'lost yet', 'lost yet over', 'love', 'love the', 'love the bigger', 'luck', 'luck contact', 'luck contact the', 'macnal', 'macnal and', 'macnal and the', 'made', 'made notif', 'made notif on', 'made such', 'made such devic', 'made sure', 'made sure all', 'made wrong', 'made wrong turn', 'magnific', 'magnific and', 'magnific and the', 'main', 'main one', 'main one be', 'major', 'major highway', 'major highway chang', 'make', 'make ani', 'make ani hotel', 'make it', 'make it workabl', 'make me', 'make me happi', 'make my', 'make my life', 'make patch', 'make patch avail', 'make simpl', 'make simpl rout', 'make the', 'make the turn', 'mani', 'mani rout', 'mani rout mistak', 'mani thing', 'mani thing bad', 'manual', 'manual avail', 'manual avail via', 'map', 'map and', 'map and road', 'map in', 'map in most', 'map would', 'map would rout', 'mcnalli', 'mcnalli all', 'mcnalli all in', 'mcnalli are', 'mcnalli are you', 'mcnalli inform', 'mcnalli inform them', 'mcnalli intellirout', 'mcnalli intellirout tnd', 'mcnalli road', 'mcnalli road atla', 'mcnalli that', 'mcnalli that no', 'mcnalli truck', 'mcnalli truck atla', 'me', 'me better', 'me better than', 'me happi', 'me happi thi', 'me here', 'me here sit', 'me it', 'me it wa', 'me lost', 'me lost yet', 'me on', 'me on sever', 'me on the', 'me over', 'me over surfac', 'me the', 'me the truck', 'me thi', 'me thi is', 'me thru', 'me thru 23', 'me to', 'me to my', 'me under', 'me under 12', 'mean', 'mean is', 'mean is that', 'memori', 'memori noth', 'memori noth realli', 'mention', 'mention like', 'mention like to', 'mess', 'mess the', 'mess the tool', 'might', 'might explain', 'might explain whi', 'might get', 'might get littl', 'might get to', 'might think', 'might think in', 'mile', 'mile and', 'mile and done', 'mile down', 'mile down the', 'mile of', 'mile of residenti', 'mileag', 'mileag and', 'mileag and other', 'mileag by', 'mileag by multipl', 'mileag on', 'mileag on the', 'mileag use', 'mileag use the', 'million', 'million and', 'million and that', 'mind', 'mind you', 'mind you must', 'mine', 'mine for', 'mine for year', 'minut', 'minut and', 'minut and half', 'minut of', 'minut of my', 'minut to', 'minut to figur', 'minut to set', 'mistak', 'mistak due', 'mistak due to', 'mistak go', 'mistak go back', 'mix', 'mix up', 'mix up but', 'money', 'money backi', 'money backi then', 'monitor', 'monitor and', 'monitor and am', 'month', 'month or', 'month or so', 'more', 'more current', 'more current it', 'more than', 'more than half', 'more than the', 'most', 'most basic', 'most basic item', 'most databas', 'most databas there', 'most gp', 'most gp it', 'most import', 'most import reason', 'most of', 'most of my', 'move', 'move the', 'move the nook', 'movi', 'much', 'much for', 'much for view', 'much without', 'much without hold', 'mull', 'mull over', 'mull over sell', 'multipl', 'multipl stop', 'multipl stop and', 'multipl stop or', 'multipl time', 'multipl time on', 'multipl time until', 'must', 'must have', 'must have your', 'my backsid', 'my backsid didn', 'my cell', 'my cell phone', 'my choic', 'my choic boil', 'my complaint', 'my complaint have', 'my computermi', 'my computermi suggest', 'my email', 'my email receiv', 'my favorit', 'my favorit featur', 'my first', 'my first impress', 'my hdtv', 'my hdtv through', 'my home', 'my home address', 'my husband', 'my husband who', 'my laptop', 'my laptop and', 'my lg', 'my lg smarttv', 'my life', 'my life easier', 'my luck', 'my luck contact', 'my money', 'my money backi', 'my movi', 'my next', 'my next pickup', 'my nook', 'my nook hd', 'my nook right', 'my old', 'my old garmin', 'my one', 'my one rate', 'my own', 'my own poi', 'my own rout', 'my pickup', 'my pickup on', 'my pickup the', 'my pickup veri', 'my prefer', 'my prefer rout', 'my rig', 'my rig and', 'my rout', 'my rout on', 'my samsung', 'my samsung 52', 'my truck', 'my truck and', 'my truck for', 'my truck set', 'my tv', 'my tv for', 'my updat', 'my updat and', 'myself', 'myself sever', 'myself sever differ', 'navteq', 'navteq ha', 'navteq ha done', 'navteq map', 'navteq map and', 'navteqanoth', 'navteqanoth bone', 'navteqanoth bone have', 'near', 'near as', 'near as userfriendli', 'need', 'need power', 'need power from', 'need to', 'need to head', 'need to keep', 'need to make', 'need to rock', 'never', 'never notic', 'never notic one', 'never own', 'never own truck', 'next', 'next pickup', 'next pickup wa', 'next street', 'next street due', 'next thing', 'next thing notic', 'next time', 'next time pass', 'nice', 'nice garmen', 'nice garmen my', 'nice if', 'nice if could', 'nice they', 'nice they made', 'nice to', 'nice to extend', 'no', 'no go', 'no go with', 'no one', 'no one ha', 'no that', 'no that featur', 'no truck', 'no truck the', 'no way', 'no way you', 'non', 'non truck', 'non truck rout', 'nontruck', 'nontruck gp', 'nontruck gp one', 'nook', 'nook across', 'nook across the', 'nook around', 'nook around much', 'nook as', 'nook as stream', 'nook hd', 'nook hd 34', 'nook hd and', 'nook hd it', 'nook power', 'nook power adapt', 'nook right', 'nook right below', 'nook video', 'nook video on', 'normal', 'normal person', 'normal person as', 'north', 'north side', 'north side of', 'not', 'not 100', 'not 100 thorough', 'not avail', 'not avail at', 'not design', 'not design to', 'not even', 'not even close', 'not fall', 'not fall or', 'not go', 'not go to', 'not have', 'not have that', 'not list', 'not list also', 'not move', 'not move the', 'not onli', 'not onli the', 'not problem', 'not problem with', 'not seem', 'not seem to', 'not tell', 'not tell but', 'not test', 'not test with', 'not that', 'not that big', 'not think', 'not think is', 'not too', 'not too long', 'not truck', 'not truck specif', 'not will', 'not will go', 'not work', 'not work with', 'note', 'note that', 'note that thi', 'noth', 'noth realli', 'noth realli bad', 'notic', 'notic one', 'notic one updat', 'notic wa', 'notic wa it', 'notic wa the', 'notic which', 'notic which do', 'notif', 'notif on', 'notif on the', 'now', 'now haul', 'now haul strictli', 'now prior', 'now prior to', 'now take', 'now take minut', 'nowher', 'nowher near', 'nowher near as', 'of', 'of 45', 'of 45 second', 'of about', 'of about 50', 'of been', 'of been field', 'of block', 'of block my', 'of cincinnati', 'of cincinnati just', 'of cool', 'of cool stuff', 'of cours', 'of cours made', 'of day', 'of day get', 'of deal', 'of deal the', 'of enter', 'of enter rout', 'of everi', 'of everi road', 'of great', 'of great grafic', 'of i71', 'of i71 inde', 'of i75', 'of i75 need', 'of inform', 'of inform put', 'of it', 'of it coupl', 'of it freez', 'of just', 'of just been', 'of leadway', 'of leadway on', 'of learn', 'of learn curv', 'of my', 'of my email', 'of my favorit', 'of my own', 'of my rig', 'of navteqanoth', 'of navteqanoth bone', 'of one', 'of one of', 'of put', 'of put address', 'of residenti', 'of residenti street', 'of stop', 'of stop or', 'of the', 'of the adaptor', 'of the best', 'of the box', 'of the citi', 'of the same', 'of the tnd', 'of the weird', 'of thi', 'of thi price', 'of thi unit', 'of time', 'of time realli', 'of updatingnow', 'of updatingnow on', 'of us', 'of us return', 'of use', 'of use howev', 'of use the', 'off', 'off and', 'off and the', 'off it', 'off it would', 'off of', 'off of i75', 'oh', 'oh area', 'oh area my', 'old', 'old car', 'old car specif', 'old exampl', 'old exampl if', 'old garmin', 'old garmin furthermor', 'old garmin whether', 'omiss', 'omiss of', 'omiss of one', 'on', 'on an', 'on an sd', 'on bigger', 'on bigger screen', 'on cheap', 'on cheap printer', 'on for', 'on for long', 'on googl', 'on googl and', 'on i75', 'on i75 and', 'on initi', 'on initi plugin', 'on it', 'on it mistak', 'on it would', 'on mileag', 'on mileag and', 'on my', 'on my backsid', 'on my samsung', 'on screen', 'on screen info', 'on sever', 'on sever ton', 'on that', 'on that short', 'on the', 'on the freeway', 'on the length', 'on the map', 'on the north', 'on the other', 'on the rout', 'on the tv', 'on the wrong', 'on to', 'on to my', 'on today', 'on today while', 'on xyz', 'on xyz street', 'on your', 'on your hdtv', 'one', 'one and', 'one and more', 'one be', 'one be the', 'one but', 'one but the', 'one drive', 'one drive way', 'one driver', 'one driver with', 'one for', 'one for coupl', 'one ha', 'one ha ever', 'one in', 'one in million', 'one of', 'one of my', 'one of the', 'one rate', 'one rate for', 'one that', 'one that have', 'one updat', 'one updat that', 'one ve', 'one ve driven', 'onli', 'onli for', 'onli for the', 'onli seem', 'onli seem to', 'onli the', 'onli the truck', 'onli work', 'onli work with', 'onlin', 'onlin and', 'onlin and verifi', 'operate', 'operate the', 'operate the plug', 'option', 'option the', 'option the big', 'or', 'or anyth', 'or anyth els', 'or is', 'or is common', 'or major', 'or major highway', 'or so', 'or so live', 'or stop', 'or stop point', 'or the', 'or the rand', 'or the street', 'or too', 'or too short', 'or turn', 'or turn left', 'or via', 'or via at', 'or via featur', 'or via it', 'or via that', 'origin', 'origin descript', 'origin descript work', 'os', 'os version', 'os version via', 'other', 'other all', 'other all seem', 'other factor', 'other factor determin', 'other hdmi', 'other hdmi devic', 'other review', 'other review on', 'other side', 'other side of', 'other that', 'other that use', 'other truck', 'other truck specif', 'other tvsgave', 'other tvsgave it', 'otherwis', 'otherwis like', 'otherwis like most', 'otr', 'otr over', 'otr over the', 'otr truck', 'otr truck driver', 'our', 'our compani', 'our compani repres', 'our compani who', 'out', 'out hasn', 'out hasn gotten', 'out in', 'out in the', 'out of', 'out of the', 'out of thi', 'outdat', 'outdat poi', 'outdat poi informationnontruck', 'outdat think', 'outdat think the', 'over', 'over 100', 'over 100 page', 'over 1mil', 'over 1mil mile', 'over sell', 'over sell thi', 'over sever', 'over sever cross', 'over surfac', 'over surfac street', 'over the', 'over the road', 'overwhelm', 'overwhelm wealth', 'overwhelm wealth of', 'own', 'own judgement', 'own judgement too', 'own one', 'own one and', 'own poi', 'own poi sto', 'own rout', 'own rout so', 'own truck', 'own truck specif', 'page', 'page long', 'page long there', 'park', 'park at', 'park at truck', 'pass', 'pass truck', 'pass truck stop', 'past', 'past three', 'past three year', 'patch', 'patch avail', 'patch avail on', 'patch on', 'patch on an', 'peopl', 'peopl that', 'peopl that drive', 'period', 'period of', 'period of time', 'person', 'person as', 'person as well', 'perus', 'perus variou', 'perus variou forum', 'phoenix', 'phoenix az', 'phoenix az via', 'phone', 'phone advis', 'phone advis the', 'phone gp', 'phone gp sprint', 'photo', 'photo from', 'photo from fb', 'pick', 'pick is', 'pick is the', 'pick up', 'pick up i75', 'pickup', 'pickup on', 'pickup on the', 'pickup the', 'pickup the tnd', 'pickup veri', 'pickup veri excit', 'pickup wa', 'pickup wa about', 'pictur', 'pictur on', 'pictur on my', 'place', 'place my', 'place my nook', 'place on', 'place on initi', 'plain', 'plain old', 'plain old car', 'plan', 'plan rout', 'plan rout by', 'play', 'play with', 'play with thi', 'pleas', 'pleas and', 'pleas and durabl', 'plug', 'plug fit', 'plug fit in', 'plug in', 'plug in the', 'plugin', 'plugin it', 'plugin it seem', 'po', 'po box', 'po box that', 'poi', 'poi informationnontruck', 'poi informationnontruck specif', 'poi not', 'poi not onli', 'poi sto', 'poi sto sum', 'point', 'point for', 'point for each', 'point ll', 'point ll have', 'point unbeliev', 'point unbeliev also', 'port', 'port it', 'port it is', 'post', 'post at', 'post at 10', 'post no', 'post no truck', 'potenti', 'potenti smart', 'potenti smart tv', 'power', 'power adapt', 'power adapt connect', 'power adapt to', 'power from', 'power from the', 'prefer', 'prefer highway', 'prefer highway wa', 'prefer rout', 'prefer rout by', 'pretti', 'pretti know', 'pretti know what', 'previous', 'previous mention', 'previous mention like', 'price', 'price and', 'price and featur', 'price and sold', 'price is', 'price is complet', 'pricey', 'pricey but', 'pricey but good', 'print', 'print it', 'print it out', 'printer', 'printer now', 'printer now take', 'prior', 'prior to', 'prior to that', 'probabl', 'probabl one', 'probabl one in', 'problem', 'problem that', 'problem that even', 'problem that happen', 'problem with', 'problem with it', 'problem with my', 'product', 'product realli', 'product realli work', 'profession', 'profession otr', 'profession otr truck', 'program', 'program in', 'program in the', 'program multipl', 'program multipl time', 'program said', 'program said that', 'prossesor', 'prossesor that', 'prossesor that they', 'purchas', 'purchas it', 'purchas it at', 'purchas recommend', 'purchas recommend thi', 'put', 'put address', 'put address into', 'put forth', 'put forth that', 'put in', 'put in stop', 'put me', 'put me on', 'put me under', 'put the', 'put the nook', 'qualiti', 'qualiti hdmi', 'qualiti hdmi cabl', 'quit', 'quit bit', 'quit bit more', 'ran', 'ran the', 'ran the updat', 'rand', 'rand macnal', 'rand macnal and', 'rand mcnalli', 'rand mcnalli all', 'rand mcnalli are', 'rand mcnalli inform', 'rand mcnalli intellirout', 'rand mcnalli road', 'rand mcnalli that', 'rand mcnalli truck', 'rate', 'rate for', 'rate for car', 'rate for truckswayn', 'real', 'real easi', 'real easi to', 'realli', 'realli bad', 'realli bad to', 'realli do', 'realli do like', 'realli excit', 'realli excit about', 'realli is', 'realli is nice', 'realli it', 'realli it truck', 'realli not', 'realli not that', 'realli work', 'realli work great', 'reason', 'reason for', 'reason for have', 'reason the', 'reason the main', 'receiv', 'receiv email', 'receiv email back', 'recommend', 'recommend thi', 'recommend thi adaptor', 'refus', 'refus to', 'refus to turn', 'repres', 'repres said', 'repres said that', 'rerout', 'rerout and', 'rerout and it', 'rerout me', 'rerout me here', 'rerout weather', 'rerout weather it', 'residenti', 'residenti street', 'residenti street befor', 'respons', 'respons wa', 'respons wa to', 'restrict', 'restrict and', 'restrict and made', 'restrict list', 'restrict list in', 'return', 'return it', 'return it and', 'return the', 'return the unit', 'review', 'review even', 'review even thought', 'review on', 'review on the', 'review site', 'review site and', 'rig', 'rig and', 'rig and told', 'right', 'right below', 'right below the', 'right not', 'right not too', 'right out', 'right out of', 'road', 'road and', 'road and when', 'road atla', 'road atla so', 'road atla with', 'road do', 'road do not', 'road in', 'road in the', 'road is', 'road is post', 'road the', 'road the compani', 'road trucker', 'road trucker veri', 'road what', 'road what that', 'road you', 'road you don', 'rock', 'rock it', 'rock it around', 'room', 'room with', 'room with you', 'rout', 'rout and', 'rout and then', 'rout and will', 'rout as', 'rout as previous', 'rout be', 'rout be down', 'rout by', 'rout by determin', 'rout by the', 'rout can', 'rout can be', 'rout chang', 'rout chang ie', 'rout could', 'rout could add', 'rout him', 'rout him down', 'rout if', 'rout if want', 'rout is', 'rout is illeg', 'rout is to', 'rout me', 'rout me better', 'rout me on', 'rout me over', 'rout me thru', 'rout mileag', 'rout mileag by', 'rout mistak', 'rout mistak go', 'rout myself', 'rout myself sever', 'rout on', 'rout on googl', 'rout otherwis', 'rout otherwis like', 'rout so', 'rout so pretti', 'rout tell', 'rout tell you', 'rout that', 'rout that it', 'rout that you', 'rout to', 'rout to take', 'rout tool', 'rout tool trucker', 'rout wa', 'rout wa the', 'rout while', 'rout while tell', 'rout you', 'rout you down', 'rout you through', 'rout you wa', 'routingscost', 'said', 'said that', 'said that rand', 'said that the', 'said to', 'said to get', 'same', 'same chain', 'same chain purchas', 'same complaint', 'same complaint all', 'same freeway', 'same freeway but', 'same unit', 'same unit and', 'same way', 'same way as', 'samsung', 'samsung 52', 'samsung 52 34', 'say', 'say about', 'say about the', 'say am', 'say am somewhat', 'say on', 'say on for', 'say ve', 'say ve had', 'scale', 'scale is', 'scale is come', 'screen', 'screen and', 'screen and use', 'screen bit', 'screen bit pricey', 'screen info', 'screen info that', 'screen is', 'screen is magnific', 'screen size', 'screen size and', 'screen the', 'screen the eas', 'screenterrif', 'screenterrif imagesoutstand', 'screenterrif imagesoutstand volumecon', 'sd', 'sd card', 'sd card hello', 'sd card then', 'sd card to', 'second', 'second thing', 'second thing notic', 'second to', 'second to minut', 'see', 'see if', 'see if can', 'seem', 'seem solid', 'seem solid it', 'seem to', 'seem to be', 'seem to keep', 'seem to work', 'seem you', 'seem you need', 'seen', 'seen good', 'seen good product', 'self', 'self lost', 'self lost ie', 'sell', 'sell thi', 'sell thi unit', 'seller', 'seller and', 'seller and within', 'send', 'send the', 'send the sd', 'sent', 'sent patch', 'sent patch on', 'seri', 'seri it', 'seri it will', 'server', 'server to', 'server to your', 'set', 'set up', 'set up my', 'set where', 'set where they', 'setup', 'setup and', 'setup and use', 'sever', 'sever cross', 'sever cross countri', 'sever differ', 'sever differ way', 'sever driver', 'sever driver within', 'sever reason', 'sever reason the', 'sever ton', 'sever ton counti', 'share', 'share photo', 'share photo from', 'ship', 'ship time', 'ship time it', 'short', 'short tripi', 'short tripi decid', 'short wa', 'short wa abl', 'shortest', 'shortest have', 'shortest have been', 'should', 'should of', 'should of been', 'should send', 'should send the', 'side', 'side of', 'side of cincinnati', 'side of it', 'side of the', 'simpl', 'simpl rout', 'simpl rout chang', 'simpl street', 'simpl street chang', 'sinc', 'sinc everi', 'sinc everi time', 'sit', 'sit at', 'sit at stop', 'site', 'site and', 'site and wordofmouth', 'situat', 'situat might', 'situat might get', 'six', 'six month', 'six month or', 'size', 'size and', 'size and it', 'size and the', 'slow', 'slow to', 'slow to boot', 'smart', 'smart tv', 'smart tv so', 'smarttv', 'smarttv 3d', 'smarttv 3d from', 'so', 'so believ', 'so believ that', 'so could', 'so could be', 'so live', 'so live in', 'so long', 'so long as', 'so pretti', 'so pretti know', 'so you', 'so you can', 'softwar', 'softwar and', 'softwar and then', 'softwar detect', 'softwar detect problem', 'softwar for', 'softwar for my', 'softwar thi', 'softwar thi adapt', 'sold', 'sold as', 'sold as truck', 'sold ran', 'sold ran the', 'solid', 'solid it', 'solid it work', 'some', 'some of', 'some of the', 'some one', 'some one drive', 'some peopl', 'some peopl that', 'someth', 'someth that', 'someth that would', 'sometim', 'sometim disconnect', 'sometim disconnect itselfth', 'somewhat', 'somewhat of', 'somewhat of learn', 'somewhat outdat', 'somewhat outdat poi', 'somewhat outdat think', 'somewhat unimpressedpro', 'somewhat unimpressedpro larg', 'sourc', 'sourc connect', 'sourc connect with', 'south', 'south to', 'south to the', 'specif', 'specif and', 'specif and consid', 'specif gp', 'specif gp befor', 'specif gp unit', 'specif howev', 'specif howev be', 'specif navteq', 'specif navteq map', 'specif one', 'specif one but', 'specif rout', 'specif rout can', 'specif routingscost', 'specif unit', 'specif unit are', 'specif version', 'specif version of', 'spent', 'spent 30', 'spent 30 on', 'sprint', 'sprint said', 'sprint said to', 'stand', 'stand it', 'stand it did', 'standard', 'standard nook', 'star', 'star becaus', 'star becaus it', 'start', 'start freez', 'start freez up', 'state', 'state our', 'state our compani', 'still', 'still mull', 'still mull over', 'sto', 'sto sum', 'sto sum it', 'stop', 'stop and', 'stop and the', 'stop and viasa', 'stop hope', 'stop hope to', 'stop if', 'stop if you', 'stop in', 'stop in the', 'stop light', 'stop light wait', 'stop of', 'stop of the', 'stop or', 'stop or via', 'stop point', 'stop point for', 'stop where', 'stop where the', 'stream', 'stream server', 'stream server to', 'street', 'street across', 'street across the', 'street and', 'street and it', 'street befor', 'street befor final', 'street chang', 'street chang or', 'street due', 'street due to', 'street post', 'street post no', 'street wa', 'street wa block', 'strictli', 'strictli hazmat', 'strictli hazmat want', 'stuff', 'stuff that', 'stuff that it', 'such', 'such bad', 'such bad problem', 'such devic', 'suggest', 'suggest is', 'suggest is to', 'sum', 'sum it', 'sum it up', 'suppos', 'suppos to', 'suppos to be', 'sure', 'sure all', 'sure all my', 'sure other', 'sure other tvsgave', 'sure to', 'sure to note', 'surfac', 'surfac street', 'surfac street across', 'take', 'take left', 'take left on', 'take minut', 'take minut to', 'take multipl', 'take multipl stop', 'take plain', 'take plain old', 'take that', 'take that into', 'take the', 'take the tnd', 'take twice', 'take twice as', 'tell', 'tell but', 'tell but it', 'tell me', 'tell me the', 'tell you', 'tell you when', 'test', 'test with', 'test with cheap', 'test with some', 'than', 'than 10', 'than 10 feet', 'than expect', 'than expect within', 'than half', 'than half of', 'than the', 'than the garmin', 'than thi', 'than thi one', 'that', 'that big', 'that big of', 'that bought', 'that bought the', 'that correct', 'that correct function', 'that couldn', 'that couldn make', 'that drive', 'that drive allot', 'that even', 'that even interst', 'that featur', 'that featur wa', 'that friend', 'that friend check', 'that had', 'that had garmin', 'that happen', 'that happen evertim', 'that have', 'that have use', 'that into', 'that into consider', 'that is', 'that is what', 'that is whi', 'that it', 'that it did', 'that it doe', 'that it had', 'that it wa', 'that just', 'that just my', 'that long', 'that long with', 'that mean', 'that mean is', 'that might', 'that might explain', 'that might get', 'that my', 'that my lg', 'that no', 'that no that', 'that prefer', 'that prefer highway', 'that rand', 'that rand mcnalli', 'that restrict', 'that restrict list', 'that rout', 'that rout if', 'that short', 'that short tripi', 'that should', 'that should of', 'that the', 'that the gp', 'that the tnd', 'that they', 'that they instal', 'that thi', 'that thi is', 'that thi unit', 'that truck', 'that truck is', 'that unit', 'that unit wa', 'that unit work', 'that unusu', 'that unusu my', 'that use', 'that use navteq', 'that useful', 'that useful but', 'that wa', 'that wa big', 'that what', 'that what rand', 'that would', 'that would take', 'that you', 'that you have', 'the abil', 'the abil to', 'the adapt', 'the adapt in', 'the adaptor', 'the adaptor found', 'the basic', 'the basic garmin', 'the best', 'the best rout', 'the big', 'the big truck', 'the bigger', 'the bigger screen', 'the bottom', 'the bottom it', 'the box', 'the box had', 'the cabl', 'the cabl is', 'the cincinnati', 'the cincinnati oh', 'the citi', 'the citi and', 'the citi instead', 'the citi turn', 'the compani', 'the compani respons', 'the complex', 'the complex of', 'the concept', 'the concept and', 'the connect', 'the connect but', 'the connect on', 'the countri', 'the countri twice', 'the countri what', 'the devic', 'the devic are', 'the eas', 'the eas of', 'the except', 'the except of', 'the extra', 'the extra screen', 'the fact', 'the fact that', 'the fastest', 'the fastest and', 'the featur', 'the featur allot', 'the first', 'the first thing', 'the follow', 'the follow item', 'the freeway', 'the freeway to', 'the garmin', 'the garmin 465t', 'the garmin at', 'the garmin chose', 'the garmin howev', 'the garmin total', 'the gp', 'the gp track', 'the gp wa', 'the hd', 'the hd pictur', 'the hdmi', 'the hdmi cabl', 'the height', 'the height 13', 'the impress', 'the impress that', 'the intersect', 'the intersect of', 'the length', 'the length 53', 'the length of', 'the line', 'the line and', 'the main', 'the main one', 'the manual', 'the manual avail', 'the map', 'the map in', 'the most', 'the most basic', 'the most import', 'the next', 'the next street', 'the next thing', 'the next time', 'the nook', 'the nook across', 'the nook around', 'the nook hd', 'the nook power', 'the normal', 'the normal person', 'the north', 'the north side', 'the one', 'the one that', 'the origin', 'the origin descript', 'the os', 'the os version', 'the other', 'the other all', 'the other side', 'the other that', 'the other truck', 'the overwhelm', 'the overwhelm wealth', 'the past', 'the past three', 'the plug', 'the plug fit', 'the poi', 'the poi not', 'the program', 'the program said', 'the prossesor', 'the prossesor that', 'the purchas', 'the purchas recommend', 'the rand', 'the rand mcnalli', 'the road', 'the road is', 'the road trucker', 'the room', 'the room with', 'the rout', 'the rout otherwis', 'the rout that', 'the same', 'the same chain', 'the same complaint', 'the same freeway', 'the same unit', 'the same way', 'the screen', 'the screen and', 'the screen is', 'the sd', 'the sd card', 'the second', 'the second thing', 'the seller', 'the seller and', 'the ship', 'the ship time', 'the size', 'the size and', 'the softwar', 'the softwar and', 'the softwar detect', 'the stop', 'the stop or', 'the street', 'the street wa', 'the the', 'the the bottom', 'the time', 'the time you', 'the tnd', 'the tnd 700', 'the tnd dock', 'the tool', 'the tool want', 'the truck', 'the truck rout', 'the truck specif', 'the truck stop', 'the trucker', 'the trucker option', 'the turn', 'the turn or', 'the turn wa', 'the tv', 'the tv stand', 'the unit', 'the unit but', 'the unit by', 'the unit on', 'the unit to', 'the unit ve', 'the unit with', 'the updat', 'the updat program', 'the use', 'the use of', 'the volum', 'the volum is', 'the way', 'the way around', 'the weight', 'the weight 80000', 'the weird', 'the weird rout', 'the wrong', 'the wrong road', 'them', 'them that', 'them that the', 'them wa', 'them wa realli', 'then', 'then attempt', 'then attempt to', 'then base', 'then base on', 'then it', 'then it seem', 'then spent', 'then spent 30', 'then you', 'then you should', 'there', 'there are', 'there are sever', 'there is', 'there is an', 'there is no', 'there is not', 'there is somewhat', 'they', 'they instal', 'they instal in', 'they ll', 'they ll all', 'they made', 'they made such', 'they onli', 'they onli seem', 'they were', 'they were suppos', 'thi adapt', 'thi adapt but', 'thi adapt easili', 'thi adapt work', 'thi adaptor', 'thi adaptor is', 'thi adaptor veri', 'thi gp', 'thi gp as', 'thi gp for', 'thi gp rout', 'thi gp the', 'thi is', 'thi is good', 'thi is onli', 'thi is out', 'thi is problem', 'thi is such', 'thi is uniqu', 'thi isn', 'thi isn just', 'thi item', 'thi item is', 'thi one', 'thi one for', 'thi one rate', 'thi point', 'thi point ll', 'thi point unbeliev', 'thi price', 'thi price and', 'thi product', 'thi product realli', 'thi total', 'thi total unaccept', 'thi unit', 'thi unit allot', 'thi unit and', 'thi unit deserv', 'thi unit due', 'thi unit in', 'thi unit is', 'thi unit littl', 'thi unit the', 'thi unit while', 'thi unit will', 'thi with', 'thi with nook', 'thing', 'thing bad', 'thing bad softwar', 'thing did', 'thing did after', 'thing notic', 'thing notic wa', 'thing ve', 'thing ve notic', 'think', 'think all', 'think all that', 'think in', 'think in conjest', 'think is', 'think is the', 'think is uniqu', 'think the', 'think the garmin', 'thorough', 'thorough list', 'thorough list of', 'though', 'though it', 'though it wa', 'thought', 'thought thi', 'thought thi unit', 'three', 'three friend', 'three friend that', 'three year', 'three year and', 'through', 'through an', 'through an expert', 'through the', 'through the citi', 'through the hdmi', 'thru', 'thru 23', 'thru 23 mile', 'ticket', 'ticket due', 'ticket due to', 'time', 'time it', 'time it arriv', 'time on', 'time on that', 'time pass', 'time pass truck', 'time realli', 'time realli it', 'time refus', 'time refus to', 'time until', 'time until the', 'time with', 'time with in', 'time you', 'time you turn', 'tnd', 'tnd 700', 'tnd 700 at', 'tnd 700 even', 'tnd 700 for', 'tnd 700 howev', 'tnd 700 it', 'tnd 700 or', 'tnd 700 rout', 'tnd 700 took', 'tnd 700 upward', 'tnd 700 wa', 'tnd dock', 'tnd dock is', 'to 10', 'to 10 via', 'to 73280', 'to 73280 unless', 'to an', 'to an unrecover', 'to be', 'to be also', 'to be an', 'to be fairli', 'to be seen', 'to be somewhat', 'to bet', 'to bet the', 'to boot', 'to boot compar', 'to boot itself', 'to by', 'to by nice', 'to check', 'to check everi', 'to coordin', 'to coordin with', 'to determin', 'to determin rout', 'to extend', 'to extend the', 'to figur', 'to figur rerout', 'to follow', 'to follow specif', 'to forc', 'to forc it', 'to garmin', 'to garmin like', 'to get', 'to get on', 'to get the', 'to get to', 'to give', 'to give it', 'to have', 'to have be', 'to head', 'to head to', 'to how', 'to how and', 'to just', 'to just hop', 'to keep', 'to keep in', 'to keep mess', 'to make', 'to make my', 'to make patch', 'to make simpl', 'to mani', 'to mani rout', 'to minut', 'to minut and', 'to my', 'to my first', 'to my hdtv', 'to my laptop', 'to my old', 'to my pickup', 'to my tv', 'to note', 'to note that', 'to operate', 'to operate the', 'to phoenix', 'to phoenix az', 'to pick', 'to pick is', 'to place', 'to place my', 'to plan', 'to plan rout', 'to rerout', 'to rerout me', 'to rerout weather', 'to rock', 'to rock it', 'to rout', 'to rout be', 'to rout me', 'to rout wa', 'to say', 'to say about', 'to say am', 'to say on', 'to see', 'to see if', 'to set', 'to set up', 'to setup', 'to setup and', 'to take', 'to take multipl', 'to that', 'to that had', 'to the', 'to the basic', 'to the fact', 'to the garmin', 'to the intersect', 'to the next', 'to the size', 'to the tnd', 'to the truck', 'to thi', 'to thi gp', 'to thi unit', 'to track', 'to track you', 'to turn', 'to turn down', 'to updat', 'to updat it', 'to updat the', 'to what', 'to what the', 'to work', 'to work it', 'to work with', 'to write', 'to write long', 'to your', 'to your tv', 'today', 'today while', 'today while come', 'told', 'told it', 'told it that', 'ton', 'ton counti', 'ton counti road', 'too', 'too busi', 'too busi watch', 'too long', 'too long or', 'too short', 'too short wa', 'took', 'took almost', 'took almost minut', 'tool', 'tool buy', 'tool buy softwar', 'tool trucker', 'tool trucker could', 'tool want', 'tool want gp', 'total', 'total flummox', 'total flummox by', 'total mileag', 'total mileag on', 'total unaccept', 'total unaccept am', 'town', 'town down', 'town down to', 'track', 'track gave', 'track gave thi', 'track you', 'track you and', 'travel', 'travel becaus', 'travel becaus it', 'tri', 'tri rout', 'tri rout me', 'tri to', 'tri to rout', 'trip', 'tripi', 'tripi decid', 'tripi decid to', 'troubl', 'troubl if', 'troubl if you', 'truck', 'truck and', 'truck and at', 'truck atla', 'truck atla and', 'truck driver', 'truck driver and', 'truck driver gp', 'truck for', 'truck for about', 'truck is', 'truck is limit', 'truck restrict', 'truck restrict and', 'truck rout', 'truck rout and', 'truck rout is', 'truck rout tell', 'truck rout while', 'truck set', 'truck set where', 'truck specif', 'truck specif and', 'truck specif gp', 'truck specif howev', 'truck specif one', 'truck specif unit', 'truck specif version', 'truck stop', 'truck stop hope', 'truck stop if', 'truck stop in', 'truck stop of', 'truck stop where', 'truck the', 'truck the tnd', 'trucker', 'trucker could', 'trucker could have', 'trucker option', 'trucker option the', 'trucker veri', 'trucker veri impress', 'truckswayn', 'turn', 'turn down', 'turn down street', 'turn it', 'turn it got', 'turn it off', 'turn left', 'turn left in', 'turn or', 'turn or the', 'turn the', 'turn the unit', 'turn wa', 'turn wa less', 'tv', 'tv for', 'tv for me', 'tv is', 'tv is excel', 'tv nice', 'tv nice they', 'tv potenti', 'tv potenti smart', 'tv so', 'tv so long', 'tv stand', 'tv stand it', 'tvsgave', 'tvsgave it', 'tvsgave it five', 'twice', 'twice as', 'twice as long', 'twice it', 'twice it put', 'unaccept', 'unaccept am', 'unaccept am still', 'unaccept in', 'unaccept in unit', 'unbeliev', 'unbeliev also', 'unbeliev also forc', 'under', 'under 12', 'under 12 bridg', 'unfair', 'unfair and', 'unfair and onli', 'unimpressedpro', 'unimpressedpro larg', 'unimpressedpro larg screenterrif', 'uniqu', 'uniqu to', 'uniqu to the', 'uniqu to thi', 'unit', 'unit allot', 'unit allot of', 'unit and', 'unit and buy', 'unit and got', 'unit and have', 'unit are', 'unit are the', 'unit but', 'unit but at', 'unit by', 'unit by put', 'unit can', 'unit can not', 'unit deserv', 'unit deserv one', 'unit due', 'unit due to', 'unit in', 'unit in my', 'unit is', 'unit is some', 'unit littl', 'unit littl longer', 'unit of', 'unit of thi', 'unit on', 'unit on it', 'unit that', 'unit that should', 'unit the', 'unit the first', 'unit the next', 'unit they', 'unit they ll', 'unit to', 'unit to follow', 'unit ve', 'unit ve had', 'unit wa', 'unit wa the', 'unit while', 'unit while you', 'unit will', 'unit will rout', 'unit with', 'unit with the', 'unit work', 'unit work great', 'unless', 'unless the', 'unless the road', 'unrecover', 'unrecover state', 'unrecover state our', 'until', 'until the', 'until the program', 'unusu', 'unusu my', 'unusu my home', 'up', 'up at', 'up at least', 'up but', 'up but thi', 'up could', 'up could of', 'up ect', 'up ect love', 'up i75', 'up i75 on', 'up my', 'up my rout', 'up to', 'up to 10', 'up will', 'up will keep', 'updat', 'updat and', 'updat and want', 'updat down', 'updat down the', 'updat it', 'updat it the', 'updat program', 'updat program multipl', 'updat that', 'updat that correct', 'updat the', 'updat the os', 'updat the unit', 'updatedi', 'updatedi program', 'updatedi program in', 'updatingnow', 'updatingnow on', 'updatingnow on to', 'upward', 'upward of', 'upward of 45', 'us', 'us return', 'us return the', 'use', 'use are', 'use are more', 'use basic', 'use basic garmin', 'use howev', 'use howev it', 'use like', 'use like monitor', 'use map', 'use map would', 'use navteq', 'use navteq ha', 'use of', 'use of stop', 'use right', 'use right out', 'use the', 'use the eas', 'use the stop', 'use thi', 'use thi with', 'use your', 'use your nook', 'use your own', 'useful', 'useful but', 'useful but the', 'userfriendli', 'userfriendli as', 'userfriendli as my', 'variou', 'variou forum', 'variou forum review', 've', 've driven', 've driven well', 've had', 've had mine', 've had thi', 've never', 've never own', 've notic', 've notic which', 'veri', 'veri challeng', 'veri challeng for', 'veri excit', 'veri excit especi', 'veri impress', 'veri impress all', 'veri impress with', 'veri much', 'veri much for', 'veri slow', 'veri slow to', 'veri wobbl', 'veri wobbl and', 'verifi', 'verifi through', 'verifi through an', 'version', 'version of', 'version of navteqanoth', 'version via', 'version via rand', 'via', 'via at', 'via at differ', 'via featur', 'via featur what', 'via i71', 'via i71 easi', 'via it', 'via it is', 'via or', 'via or stop', 'via rand', 'via rand mcnalli', 'via that', 'via that wa', 'via the', 'via the tnd', 'viasa', 'viasa somewhat', 'viasa somewhat outdat', 'video', 'video on', 'video on your', 'view', 'view your', 'view your nook', 'volum', 'volum is', 'volum is awesomeanoth', 'volumecon', 'volumecon inabl', 'volumecon inabl to', 'wa', 'wa 10', 'wa 10 year', 'wa abl', 'wa abl to', 'wa about', 'wa about 15', 'wa big', 'wa big no', 'wa block', 'wa block off', 'wa complet', 'wa complet updatedi', 'wa connect', 'wa connect it', 'wa coupl', 'wa coupl updat', 'wa describ', 'wa describ in', 'wa it', 'wa it veri', 'wa just', 'wa just right', 'wa lack', 'wa lack wa', 'wa less', 'wa less than', 'wa not', 'wa not avail', 'wa not design', 'wa not even', 'wa not truck', 'wa park', 'wa park at', 'wa quit', 'wa quit bit', 'wa realli', 'wa realli excit', 'wa simpl', 'wa simpl street', 'wa some', 'wa some one', 'wa the', 'wa the abil', 'wa the complex', 'wa the gp', 'wa the most', 'wa the overwhelm', 'wa to', 'wa to updat', 'wait', 'wait for', 'wait for direct', 'wait that', 'wait that long', 'want', 'want gp', 'want gp that', 'want my', 'want my home', 'want someth', 'want someth that', 'want to', 'want to rout', 'want tool', 'want tool buy', 'watch', 'watch my', 'watch my movi', 'way', 'way around', 'way as', 'way as no', 'way forc', 'way forc the', 'way or', 'way or turn', 'way you', 'way you can', 'we', 'we got', 'we got it', 'we got thi', 'we have', 'we have one', 'wealth', 'wealth of', 'wealth of inform', 'weather', 'weather it', 'weather it wa', 'week', 'week it', 'week it put', 'week of', 'week of use', 'weekli', 'weekli and', 'weekli and that', 'weight', 'weight 80000', 'weight 80000 of', 'weird', 'weird rout', 'weird rout that', 'well', 'well but', 'well but doe', 'well over', 'well over 100', 'well over 1mil', 'well what', 'well what can', 'well worth', 'well worth the', 'went', 'went onlin', 'went onlin and', 'were', 'were suppos', 'were suppos to', 'west', 'west and', 'west and south', 'what', 'what appear', 'what appear to', 'what can', 'what can say', 'what it', 'what it think', 'what mean', 'what mean is', 'what my', 'what my cell', 'what rand', 'what rand macnal', 'what that', 'what that mean', 'what the', 'what the basic', 'what the fastest', 'what we', 'what we got', 'what would', 'what would do', 'when', 'when 13', 'when 13 of', 'when it', 'when it work', 'when made', 'when made wrong', 'when scale', 'when scale is', 'where', 'where it', 'where it is', 'where the', 'where the devic', 'where they', 'where they were', 'whether', 'whether thi', 'whether thi is', 'whi', 'whi it', 'whi it is', 'whi the', 'whi the manual', 'which', 'which do', 'which do not', 'which is', 'which is probabl', 'which is the', 'while', 'while come', 'while come home', 'while tell', 'while tell me', 'while you', 'while you can', 'who', 'who is', 'who is an', 'who own', 'who own one', 'will', 'will go', 'will go back', 'will keep', 'will keep thi', 'will not', 'will not work', 'will rout', 'will rout you', 'will to', 'will to bet', 'will work', 'will work great', 'with 2400', 'with 2400 dollar', 'with 25ft', 'with 25ft high', 'with ani', 'with ani gp', 'with car', 'with car on', 'with cheap', 'with cheap cableswarn', 'with in', 'with in week', 'with instruct', 'with instruct for', 'with it', 'with it at', 'with mani', 'with mani thing', 'with my', 'with my updat', 'with nook', 'with nook hd', 'with other', 'with other hdmi', 'with other review', 'with rand', 'with rand mcnalli', 'with some', 'with some peopl', 'with standard', 'with standard nook', 'with the', 'with the except', 'with the garmin', 'with the nook', 'with the rand', 'with the ship', 'with thi', 'with thi adapt', 'with thi one', 'with thi unit', 'with truck', 'with truck restrict', 'with you', 'with you not', 'within', 'within minut', 'within minut of', 'within our', 'within our compani', 'within week', 'within week of', 'without', 'without ani', 'without ani issu', 'without hold', 'without hold the', 'wobbl', 'wobbl and', 'wobbl and sometim', 'wordofmouth', 'wordofmouth my', 'wordofmouth my choic', 'work', 'work as', 'work as describ', 'work fine', 'work fine with', 'work great', 'work great but', 'work great for', 'work great when', 'work it', 'work it plug', 'work will', 'work will work', 'work with', 'work with 25ft', 'work with mani', 'work with standard', 'work with the', 'work with thi', 'work without', 'work without ani', 'workabl', 'workabl if', 'workabl if not', 'worth', 'worth the', 'worth the purchas', 'would', 'would also', 'would also be', 'would do', 'would do is', 'would rout', 'would rout myself', 'would take', 'would take that', 'would take the', 'would take twice', 'write', 'write long', 'write long review', 'wrong', 'wrong road', 'wrong road and', 'wrong road the', 'wrong turn', 'wrong turn it', 'xyz', 'xyz street', 'xyz street and', 'yard', 'yard and', 'yard and the', 'year', 'year and', 'year and here', 'year and with', 'year back', 'year back doe', 'year never', 'year never notic', 'year old', 'year old exampl', 'yet', 'yet over', 'yet over sever', 'you', 'you and', 'you and rout', 'you can', 'you can determin', 'you can enter', 'you can not', 'you can put', 'you don', 'you don belong', 'you down', 'you down road', 'you had', 'you had to', 'you have', 'you have chosen', 'you in', 'you in troubl', 'you let', 'you let them', 'you listen', 'you listen first', 'you might', 'you might think', 'you must', 'you must have', 'you need', 'you need to', 'you not', 'you not test', 'you should', 'you should send', 'you through', 'you through the', 'you turn', 'you turn the', 'you wa', 'you wa not', 'you when', 'you when scale', 'your', 'your hdtv', 'your hdtv just', 'your nook', 'your nook as', 'your nook video', 'your own', 'your own judgement', 'your power', 'your power adapt', 'your tv', 'your tv nice']\n"
     ]
    }
   ],
   "source": [
    "print(count_vect.get_feature_names())"
   ]
  },
  {
   "cell_type": "code",
   "execution_count": 167,
   "metadata": {},
   "outputs": [],
   "source": [
    "tok = count_vect.build_analyzer()"
   ]
  },
  {
   "cell_type": "code",
   "execution_count": 171,
   "metadata": {},
   "outputs": [
    {
     "data": {
      "text/plain": [
       "['professional',\n",
       " 'otr',\n",
       " 'truck',\n",
       " 'driver',\n",
       " 'and',\n",
       " 'bought',\n",
       " 'tnd',\n",
       " '700',\n",
       " 'at',\n",
       " 'truck',\n",
       " 'stop',\n",
       " 'hoping',\n",
       " 'to',\n",
       " 'make',\n",
       " 'my',\n",
       " 'life',\n",
       " 'easier',\n",
       " 'rand',\n",
       " 'mcnally',\n",
       " 'are',\n",
       " 'you',\n",
       " 'listening',\n",
       " 'first',\n",
       " 'thing',\n",
       " 'did',\n",
       " 'after',\n",
       " 'charging',\n",
       " 'it',\n",
       " 'was',\n",
       " 'connect',\n",
       " 'it',\n",
       " 'to',\n",
       " 'my',\n",
       " 'laptop',\n",
       " 'and',\n",
       " 'install',\n",
       " 'the',\n",
       " 'software',\n",
       " 'and',\n",
       " 'then',\n",
       " 'attempt',\n",
       " 'to',\n",
       " 'update',\n",
       " 'it',\n",
       " 'the',\n",
       " 'software',\n",
       " 'detected',\n",
       " 'problem',\n",
       " 'with',\n",
       " 'my',\n",
       " 'update',\n",
       " 'and',\n",
       " 'wanted',\n",
       " 'my',\n",
       " 'home',\n",
       " 'address',\n",
       " 'so',\n",
       " 'could',\n",
       " 'be',\n",
       " 'sent',\n",
       " 'patch',\n",
       " 'on',\n",
       " 'an',\n",
       " 'sd',\n",
       " 'card',\n",
       " 'hello',\n",
       " 'don',\n",
       " 'think',\n",
       " 'all',\n",
       " 'that',\n",
       " 'unusual',\n",
       " 'my',\n",
       " 'home',\n",
       " 'address',\n",
       " 'is',\n",
       " 'po',\n",
       " 'box',\n",
       " 'that',\n",
       " 'friend',\n",
       " 'checks',\n",
       " 'weekly',\n",
       " 'and',\n",
       " 'that',\n",
       " 'might',\n",
       " 'get',\n",
       " 'to',\n",
       " 'check',\n",
       " 'every',\n",
       " 'six',\n",
       " 'months',\n",
       " 'or',\n",
       " 'so',\n",
       " 'live',\n",
       " 'in',\n",
       " 'my',\n",
       " 'truck',\n",
       " 'and',\n",
       " 'at',\n",
       " 'truck',\n",
       " 'stops',\n",
       " 'if',\n",
       " 'you',\n",
       " 'need',\n",
       " 'to',\n",
       " 'make',\n",
       " 'patch',\n",
       " 'available',\n",
       " 'on',\n",
       " 'an',\n",
       " 'sd',\n",
       " 'card',\n",
       " 'then',\n",
       " 'you',\n",
       " 'should',\n",
       " 'send',\n",
       " 'the',\n",
       " 'sd',\n",
       " 'cards',\n",
       " 'to',\n",
       " 'the',\n",
       " 'truck',\n",
       " 'stops',\n",
       " 'where',\n",
       " 'the',\n",
       " 'devices',\n",
       " 'are',\n",
       " 'sold',\n",
       " 'ran',\n",
       " 'the',\n",
       " 'update',\n",
       " 'program',\n",
       " 'multiple',\n",
       " 'times',\n",
       " 'until',\n",
       " 'the',\n",
       " 'program',\n",
       " 'said',\n",
       " 'that',\n",
       " 'the',\n",
       " 'tnd',\n",
       " '700',\n",
       " 'was',\n",
       " 'completely',\n",
       " 'updated',\n",
       " 'programmed',\n",
       " 'in',\n",
       " 'the',\n",
       " 'height',\n",
       " '13',\n",
       " 'the',\n",
       " 'length',\n",
       " '53',\n",
       " 'and',\n",
       " 'the',\n",
       " 'weight',\n",
       " '80',\n",
       " '000',\n",
       " 'of',\n",
       " 'my',\n",
       " 'rig',\n",
       " 'and',\n",
       " 'told',\n",
       " 'it',\n",
       " 'that',\n",
       " 'preferred',\n",
       " 'highways',\n",
       " 'was',\n",
       " 'parked',\n",
       " 'at',\n",
       " 'truck',\n",
       " 'stop',\n",
       " 'in',\n",
       " 'the',\n",
       " 'cincinnati',\n",
       " 'oh',\n",
       " 'area',\n",
       " 'my',\n",
       " 'next',\n",
       " 'pickup',\n",
       " 'was',\n",
       " 'about',\n",
       " '15',\n",
       " 'miles',\n",
       " 'down',\n",
       " 'the',\n",
       " 'same',\n",
       " 'freeway',\n",
       " 'but',\n",
       " 'on',\n",
       " 'the',\n",
       " 'other',\n",
       " 'side',\n",
       " 'of',\n",
       " 'it',\n",
       " 'couple',\n",
       " 'of',\n",
       " 'blocks',\n",
       " 'my',\n",
       " 'cell',\n",
       " 'phone',\n",
       " 'gps',\n",
       " 'sprint',\n",
       " 'said',\n",
       " 'to',\n",
       " 'get',\n",
       " 'on',\n",
       " 'the',\n",
       " 'freeway',\n",
       " 'to',\n",
       " 'get',\n",
       " 'to',\n",
       " 'my',\n",
       " 'pickup',\n",
       " 'the',\n",
       " 'tnd',\n",
       " '700',\n",
       " 'routed',\n",
       " 'me',\n",
       " 'thru',\n",
       " '23',\n",
       " 'miles',\n",
       " 'of',\n",
       " 'residential',\n",
       " 'streets',\n",
       " 'before',\n",
       " 'finally',\n",
       " 'getting',\n",
       " 'me',\n",
       " 'to',\n",
       " 'my',\n",
       " 'pickup',\n",
       " 'very',\n",
       " 'exciting',\n",
       " 'especially',\n",
       " 'since',\n",
       " 'every',\n",
       " 'time',\n",
       " 'refused',\n",
       " 'to',\n",
       " 'turn',\n",
       " 'down',\n",
       " 'street',\n",
       " 'posted',\n",
       " 'no',\n",
       " 'trucks',\n",
       " 'the',\n",
       " 'tnd',\n",
       " '700',\n",
       " 'took',\n",
       " 'almost',\n",
       " 'minutes',\n",
       " 'to',\n",
       " 'figure',\n",
       " 're',\n",
       " 'route',\n",
       " 'and',\n",
       " 'it',\n",
       " 'happened',\n",
       " 'multiple',\n",
       " 'times',\n",
       " 'on',\n",
       " 'that',\n",
       " 'short',\n",
       " 'trip',\n",
       " 'decided',\n",
       " 'to',\n",
       " 'give',\n",
       " 'it',\n",
       " 'another',\n",
       " 'chance',\n",
       " 'after',\n",
       " 'my',\n",
       " 'pickup',\n",
       " 'on',\n",
       " 'the',\n",
       " 'north',\n",
       " 'side',\n",
       " 'of',\n",
       " 'cincinnati',\n",
       " 'just',\n",
       " 'off',\n",
       " 'of',\n",
       " '75',\n",
       " 'needed',\n",
       " 'to',\n",
       " 'head',\n",
       " 'to',\n",
       " 'phoenix',\n",
       " 'az',\n",
       " 'via',\n",
       " '71',\n",
       " 'easy',\n",
       " 'route',\n",
       " 'is',\n",
       " 'to',\n",
       " 'just',\n",
       " 'hop',\n",
       " 'on',\n",
       " '75',\n",
       " 'and',\n",
       " 'drive',\n",
       " 'west',\n",
       " 'and',\n",
       " 'south',\n",
       " 'to',\n",
       " 'the',\n",
       " 'intersection',\n",
       " 'of',\n",
       " '71',\n",
       " 'indeed',\n",
       " 'that',\n",
       " 'is',\n",
       " 'what',\n",
       " 'my',\n",
       " 'cell',\n",
       " 'phone',\n",
       " 'advised',\n",
       " 'the',\n",
       " 'tnd',\n",
       " '700',\n",
       " 'however',\n",
       " 'wanted',\n",
       " 'to',\n",
       " 'route',\n",
       " 'me',\n",
       " 'over',\n",
       " 'surface',\n",
       " 'streets',\n",
       " 'across',\n",
       " 'the',\n",
       " 'city',\n",
       " 'and',\n",
       " 'pick',\n",
       " 'up',\n",
       " '75',\n",
       " 'on',\n",
       " 'the',\n",
       " 'other',\n",
       " 'side',\n",
       " 'of',\n",
       " 'the',\n",
       " 'city',\n",
       " 'turned',\n",
       " 'it',\n",
       " 'off',\n",
       " 'and',\n",
       " 'the',\n",
       " 'next',\n",
       " 'time',\n",
       " 'passed',\n",
       " 'truck',\n",
       " 'stop',\n",
       " 'of',\n",
       " 'the',\n",
       " 'same',\n",
       " 'chain',\n",
       " 'purchased',\n",
       " 'it',\n",
       " 'at',\n",
       " 'returned',\n",
       " 'it',\n",
       " 'and',\n",
       " 'got',\n",
       " 'my',\n",
       " 'money',\n",
       " 'back',\n",
       " 'then',\n",
       " 'spent',\n",
       " '30',\n",
       " 'on',\n",
       " 'cheap',\n",
       " 'printer',\n",
       " 'now',\n",
       " 'take',\n",
       " 'minute',\n",
       " 'to',\n",
       " 'set',\n",
       " 'up',\n",
       " 'my',\n",
       " 'route',\n",
       " 'on',\n",
       " 'google',\n",
       " 'and',\n",
       " 'print',\n",
       " 'it',\n",
       " 'out',\n",
       " 'hasn',\n",
       " 'gotten',\n",
       " 'me',\n",
       " 'lost',\n",
       " 'yet',\n",
       " 'over',\n",
       " 'several',\n",
       " 'cross',\n",
       " 'country',\n",
       " 'trips']"
      ]
     },
     "execution_count": 171,
     "metadata": {},
     "output_type": "execute_result"
    }
   ],
   "source": [
    "tok(dat.reviewText[1])"
   ]
  },
  {
   "cell_type": "code",
   "execution_count": null,
   "metadata": {},
   "outputs": [],
   "source": []
  }
 ],
 "metadata": {
  "kernelspec": {
   "display_name": "Python 3",
   "language": "python",
   "name": "python3"
  },
  "language_info": {
   "codemirror_mode": {
    "name": "ipython",
    "version": 3
   },
   "file_extension": ".py",
   "mimetype": "text/x-python",
   "name": "python",
   "nbconvert_exporter": "python",
   "pygments_lexer": "ipython3",
   "version": "3.7.4"
  }
 },
 "nbformat": 4,
 "nbformat_minor": 2
}
