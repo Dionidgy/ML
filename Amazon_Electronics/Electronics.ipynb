{
  "nbformat": 4,
  "nbformat_minor": 0,
  "metadata": {
    "colab": {
      "name": "Electronics.ipynb",
      "provenance": [],
      "collapsed_sections": [],
      "toc_visible": true
    },
    "kernelspec": {
      "display_name": "Python 3",
      "language": "python",
      "name": "python3"
    },
    "language_info": {
      "codemirror_mode": {
        "name": "ipython",
        "version": 3
      },
      "file_extension": ".py",
      "mimetype": "text/x-python",
      "name": "python",
      "nbconvert_exporter": "python",
      "pygments_lexer": "ipython3",
      "version": "3.7.6"
    }
  },
  "cells": [
    {
      "cell_type": "markdown",
      "metadata": {
        "id": "CxoFIkyXT13G"
      },
      "source": [
        "# Тестовое задание"
      ]
    },
    {
      "cell_type": "code",
      "metadata": {
        "id": "M5wAMvqLT13I"
      },
      "source": [
        "import pandas as pd\n",
        "import numpy as np\n",
        "import nltk\n",
        "from sklearn.feature_extraction.text import CountVectorizer,TfidfVectorizer\n",
        "from sklearn.linear_model import LogisticRegression\n",
        "from sklearn.model_selection import train_test_split\n",
        "from sklearn.metrics import accuracy_score\n",
        "from sklearn.metrics import classification_report\n",
        "from sklearn.model_selection import GridSearchCV\n",
        "import string"
      ],
      "execution_count": 45,
      "outputs": []
    },
    {
      "cell_type": "code",
      "metadata": {
        "id": "OqnGLn-dT13Q"
      },
      "source": [
        "count_vect = CountVectorizer(max_df = 0.9, min_df = 10, ngram_range=(1, 3))\n",
        "tfidf_vect = TfidfVectorizer(max_df = 0.9, min_df = 10, ngram_range=(1, 3))\n",
        "porter_stemmer = nltk.stem.PorterStemmer()\n",
        "tok = count_vect.build_tokenizer()\n",
        "# tok = tfidf_vect.build_tokenizer()\n",
        "# tok = nltk.tokenize.RegexpTokenizer(r'\\w+').tokenize\n",
        "clf = LogisticRegression(solver='liblinear', class_weight = {0:4, 1:1}, penalty='l2')"
      ],
      "execution_count": 46,
      "outputs": []
    },
    {
      "cell_type": "markdown",
      "metadata": {
        "id": "_On0-OnAT13T"
      },
      "source": [
        "## Cкачиваем файл с данными"
      ]
    },
    {
      "cell_type": "code",
      "metadata": {
        "id": "iCHXmYR2T13U"
      },
      "source": [
        "# !wget http://snap.stanford.edu/data/amazon/productGraph/categoryFiles/reviews_Electronics_5.json.gz\n",
        "#или\n",
        "#!wget https://drive.google.com/open?id=1DwwTyIn5zW7KTxp4bONHtKNa6DlT9PUj"
      ],
      "execution_count": 47,
      "outputs": []
    },
    {
      "cell_type": "markdown",
      "metadata": {
        "id": "PN4vwkRlT13X"
      },
      "source": [
        "## Если необходимо, преобразуем JSON к CSV"
      ]
    },
    {
      "cell_type": "code",
      "metadata": {
        "id": "iPC9DuoAT13Y"
      },
      "source": [
        "# df = pd.read_json ('Electronics_5.json', lines=True )\n",
        "# df.to_csv ('Electronics_5.csv', index = None)"
      ],
      "execution_count": 48,
      "outputs": []
    },
    {
      "cell_type": "markdown",
      "metadata": {
        "id": "XSsSwkVtT13c"
      },
      "source": [
        "# Предобработка"
      ]
    },
    {
      "cell_type": "code",
      "metadata": {
        "id": "T4fBiAuDT13c",
        "colab": {
          "base_uri": "https://localhost:8080/"
        },
        "outputId": "c194b890-fd14-4bc4-ed4a-ac768d292471"
      },
      "source": [
        "dat = pd.read_csv(\"Electronics_5.csv\", engine= 'python', error_bad_lines=False)[[\"asin\",\"reviewText\", \"overall\"]]"
      ],
      "execution_count": 49,
      "outputs": [
        {
          "output_type": "stream",
          "text": [
            "Skipping line 1609665: unexpected end of data\n"
          ],
          "name": "stderr"
        }
      ]
    },
    {
      "cell_type": "markdown",
      "metadata": {
        "id": "_abF5fsDT13i"
      },
      "source": [
        "## Добавляем бинрную оценку"
      ]
    },
    {
      "cell_type": "code",
      "metadata": {
        "id": "BVu0ySB4T13j"
      },
      "source": [
        "dat[\"bin\"] = dat.overall > 3"
      ],
      "execution_count": 50,
      "outputs": []
    },
    {
      "cell_type": "markdown",
      "metadata": {
        "id": "6pMIblyAT13o"
      },
      "source": [
        "## Отрежем кусок даты"
      ]
    },
    {
      "cell_type": "code",
      "metadata": {
        "id": "Z-F8fy_8T13p"
      },
      "source": [
        "dat_t, dat = dat, dat[:16000]"
      ],
      "execution_count": 51,
      "outputs": []
    },
    {
      "cell_type": "code",
      "metadata": {
        "id": "XEOjagyhxWkW"
      },
      "source": [
        "train_dat, privat_dat, train_ans, privat_ans = train_test_split(\n",
        "    dat.reviewText, dat.bin, test_size=0.15)"
      ],
      "execution_count": 52,
      "outputs": []
    },
    {
      "cell_type": "code",
      "metadata": {
        "id": "EchhjCcDT13t"
      },
      "source": [
        "train_dat, test_dat, train_ans, test_ans = train_test_split(\n",
        "    train_dat, train_ans, test_size=0.2)"
      ],
      "execution_count": 53,
      "outputs": []
    },
    {
      "cell_type": "markdown",
      "metadata": {
        "id": "b1mFctcLT13z"
      },
      "source": [
        "## Натравим на необработанные данные"
      ]
    },
    {
      "cell_type": "code",
      "metadata": {
        "id": "gOaHzbaIT13z"
      },
      "source": [
        "count_vect.fit(dat.reviewText.apply(lambda x: np.str_(x)))\n",
        "tfidf_vect.fit(dat.reviewText.apply(lambda x: np.str_(x)))\n",
        "count_train_mtrx_dft = count_vect.transform(train_dat.apply(lambda x: np.str_(x)))\n",
        "tfidf_train_mtrx_dft = tfidf_vect.transform(train_dat.apply(lambda x: np.str_(x)))\n",
        "count_test_mtrx_dft = count_vect.transform(test_dat.apply(lambda x: np.str_(x)))\n",
        "tfidf_test_mtrx_dft = tfidf_vect.transform(test_dat.apply(lambda x: np.str_(x)))"
      ],
      "execution_count": 54,
      "outputs": []
    },
    {
      "cell_type": "markdown",
      "metadata": {
        "id": "m2v-3HreT133"
      },
      "source": [
        "## Приводим к базовой форме"
      ]
    },
    {
      "cell_type": "code",
      "metadata": {
        "colab": {
          "base_uri": "https://localhost:8080/"
        },
        "id": "QJf4kOnFT134",
        "outputId": "98041601-95c8-43fe-e595-61bd54e4b9fd"
      },
      "source": [
        "train_dat_tr = list(map(lambda elem: (\" \").join(map(lambda s: (porter_stemmer.stem(s)), elem)).lower().translate(str.maketrans('', '', string.punctuation)), map(lambda wrds: tok(wrds), train_dat.apply(lambda x: np.str_(x)))))\n",
        "test_dat_tr = list(map(lambda elem: (\" \").join(map(lambda s: (porter_stemmer.stem(s)), elem)).lower().translate(str.maketrans('', '', string.punctuation)), map(lambda wrds: tok(wrds), test_dat.apply(lambda x: np.str_(x)))))\n",
        "privat_dat_tr = list(map(lambda elem: (\" \").join(map(lambda s: (porter_stemmer.stem(s)), elem)).lower().translate(str.maketrans('', '', string.punctuation)), map(lambda wrds: tok(wrds), privat_dat.apply(lambda x: np.str_(x)))))\n",
        "dat[\"words\"] = list(map(lambda elem: (\" \").join(map(lambda s: (porter_stemmer.stem(s)), elem)).lower().translate(str.maketrans('', '', string.punctuation)), map(lambda wrds: tok(wrds), dat.reviewText.apply(lambda x: np.str_(x)))))"
      ],
      "execution_count": 55,
      "outputs": [
        {
          "output_type": "stream",
          "text": [
            "/usr/local/lib/python3.7/dist-packages/ipykernel_launcher.py:4: SettingWithCopyWarning: \n",
            "A value is trying to be set on a copy of a slice from a DataFrame.\n",
            "Try using .loc[row_indexer,col_indexer] = value instead\n",
            "\n",
            "See the caveats in the documentation: https://pandas.pydata.org/pandas-docs/stable/user_guide/indexing.html#returning-a-view-versus-a-copy\n",
            "  after removing the cwd from sys.path.\n"
          ],
          "name": "stderr"
        }
      ]
    },
    {
      "cell_type": "markdown",
      "metadata": {
        "id": "U-2Nvu3UT13_"
      },
      "source": [
        "## Натравим на обработанные данные"
      ]
    },
    {
      "cell_type": "code",
      "metadata": {
        "id": "yGcQfQLJT14A"
      },
      "source": [
        "# count_vect.fit(dat.words)\n",
        "# tfidf_vect.fit(dat.words)\n",
        "count_train_mtrx = count_vect.transform(train_dat_tr)\n",
        "tfidf_train_mtrx = tfidf_vect.transform(train_dat_tr)\n",
        "count_test_mtrx = count_vect.transform(test_dat_tr)\n",
        "tfidf_test_mtrx = tfidf_vect.transform(test_dat_tr)"
      ],
      "execution_count": 56,
      "outputs": []
    },
    {
      "cell_type": "markdown",
      "metadata": {
        "id": "TWUItNUsT14F"
      },
      "source": [
        "## Проверим, что получилось"
      ]
    },
    {
      "cell_type": "code",
      "metadata": {
        "colab": {
          "base_uri": "https://localhost:8080/",
          "height": 419
        },
        "id": "sMyxM4wuT14F",
        "outputId": "ece5f589-1a7f-40c3-f607-0e8b6e2539bc"
      },
      "source": [
        "dat"
      ],
      "execution_count": 57,
      "outputs": [
        {
          "output_type": "execute_result",
          "data": {
            "text/html": [
              "<div>\n",
              "<style scoped>\n",
              "    .dataframe tbody tr th:only-of-type {\n",
              "        vertical-align: middle;\n",
              "    }\n",
              "\n",
              "    .dataframe tbody tr th {\n",
              "        vertical-align: top;\n",
              "    }\n",
              "\n",
              "    .dataframe thead th {\n",
              "        text-align: right;\n",
              "    }\n",
              "</style>\n",
              "<table border=\"1\" class=\"dataframe\">\n",
              "  <thead>\n",
              "    <tr style=\"text-align: right;\">\n",
              "      <th></th>\n",
              "      <th>asin</th>\n",
              "      <th>reviewText</th>\n",
              "      <th>overall</th>\n",
              "      <th>bin</th>\n",
              "      <th>words</th>\n",
              "    </tr>\n",
              "  </thead>\n",
              "  <tbody>\n",
              "    <tr>\n",
              "      <th>0</th>\n",
              "      <td>0528881469</td>\n",
              "      <td>We got this GPS for my husband who is an (OTR)...</td>\n",
              "      <td>5</td>\n",
              "      <td>True</td>\n",
              "      <td>we got thi gp for my husband who is an otr ove...</td>\n",
              "    </tr>\n",
              "    <tr>\n",
              "      <th>1</th>\n",
              "      <td>0528881469</td>\n",
              "      <td>I'm a professional OTR truck driver, and I bou...</td>\n",
              "      <td>1</td>\n",
              "      <td>False</td>\n",
              "      <td>profession otr truck driver and bought tnd 700...</td>\n",
              "    </tr>\n",
              "    <tr>\n",
              "      <th>2</th>\n",
              "      <td>0528881469</td>\n",
              "      <td>Well, what can I say.  I've had this unit in m...</td>\n",
              "      <td>3</td>\n",
              "      <td>False</td>\n",
              "      <td>well what can say ve had thi unit in my truck ...</td>\n",
              "    </tr>\n",
              "    <tr>\n",
              "      <th>3</th>\n",
              "      <td>0528881469</td>\n",
              "      <td>Not going to write a long review, even thought...</td>\n",
              "      <td>2</td>\n",
              "      <td>False</td>\n",
              "      <td>not go to write long review even thought thi u...</td>\n",
              "    </tr>\n",
              "    <tr>\n",
              "      <th>4</th>\n",
              "      <td>0528881469</td>\n",
              "      <td>I've had mine for a year and here's what we go...</td>\n",
              "      <td>1</td>\n",
              "      <td>False</td>\n",
              "      <td>ve had mine for year and here what we got it t...</td>\n",
              "    </tr>\n",
              "    <tr>\n",
              "      <th>...</th>\n",
              "      <td>...</td>\n",
              "      <td>...</td>\n",
              "      <td>...</td>\n",
              "      <td>...</td>\n",
              "      <td>...</td>\n",
              "    </tr>\n",
              "    <tr>\n",
              "      <th>15995</th>\n",
              "      <td>B00004ZCJE</td>\n",
              "      <td>I could not ask more of the Tiffen 58mm UV Pro...</td>\n",
              "      <td>5</td>\n",
              "      <td>True</td>\n",
              "      <td>could not ask more of the tiffen 58mm uv prote...</td>\n",
              "    </tr>\n",
              "    <tr>\n",
              "      <th>15996</th>\n",
              "      <td>B00004ZCJE</td>\n",
              "      <td>I ordered 2 Tiffen 52 mm UV filters for the 2 ...</td>\n",
              "      <td>4</td>\n",
              "      <td>True</td>\n",
              "      <td>order tiffen 52 mm uv filter for the lens that...</td>\n",
              "    </tr>\n",
              "    <tr>\n",
              "      <th>15997</th>\n",
              "      <td>B00004ZCJE</td>\n",
              "      <td>It protects the lens. But I still have glare f...</td>\n",
              "      <td>4</td>\n",
              "      <td>True</td>\n",
              "      <td>it protect the len but still have glare from l...</td>\n",
              "    </tr>\n",
              "    <tr>\n",
              "      <th>15998</th>\n",
              "      <td>B00004ZCJE</td>\n",
              "      <td>buena calidad, resistente, producto bien hecho...</td>\n",
              "      <td>5</td>\n",
              "      <td>True</td>\n",
              "      <td>buena calidad resistent producto bien hecho la...</td>\n",
              "    </tr>\n",
              "    <tr>\n",
              "      <th>15999</th>\n",
              "      <td>B00004ZCJE</td>\n",
              "      <td>I bought this for my Nikon 80~400 tele-zoom.I ...</td>\n",
              "      <td>3</td>\n",
              "      <td>False</td>\n",
              "      <td>bought thi for my nikon 80 400 tele zoom disap...</td>\n",
              "    </tr>\n",
              "  </tbody>\n",
              "</table>\n",
              "<p>16000 rows × 5 columns</p>\n",
              "</div>"
            ],
            "text/plain": [
              "             asin  ...                                              words\n",
              "0      0528881469  ...  we got thi gp for my husband who is an otr ove...\n",
              "1      0528881469  ...  profession otr truck driver and bought tnd 700...\n",
              "2      0528881469  ...  well what can say ve had thi unit in my truck ...\n",
              "3      0528881469  ...  not go to write long review even thought thi u...\n",
              "4      0528881469  ...  ve had mine for year and here what we got it t...\n",
              "...           ...  ...                                                ...\n",
              "15995  B00004ZCJE  ...  could not ask more of the tiffen 58mm uv prote...\n",
              "15996  B00004ZCJE  ...  order tiffen 52 mm uv filter for the lens that...\n",
              "15997  B00004ZCJE  ...  it protect the len but still have glare from l...\n",
              "15998  B00004ZCJE  ...  buena calidad resistent producto bien hecho la...\n",
              "15999  B00004ZCJE  ...  bought thi for my nikon 80 400 tele zoom disap...\n",
              "\n",
              "[16000 rows x 5 columns]"
            ]
          },
          "metadata": {
            "tags": []
          },
          "execution_count": 57
        }
      ]
    },
    {
      "cell_type": "markdown",
      "metadata": {
        "id": "oMHaxOqbT14X"
      },
      "source": [
        "# Обучим модели и посмотрим их точность"
      ]
    },
    {
      "cell_type": "markdown",
      "metadata": {
        "id": "1KRU-MlYT14o"
      },
      "source": [
        "## Обработанные с оптимальными параметрами"
      ]
    },
    {
      "cell_type": "code",
      "metadata": {
        "colab": {
          "base_uri": "https://localhost:8080/"
        },
        "id": "0ikfTfLLT14p",
        "outputId": "bd9d43f0-3a3e-464b-c1b4-be11563e0bbb"
      },
      "source": [
        "param_grid = {\n",
        "    'C': np.arange(0.1, 3, 0.1),\n",
        "    'penalty': ['l1', 'l2'],\n",
        "    'class_weight': ['balanced', None, {0:4, 1:1}, {0:1, 1:1}]\n",
        "}\n",
        "search = GridSearchCV(clf, param_grid, cv=5)\n",
        "search.fit(count_train_mtrx, train_ans)\n",
        "print(search.best_params_)"
      ],
      "execution_count": 58,
      "outputs": [
        {
          "output_type": "stream",
          "text": [
            "{'C': 0.2, 'class_weight': None, 'penalty': 'l2'}\n"
          ],
          "name": "stdout"
        }
      ]
    },
    {
      "cell_type": "code",
      "metadata": {
        "colab": {
          "base_uri": "https://localhost:8080/"
        },
        "id": "prdP9LAsT14s",
        "outputId": "41677772-fd9a-43cc-9960-96f1a51528f7"
      },
      "source": [
        "accuracy_score(test_ans, search.best_estimator_.predict(count_test_mtrx))"
      ],
      "execution_count": 59,
      "outputs": [
        {
          "output_type": "execute_result",
          "data": {
            "text/plain": [
              "0.8558823529411764"
            ]
          },
          "metadata": {
            "tags": []
          },
          "execution_count": 59
        }
      ]
    },
    {
      "cell_type": "code",
      "metadata": {
        "colab": {
          "base_uri": "https://localhost:8080/"
        },
        "id": "OcW5uCN5T14x",
        "outputId": "f8156901-4c23-47ff-931f-359dfac504d6"
      },
      "source": [
        "param_grid = {\n",
        "    'C': np.arange(0.1, 3, 0.1),\n",
        "    'penalty': ['l1', 'l2'],\n",
        "    'class_weight': ['balanced', None, {0:4, 1:1}, {0:1, 1:1}]\n",
        "}\n",
        "search = GridSearchCV(clf, param_grid, cv=5)\n",
        "search.fit(tfidf_train_mtrx,  train_ans)\n",
        "print(search.best_params_)"
      ],
      "execution_count": 60,
      "outputs": [
        {
          "output_type": "stream",
          "text": [
            "{'C': 2.5000000000000004, 'class_weight': None, 'penalty': 'l1'}\n"
          ],
          "name": "stdout"
        }
      ]
    },
    {
      "cell_type": "code",
      "metadata": {
        "colab": {
          "base_uri": "https://localhost:8080/"
        },
        "id": "glaCIf6fT142",
        "outputId": "450814c1-1250-4dda-848c-ac7b4cb41e4a"
      },
      "source": [
        "accuracy_score(test_ans, search.best_estimator_.predict(tfidf_test_mtrx))"
      ],
      "execution_count": 61,
      "outputs": [
        {
          "output_type": "execute_result",
          "data": {
            "text/plain": [
              "0.8636029411764706"
            ]
          },
          "metadata": {
            "tags": []
          },
          "execution_count": 61
        }
      ]
    },
    {
      "cell_type": "markdown",
      "metadata": {
        "id": "u0RjLjipT146"
      },
      "source": [
        "## Дефолтные с оптимальными параметрами"
      ]
    },
    {
      "cell_type": "code",
      "metadata": {
        "id": "Arw1VIsGT146",
        "colab": {
          "base_uri": "https://localhost:8080/"
        },
        "outputId": "1e3bae81-b6cd-4538-9b79-ad759e15a183"
      },
      "source": [
        "param_grid = {\n",
        "    'C': np.arange(0.1, 3, 0.1),\n",
        "    'penalty': ['l1', 'l2'],\n",
        "    'class_weight': ['balanced', None, {0:4, 1:1}, {0:1, 1:1}]\n",
        "}\n",
        "search = GridSearchCV(clf, param_grid, cv=5)\n",
        "search.fit(count_train_mtrx_dft, train_ans)\n",
        "print(search.best_params_)"
      ],
      "execution_count": 62,
      "outputs": [
        {
          "output_type": "stream",
          "text": [
            "{'C': 0.2, 'class_weight': None, 'penalty': 'l2'}\n"
          ],
          "name": "stdout"
        }
      ]
    },
    {
      "cell_type": "code",
      "metadata": {
        "id": "xc94WCv5T14-",
        "colab": {
          "base_uri": "https://localhost:8080/"
        },
        "outputId": "4fb65dfe-bd07-49f4-fce0-cda9d7ba9f55"
      },
      "source": [
        "print(accuracy_score(test_ans, search.best_estimator_.predict(count_test_mtrx_dft)))\n",
        "print(classification_report(test_ans, search.best_estimator_.predict(count_test_mtrx_dft)))"
      ],
      "execution_count": 63,
      "outputs": [
        {
          "output_type": "stream",
          "text": [
            "0.8716911764705882\n",
            "              precision    recall  f1-score   support\n",
            "\n",
            "       False       0.73      0.47      0.57       494\n",
            "        True       0.89      0.96      0.92      2226\n",
            "\n",
            "    accuracy                           0.87      2720\n",
            "   macro avg       0.81      0.71      0.75      2720\n",
            "weighted avg       0.86      0.87      0.86      2720\n",
            "\n"
          ],
          "name": "stdout"
        }
      ]
    },
    {
      "cell_type": "code",
      "metadata": {
        "id": "kKFl6p8fT15B",
        "colab": {
          "base_uri": "https://localhost:8080/"
        },
        "outputId": "e690fe8c-a3eb-4a6e-ac4f-99329cef0b13"
      },
      "source": [
        "param_grid = {\n",
        "    'C': np.arange(0.1, 3, 0.1),\n",
        "    'penalty': ['l1', 'l2'],\n",
        "    'class_weight': ['balanced', None, {0:4, 1:1}, {0:1, 1:1}]\n",
        "}\n",
        "search = GridSearchCV(clf, param_grid, cv=5)\n",
        "search.fit(tfidf_train_mtrx_dft, train_ans)\n",
        "print(search.best_params_)"
      ],
      "execution_count": 64,
      "outputs": [
        {
          "output_type": "stream",
          "text": [
            "{'C': 2.9000000000000004, 'class_weight': None, 'penalty': 'l1'}\n"
          ],
          "name": "stdout"
        }
      ]
    },
    {
      "cell_type": "code",
      "metadata": {
        "id": "5qx3bIRwT15G",
        "colab": {
          "base_uri": "https://localhost:8080/"
        },
        "outputId": "bf92d937-3ea2-4618-c6aa-b7e2f0ac9fa5"
      },
      "source": [
        "print(accuracy_score(test_ans, search.best_estimator_.predict(tfidf_test_mtrx_dft)))\n",
        "print(classification_report(test_ans, search.best_estimator_.predict(tfidf_test_mtrx_dft)))\n"
      ],
      "execution_count": 65,
      "outputs": [
        {
          "output_type": "stream",
          "text": [
            "0.8738970588235294\n",
            "              precision    recall  f1-score   support\n",
            "\n",
            "       False       0.74      0.47      0.58       494\n",
            "        True       0.89      0.96      0.93      2226\n",
            "\n",
            "    accuracy                           0.87      2720\n",
            "   macro avg       0.82      0.72      0.75      2720\n",
            "weighted avg       0.86      0.87      0.86      2720\n",
            "\n"
          ],
          "name": "stdout"
        }
      ]
    },
    {
      "cell_type": "markdown",
      "metadata": {
        "id": "xOGPLPjA18ZE"
      },
      "source": [
        "# Лучший результат у tfidf на необработанных данных"
      ]
    },
    {
      "cell_type": "code",
      "metadata": {
        "colab": {
          "base_uri": "https://localhost:8080/"
        },
        "id": "SKUwa1jw2CyR",
        "outputId": "33b9f83c-cd13-4766-cc62-7eb8a28ccec2"
      },
      "source": [
        "clf = LogisticRegression(solver='liblinear', class_weight = {0:4, 1:1}, C=2.6, penalty='l2')\n",
        "clf.fit(tfidf_train_mtrx_dft, train_ans)\n",
        "pred = clf.predict(tfidf_vect.transform(privat_dat.apply(lambda x: np.str_(x))))\n",
        "print(accuracy_score(pred, privat_ans))\n",
        "print(classification_report(pred, privat_ans))"
      ],
      "execution_count": 66,
      "outputs": [
        {
          "output_type": "stream",
          "text": [
            "0.8670833333333333\n",
            "              precision    recall  f1-score   support\n",
            "\n",
            "       False       0.64      0.63      0.63       435\n",
            "        True       0.92      0.92      0.92      1965\n",
            "\n",
            "    accuracy                           0.87      2400\n",
            "   macro avg       0.78      0.77      0.77      2400\n",
            "weighted avg       0.87      0.87      0.87      2400\n",
            "\n"
          ],
          "name": "stdout"
        }
      ]
    },
    {
      "cell_type": "markdown",
      "metadata": {
        "id": "prgxtCZhT15J"
      },
      "source": [
        "## Проверим баланс классов"
      ]
    },
    {
      "cell_type": "code",
      "metadata": {
        "colab": {
          "base_uri": "https://localhost:8080/"
        },
        "id": "mss1yJyDT15K",
        "outputId": "6a6b3186-9bd9-4139-f884-73443b921957"
      },
      "source": [
        "print(\"All :\\n1 - \", sum(dat.bin), \"\\n0 - \", len(dat.bin) - sum(dat.bin), \"\\n\", round(100*sum(dat.bin)/len(dat.bin), 2)) \n",
        "print(\"\\nTrain :\\n1 - \", sum(train_ans), \"\\n0 - \", len(train_ans) - sum(train_ans), \"\\n\", round(100*sum(train_ans)/len(train_ans), 2)) \n",
        "print(\"\\nTest :\\n1 - \", sum(test_ans), \"\\n0 - \", len(test_ans) - sum(test_ans), \"\\n\", round(100*sum(test_ans)/len(test_ans), 2) )\n",
        "print(\"\\nPrivat_ans :\\n1 - \", sum(privat_ans), \"\\n0 - \", len(privat_ans) - sum(privat_ans), \"\\n\", round(100*sum(privat_ans)/len(privat_ans), 2) ) "
      ],
      "execution_count": 67,
      "outputs": [
        {
          "output_type": "stream",
          "text": [
            "All :\n",
            "1 -  13194 \n",
            "0 -  2806 \n",
            " 82.46\n",
            "\n",
            "Train :\n",
            "1 -  8996 \n",
            "0 -  1884 \n",
            " 82.68\n",
            "\n",
            "Test :\n",
            "1 -  2226 \n",
            "0 -  494 \n",
            " 81.84\n",
            "\n",
            "Privat_ans :\n",
            "1 -  1972 \n",
            "0 -  428 \n",
            " 82.17\n"
          ],
          "name": "stdout"
        }
      ]
    },
    {
      "cell_type": "markdown",
      "metadata": {
        "id": "kQkm2OVIT15O"
      },
      "source": [
        "# Возьмем новый набор данных"
      ]
    },
    {
      "cell_type": "code",
      "metadata": {
        "id": "8bZ4gOE8T15P"
      },
      "source": [
        "dat2 = pd.read_json(\"Tools_and_Home_Improvement_5.json\", lines = True)[[\"reviewText\", \"overall\"]]"
      ],
      "execution_count": 68,
      "outputs": []
    },
    {
      "cell_type": "code",
      "metadata": {
        "id": "pwMrNIGiT15T"
      },
      "source": [
        "dat2[\"bin\"] = dat2.overall > 3"
      ],
      "execution_count": 69,
      "outputs": []
    },
    {
      "cell_type": "markdown",
      "metadata": {
        "id": "AMgetfbUT15V"
      },
      "source": [
        "## Истинное значение"
      ]
    },
    {
      "cell_type": "code",
      "metadata": {
        "colab": {
          "base_uri": "https://localhost:8080/"
        },
        "id": "V6B_P7ByT15X",
        "outputId": "e02c154a-030c-4968-abd8-a3afbee229b1"
      },
      "source": [
        "rat = (len(dat2.bin)-sum(dat2.bin)) / sum(dat2.bin)\n",
        "print(\"Соотношение false/true:\",len(dat2.bin)-sum(dat2.bin), \" / \", sum(dat2.bin))\n",
        "print(accuracy_score(dat2.bin, search.best_estimator_.predict(tfidf_vect.transform(dat2.reviewText))))\n",
        "print(classification_report(dat2.bin, search.best_estimator_.predict(tfidf_vect.transform(dat2.reviewText))))"
      ],
      "execution_count": 70,
      "outputs": [
        {
          "output_type": "stream",
          "text": [
            "Соотношение false/true: 20874  /  113602\n",
            "0.8715161069633243\n",
            "              precision    recall  f1-score   support\n",
            "\n",
            "       False       0.63      0.43      0.51     20874\n",
            "        True       0.90      0.95      0.93    113602\n",
            "\n",
            "    accuracy                           0.87    134476\n",
            "   macro avg       0.76      0.69      0.72    134476\n",
            "weighted avg       0.86      0.87      0.86    134476\n",
            "\n"
          ],
          "name": "stdout"
        }
      ]
    },
    {
      "cell_type": "markdown",
      "metadata": {
        "id": "QaZts_am_Xlp"
      },
      "source": [
        "## Случайный выбор"
      ]
    },
    {
      "cell_type": "code",
      "metadata": {
        "colab": {
          "base_uri": "https://localhost:8080/"
        },
        "id": "FoyAAEQo_jdP",
        "outputId": "c24f31ee-cc1b-4a1e-ddf5-a5fadd631549"
      },
      "source": [
        "df_rand_ch = dat2.sample(4000)\n",
        "print(\"Соотношение false/true:\",len(df_rand_ch.bin)-sum(df_rand_ch.bin), \" / \", sum(df_rand_ch.bin))\n",
        "print(accuracy_score(df_rand_ch.bin, search.best_estimator_.predict(tfidf_vect.transform(df_rand_ch.reviewText))))\n",
        "print(classification_report(df_rand_ch.bin, search.best_estimator_.predict(tfidf_vect.transform(df_rand_ch.reviewText))))"
      ],
      "execution_count": 71,
      "outputs": [
        {
          "output_type": "stream",
          "text": [
            "Соотношение false/true: 630  /  3370\n",
            "0.87025\n",
            "              precision    recall  f1-score   support\n",
            "\n",
            "       False       0.63      0.42      0.50       630\n",
            "        True       0.90      0.96      0.93      3370\n",
            "\n",
            "    accuracy                           0.87      4000\n",
            "   macro avg       0.77      0.69      0.71      4000\n",
            "weighted avg       0.86      0.87      0.86      4000\n",
            "\n"
          ],
          "name": "stdout"
        }
      ]
    },
    {
      "cell_type": "markdown",
      "metadata": {
        "id": "JjldfO9D_GTt"
      },
      "source": [
        "## Случайный равномерный выбор"
      ]
    },
    {
      "cell_type": "code",
      "metadata": {
        "colab": {
          "base_uri": "https://localhost:8080/"
        },
        "id": "q6B4LaEwT15b",
        "outputId": "4005b29f-6edf-4d77-a0f4-6b444b984b73"
      },
      "source": [
        "dat2[\"Choice\"] = 0\n",
        "for i in range(len(dat2.bin)):\n",
        "    dat2['Choice'][i] = (np.random.randint(round(10 / rat)) if dat2.bin[i] else np.random.randint(round(10)))"
      ],
      "execution_count": 72,
      "outputs": [
        {
          "output_type": "stream",
          "text": [
            "/usr/local/lib/python3.7/dist-packages/ipykernel_launcher.py:3: SettingWithCopyWarning: \n",
            "A value is trying to be set on a copy of a slice from a DataFrame\n",
            "\n",
            "See the caveats in the documentation: https://pandas.pydata.org/pandas-docs/stable/user_guide/indexing.html#returning-a-view-versus-a-copy\n",
            "  This is separate from the ipykernel package so we can avoid doing imports until\n"
          ],
          "name": "stderr"
        }
      ]
    },
    {
      "cell_type": "code",
      "metadata": {
        "colab": {
          "base_uri": "https://localhost:8080/",
          "height": 419
        },
        "id": "qUdwjKTLT15e",
        "outputId": "5a137a51-6b84-44eb-9e84-a06c0901740d"
      },
      "source": [
        "new_test_dat = dat2.loc[dat2.Choice == 0][[\"reviewText\", \"overall\", \"bin\", \"Choice\"]]\n",
        "new_test_dat"
      ],
      "execution_count": 73,
      "outputs": [
        {
          "output_type": "execute_result",
          "data": {
            "text/html": [
              "<div>\n",
              "<style scoped>\n",
              "    .dataframe tbody tr th:only-of-type {\n",
              "        vertical-align: middle;\n",
              "    }\n",
              "\n",
              "    .dataframe tbody tr th {\n",
              "        vertical-align: top;\n",
              "    }\n",
              "\n",
              "    .dataframe thead th {\n",
              "        text-align: right;\n",
              "    }\n",
              "</style>\n",
              "<table border=\"1\" class=\"dataframe\">\n",
              "  <thead>\n",
              "    <tr style=\"text-align: right;\">\n",
              "      <th></th>\n",
              "      <th>reviewText</th>\n",
              "      <th>overall</th>\n",
              "      <th>bin</th>\n",
              "      <th>Choice</th>\n",
              "    </tr>\n",
              "  </thead>\n",
              "  <tbody>\n",
              "    <tr>\n",
              "      <th>45</th>\n",
              "      <td>These are replacements for the kitchen underca...</td>\n",
              "      <td>5</td>\n",
              "      <td>True</td>\n",
              "      <td>0</td>\n",
              "    </tr>\n",
              "    <tr>\n",
              "      <th>104</th>\n",
              "      <td>Everyone loves this saw, or so it seems from t...</td>\n",
              "      <td>4</td>\n",
              "      <td>True</td>\n",
              "      <td>0</td>\n",
              "    </tr>\n",
              "    <tr>\n",
              "      <th>111</th>\n",
              "      <td>I bought this router shortly after it was intr...</td>\n",
              "      <td>1</td>\n",
              "      <td>False</td>\n",
              "      <td>0</td>\n",
              "    </tr>\n",
              "    <tr>\n",
              "      <th>123</th>\n",
              "      <td>I prefer brass. The Porter Cable guides are fi...</td>\n",
              "      <td>2</td>\n",
              "      <td>False</td>\n",
              "      <td>0</td>\n",
              "    </tr>\n",
              "    <tr>\n",
              "      <th>132</th>\n",
              "      <td>This is a great collet, but I am giving it thr...</td>\n",
              "      <td>3</td>\n",
              "      <td>False</td>\n",
              "      <td>0</td>\n",
              "    </tr>\n",
              "    <tr>\n",
              "      <th>...</th>\n",
              "      <td>...</td>\n",
              "      <td>...</td>\n",
              "      <td>...</td>\n",
              "      <td>...</td>\n",
              "    </tr>\n",
              "    <tr>\n",
              "      <th>134367</th>\n",
              "      <td>These LEDs look just like any other incandesce...</td>\n",
              "      <td>3</td>\n",
              "      <td>False</td>\n",
              "      <td>0</td>\n",
              "    </tr>\n",
              "    <tr>\n",
              "      <th>134411</th>\n",
              "      <td>First words out of my mouth when I opened the ...</td>\n",
              "      <td>5</td>\n",
              "      <td>True</td>\n",
              "      <td>0</td>\n",
              "    </tr>\n",
              "    <tr>\n",
              "      <th>134444</th>\n",
              "      <td>I'm loving this but the handles are a little t...</td>\n",
              "      <td>4</td>\n",
              "      <td>True</td>\n",
              "      <td>0</td>\n",
              "    </tr>\n",
              "    <tr>\n",
              "      <th>134459</th>\n",
              "      <td>I really like this, I recommend it</td>\n",
              "      <td>5</td>\n",
              "      <td>True</td>\n",
              "      <td>0</td>\n",
              "    </tr>\n",
              "    <tr>\n",
              "      <th>134462</th>\n",
              "      <td>The blades are nice and sharp and snip off the...</td>\n",
              "      <td>4</td>\n",
              "      <td>True</td>\n",
              "      <td>0</td>\n",
              "    </tr>\n",
              "  </tbody>\n",
              "</table>\n",
              "<p>4248 rows × 4 columns</p>\n",
              "</div>"
            ],
            "text/plain": [
              "                                               reviewText  ...  Choice\n",
              "45      These are replacements for the kitchen underca...  ...       0\n",
              "104     Everyone loves this saw, or so it seems from t...  ...       0\n",
              "111     I bought this router shortly after it was intr...  ...       0\n",
              "123     I prefer brass. The Porter Cable guides are fi...  ...       0\n",
              "132     This is a great collet, but I am giving it thr...  ...       0\n",
              "...                                                   ...  ...     ...\n",
              "134367  These LEDs look just like any other incandesce...  ...       0\n",
              "134411  First words out of my mouth when I opened the ...  ...       0\n",
              "134444  I'm loving this but the handles are a little t...  ...       0\n",
              "134459                 I really like this, I recommend it  ...       0\n",
              "134462  The blades are nice and sharp and snip off the...  ...       0\n",
              "\n",
              "[4248 rows x 4 columns]"
            ]
          },
          "metadata": {
            "tags": []
          },
          "execution_count": 73
        }
      ]
    },
    {
      "cell_type": "code",
      "metadata": {
        "colab": {
          "base_uri": "https://localhost:8080/"
        },
        "id": "y4m7OhKYT15h",
        "outputId": "30ca48e1-8545-45ab-94e6-63a1f03a0831"
      },
      "source": [
        "print(\"Соотношение false/true:\",len(new_test_dat.bin)-sum(new_test_dat.bin), \" / \", sum(new_test_dat.bin))\n",
        "print(\"Всего \" , (len(new_test_dat.bin)))\n",
        "print(accuracy_score(new_test_dat.bin, search.best_estimator_.predict(tfidf_vect.transform(new_test_dat.reviewText))))\n",
        "print(classification_report(new_test_dat.bin, search.best_estimator_.predict(tfidf_vect.transform(new_test_dat.reviewText))))"
      ],
      "execution_count": 74,
      "outputs": [
        {
          "output_type": "stream",
          "text": [
            "Соотношение false/true: 2098  /  2150\n",
            "Всего  4248\n",
            "0.698210922787194\n",
            "              precision    recall  f1-score   support\n",
            "\n",
            "       False       0.91      0.43      0.59      2098\n",
            "        True       0.63      0.96      0.76      2150\n",
            "\n",
            "    accuracy                           0.70      4248\n",
            "   macro avg       0.77      0.70      0.67      4248\n",
            "weighted avg       0.77      0.70      0.68      4248\n",
            "\n"
          ],
          "name": "stdout"
        }
      ]
    },
    {
      "cell_type": "markdown",
      "metadata": {
        "id": "GINOkkwCAd5N"
      },
      "source": [
        "## Случайный выбор с сохраненем баланса классов"
      ]
    },
    {
      "cell_type": "code",
      "metadata": {
        "colab": {
          "base_uri": "https://localhost:8080/"
        },
        "id": "Q-oZv9KXAvCN",
        "outputId": "bd0edae5-ebe4-4481-c269-36f237c45da6"
      },
      "source": [
        "df_rc_2 = pd.concat([dat2.loc[dat2['bin']].sample(round(4000*(1/(rat+1)))), dat2.loc[dat2['bin'] != True].sample(round(4000*rat/(rat+1)))], ignore_index=True)\n",
        "print(\"Соотношение false/true:\",len(df_rc_2.bin)-sum(df_rc_2.bin), \" / \", sum(df_rc_2.bin))\n",
        "print(accuracy_score(df_rc_2.bin, search.best_estimator_.predict(tfidf_vect.transform(df_rc_2.reviewText))))\n",
        "print(classification_report(df_rc_2.bin, search.best_estimator_.predict(tfidf_vect.transform(df_rc_2.reviewText))))"
      ],
      "execution_count": 75,
      "outputs": [
        {
          "output_type": "stream",
          "text": [
            "Соотношение false/true: 621  /  3379\n",
            "0.87025\n",
            "              precision    recall  f1-score   support\n",
            "\n",
            "       False       0.62      0.43      0.51       621\n",
            "        True       0.90      0.95      0.93      3379\n",
            "\n",
            "    accuracy                           0.87      4000\n",
            "   macro avg       0.76      0.69      0.72      4000\n",
            "weighted avg       0.86      0.87      0.86      4000\n",
            "\n"
          ],
          "name": "stdout"
        }
      ]
    },
    {
      "cell_type": "markdown",
      "metadata": {
        "id": "j0Ck6EBLT15q"
      },
      "source": [
        "## По уверености классификатора"
      ]
    },
    {
      "cell_type": "code",
      "metadata": {
        "id": "_HqKIPWhT15r"
      },
      "source": [
        "prob = search.best_estimator_.predict_proba(tfidf_vect.transform(dat2.reviewText))\n",
        "prob = [x[0] for x in prob]"
      ],
      "execution_count": 76,
      "outputs": []
    },
    {
      "cell_type": "code",
      "metadata": {
        "id": "p-NPa_GiT15u"
      },
      "source": [
        "dat2[\"chance\"] = prob"
      ],
      "execution_count": 77,
      "outputs": []
    },
    {
      "cell_type": "markdown",
      "metadata": {
        "id": "q7TQ2aqvT15x"
      },
      "source": [
        "### Уверенность, что оценка <= 3"
      ]
    },
    {
      "cell_type": "code",
      "metadata": {
        "id": "s5sSJDrbT15z"
      },
      "source": [
        "dat2 = dat2.sort_values(by = \"chance\")"
      ],
      "execution_count": 78,
      "outputs": []
    },
    {
      "cell_type": "code",
      "metadata": {
        "colab": {
          "base_uri": "https://localhost:8080/",
          "height": 419
        },
        "id": "I3N3jBIUT152",
        "outputId": "1a8bdb43-1f80-4a09-98ba-fb8ce9b349d6"
      },
      "source": [
        "dat2"
      ],
      "execution_count": 79,
      "outputs": [
        {
          "output_type": "execute_result",
          "data": {
            "text/html": [
              "<div>\n",
              "<style scoped>\n",
              "    .dataframe tbody tr th:only-of-type {\n",
              "        vertical-align: middle;\n",
              "    }\n",
              "\n",
              "    .dataframe tbody tr th {\n",
              "        vertical-align: top;\n",
              "    }\n",
              "\n",
              "    .dataframe thead th {\n",
              "        text-align: right;\n",
              "    }\n",
              "</style>\n",
              "<table border=\"1\" class=\"dataframe\">\n",
              "  <thead>\n",
              "    <tr style=\"text-align: right;\">\n",
              "      <th></th>\n",
              "      <th>reviewText</th>\n",
              "      <th>overall</th>\n",
              "      <th>bin</th>\n",
              "      <th>Choice</th>\n",
              "      <th>chance</th>\n",
              "    </tr>\n",
              "  </thead>\n",
              "  <tbody>\n",
              "    <tr>\n",
              "      <th>8726</th>\n",
              "      <td>perfect</td>\n",
              "      <td>5</td>\n",
              "      <td>True</td>\n",
              "      <td>20</td>\n",
              "      <td>6.189399e-09</td>\n",
              "    </tr>\n",
              "    <tr>\n",
              "      <th>27435</th>\n",
              "      <td>GREAT.. ........... .......... ............ .....</td>\n",
              "      <td>5</td>\n",
              "      <td>True</td>\n",
              "      <td>42</td>\n",
              "      <td>3.672248e-08</td>\n",
              "    </tr>\n",
              "    <tr>\n",
              "      <th>43376</th>\n",
              "      <td>Great thermostat</td>\n",
              "      <td>4</td>\n",
              "      <td>True</td>\n",
              "      <td>38</td>\n",
              "      <td>3.672248e-08</td>\n",
              "    </tr>\n",
              "    <tr>\n",
              "      <th>52596</th>\n",
              "      <td>great sharpener</td>\n",
              "      <td>5</td>\n",
              "      <td>True</td>\n",
              "      <td>14</td>\n",
              "      <td>3.672248e-08</td>\n",
              "    </tr>\n",
              "    <tr>\n",
              "      <th>50418</th>\n",
              "      <td>GREAT</td>\n",
              "      <td>5</td>\n",
              "      <td>True</td>\n",
              "      <td>27</td>\n",
              "      <td>3.672248e-08</td>\n",
              "    </tr>\n",
              "    <tr>\n",
              "      <th>...</th>\n",
              "      <td>...</td>\n",
              "      <td>...</td>\n",
              "      <td>...</td>\n",
              "      <td>...</td>\n",
              "      <td>...</td>\n",
              "    </tr>\n",
              "    <tr>\n",
              "      <th>18782</th>\n",
              "      <td>I unfortunately waited until the return period...</td>\n",
              "      <td>1</td>\n",
              "      <td>False</td>\n",
              "      <td>6</td>\n",
              "      <td>9.999336e-01</td>\n",
              "    </tr>\n",
              "    <tr>\n",
              "      <th>68774</th>\n",
              "      <td>poorly made. did not work more that 9 days. el...</td>\n",
              "      <td>1</td>\n",
              "      <td>False</td>\n",
              "      <td>5</td>\n",
              "      <td>9.999508e-01</td>\n",
              "    </tr>\n",
              "    <tr>\n",
              "      <th>28396</th>\n",
              "      <td>returned</td>\n",
              "      <td>1</td>\n",
              "      <td>False</td>\n",
              "      <td>4</td>\n",
              "      <td>9.999794e-01</td>\n",
              "    </tr>\n",
              "    <tr>\n",
              "      <th>31175</th>\n",
              "      <td>This seemed OK when I first got it. But it sto...</td>\n",
              "      <td>1</td>\n",
              "      <td>False</td>\n",
              "      <td>9</td>\n",
              "      <td>9.999931e-01</td>\n",
              "    </tr>\n",
              "    <tr>\n",
              "      <th>11975</th>\n",
              "      <td>useless</td>\n",
              "      <td>1</td>\n",
              "      <td>False</td>\n",
              "      <td>0</td>\n",
              "      <td>9.999960e-01</td>\n",
              "    </tr>\n",
              "  </tbody>\n",
              "</table>\n",
              "<p>134476 rows × 5 columns</p>\n",
              "</div>"
            ],
            "text/plain": [
              "                                              reviewText  ...        chance\n",
              "8726                                             perfect  ...  6.189399e-09\n",
              "27435  GREAT.. ........... .......... ............ .....  ...  3.672248e-08\n",
              "43376                                   Great thermostat  ...  3.672248e-08\n",
              "52596                                    great sharpener  ...  3.672248e-08\n",
              "50418                                              GREAT  ...  3.672248e-08\n",
              "...                                                  ...  ...           ...\n",
              "18782  I unfortunately waited until the return period...  ...  9.999336e-01\n",
              "68774  poorly made. did not work more that 9 days. el...  ...  9.999508e-01\n",
              "28396                                           returned  ...  9.999794e-01\n",
              "31175  This seemed OK when I first got it. But it sto...  ...  9.999931e-01\n",
              "11975                                            useless  ...  9.999960e-01\n",
              "\n",
              "[134476 rows x 5 columns]"
            ]
          },
          "metadata": {
            "tags": []
          },
          "execution_count": 79
        }
      ]
    },
    {
      "cell_type": "code",
      "metadata": {
        "colab": {
          "base_uri": "https://localhost:8080/"
        },
        "id": "KKRNIJACT156",
        "outputId": "9b24c8be-9894-4eb6-a1eb-4b29c8b0d0c8"
      },
      "source": [
        "for i in range(len(dat2.Choice)):\n",
        "    dat2.Choice[i] = (i % 32 == 0)"
      ],
      "execution_count": 80,
      "outputs": [
        {
          "output_type": "stream",
          "text": [
            "/usr/local/lib/python3.7/dist-packages/ipykernel_launcher.py:2: SettingWithCopyWarning: \n",
            "A value is trying to be set on a copy of a slice from a DataFrame\n",
            "\n",
            "See the caveats in the documentation: https://pandas.pydata.org/pandas-docs/stable/user_guide/indexing.html#returning-a-view-versus-a-copy\n",
            "  \n",
            "/usr/local/lib/python3.7/dist-packages/pandas/core/indexing.py:670: SettingWithCopyWarning: \n",
            "A value is trying to be set on a copy of a slice from a DataFrame\n",
            "\n",
            "See the caveats in the documentation: https://pandas.pydata.org/pandas-docs/stable/user_guide/indexing.html#returning-a-view-versus-a-copy\n",
            "  iloc._setitem_with_indexer(indexer, value)\n"
          ],
          "name": "stderr"
        }
      ]
    },
    {
      "cell_type": "code",
      "metadata": {
        "colab": {
          "base_uri": "https://localhost:8080/",
          "height": 419
        },
        "id": "EXGBe1jQT158",
        "outputId": "7c61d6e5-b7b8-43b9-99c5-d6c60bcd6d89"
      },
      "source": [
        "new_test_dat_2 = dat2.loc[dat2.Choice]\n",
        "new_test_dat_2"
      ],
      "execution_count": 81,
      "outputs": [
        {
          "output_type": "execute_result",
          "data": {
            "text/html": [
              "<div>\n",
              "<style scoped>\n",
              "    .dataframe tbody tr th:only-of-type {\n",
              "        vertical-align: middle;\n",
              "    }\n",
              "\n",
              "    .dataframe tbody tr th {\n",
              "        vertical-align: top;\n",
              "    }\n",
              "\n",
              "    .dataframe thead th {\n",
              "        text-align: right;\n",
              "    }\n",
              "</style>\n",
              "<table border=\"1\" class=\"dataframe\">\n",
              "  <thead>\n",
              "    <tr style=\"text-align: right;\">\n",
              "      <th></th>\n",
              "      <th>reviewText</th>\n",
              "      <th>overall</th>\n",
              "      <th>bin</th>\n",
              "      <th>Choice</th>\n",
              "      <th>chance</th>\n",
              "    </tr>\n",
              "  </thead>\n",
              "  <tbody>\n",
              "    <tr>\n",
              "      <th>91488</th>\n",
              "      <td>Let me make this simple:Pros:1. Excellent ligh...</td>\n",
              "      <td>4</td>\n",
              "      <td>True</td>\n",
              "      <td>True</td>\n",
              "      <td>0.000007</td>\n",
              "    </tr>\n",
              "    <tr>\n",
              "      <th>61600</th>\n",
              "      <td>Works great.</td>\n",
              "      <td>5</td>\n",
              "      <td>True</td>\n",
              "      <td>True</td>\n",
              "      <td>0.000020</td>\n",
              "    </tr>\n",
              "    <tr>\n",
              "      <th>130208</th>\n",
              "      <td>This is a great buy.  Love the color and price.</td>\n",
              "      <td>5</td>\n",
              "      <td>True</td>\n",
              "      <td>True</td>\n",
              "      <td>0.000137</td>\n",
              "    </tr>\n",
              "    <tr>\n",
              "      <th>75424</th>\n",
              "      <td>This is great glue. Very nice bottle/dispenser...</td>\n",
              "      <td>5</td>\n",
              "      <td>True</td>\n",
              "      <td>True</td>\n",
              "      <td>0.000202</td>\n",
              "    </tr>\n",
              "    <tr>\n",
              "      <th>11744</th>\n",
              "      <td>My black and decker roto zip finally decided t...</td>\n",
              "      <td>5</td>\n",
              "      <td>True</td>\n",
              "      <td>True</td>\n",
              "      <td>0.000213</td>\n",
              "    </tr>\n",
              "    <tr>\n",
              "      <th>...</th>\n",
              "      <td>...</td>\n",
              "      <td>...</td>\n",
              "      <td>...</td>\n",
              "      <td>...</td>\n",
              "      <td>...</td>\n",
              "    </tr>\n",
              "    <tr>\n",
              "      <th>53536</th>\n",
              "      <td>Maybe I used too much pressure, but the mandre...</td>\n",
              "      <td>2</td>\n",
              "      <td>False</td>\n",
              "      <td>True</td>\n",
              "      <td>0.995780</td>\n",
              "    </tr>\n",
              "    <tr>\n",
              "      <th>112992</th>\n",
              "      <td>Even in bright sunlight the bulb does not shut...</td>\n",
              "      <td>1</td>\n",
              "      <td>False</td>\n",
              "      <td>True</td>\n",
              "      <td>0.996675</td>\n",
              "    </tr>\n",
              "    <tr>\n",
              "      <th>75968</th>\n",
              "      <td>I loved the flexibility and length however, in...</td>\n",
              "      <td>2</td>\n",
              "      <td>False</td>\n",
              "      <td>True</td>\n",
              "      <td>0.998521</td>\n",
              "    </tr>\n",
              "    <tr>\n",
              "      <th>58432</th>\n",
              "      <td>Not worth of money, I had to replace 3 Ac adap...</td>\n",
              "      <td>1</td>\n",
              "      <td>False</td>\n",
              "      <td>True</td>\n",
              "      <td>0.998603</td>\n",
              "    </tr>\n",
              "    <tr>\n",
              "      <th>121536</th>\n",
              "      <td>The light is nice and bright when it decides t...</td>\n",
              "      <td>3</td>\n",
              "      <td>False</td>\n",
              "      <td>True</td>\n",
              "      <td>0.999013</td>\n",
              "    </tr>\n",
              "  </tbody>\n",
              "</table>\n",
              "<p>4203 rows × 5 columns</p>\n",
              "</div>"
            ],
            "text/plain": [
              "                                               reviewText  ...    chance\n",
              "91488   Let me make this simple:Pros:1. Excellent ligh...  ...  0.000007\n",
              "61600                                        Works great.  ...  0.000020\n",
              "130208    This is a great buy.  Love the color and price.  ...  0.000137\n",
              "75424   This is great glue. Very nice bottle/dispenser...  ...  0.000202\n",
              "11744   My black and decker roto zip finally decided t...  ...  0.000213\n",
              "...                                                   ...  ...       ...\n",
              "53536   Maybe I used too much pressure, but the mandre...  ...  0.995780\n",
              "112992  Even in bright sunlight the bulb does not shut...  ...  0.996675\n",
              "75968   I loved the flexibility and length however, in...  ...  0.998521\n",
              "58432   Not worth of money, I had to replace 3 Ac adap...  ...  0.998603\n",
              "121536  The light is nice and bright when it decides t...  ...  0.999013\n",
              "\n",
              "[4203 rows x 5 columns]"
            ]
          },
          "metadata": {
            "tags": []
          },
          "execution_count": 81
        }
      ]
    },
    {
      "cell_type": "code",
      "metadata": {
        "colab": {
          "base_uri": "https://localhost:8080/"
        },
        "id": "UPpf4NelT16A",
        "outputId": "7d7e7c7c-0e59-4f36-cbca-5955d1dacd80"
      },
      "source": [
        "print(\"Соотношение false/true:\",len(new_test_dat_2.bin)-sum(new_test_dat_2.bin), \" / \", sum(new_test_dat_2.bin))\n",
        "print(\"Всего \" , (len(new_test_dat_2.bin)))"
      ],
      "execution_count": 82,
      "outputs": [
        {
          "output_type": "stream",
          "text": [
            "Соотношение false/true: 639  /  3564\n",
            "Всего  4203\n"
          ],
          "name": "stdout"
        }
      ]
    },
    {
      "cell_type": "code",
      "metadata": {
        "colab": {
          "base_uri": "https://localhost:8080/"
        },
        "id": "blEoJ8kyT16D",
        "outputId": "80ddc239-d092-443d-ade0-ed3cd348c3cf"
      },
      "source": [
        "print(accuracy_score(new_test_dat_2.bin, search.best_estimator_.predict(tfidf_vect.transform(new_test_dat_2.reviewText))))\n",
        "print(classification_report(new_test_dat_2.bin, search.best_estimator_.predict(tfidf_vect.transform(new_test_dat_2.reviewText))))"
      ],
      "execution_count": 83,
      "outputs": [
        {
          "output_type": "stream",
          "text": [
            "0.8722341184867951\n",
            "              precision    recall  f1-score   support\n",
            "\n",
            "       False       0.62      0.41      0.50       639\n",
            "        True       0.90      0.95      0.93      3564\n",
            "\n",
            "    accuracy                           0.87      4203\n",
            "   macro avg       0.76      0.68      0.71      4203\n",
            "weighted avg       0.86      0.87      0.86      4203\n",
            "\n"
          ],
          "name": "stdout"
        }
      ]
    },
    {
      "cell_type": "code",
      "metadata": {
        "id": "gPZun6tTT16G"
      },
      "source": [
        ""
      ],
      "execution_count": 83,
      "outputs": []
    }
  ]
}