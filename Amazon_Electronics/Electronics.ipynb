{
  "nbformat": 4,
  "nbformat_minor": 0,
  "metadata": {
    "colab": {
      "name": "Electronics.ipynb",
      "provenance": [],
      "collapsed_sections": [],
      "toc_visible": true
    },
    "kernelspec": {
      "display_name": "Python 3",
      "language": "python",
      "name": "python3"
    },
    "language_info": {
      "codemirror_mode": {
        "name": "ipython",
        "version": 3
      },
      "file_extension": ".py",
      "mimetype": "text/x-python",
      "name": "python",
      "nbconvert_exporter": "python",
      "pygments_lexer": "ipython3",
      "version": "3.7.6"
    }
  },
  "cells": [
    {
      "cell_type": "markdown",
      "metadata": {
        "id": "CxoFIkyXT13G"
      },
      "source": [
        "# Тестовое задание"
      ]
    },
    {
      "cell_type": "code",
      "metadata": {
        "id": "M5wAMvqLT13I"
      },
      "source": [
        "import pandas as pd\n",
        "import numpy as np\n",
        "import nltk\n",
        "import matplotlib.pyplot as plt\n",
        "from sklearn.feature_extraction.text import CountVectorizer,TfidfVectorizer\n",
        "from sklearn.linear_model import LogisticRegression\n",
        "from sklearn.model_selection import train_test_split\n",
        "from sklearn.metrics import accuracy_score\n",
        "from sklearn.metrics import classification_report\n",
        "from sklearn.model_selection import GridSearchCV\n",
        "import string"
      ],
      "execution_count": 95,
      "outputs": []
    },
    {
      "cell_type": "code",
      "metadata": {
        "id": "OqnGLn-dT13Q"
      },
      "source": [
        "count_vect = CountVectorizer(max_df = 0.9, min_df = 10, ngram_range=(1, 3))\n",
        "tfidf_vect = TfidfVectorizer(max_df = 0.9, min_df = 10, ngram_range=(1, 3))\n",
        "porter_stemmer = nltk.stem.PorterStemmer()\n",
        "tok = count_vect.build_tokenizer()\n",
        "# tok = tfidf_vect.build_tokenizer()\n",
        "# tok = nltk.tokenize.RegexpTokenizer(r'\\w+').tokenize\n",
        "clf = LogisticRegression(solver='liblinear', class_weight = {0:4, 1:1}, penalty='l2')"
      ],
      "execution_count": 96,
      "outputs": []
    },
    {
      "cell_type": "markdown",
      "metadata": {
        "id": "_On0-OnAT13T"
      },
      "source": [
        "## Cкачиваем файл с данными"
      ]
    },
    {
      "cell_type": "code",
      "metadata": {
        "id": "iCHXmYR2T13U"
      },
      "source": [
        "# !wget http://snap.stanford.edu/data/amazon/productGraph/categoryFiles/reviews_Electronics_5.json.gz\n",
        "#или\n",
        "#!wget https://drive.google.com/open?id=1DwwTyIn5zW7KTxp4bONHtKNa6DlT9PUj"
      ],
      "execution_count": 97,
      "outputs": []
    },
    {
      "cell_type": "markdown",
      "metadata": {
        "id": "PN4vwkRlT13X"
      },
      "source": [
        "## Если необходимо, преобразуем JSON к CSV"
      ]
    },
    {
      "cell_type": "code",
      "metadata": {
        "id": "iPC9DuoAT13Y"
      },
      "source": [
        "# df = pd.read_json ('Electronics_5.json', lines=True )\n",
        "# df.to_csv ('Electronics_5.csv', index = None)"
      ],
      "execution_count": 98,
      "outputs": []
    },
    {
      "cell_type": "markdown",
      "metadata": {
        "id": "XSsSwkVtT13c"
      },
      "source": [
        "# Предобработка"
      ]
    },
    {
      "cell_type": "code",
      "metadata": {
        "id": "T4fBiAuDT13c"
      },
      "source": [
        "dat = pd.read_csv(\"Electronics_5.csv\", engine= 'python', error_bad_lines=False)[[\"asin\",\"reviewText\", \"overall\"]]"
      ],
      "execution_count": 99,
      "outputs": []
    },
    {
      "cell_type": "markdown",
      "metadata": {
        "id": "_abF5fsDT13i"
      },
      "source": [
        "## Добавляем бинрную оценку"
      ]
    },
    {
      "cell_type": "code",
      "metadata": {
        "id": "BVu0ySB4T13j"
      },
      "source": [
        "dat[\"bin\"] = dat.overall > 3"
      ],
      "execution_count": 100,
      "outputs": []
    },
    {
      "cell_type": "markdown",
      "metadata": {
        "id": "6pMIblyAT13o"
      },
      "source": [
        "## Отрежем кусок даты"
      ]
    },
    {
      "cell_type": "code",
      "metadata": {
        "id": "Z-F8fy_8T13p"
      },
      "source": [
        "dat_t, dat = dat, dat[:16000]"
      ],
      "execution_count": 101,
      "outputs": []
    },
    {
      "cell_type": "code",
      "metadata": {
        "id": "XEOjagyhxWkW"
      },
      "source": [
        "train_dat, privat_dat, train_ans, privat_ans = train_test_split(\n",
        "    dat.reviewText, dat.bin, test_size=0.15)"
      ],
      "execution_count": 102,
      "outputs": []
    },
    {
      "cell_type": "code",
      "metadata": {
        "id": "EchhjCcDT13t"
      },
      "source": [
        "train_dat, test_dat, train_ans, test_ans = train_test_split(\n",
        "    train_dat, train_ans, test_size=0.2)"
      ],
      "execution_count": 103,
      "outputs": []
    },
    {
      "cell_type": "markdown",
      "metadata": {
        "id": "b1mFctcLT13z"
      },
      "source": [
        "## Натравим на необработанные данные"
      ]
    },
    {
      "cell_type": "code",
      "metadata": {
        "id": "gOaHzbaIT13z"
      },
      "source": [
        "count_vect.fit(dat.reviewText.apply(lambda x: np.str_(x)))\n",
        "tfidf_vect.fit(dat.reviewText.apply(lambda x: np.str_(x)))\n",
        "count_train_mtrx_dft = count_vect.transform(train_dat.apply(lambda x: np.str_(x)))\n",
        "tfidf_train_mtrx_dft = tfidf_vect.transform(train_dat.apply(lambda x: np.str_(x)))\n",
        "count_test_mtrx_dft = count_vect.transform(test_dat.apply(lambda x: np.str_(x)))\n",
        "tfidf_test_mtrx_dft = tfidf_vect.transform(test_dat.apply(lambda x: np.str_(x)))"
      ],
      "execution_count": 104,
      "outputs": []
    },
    {
      "cell_type": "markdown",
      "metadata": {
        "id": "m2v-3HreT133"
      },
      "source": [
        "## Приводим к базовой форме"
      ]
    },
    {
      "cell_type": "code",
      "metadata": {
        "colab": {
          "base_uri": "https://localhost:8080/"
        },
        "id": "QJf4kOnFT134",
        "outputId": "7c95434e-f5dc-4e03-89a4-766dbeac284d"
      },
      "source": [
        "train_dat_tr = list(map(lambda elem: (\" \").join(map(lambda s: (porter_stemmer.stem(s)), elem)).lower().translate(str.maketrans('', '', string.punctuation)), map(lambda wrds: tok(wrds), train_dat.apply(lambda x: np.str_(x)))))\n",
        "test_dat_tr = list(map(lambda elem: (\" \").join(map(lambda s: (porter_stemmer.stem(s)), elem)).lower().translate(str.maketrans('', '', string.punctuation)), map(lambda wrds: tok(wrds), test_dat.apply(lambda x: np.str_(x)))))\n",
        "privat_dat_tr = list(map(lambda elem: (\" \").join(map(lambda s: (porter_stemmer.stem(s)), elem)).lower().translate(str.maketrans('', '', string.punctuation)), map(lambda wrds: tok(wrds), privat_dat.apply(lambda x: np.str_(x)))))\n",
        "dat[\"words\"] = list(map(lambda elem: (\" \").join(map(lambda s: (porter_stemmer.stem(s)), elem)).lower().translate(str.maketrans('', '', string.punctuation)), map(lambda wrds: tok(wrds), dat.reviewText.apply(lambda x: np.str_(x)))))"
      ],
      "execution_count": 105,
      "outputs": [
        {
          "output_type": "stream",
          "text": [
            "/usr/local/lib/python3.7/dist-packages/ipykernel_launcher.py:4: SettingWithCopyWarning: \n",
            "A value is trying to be set on a copy of a slice from a DataFrame.\n",
            "Try using .loc[row_indexer,col_indexer] = value instead\n",
            "\n",
            "See the caveats in the documentation: https://pandas.pydata.org/pandas-docs/stable/user_guide/indexing.html#returning-a-view-versus-a-copy\n",
            "  after removing the cwd from sys.path.\n"
          ],
          "name": "stderr"
        }
      ]
    },
    {
      "cell_type": "markdown",
      "metadata": {
        "id": "U-2Nvu3UT13_"
      },
      "source": [
        "## Натравим на обработанные данные"
      ]
    },
    {
      "cell_type": "code",
      "metadata": {
        "id": "yGcQfQLJT14A"
      },
      "source": [
        "# count_vect.fit(dat.words)\n",
        "# tfidf_vect.fit(dat.words)\n",
        "count_train_mtrx = count_vect.transform(train_dat_tr)\n",
        "tfidf_train_mtrx = tfidf_vect.transform(train_dat_tr)\n",
        "count_test_mtrx = count_vect.transform(test_dat_tr)\n",
        "tfidf_test_mtrx = tfidf_vect.transform(test_dat_tr)"
      ],
      "execution_count": 106,
      "outputs": []
    },
    {
      "cell_type": "markdown",
      "metadata": {
        "id": "TWUItNUsT14F"
      },
      "source": [
        "## Проверим, что получилось"
      ]
    },
    {
      "cell_type": "code",
      "metadata": {
        "colab": {
          "base_uri": "https://localhost:8080/",
          "height": 419
        },
        "id": "sMyxM4wuT14F",
        "outputId": "96da8075-31d9-49ec-fac1-041169400a84"
      },
      "source": [
        "dat"
      ],
      "execution_count": 107,
      "outputs": [
        {
          "output_type": "execute_result",
          "data": {
            "text/html": [
              "<div>\n",
              "<style scoped>\n",
              "    .dataframe tbody tr th:only-of-type {\n",
              "        vertical-align: middle;\n",
              "    }\n",
              "\n",
              "    .dataframe tbody tr th {\n",
              "        vertical-align: top;\n",
              "    }\n",
              "\n",
              "    .dataframe thead th {\n",
              "        text-align: right;\n",
              "    }\n",
              "</style>\n",
              "<table border=\"1\" class=\"dataframe\">\n",
              "  <thead>\n",
              "    <tr style=\"text-align: right;\">\n",
              "      <th></th>\n",
              "      <th>asin</th>\n",
              "      <th>reviewText</th>\n",
              "      <th>overall</th>\n",
              "      <th>bin</th>\n",
              "      <th>words</th>\n",
              "    </tr>\n",
              "  </thead>\n",
              "  <tbody>\n",
              "    <tr>\n",
              "      <th>0</th>\n",
              "      <td>0528881469</td>\n",
              "      <td>We got this GPS for my husband who is an (OTR)...</td>\n",
              "      <td>5</td>\n",
              "      <td>True</td>\n",
              "      <td>we got thi gp for my husband who is an otr ove...</td>\n",
              "    </tr>\n",
              "    <tr>\n",
              "      <th>1</th>\n",
              "      <td>0528881469</td>\n",
              "      <td>I'm a professional OTR truck driver, and I bou...</td>\n",
              "      <td>1</td>\n",
              "      <td>False</td>\n",
              "      <td>profession otr truck driver and bought tnd 700...</td>\n",
              "    </tr>\n",
              "    <tr>\n",
              "      <th>2</th>\n",
              "      <td>0528881469</td>\n",
              "      <td>Well, what can I say.  I've had this unit in m...</td>\n",
              "      <td>3</td>\n",
              "      <td>False</td>\n",
              "      <td>well what can say ve had thi unit in my truck ...</td>\n",
              "    </tr>\n",
              "    <tr>\n",
              "      <th>3</th>\n",
              "      <td>0528881469</td>\n",
              "      <td>Not going to write a long review, even thought...</td>\n",
              "      <td>2</td>\n",
              "      <td>False</td>\n",
              "      <td>not go to write long review even thought thi u...</td>\n",
              "    </tr>\n",
              "    <tr>\n",
              "      <th>4</th>\n",
              "      <td>0528881469</td>\n",
              "      <td>I've had mine for a year and here's what we go...</td>\n",
              "      <td>1</td>\n",
              "      <td>False</td>\n",
              "      <td>ve had mine for year and here what we got it t...</td>\n",
              "    </tr>\n",
              "    <tr>\n",
              "      <th>...</th>\n",
              "      <td>...</td>\n",
              "      <td>...</td>\n",
              "      <td>...</td>\n",
              "      <td>...</td>\n",
              "      <td>...</td>\n",
              "    </tr>\n",
              "    <tr>\n",
              "      <th>15995</th>\n",
              "      <td>B00004ZCJE</td>\n",
              "      <td>I could not ask more of the Tiffen 58mm UV Pro...</td>\n",
              "      <td>5</td>\n",
              "      <td>True</td>\n",
              "      <td>could not ask more of the tiffen 58mm uv prote...</td>\n",
              "    </tr>\n",
              "    <tr>\n",
              "      <th>15996</th>\n",
              "      <td>B00004ZCJE</td>\n",
              "      <td>I ordered 2 Tiffen 52 mm UV filters for the 2 ...</td>\n",
              "      <td>4</td>\n",
              "      <td>True</td>\n",
              "      <td>order tiffen 52 mm uv filter for the lens that...</td>\n",
              "    </tr>\n",
              "    <tr>\n",
              "      <th>15997</th>\n",
              "      <td>B00004ZCJE</td>\n",
              "      <td>It protects the lens. But I still have glare f...</td>\n",
              "      <td>4</td>\n",
              "      <td>True</td>\n",
              "      <td>it protect the len but still have glare from l...</td>\n",
              "    </tr>\n",
              "    <tr>\n",
              "      <th>15998</th>\n",
              "      <td>B00004ZCJE</td>\n",
              "      <td>buena calidad, resistente, producto bien hecho...</td>\n",
              "      <td>5</td>\n",
              "      <td>True</td>\n",
              "      <td>buena calidad resistent producto bien hecho la...</td>\n",
              "    </tr>\n",
              "    <tr>\n",
              "      <th>15999</th>\n",
              "      <td>B00004ZCJE</td>\n",
              "      <td>I bought this for my Nikon 80~400 tele-zoom.I ...</td>\n",
              "      <td>3</td>\n",
              "      <td>False</td>\n",
              "      <td>bought thi for my nikon 80 400 tele zoom disap...</td>\n",
              "    </tr>\n",
              "  </tbody>\n",
              "</table>\n",
              "<p>16000 rows × 5 columns</p>\n",
              "</div>"
            ],
            "text/plain": [
              "             asin  ...                                              words\n",
              "0      0528881469  ...  we got thi gp for my husband who is an otr ove...\n",
              "1      0528881469  ...  profession otr truck driver and bought tnd 700...\n",
              "2      0528881469  ...  well what can say ve had thi unit in my truck ...\n",
              "3      0528881469  ...  not go to write long review even thought thi u...\n",
              "4      0528881469  ...  ve had mine for year and here what we got it t...\n",
              "...           ...  ...                                                ...\n",
              "15995  B00004ZCJE  ...  could not ask more of the tiffen 58mm uv prote...\n",
              "15996  B00004ZCJE  ...  order tiffen 52 mm uv filter for the lens that...\n",
              "15997  B00004ZCJE  ...  it protect the len but still have glare from l...\n",
              "15998  B00004ZCJE  ...  buena calidad resistent producto bien hecho la...\n",
              "15999  B00004ZCJE  ...  bought thi for my nikon 80 400 tele zoom disap...\n",
              "\n",
              "[16000 rows x 5 columns]"
            ]
          },
          "metadata": {
            "tags": []
          },
          "execution_count": 107
        }
      ]
    },
    {
      "cell_type": "markdown",
      "metadata": {
        "id": "oMHaxOqbT14X"
      },
      "source": [
        "# Обучим модели и посмотрим их точность"
      ]
    },
    {
      "cell_type": "markdown",
      "metadata": {
        "id": "1KRU-MlYT14o"
      },
      "source": [
        "## Обработанные с оптимальными параметрами"
      ]
    },
    {
      "cell_type": "code",
      "metadata": {
        "colab": {
          "base_uri": "https://localhost:8080/"
        },
        "id": "0ikfTfLLT14p",
        "outputId": "1018eae4-912c-4afd-cf93-b577985566d1"
      },
      "source": [
        "param_grid = {\n",
        "    'C': np.arange(0.1, 3, 0.1),\n",
        "    'penalty': ['l1', 'l2'],\n",
        "    'class_weight': ['balanced', None, {0:4, 1:1}]\n",
        "}\n",
        "search = GridSearchCV(clf, param_grid, cv=5)\n",
        "search.fit(count_train_mtrx, train_ans)\n",
        "print(search.best_params_)"
      ],
      "execution_count": 108,
      "outputs": [
        {
          "output_type": "stream",
          "text": [
            "{'C': 0.1, 'class_weight': None, 'penalty': 'l2'}\n"
          ],
          "name": "stdout"
        }
      ]
    },
    {
      "cell_type": "code",
      "metadata": {
        "colab": {
          "base_uri": "https://localhost:8080/"
        },
        "id": "prdP9LAsT14s",
        "outputId": "31d7cddb-ad87-4ca1-b83a-fb0cf1dde085"
      },
      "source": [
        "accuracy_score(test_ans, search.best_estimator_.predict(count_test_mtrx))"
      ],
      "execution_count": 109,
      "outputs": [
        {
          "output_type": "execute_result",
          "data": {
            "text/plain": [
              "0.8636029411764706"
            ]
          },
          "metadata": {
            "tags": []
          },
          "execution_count": 109
        }
      ]
    },
    {
      "cell_type": "code",
      "metadata": {
        "colab": {
          "base_uri": "https://localhost:8080/"
        },
        "id": "OcW5uCN5T14x",
        "outputId": "6c1c507c-c526-4bae-f275-733e569e40d0"
      },
      "source": [
        "param_grid = {\n",
        "    'C': np.arange(0.1, 3, 0.1),\n",
        "    'penalty': ['l1', 'l2'],\n",
        "    'class_weight': ['balanced', None, {0:4, 1:1}]\n",
        "}\n",
        "search = GridSearchCV(clf, param_grid, cv=5)\n",
        "search.fit(tfidf_train_mtrx,  train_ans)\n",
        "print(search.best_params_)"
      ],
      "execution_count": 110,
      "outputs": [
        {
          "output_type": "stream",
          "text": [
            "{'C': 2.5000000000000004, 'class_weight': None, 'penalty': 'l1'}\n"
          ],
          "name": "stdout"
        }
      ]
    },
    {
      "cell_type": "code",
      "metadata": {
        "colab": {
          "base_uri": "https://localhost:8080/"
        },
        "id": "glaCIf6fT142",
        "outputId": "ceb5ec4b-573e-4e78-8293-b8e84c347745"
      },
      "source": [
        "accuracy_score(test_ans, search.best_estimator_.predict(tfidf_test_mtrx))"
      ],
      "execution_count": 111,
      "outputs": [
        {
          "output_type": "execute_result",
          "data": {
            "text/plain": [
              "0.8639705882352942"
            ]
          },
          "metadata": {
            "tags": []
          },
          "execution_count": 111
        }
      ]
    },
    {
      "cell_type": "markdown",
      "metadata": {
        "id": "u0RjLjipT146"
      },
      "source": [
        "## Дефолтные с оптимальными параметрами"
      ]
    },
    {
      "cell_type": "code",
      "metadata": {
        "id": "Arw1VIsGT146",
        "colab": {
          "base_uri": "https://localhost:8080/"
        },
        "outputId": "a1c32688-f8be-47c3-8f59-16c3f10d6bc3"
      },
      "source": [
        "param_grid = {\n",
        "    'C': np.arange(0.1, 3, 0.1),\n",
        "    'penalty': ['l1', 'l2'],\n",
        "    'class_weight': ['balanced', None, {0:4, 1:1}]\n",
        "}\n",
        "search = GridSearchCV(clf, param_grid, cv=5)\n",
        "search.fit(count_train_mtrx_dft, train_ans)\n",
        "print(search.best_params_)"
      ],
      "execution_count": 112,
      "outputs": [
        {
          "output_type": "stream",
          "text": [
            "{'C': 0.2, 'class_weight': None, 'penalty': 'l2'}\n"
          ],
          "name": "stdout"
        }
      ]
    },
    {
      "cell_type": "code",
      "metadata": {
        "id": "xc94WCv5T14-",
        "colab": {
          "base_uri": "https://localhost:8080/"
        },
        "outputId": "ad802f5f-0e30-4f9e-937a-c9ac93d409bf"
      },
      "source": [
        "print(accuracy_score(test_ans, search.best_estimator_.predict(count_test_mtrx_dft)))\n",
        "print(classification_report(test_ans, search.best_estimator_.predict(count_test_mtrx_dft)))"
      ],
      "execution_count": 113,
      "outputs": [
        {
          "output_type": "stream",
          "text": [
            "0.875\n",
            "              precision    recall  f1-score   support\n",
            "\n",
            "       False       0.73      0.50      0.59       495\n",
            "        True       0.90      0.96      0.93      2225\n",
            "\n",
            "    accuracy                           0.88      2720\n",
            "   macro avg       0.81      0.73      0.76      2720\n",
            "weighted avg       0.87      0.88      0.87      2720\n",
            "\n"
          ],
          "name": "stdout"
        }
      ]
    },
    {
      "cell_type": "code",
      "metadata": {
        "id": "kKFl6p8fT15B",
        "colab": {
          "base_uri": "https://localhost:8080/"
        },
        "outputId": "e683f41e-8204-4462-cdcd-7eb91055e91a"
      },
      "source": [
        "param_grid = {\n",
        "    'C': np.arange(0.1, 3, 0.1),\n",
        "    'penalty': ['l1', 'l2'],\n",
        "    'class_weight': ['balanced', None, {0:4, 1:1}]\n",
        "}\n",
        "search = GridSearchCV(clf, param_grid, cv=5)\n",
        "search.fit(tfidf_train_mtrx_dft, train_ans)\n",
        "print(search.best_params_)"
      ],
      "execution_count": 114,
      "outputs": [
        {
          "output_type": "stream",
          "text": [
            "{'C': 2.9000000000000004, 'class_weight': {0: 4, 1: 1}, 'penalty': 'l2'}\n"
          ],
          "name": "stdout"
        }
      ]
    },
    {
      "cell_type": "code",
      "metadata": {
        "id": "5qx3bIRwT15G",
        "colab": {
          "base_uri": "https://localhost:8080/"
        },
        "outputId": "d48c6d51-55a4-4361-c9e9-8c48adbbdeeb"
      },
      "source": [
        "print(accuracy_score(test_ans, search.best_estimator_.predict(tfidf_test_mtrx_dft)))\n",
        "print(classification_report(test_ans, search.best_estimator_.predict(tfidf_test_mtrx_dft)))\n"
      ],
      "execution_count": 115,
      "outputs": [
        {
          "output_type": "stream",
          "text": [
            "0.8768382352941176\n",
            "              precision    recall  f1-score   support\n",
            "\n",
            "       False       0.66      0.66      0.66       495\n",
            "        True       0.93      0.92      0.92      2225\n",
            "\n",
            "    accuracy                           0.88      2720\n",
            "   macro avg       0.79      0.79      0.79      2720\n",
            "weighted avg       0.88      0.88      0.88      2720\n",
            "\n"
          ],
          "name": "stdout"
        }
      ]
    },
    {
      "cell_type": "markdown",
      "metadata": {
        "id": "xOGPLPjA18ZE"
      },
      "source": [
        "# Лучший результат у tfidf на необработанных данных"
      ]
    },
    {
      "cell_type": "code",
      "metadata": {
        "colab": {
          "base_uri": "https://localhost:8080/"
        },
        "id": "SKUwa1jw2CyR",
        "outputId": "67785f31-f0c3-47c0-c556-37d8982bb08e"
      },
      "source": [
        "clf.fit(tfidf_train_mtrx_dft, train_ans)\n",
        "pred = search.best_estimator_.predict(tfidf_vect.transform(privat_dat.apply(lambda x: np.str_(x))))\n",
        "print(accuracy_score(pred, privat_ans))\n",
        "print(classification_report(pred, privat_ans))"
      ],
      "execution_count": 116,
      "outputs": [
        {
          "output_type": "stream",
          "text": [
            "0.86625\n",
            "              precision    recall  f1-score   support\n",
            "\n",
            "       False       0.60      0.61      0.61       407\n",
            "        True       0.92      0.92      0.92      1993\n",
            "\n",
            "    accuracy                           0.87      2400\n",
            "   macro avg       0.76      0.76      0.76      2400\n",
            "weighted avg       0.87      0.87      0.87      2400\n",
            "\n"
          ],
          "name": "stdout"
        }
      ]
    },
    {
      "cell_type": "markdown",
      "metadata": {
        "id": "prgxtCZhT15J"
      },
      "source": [
        "## Проверим баланс классов"
      ]
    },
    {
      "cell_type": "code",
      "metadata": {
        "colab": {
          "base_uri": "https://localhost:8080/"
        },
        "id": "mss1yJyDT15K",
        "outputId": "5fe066d0-4cc8-477c-cc23-0c9aa9ab45ce"
      },
      "source": [
        "print(\"All :\\n1 - \", sum(dat.bin), \"\\n0 - \", len(dat.bin) - sum(dat.bin), \"\\n\", round(100*sum(dat.bin)/len(dat.bin), 2)) \n",
        "print(\"\\nTrain :\\n1 - \", sum(train_ans), \"\\n0 - \", len(train_ans) - sum(train_ans), \"\\n\", round(100*sum(train_ans)/len(train_ans), 2)) \n",
        "print(\"\\nTest :\\n1 - \", sum(test_ans), \"\\n0 - \", len(test_ans) - sum(test_ans), \"\\n\", round(100*sum(test_ans)/len(test_ans), 2) )\n",
        "print(\"\\nPrivat_ans :\\n1 - \", sum(privat_ans), \"\\n0 - \", len(privat_ans) - sum(privat_ans), \"\\n\", round(100*sum(privat_ans)/len(privat_ans), 2) ) "
      ],
      "execution_count": 117,
      "outputs": [
        {
          "output_type": "stream",
          "text": [
            "All :\n",
            "1 -  13194 \n",
            "0 -  2806 \n",
            " 82.46\n",
            "\n",
            "Train :\n",
            "1 -  8979 \n",
            "0 -  1901 \n",
            " 82.53\n",
            "\n",
            "Test :\n",
            "1 -  2225 \n",
            "0 -  495 \n",
            " 81.8\n",
            "\n",
            "Privat_ans :\n",
            "1 -  1990 \n",
            "0 -  410 \n",
            " 82.92\n"
          ],
          "name": "stdout"
        }
      ]
    },
    {
      "cell_type": "markdown",
      "metadata": {
        "id": "kQkm2OVIT15O"
      },
      "source": [
        "# Возьмем новый набор данных"
      ]
    },
    {
      "cell_type": "code",
      "metadata": {
        "id": "8bZ4gOE8T15P"
      },
      "source": [
        "dat2 = pd.read_json(\"Tools_and_Home_Improvement_5.json\", lines = True)[[\"reviewText\", \"overall\"]]"
      ],
      "execution_count": 118,
      "outputs": []
    },
    {
      "cell_type": "code",
      "metadata": {
        "id": "pwMrNIGiT15T"
      },
      "source": [
        "dat2[\"bin\"] = dat2.overall > 3"
      ],
      "execution_count": 119,
      "outputs": []
    },
    {
      "cell_type": "markdown",
      "metadata": {
        "id": "AMgetfbUT15V"
      },
      "source": [
        "## Истинное значение"
      ]
    },
    {
      "cell_type": "code",
      "metadata": {
        "colab": {
          "base_uri": "https://localhost:8080/"
        },
        "id": "V6B_P7ByT15X",
        "outputId": "27fc7337-0bcd-4b4e-863b-cce2f061ea93"
      },
      "source": [
        "rat = (len(dat2.bin)-sum(dat2.bin)) / sum(dat2.bin)\n",
        "print(\"Соотношение false/true:\",len(dat2.bin)-sum(dat2.bin), \" / \", sum(dat2.bin))\n",
        "ground_t = accuracy_score(dat2.bin, search.best_estimator_.predict(tfidf_vect.transform(dat2.reviewText)))\n",
        "print(ground_t)\n",
        "print(classification_report(dat2.bin, search.best_estimator_.predict(tfidf_vect.transform(dat2.reviewText))))"
      ],
      "execution_count": 120,
      "outputs": [
        {
          "output_type": "stream",
          "text": [
            "Соотношение false/true: 20874  /  113602\n",
            "0.8479803087539785\n",
            "              precision    recall  f1-score   support\n",
            "\n",
            "       False       0.51      0.64      0.57     20874\n",
            "        True       0.93      0.89      0.91    113602\n",
            "\n",
            "    accuracy                           0.85    134476\n",
            "   macro avg       0.72      0.76      0.74    134476\n",
            "weighted avg       0.87      0.85      0.85    134476\n",
            "\n"
          ],
          "name": "stdout"
        }
      ]
    },
    {
      "cell_type": "markdown",
      "metadata": {
        "id": "QaZts_am_Xlp"
      },
      "source": [
        "## Случайный выбор"
      ]
    },
    {
      "cell_type": "code",
      "metadata": {
        "colab": {
          "base_uri": "https://localhost:8080/"
        },
        "id": "FoyAAEQo_jdP",
        "outputId": "f29d4438-b8d9-43ef-e25a-b4ca4ab42c63"
      },
      "source": [
        "df_rand_ch = dat2.sample(2000)\n",
        "print(\"Соотношение false/true:\",len(df_rand_ch.bin)-sum(df_rand_ch.bin), \" / \", sum(df_rand_ch.bin))\n",
        "print(accuracy_score(df_rand_ch.bin, search.best_estimator_.predict(tfidf_vect.transform(df_rand_ch.reviewText))))\n",
        "print(classification_report(df_rand_ch.bin, search.best_estimator_.predict(tfidf_vect.transform(df_rand_ch.reviewText))))"
      ],
      "execution_count": 121,
      "outputs": [
        {
          "output_type": "stream",
          "text": [
            "Соотношение false/true: 297  /  1703\n",
            "0.856\n",
            "              precision    recall  f1-score   support\n",
            "\n",
            "       False       0.51      0.65      0.57       297\n",
            "        True       0.94      0.89      0.91      1703\n",
            "\n",
            "    accuracy                           0.86      2000\n",
            "   macro avg       0.72      0.77      0.74      2000\n",
            "weighted avg       0.87      0.86      0.86      2000\n",
            "\n"
          ],
          "name": "stdout"
        }
      ]
    },
    {
      "cell_type": "code",
      "metadata": {
        "colab": {
          "base_uri": "https://localhost:8080/",
          "height": 592
        },
        "id": "ODhFkG9B0FuL",
        "outputId": "7823d7c4-c59e-4666-ead7-077a77f038b3"
      },
      "source": [
        "acc_list = []\n",
        "size_list = []\n",
        "for sample_size in [100, 200, 400, 800, 1200, 1600, 2000, 2500, 3000, 4000]:\n",
        "  for seed in range(10):\n",
        "    np.random.seed(seed)\n",
        "    df_rand_ch = dat2.sample(sample_size)\n",
        "    acc_list.append(accuracy_score(df_rand_ch.bin, search.best_estimator_.predict(tfidf_vect.transform(df_rand_ch.reviewText))))\n",
        "    size_list.append(sample_size)\n",
        "plt.figure(figsize=(10, 10))\n",
        "plt.ylim([ground_t - 0.1, ground_t + 0.1,])\n",
        "plt.scatter(size_list, acc_list)\n",
        "plt.axhline(y = ground_t)\n",
        "plt.show()\n",
        "    "
      ],
      "execution_count": 122,
      "outputs": [
        {
          "output_type": "display_data",
          "data": {
            "image/png": "[encoded data removed]",
            "text/plain": [
              "<Figure size 720x720 with 1 Axes>"
            ]
          },
          "metadata": {
            "tags": [],
            "needs_background": "light"
          }
        }
      ]
    },
    {
      "cell_type": "code",
      "metadata": {
        "colab": {
          "base_uri": "https://localhost:8080/",
          "height": 592
        },
        "id": "w_gI3Lhi5EPq",
        "outputId": "289356bc-3a7a-416e-f874-dcdaeb9bc367"
      },
      "source": [
        "mean_list = []\n",
        "var_list = []\n",
        "sample_size_list = [100, 200, 400, 800, 1200, 1600, 2000, 2500, 3000, 4000]\n",
        "for sample_size in sample_size_list:\n",
        "  acc_list = []\n",
        "  for seed in range(10):\n",
        "    np.random.seed(seed)\n",
        "    df_rand_ch = dat2.sample(sample_size)\n",
        "    acc_list.append(accuracy_score(df_rand_ch.bin, search.best_estimator_.predict(tfidf_vect.transform(df_rand_ch.reviewText))))\n",
        "  mean_list.append(np.mean(acc_list))\n",
        "  var_list.append(np.var(acc_list))  \n",
        "plt.figure(figsize=(10, 10))\n",
        "plt.ylim([ground_t - 0.1, ground_t + 0.1,])\n",
        "plt.errorbar(sample_size_list, mean_list, yerr=var_list, fmt='o', )\n",
        "plt.axhline(y = ground_t)\n",
        "plt.show()\n",
        "    "
      ],
      "execution_count": 123,
      "outputs": [
        {
          "output_type": "display_data",
          "data": {
            "image/png": "[encoded data removed]",
            "text/plain": [
              "<Figure size 720x720 with 1 Axes>"
            ]
          },
          "metadata": {
            "tags": [],
            "needs_background": "light"
          }
        }
      ]
    },
    {
      "cell_type": "markdown",
      "metadata": {
        "id": "JjldfO9D_GTt"
      },
      "source": [
        "## Случайный равномерный выбор"
      ]
    },
    {
      "cell_type": "code",
      "metadata": {
        "colab": {
          "base_uri": "https://localhost:8080/"
        },
        "id": "y4m7OhKYT15h",
        "outputId": "9c3d61d6-ed96-4062-ca60-984f9bbf250b"
      },
      "source": [
        "df_rc_eq = pd.concat([dat2.loc[dat2['bin']].sample(2000//2), dat2.loc[dat2['bin'] != True].sample(2000//2)], ignore_index=True)\n",
        "print(\"Соотношение false/true:\",len(df_rc_eq.bin)-sum(df_rc_eq.bin), \" / \", sum(df_rc_eq.bin))\n",
        "print(accuracy_score(df_rc_eq.bin, search.best_estimator_.predict(tfidf_vect.transform(df_rc_eq.reviewText))))\n",
        "print(classification_report(df_rc_eq.bin, search.best_estimator_.predict(tfidf_vect.transform(df_rc_eq.reviewText))))"
      ],
      "execution_count": 124,
      "outputs": [
        {
          "output_type": "stream",
          "text": [
            "Соотношение false/true: 1000  /  1000\n",
            "0.7655\n",
            "              precision    recall  f1-score   support\n",
            "\n",
            "       False       0.85      0.64      0.73      1000\n",
            "        True       0.71      0.89      0.79      1000\n",
            "\n",
            "    accuracy                           0.77      2000\n",
            "   macro avg       0.78      0.77      0.76      2000\n",
            "weighted avg       0.78      0.77      0.76      2000\n",
            "\n"
          ],
          "name": "stdout"
        }
      ]
    },
    {
      "cell_type": "code",
      "metadata": {
        "colab": {
          "base_uri": "https://localhost:8080/",
          "height": 592
        },
        "id": "-LVO64Rtysi3",
        "outputId": "7a661bd0-62bd-4118-f428-e2e61dfe9e89"
      },
      "source": [
        "acc_list = []\n",
        "size_list = []\n",
        "for sample_size in [100, 200, 400, 800, 1200, 1600, 2000, 2500, 3000, 4000]:\n",
        "  for seed in range(10):\n",
        "    np.random.seed(seed)\n",
        "    df_rc_eq = pd.concat([dat2.loc[dat2['bin']].sample(sample_size//2), dat2.loc[dat2['bin'] != True].sample(sample_size//2)], ignore_index=True)\n",
        "    acc_list.append(accuracy_score(df_rc_eq.bin, search.best_estimator_.predict(tfidf_vect.transform(df_rc_eq.reviewText))))\n",
        "    size_list.append(sample_size)\n",
        "plt.figure(figsize=(10, 10))\n",
        "plt.ylim([ground_t - 0.1, ground_t + 0.1,])\n",
        "plt.scatter(size_list, acc_list)\n",
        "plt.axhline(y = ground_t)\n",
        "plt.show()"
      ],
      "execution_count": 125,
      "outputs": [
        {
          "output_type": "display_data",
          "data": {
            "image/png": "[encoded data removed]",
            "text/plain": [
              "<Figure size 720x720 with 1 Axes>"
            ]
          },
          "metadata": {
            "tags": [],
            "needs_background": "light"
          }
        }
      ]
    },
    {
      "cell_type": "markdown",
      "metadata": {
        "id": "GINOkkwCAd5N"
      },
      "source": [
        "## Случайный выбор с сохраненем баланса классов"
      ]
    },
    {
      "cell_type": "code",
      "metadata": {
        "colab": {
          "base_uri": "https://localhost:8080/"
        },
        "id": "Q-oZv9KXAvCN",
        "outputId": "4ddf8d54-7c90-4b94-ab61-a0e7787eb965"
      },
      "source": [
        "df_rc_2 = pd.concat([dat2.loc[dat2['bin']].sample(round(2000*(1/(rat+1)))), dat2.loc[dat2['bin'] != True].sample(round(2000*rat/(rat+1)))], ignore_index=True)\n",
        "print(\"Соотношение false/true:\",len(df_rc_2.bin)-sum(df_rc_2.bin), \" / \", sum(df_rc_2.bin))\n",
        "print(accuracy_score(df_rc_2.bin, search.best_estimator_.predict(tfidf_vect.transform(df_rc_2.reviewText))))\n",
        "print(classification_report(df_rc_2.bin, search.best_estimator_.predict(tfidf_vect.transform(df_rc_2.reviewText))))"
      ],
      "execution_count": 126,
      "outputs": [
        {
          "output_type": "stream",
          "text": [
            "Соотношение false/true: 310  /  1690\n",
            "0.8495\n",
            "              precision    recall  f1-score   support\n",
            "\n",
            "       False       0.51      0.64      0.57       310\n",
            "        True       0.93      0.89      0.91      1690\n",
            "\n",
            "    accuracy                           0.85      2000\n",
            "   macro avg       0.72      0.76      0.74      2000\n",
            "weighted avg       0.87      0.85      0.86      2000\n",
            "\n"
          ],
          "name": "stdout"
        }
      ]
    },
    {
      "cell_type": "code",
      "metadata": {
        "colab": {
          "base_uri": "https://localhost:8080/",
          "height": 592
        },
        "id": "lVpMVJMu0WBG",
        "outputId": "4cf9df06-29a4-4265-a87b-0fca6b22bc7b"
      },
      "source": [
        "acc_list = []\n",
        "size_list = []\n",
        "for sample_size in [100, 200, 400, 800, 1200, 1600, 2000, 2500, 3000, 4000]:\n",
        "  for seed in range(1, 10):\n",
        "    np.random.seed(seed)\n",
        "    df_rc_2 = pd.concat([dat2.loc[dat2['bin']].sample(round(sample_size*(1/(rat+1)))), dat2.loc[dat2['bin'] != True].sample(round(sample_size*rat/(rat+1)))], ignore_index=True)\n",
        "    acc_list.append(accuracy_score(df_rc_2.bin, search.best_estimator_.predict(tfidf_vect.transform(df_rc_2.reviewText))))\n",
        "    size_list.append(sample_size)\n",
        "plt.figure(figsize=(10, 10))\n",
        "plt.ylim([ground_t - 0.1, ground_t + 0.1,])\n",
        "plt.scatter(size_list, acc_list)\n",
        "plt.axhline(y = ground_t)\n",
        "plt.show()"
      ],
      "execution_count": 127,
      "outputs": [
        {
          "output_type": "display_data",
          "data": {
            "image/png": "[encoded data removed]",
            "text/plain": [
              "<Figure size 720x720 with 1 Axes>"
            ]
          },
          "metadata": {
            "tags": [],
            "needs_background": "light"
          }
        }
      ]
    },
    {
      "cell_type": "markdown",
      "metadata": {
        "id": "j0Ck6EBLT15q"
      },
      "source": [
        "## По уверености классификатора"
      ]
    },
    {
      "cell_type": "code",
      "metadata": {
        "id": "_HqKIPWhT15r"
      },
      "source": [
        "prob = search.best_estimator_.predict_proba(tfidf_vect.transform(dat2.reviewText))\n",
        "prob = [x[0] for x in prob]"
      ],
      "execution_count": 128,
      "outputs": []
    },
    {
      "cell_type": "code",
      "metadata": {
        "id": "p-NPa_GiT15u"
      },
      "source": [
        "dat2[\"chance\"] = prob"
      ],
      "execution_count": 129,
      "outputs": []
    },
    {
      "cell_type": "markdown",
      "metadata": {
        "id": "q7TQ2aqvT15x"
      },
      "source": [
        "### Уверенность, что оценка <= 3"
      ]
    },
    {
      "cell_type": "code",
      "metadata": {
        "id": "s5sSJDrbT15z"
      },
      "source": [
        "dat2 = dat2.sort_values(by = \"chance\")"
      ],
      "execution_count": 130,
      "outputs": []
    },
    {
      "cell_type": "code",
      "metadata": {
        "colab": {
          "base_uri": "https://localhost:8080/",
          "height": 419
        },
        "id": "I3N3jBIUT152",
        "outputId": "289010f6-b09e-4ef4-83c7-39072e8b9d48"
      },
      "source": [
        "dat2"
      ],
      "execution_count": 131,
      "outputs": [
        {
          "output_type": "execute_result",
          "data": {
            "text/html": [
              "<div>\n",
              "<style scoped>\n",
              "    .dataframe tbody tr th:only-of-type {\n",
              "        vertical-align: middle;\n",
              "    }\n",
              "\n",
              "    .dataframe tbody tr th {\n",
              "        vertical-align: top;\n",
              "    }\n",
              "\n",
              "    .dataframe thead th {\n",
              "        text-align: right;\n",
              "    }\n",
              "</style>\n",
              "<table border=\"1\" class=\"dataframe\">\n",
              "  <thead>\n",
              "    <tr style=\"text-align: right;\">\n",
              "      <th></th>\n",
              "      <th>reviewText</th>\n",
              "      <th>overall</th>\n",
              "      <th>bin</th>\n",
              "      <th>chance</th>\n",
              "    </tr>\n",
              "  </thead>\n",
              "  <tbody>\n",
              "    <tr>\n",
              "      <th>27435</th>\n",
              "      <td>GREAT.. ........... .......... ............ .....</td>\n",
              "      <td>5</td>\n",
              "      <td>True</td>\n",
              "      <td>0.000017</td>\n",
              "    </tr>\n",
              "    <tr>\n",
              "      <th>52596</th>\n",
              "      <td>great sharpener</td>\n",
              "      <td>5</td>\n",
              "      <td>True</td>\n",
              "      <td>0.000017</td>\n",
              "    </tr>\n",
              "    <tr>\n",
              "      <th>50418</th>\n",
              "      <td>GREAT</td>\n",
              "      <td>5</td>\n",
              "      <td>True</td>\n",
              "      <td>0.000017</td>\n",
              "    </tr>\n",
              "    <tr>\n",
              "      <th>43376</th>\n",
              "      <td>Great thermostat</td>\n",
              "      <td>4</td>\n",
              "      <td>True</td>\n",
              "      <td>0.000017</td>\n",
              "    </tr>\n",
              "    <tr>\n",
              "      <th>51595</th>\n",
              "      <td>Great hammer.</td>\n",
              "      <td>5</td>\n",
              "      <td>True</td>\n",
              "      <td>0.000017</td>\n",
              "    </tr>\n",
              "    <tr>\n",
              "      <th>...</th>\n",
              "      <td>...</td>\n",
              "      <td>...</td>\n",
              "      <td>...</td>\n",
              "      <td>...</td>\n",
              "    </tr>\n",
              "    <tr>\n",
              "      <th>98628</th>\n",
              "      <td>At first, we were very pleased with the STI-34...</td>\n",
              "      <td>1</td>\n",
              "      <td>False</td>\n",
              "      <td>0.997914</td>\n",
              "    </tr>\n",
              "    <tr>\n",
              "      <th>52390</th>\n",
              "      <td>Does not work as easy as advertized.  Does not...</td>\n",
              "      <td>3</td>\n",
              "      <td>False</td>\n",
              "      <td>0.998576</td>\n",
              "    </tr>\n",
              "    <tr>\n",
              "      <th>31175</th>\n",
              "      <td>This seemed OK when I first got it. But it sto...</td>\n",
              "      <td>1</td>\n",
              "      <td>False</td>\n",
              "      <td>0.998668</td>\n",
              "    </tr>\n",
              "    <tr>\n",
              "      <th>77560</th>\n",
              "      <td>size &amp; brightness is good, but the motion acti...</td>\n",
              "      <td>2</td>\n",
              "      <td>False</td>\n",
              "      <td>0.998968</td>\n",
              "    </tr>\n",
              "    <tr>\n",
              "      <th>116804</th>\n",
              "      <td>what a waste of my time.  All 5 I ordered did ...</td>\n",
              "      <td>1</td>\n",
              "      <td>False</td>\n",
              "      <td>0.999198</td>\n",
              "    </tr>\n",
              "  </tbody>\n",
              "</table>\n",
              "<p>134476 rows × 4 columns</p>\n",
              "</div>"
            ],
            "text/plain": [
              "                                               reviewText  ...    chance\n",
              "27435   GREAT.. ........... .......... ............ .....  ...  0.000017\n",
              "52596                                     great sharpener  ...  0.000017\n",
              "50418                                               GREAT  ...  0.000017\n",
              "43376                                    Great thermostat  ...  0.000017\n",
              "51595                                       Great hammer.  ...  0.000017\n",
              "...                                                   ...  ...       ...\n",
              "98628   At first, we were very pleased with the STI-34...  ...  0.997914\n",
              "52390   Does not work as easy as advertized.  Does not...  ...  0.998576\n",
              "31175   This seemed OK when I first got it. But it sto...  ...  0.998668\n",
              "77560   size & brightness is good, but the motion acti...  ...  0.998968\n",
              "116804  what a waste of my time.  All 5 I ordered did ...  ...  0.999198\n",
              "\n",
              "[134476 rows x 4 columns]"
            ]
          },
          "metadata": {
            "tags": []
          },
          "execution_count": 131
        }
      ]
    },
    {
      "cell_type": "code",
      "metadata": {
        "colab": {
          "base_uri": "https://localhost:8080/",
          "height": 419
        },
        "id": "EXGBe1jQT158",
        "outputId": "e666f412-26ea-4d44-8f92-160bcdc9b9b3"
      },
      "source": [
        "class_conf_dat = dat2.iloc[::len(dat2.bin)//2000]\n",
        "class_conf_dat"
      ],
      "execution_count": 132,
      "outputs": [
        {
          "output_type": "execute_result",
          "data": {
            "text/html": [
              "<div>\n",
              "<style scoped>\n",
              "    .dataframe tbody tr th:only-of-type {\n",
              "        vertical-align: middle;\n",
              "    }\n",
              "\n",
              "    .dataframe tbody tr th {\n",
              "        vertical-align: top;\n",
              "    }\n",
              "\n",
              "    .dataframe thead th {\n",
              "        text-align: right;\n",
              "    }\n",
              "</style>\n",
              "<table border=\"1\" class=\"dataframe\">\n",
              "  <thead>\n",
              "    <tr style=\"text-align: right;\">\n",
              "      <th></th>\n",
              "      <th>reviewText</th>\n",
              "      <th>overall</th>\n",
              "      <th>bin</th>\n",
              "      <th>chance</th>\n",
              "    </tr>\n",
              "  </thead>\n",
              "  <tbody>\n",
              "    <tr>\n",
              "      <th>27435</th>\n",
              "      <td>GREAT.. ........... .......... ............ .....</td>\n",
              "      <td>5</td>\n",
              "      <td>True</td>\n",
              "      <td>0.000017</td>\n",
              "    </tr>\n",
              "    <tr>\n",
              "      <th>23336</th>\n",
              "      <td>This is a great inexspensive regulator. We pur...</td>\n",
              "      <td>5</td>\n",
              "      <td>True</td>\n",
              "      <td>0.001529</td>\n",
              "    </tr>\n",
              "    <tr>\n",
              "      <th>121284</th>\n",
              "      <td>This is an excellent Fossett for the price. Lo...</td>\n",
              "      <td>5</td>\n",
              "      <td>True</td>\n",
              "      <td>0.002155</td>\n",
              "    </tr>\n",
              "    <tr>\n",
              "      <th>12344</th>\n",
              "      <td>Works well. Very happy with it. Does what I ne...</td>\n",
              "      <td>5</td>\n",
              "      <td>True</td>\n",
              "      <td>0.002775</td>\n",
              "    </tr>\n",
              "    <tr>\n",
              "      <th>75424</th>\n",
              "      <td>This is great glue. Very nice bottle/dispenser...</td>\n",
              "      <td>5</td>\n",
              "      <td>True</td>\n",
              "      <td>0.003208</td>\n",
              "    </tr>\n",
              "    <tr>\n",
              "      <th>...</th>\n",
              "      <td>...</td>\n",
              "      <td>...</td>\n",
              "      <td>...</td>\n",
              "      <td>...</td>\n",
              "    </tr>\n",
              "    <tr>\n",
              "      <th>75403</th>\n",
              "      <td>After a few hours of use with this sander, it ...</td>\n",
              "      <td>2</td>\n",
              "      <td>False</td>\n",
              "      <td>0.979569</td>\n",
              "    </tr>\n",
              "    <tr>\n",
              "      <th>27692</th>\n",
              "      <td>These do not work.  I have used a lower rated ...</td>\n",
              "      <td>1</td>\n",
              "      <td>False</td>\n",
              "      <td>0.983213</td>\n",
              "    </tr>\n",
              "    <tr>\n",
              "      <th>95892</th>\n",
              "      <td>I guess I didn't read the description well eno...</td>\n",
              "      <td>4</td>\n",
              "      <td>True</td>\n",
              "      <td>0.986661</td>\n",
              "    </tr>\n",
              "    <tr>\n",
              "      <th>125678</th>\n",
              "      <td>I ordered three of these, and one's motion sen...</td>\n",
              "      <td>1</td>\n",
              "      <td>False</td>\n",
              "      <td>0.990735</td>\n",
              "    </tr>\n",
              "    <tr>\n",
              "      <th>39399</th>\n",
              "      <td>This is a cheap product. Don't waste your mone...</td>\n",
              "      <td>1</td>\n",
              "      <td>False</td>\n",
              "      <td>0.997655</td>\n",
              "    </tr>\n",
              "  </tbody>\n",
              "</table>\n",
              "<p>2008 rows × 4 columns</p>\n",
              "</div>"
            ],
            "text/plain": [
              "                                               reviewText  ...    chance\n",
              "27435   GREAT.. ........... .......... ............ .....  ...  0.000017\n",
              "23336   This is a great inexspensive regulator. We pur...  ...  0.001529\n",
              "121284  This is an excellent Fossett for the price. Lo...  ...  0.002155\n",
              "12344   Works well. Very happy with it. Does what I ne...  ...  0.002775\n",
              "75424   This is great glue. Very nice bottle/dispenser...  ...  0.003208\n",
              "...                                                   ...  ...       ...\n",
              "75403   After a few hours of use with this sander, it ...  ...  0.979569\n",
              "27692   These do not work.  I have used a lower rated ...  ...  0.983213\n",
              "95892   I guess I didn't read the description well eno...  ...  0.986661\n",
              "125678  I ordered three of these, and one's motion sen...  ...  0.990735\n",
              "39399   This is a cheap product. Don't waste your mone...  ...  0.997655\n",
              "\n",
              "[2008 rows x 4 columns]"
            ]
          },
          "metadata": {
            "tags": []
          },
          "execution_count": 132
        }
      ]
    },
    {
      "cell_type": "code",
      "metadata": {
        "colab": {
          "base_uri": "https://localhost:8080/"
        },
        "id": "UPpf4NelT16A",
        "outputId": "fd57d86b-3035-4bf6-d9ab-e41e39aefd9c"
      },
      "source": [
        "print(\"Соотношение false/true:\",len(class_conf_dat.bin)-sum(class_conf_dat.bin), \" / \", sum(class_conf_dat.bin))\n",
        "print(\"Всего \" , (len(class_conf_dat.bin)))"
      ],
      "execution_count": 133,
      "outputs": [
        {
          "output_type": "stream",
          "text": [
            "Соотношение false/true: 313  /  1695\n",
            "Всего  2008\n"
          ],
          "name": "stdout"
        }
      ]
    },
    {
      "cell_type": "code",
      "metadata": {
        "colab": {
          "base_uri": "https://localhost:8080/"
        },
        "id": "blEoJ8kyT16D",
        "outputId": "d442f124-75c9-48df-ee40-090360706d31"
      },
      "source": [
        "print(accuracy_score(class_conf_dat.bin, search.best_estimator_.predict(tfidf_vect.transform(class_conf_dat.reviewText))))\n",
        "print(classification_report(class_conf_dat.bin, search.best_estimator_.predict(tfidf_vect.transform(class_conf_dat.reviewText))))"
      ],
      "execution_count": 134,
      "outputs": [
        {
          "output_type": "stream",
          "text": [
            "0.848605577689243\n",
            "              precision    recall  f1-score   support\n",
            "\n",
            "       False       0.51      0.64      0.57       313\n",
            "        True       0.93      0.89      0.91      1695\n",
            "\n",
            "    accuracy                           0.85      2008\n",
            "   macro avg       0.72      0.76      0.74      2008\n",
            "weighted avg       0.87      0.85      0.86      2008\n",
            "\n"
          ],
          "name": "stdout"
        }
      ]
    },
    {
      "cell_type": "code",
      "metadata": {
        "id": "gPZun6tTT16G",
        "colab": {
          "base_uri": "https://localhost:8080/",
          "height": 592
        },
        "outputId": "a159a45f-d25d-4f58-c5e9-bb3d6927faea"
      },
      "source": [
        "acc_list = []\n",
        "size_list = []\n",
        "for sample_size in [100, 200, 400, 800, 1200, 1600, 2000, 2500, 3000, 4000]:\n",
        "  for step in range(10):\n",
        "    class_conf_dat = dat2.iloc[step::len(dat2.bin)//sample_size]\n",
        "    acc_list.append(accuracy_score(class_conf_dat.bin, search.best_estimator_.predict(tfidf_vect.transform(class_conf_dat.reviewText))))\n",
        "    size_list.append(sample_size)\n",
        "plt.figure(figsize=(10, 10))\n",
        "plt.ylim([ground_t - 0.1, ground_t + 0.1,])\n",
        "plt.scatter(size_list, acc_list)\n",
        "plt.axhline(y = ground_t)\n",
        "plt.show()"
      ],
      "execution_count": 135,
      "outputs": [
        {
          "output_type": "display_data",
          "data": {
            "image/png": "[encoded data removed]",
            "text/plain": [
              "<Figure size 720x720 with 1 Axes>"
            ]
          },
          "metadata": {
            "tags": [],
            "needs_background": "light"
          }
        }
      ]
    },
    {
      "cell_type": "code",
      "metadata": {
        "id": "tc-Z_9B3-Hsn"
      },
      "source": [
        ""
      ],
      "execution_count": 135,
      "outputs": []
    }
  ]
}