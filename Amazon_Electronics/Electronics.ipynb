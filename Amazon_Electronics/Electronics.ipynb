{
 "cells": [
  {
   "cell_type": "markdown",
   "metadata": {},
   "source": [
    "# Тестовое задание"
   ]
  },
  {
   "cell_type": "code",
   "execution_count": 63,
   "metadata": {},
   "outputs": [],
   "source": [
    "import pandas as pd\n",
    "import numpy as np\n",
    "import nltk\n",
    "from sklearn.feature_extraction.text import CountVectorizer,TfidfVectorizer"
   ]
  },
  {
   "cell_type": "code",
   "execution_count": 71,
   "metadata": {},
   "outputs": [],
   "source": [
    "count_vect = CountVectorizer()\n",
    "tfidf_vect = TfidfVectorizer()"
   ]
  },
  {
   "cell_type": "markdown",
   "metadata": {},
   "source": [
    "## Cкачиваем файл с данными"
   ]
  },
  {
   "cell_type": "code",
   "execution_count": 8,
   "metadata": {},
   "outputs": [],
   "source": [
    "#!wget http://snap.stanford.edu/data/amazon/productGraph/categoryFiles/reviews_Electronics_5.json.gz\n",
    "#или\n",
    "#!wget https://drive.google.com/open?id=1DwwTyIn5zW7KTxp4bONHtKNa6DlT9PUj"
   ]
  },
  {
   "cell_type": "markdown",
   "metadata": {},
   "source": [
    "## Если необходимо, преобразуем JSON к CSV"
   ]
  },
  {
   "cell_type": "code",
   "execution_count": null,
   "metadata": {},
   "outputs": [],
   "source": [
    "df = pd.read_json ('reviews_Electronics_5.json', lines=True )\n",
    "df.to_csv ('Electronics_5.csv', index = None)"
   ]
  },
  {
   "cell_type": "markdown",
   "metadata": {},
   "source": [
    "## Предобработка"
   ]
  },
  {
   "cell_type": "code",
   "execution_count": 2,
   "metadata": {},
   "outputs": [],
   "source": [
    "dat = pd.read_csv(\"Electronics_5.csv\")[[\"asin\",\"reviewText\", \"overall\"]]"
   ]
  },
  {
   "cell_type": "markdown",
   "metadata": {},
   "source": [
    "## Добавляем бинрную оценку"
   ]
  },
  {
   "cell_type": "code",
   "execution_count": 4,
   "metadata": {},
   "outputs": [],
   "source": [
    "dat[\"bin\"] = np.where(dat.overall > 3, 1, 0)"
   ]
  },
  {
   "cell_type": "markdown",
   "metadata": {},
   "source": [
    "## Отрежем кусок даты"
   ]
  },
  {
   "cell_type": "code",
   "execution_count": 11,
   "metadata": {},
   "outputs": [],
   "source": [
    "dat_t, dat = dat, dat[0:11]"
   ]
  },
  {
   "cell_type": "markdown",
   "metadata": {},
   "source": [
    "## Убираем стоп-слова"
   ]
  },
  {
   "cell_type": "code",
   "execution_count": 54,
   "metadata": {},
   "outputs": [
    {
     "name": "stderr",
     "output_type": "stream",
     "text": [
      "/home/denis/anaconda3/lib/python3.7/site-packages/ipykernel_launcher.py:3: SettingWithCopyWarning: \n",
      "A value is trying to be set on a copy of a slice from a DataFrame\n",
      "\n",
      "See the caveats in the documentation: http://pandas.pydata.org/pandas-docs/stable/user_guide/indexing.html#returning-a-view-versus-a-copy\n",
      "  This is separate from the ipykernel package so we can avoid doing imports until\n"
     ]
    }
   ],
   "source": [
    "dat[\"words\"] = dat.reviewText.str.split()\n",
    "for i in range(len(dat[\"words\"])):\n",
    "    dat[\"words\"][i] = (\" \").join(list(map(lambda x: x.lower(),filter(lambda word: word.lower() not in nltk.corpus.stopwords.words('english'), dat[\"words\"][i]))))"
   ]
  },
  {
   "cell_type": "code",
   "execution_count": 72,
   "metadata": {},
   "outputs": [],
   "source": [
    "dat_count = count_vect.fit_transform(dat.words).toarray()\n",
    "dat_tfidf = tfidf_vect.fit_transform(dat.words).toarray()"
   ]
  },
  {
   "cell_type": "markdown",
   "metadata": {},
   "source": [
    "## Проверим, что получилось"
   ]
  },
  {
   "cell_type": "code",
   "execution_count": 68,
   "metadata": {},
   "outputs": [
    {
     "data": {
      "text/html": [
       "<div>\n",
       "<style scoped>\n",
       "    .dataframe tbody tr th:only-of-type {\n",
       "        vertical-align: middle;\n",
       "    }\n",
       "\n",
       "    .dataframe tbody tr th {\n",
       "        vertical-align: top;\n",
       "    }\n",
       "\n",
       "    .dataframe thead th {\n",
       "        text-align: right;\n",
       "    }\n",
       "</style>\n",
       "<table border=\"1\" class=\"dataframe\">\n",
       "  <thead>\n",
       "    <tr style=\"text-align: right;\">\n",
       "      <th></th>\n",
       "      <th>asin</th>\n",
       "      <th>reviewText</th>\n",
       "      <th>overall</th>\n",
       "      <th>bin</th>\n",
       "      <th>words</th>\n",
       "      <th>words_2</th>\n",
       "    </tr>\n",
       "  </thead>\n",
       "  <tbody>\n",
       "    <tr>\n",
       "      <td>0</td>\n",
       "      <td>0528881469</td>\n",
       "      <td>We got this GPS for my husband who is an (OTR)...</td>\n",
       "      <td>5</td>\n",
       "      <td>1</td>\n",
       "      <td>got gps husband (otr) road trucker. impressed ...</td>\n",
       "      <td>(0, 713)\\t1\\n  (0, 269)\\t1\\n  (0, 630)\\t1\\n ...</td>\n",
       "    </tr>\n",
       "    <tr>\n",
       "      <td>1</td>\n",
       "      <td>0528881469</td>\n",
       "      <td>I'm a professional OTR truck driver, and I bou...</td>\n",
       "      <td>1</td>\n",
       "      <td>0</td>\n",
       "      <td>i'm professional otr truck driver, bought tnd ...</td>\n",
       "      <td>(0, 713)\\t1\\n  (0, 269)\\t1\\n  (0, 630)\\t1\\n ...</td>\n",
       "    </tr>\n",
       "    <tr>\n",
       "      <td>2</td>\n",
       "      <td>0528881469</td>\n",
       "      <td>Well, what can I say.  I've had this unit in m...</td>\n",
       "      <td>3</td>\n",
       "      <td>0</td>\n",
       "      <td>well, say. i've unit truck four days now. prio...</td>\n",
       "      <td>(0, 713)\\t1\\n  (0, 269)\\t1\\n  (0, 630)\\t1\\n ...</td>\n",
       "    </tr>\n",
       "    <tr>\n",
       "      <td>3</td>\n",
       "      <td>0528881469</td>\n",
       "      <td>Not going to write a long review, even thought...</td>\n",
       "      <td>2</td>\n",
       "      <td>0</td>\n",
       "      <td>going write long review, even thought unit des...</td>\n",
       "      <td>(0, 713)\\t1\\n  (0, 269)\\t1\\n  (0, 630)\\t1\\n ...</td>\n",
       "    </tr>\n",
       "    <tr>\n",
       "      <td>4</td>\n",
       "      <td>0528881469</td>\n",
       "      <td>I've had mine for a year and here's what we go...</td>\n",
       "      <td>1</td>\n",
       "      <td>0</td>\n",
       "      <td>i've mine year here's got. tries route non tru...</td>\n",
       "      <td>(0, 713)\\t1\\n  (0, 269)\\t1\\n  (0, 630)\\t1\\n ...</td>\n",
       "    </tr>\n",
       "    <tr>\n",
       "      <td>5</td>\n",
       "      <td>0594451647</td>\n",
       "      <td>I am using this with a Nook HD+. It works as d...</td>\n",
       "      <td>5</td>\n",
       "      <td>1</td>\n",
       "      <td>using nook hd+. works described. hd picture sa...</td>\n",
       "      <td>(0, 713)\\t1\\n  (0, 269)\\t1\\n  (0, 630)\\t1\\n ...</td>\n",
       "    </tr>\n",
       "    <tr>\n",
       "      <td>6</td>\n",
       "      <td>0594451647</td>\n",
       "      <td>The cable is very wobbly and sometimes disconn...</td>\n",
       "      <td>2</td>\n",
       "      <td>0</td>\n",
       "      <td>cable wobbly sometimes disconnects itself.the ...</td>\n",
       "      <td>(0, 713)\\t1\\n  (0, 269)\\t1\\n  (0, 630)\\t1\\n ...</td>\n",
       "    </tr>\n",
       "    <tr>\n",
       "      <td>7</td>\n",
       "      <td>0594451647</td>\n",
       "      <td>This adaptor is real easy to setup and use rig...</td>\n",
       "      <td>5</td>\n",
       "      <td>1</td>\n",
       "      <td>adaptor real easy setup use right box. problem...</td>\n",
       "      <td>(0, 713)\\t1\\n  (0, 269)\\t1\\n  (0, 630)\\t1\\n ...</td>\n",
       "    </tr>\n",
       "    <tr>\n",
       "      <td>8</td>\n",
       "      <td>0594451647</td>\n",
       "      <td>This adapter easily connects my Nook HD 7&amp;#34;...</td>\n",
       "      <td>4</td>\n",
       "      <td>1</td>\n",
       "      <td>adapter easily connects nook hd 7&amp;#34; hdtv hd...</td>\n",
       "      <td>(0, 713)\\t1\\n  (0, 269)\\t1\\n  (0, 630)\\t1\\n ...</td>\n",
       "    </tr>\n",
       "    <tr>\n",
       "      <td>9</td>\n",
       "      <td>0594451647</td>\n",
       "      <td>This product really works great but I found th...</td>\n",
       "      <td>5</td>\n",
       "      <td>1</td>\n",
       "      <td>product really works great found following ite...</td>\n",
       "      <td>(0, 713)\\t1\\n  (0, 269)\\t1\\n  (0, 630)\\t1\\n ...</td>\n",
       "    </tr>\n",
       "    <tr>\n",
       "      <td>10</td>\n",
       "      <td>0594481813</td>\n",
       "      <td>This item is just as was described in the orig...</td>\n",
       "      <td>4</td>\n",
       "      <td>1</td>\n",
       "      <td>item described original description, works wit...</td>\n",
       "      <td>(0, 713)\\t1\\n  (0, 269)\\t1\\n  (0, 630)\\t1\\n ...</td>\n",
       "    </tr>\n",
       "  </tbody>\n",
       "</table>\n",
       "</div>"
      ],
      "text/plain": [
       "          asin                                         reviewText  overall  \\\n",
       "0   0528881469  We got this GPS for my husband who is an (OTR)...        5   \n",
       "1   0528881469  I'm a professional OTR truck driver, and I bou...        1   \n",
       "2   0528881469  Well, what can I say.  I've had this unit in m...        3   \n",
       "3   0528881469  Not going to write a long review, even thought...        2   \n",
       "4   0528881469  I've had mine for a year and here's what we go...        1   \n",
       "5   0594451647  I am using this with a Nook HD+. It works as d...        5   \n",
       "6   0594451647  The cable is very wobbly and sometimes disconn...        2   \n",
       "7   0594451647  This adaptor is real easy to setup and use rig...        5   \n",
       "8   0594451647  This adapter easily connects my Nook HD 7&#34;...        4   \n",
       "9   0594451647  This product really works great but I found th...        5   \n",
       "10  0594481813  This item is just as was described in the orig...        4   \n",
       "\n",
       "    bin                                              words  \\\n",
       "0     1  got gps husband (otr) road trucker. impressed ...   \n",
       "1     0  i'm professional otr truck driver, bought tnd ...   \n",
       "2     0  well, say. i've unit truck four days now. prio...   \n",
       "3     0  going write long review, even thought unit des...   \n",
       "4     0  i've mine year here's got. tries route non tru...   \n",
       "5     1  using nook hd+. works described. hd picture sa...   \n",
       "6     0  cable wobbly sometimes disconnects itself.the ...   \n",
       "7     1  adaptor real easy setup use right box. problem...   \n",
       "8     1  adapter easily connects nook hd 7&#34; hdtv hd...   \n",
       "9     1  product really works great found following ite...   \n",
       "10    1  item described original description, works wit...   \n",
       "\n",
       "                                              words_2  \n",
       "0     (0, 713)\\t1\\n  (0, 269)\\t1\\n  (0, 630)\\t1\\n ...  \n",
       "1     (0, 713)\\t1\\n  (0, 269)\\t1\\n  (0, 630)\\t1\\n ...  \n",
       "2     (0, 713)\\t1\\n  (0, 269)\\t1\\n  (0, 630)\\t1\\n ...  \n",
       "3     (0, 713)\\t1\\n  (0, 269)\\t1\\n  (0, 630)\\t1\\n ...  \n",
       "4     (0, 713)\\t1\\n  (0, 269)\\t1\\n  (0, 630)\\t1\\n ...  \n",
       "5     (0, 713)\\t1\\n  (0, 269)\\t1\\n  (0, 630)\\t1\\n ...  \n",
       "6     (0, 713)\\t1\\n  (0, 269)\\t1\\n  (0, 630)\\t1\\n ...  \n",
       "7     (0, 713)\\t1\\n  (0, 269)\\t1\\n  (0, 630)\\t1\\n ...  \n",
       "8     (0, 713)\\t1\\n  (0, 269)\\t1\\n  (0, 630)\\t1\\n ...  \n",
       "9     (0, 713)\\t1\\n  (0, 269)\\t1\\n  (0, 630)\\t1\\n ...  \n",
       "10    (0, 713)\\t1\\n  (0, 269)\\t1\\n  (0, 630)\\t1\\n ...  "
      ]
     },
     "execution_count": 68,
     "metadata": {},
     "output_type": "execute_result"
    }
   ],
   "source": [
    "dat"
   ]
  },
  {
   "cell_type": "code",
   "execution_count": 69,
   "metadata": {},
   "outputs": [
    {
     "data": {
      "text/plain": [
       "array([[0, 0, 0, ..., 0, 0, 0],\n",
       "       [1, 0, 0, ..., 0, 1, 0],\n",
       "       [0, 2, 2, ..., 0, 0, 0],\n",
       "       ...,\n",
       "       [0, 0, 0, ..., 0, 0, 0],\n",
       "       [0, 0, 0, ..., 1, 0, 1],\n",
       "       [0, 0, 0, ..., 0, 0, 0]])"
      ]
     },
     "execution_count": 69,
     "metadata": {},
     "output_type": "execute_result"
    }
   ],
   "source": [
    "dat_count"
   ]
  },
  {
   "cell_type": "code",
   "execution_count": 73,
   "metadata": {},
   "outputs": [
    {
     "data": {
      "text/plain": [
       "array([[0.        , 0.        , 0.        , ..., 0.        , 0.        ,\n",
       "        0.        ],\n",
       "       [0.05735064, 0.        , 0.        , ..., 0.        , 0.05735064,\n",
       "        0.        ],\n",
       "       [0.        , 0.05445563, 0.06370841, ..., 0.        , 0.        ,\n",
       "        0.        ],\n",
       "       ...,\n",
       "       [0.        , 0.        , 0.        , ..., 0.        , 0.        ,\n",
       "        0.        ],\n",
       "       [0.        , 0.        , 0.        , ..., 0.07880857, 0.        ,\n",
       "        0.09219926],\n",
       "       [0.        , 0.        , 0.        , ..., 0.        , 0.        ,\n",
       "        0.        ]])"
      ]
     },
     "execution_count": 73,
     "metadata": {},
     "output_type": "execute_result"
    }
   ],
   "source": [
    "dat_tfidf"
   ]
  },
  {
   "cell_type": "code",
   "execution_count": null,
   "metadata": {},
   "outputs": [],
   "source": []
  }
 ],
 "metadata": {
  "kernelspec": {
   "display_name": "Python 3",
   "language": "python",
   "name": "python3"
  },
  "language_info": {
   "codemirror_mode": {
    "name": "ipython",
    "version": 3
   },
   "file_extension": ".py",
   "mimetype": "text/x-python",
   "name": "python",
   "nbconvert_exporter": "python",
   "pygments_lexer": "ipython3",
   "version": "3.7.4"
  }
 },
 "nbformat": 4,
 "nbformat_minor": 2
}
