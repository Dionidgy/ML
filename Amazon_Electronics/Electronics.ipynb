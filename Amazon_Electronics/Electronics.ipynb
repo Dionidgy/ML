{
 "cells": [
  {
   "cell_type": "markdown",
   "metadata": {},
   "source": [
    "# Тестовое задание"
   ]
  },
  {
   "cell_type": "code",
   "execution_count": 1,
   "metadata": {},
   "outputs": [],
   "source": [
    "import pandas as pd\n",
    "import numpy as np\n",
    "import nltk\n",
    "from sklearn.feature_extraction.text import CountVectorizer,TfidfVectorizer\n",
    "from sklearn.linear_model import LogisticRegression\n",
    "from sklearn.model_selection import train_test_split\n",
    "from sklearn.metrics import accuracy_score\n",
    "from sklearn.model_selection import GridSearchCV\n",
    "import string"
   ]
  },
  {
   "cell_type": "code",
   "execution_count": 28,
   "metadata": {},
   "outputs": [],
   "source": [
    "count_vect = CountVectorizer(max_df = 0.7, min_df = 0.05, ngram_range=(1, 3))\n",
    "tfidf_vect = TfidfVectorizer(max_df = 0.7, min_df = 0.05, ngram_range=(1, 3))\n",
    "porter_stemmer = nltk.stem.PorterStemmer()\n",
    "tok = count_vect.build_tokenizer()\n",
    "clf = LogisticRegression(solver='liblinear')"
   ]
  },
  {
   "cell_type": "markdown",
   "metadata": {},
   "source": [
    "## Cкачиваем файл с данными"
   ]
  },
  {
   "cell_type": "code",
   "execution_count": 451,
   "metadata": {},
   "outputs": [],
   "source": [
    "#!wget http://snap.stanford.edu/data/amazon/productGraph/categoryFiles/reviews_Electronics_5.json.gz\n",
    "#или\n",
    "#!wget https://drive.google.com/open?id=1DwwTyIn5zW7KTxp4bONHtKNa6DlT9PUj"
   ]
  },
  {
   "cell_type": "markdown",
   "metadata": {},
   "source": [
    "## Если необходимо, преобразуем JSON к CSV"
   ]
  },
  {
   "cell_type": "code",
   "execution_count": 452,
   "metadata": {},
   "outputs": [],
   "source": [
    "#df = pd.read_json ('reviews_Electronics_5.json', lines=True )\n",
    "#df.to_csv ('Electronics_5.csv', index = None)"
   ]
  },
  {
   "cell_type": "markdown",
   "metadata": {},
   "source": [
    "# Предобработка"
   ]
  },
  {
   "cell_type": "code",
   "execution_count": 3,
   "metadata": {},
   "outputs": [],
   "source": [
    "dat = pd.read_csv(\"Electronics_5.csv\")[[\"asin\",\"reviewText\", \"overall\"]]"
   ]
  },
  {
   "cell_type": "markdown",
   "metadata": {},
   "source": [
    "## Добавляем бинрную оценку"
   ]
  },
  {
   "cell_type": "code",
   "execution_count": 4,
   "metadata": {},
   "outputs": [],
   "source": [
    "dat[\"bin\"] = dat.overall > 3"
   ]
  },
  {
   "cell_type": "markdown",
   "metadata": {},
   "source": [
    "## Отрежем кусок даты"
   ]
  },
  {
   "cell_type": "code",
   "execution_count": 5,
   "metadata": {},
   "outputs": [],
   "source": [
    "dat_t, dat = dat, dat[0:5001]"
   ]
  },
  {
   "cell_type": "markdown",
   "metadata": {},
   "source": [
    "## Натравим на необработанные данные"
   ]
  },
  {
   "cell_type": "code",
   "execution_count": 29,
   "metadata": {},
   "outputs": [],
   "source": [
    "dat_count_deft = count_vect.fit_transform(dat.reviewText.apply(lambda x: np.str_(x)))\n",
    "dat_tfidf_deft = tfidf_vect.fit_transform(dat.reviewText.apply(lambda x: np.str_(x)))\n"
   ]
  },
  {
   "cell_type": "markdown",
   "metadata": {},
   "source": [
    "## Приводим к базовой форме"
   ]
  },
  {
   "cell_type": "code",
   "execution_count": 7,
   "metadata": {},
   "outputs": [
    {
     "name": "stderr",
     "output_type": "stream",
     "text": [
      "/home/denis/anaconda3/lib/python3.7/site-packages/ipykernel_launcher.py:1: SettingWithCopyWarning: \n",
      "A value is trying to be set on a copy of a slice from a DataFrame.\n",
      "Try using .loc[row_indexer,col_indexer] = value instead\n",
      "\n",
      "See the caveats in the documentation: http://pandas.pydata.org/pandas-docs/stable/user_guide/indexing.html#returning-a-view-versus-a-copy\n",
      "  \"\"\"Entry point for launching an IPython kernel.\n"
     ]
    }
   ],
   "source": [
    "dat[\"words\"] = list(map(lambda elem: (\" \").join(map(lambda s: (porter_stemmer.stem(s)), elem)).lower().translate(str.maketrans('', '', string.punctuation)), map(lambda wrds: tok(wrds), dat.reviewText.apply(lambda x: np.str_(x)))))"
   ]
  },
  {
   "cell_type": "markdown",
   "metadata": {},
   "source": [
    "## Можно воспользоваться анализатором, который предоставляют векторайзеры"
   ]
  },
  {
   "cell_type": "code",
   "execution_count": 82,
   "metadata": {},
   "outputs": [],
   "source": [
    "# anlz = count_vect.build_analyzer()\n",
    "# dat.words = list(map(lambda s: (\" \").join(anlz(s)), dat.reviewText))"
   ]
  },
  {
   "cell_type": "markdown",
   "metadata": {},
   "source": [
    "## Натравим на обработанные данные"
   ]
  },
  {
   "cell_type": "code",
   "execution_count": 30,
   "metadata": {},
   "outputs": [],
   "source": [
    "dat_count = count_vect.fit_transform(dat.words)\n",
    "dat_tfidf = tfidf_vect.fit_transform(dat.words)"
   ]
  },
  {
   "cell_type": "markdown",
   "metadata": {},
   "source": [
    "## Проверим, что получилось"
   ]
  },
  {
   "cell_type": "code",
   "execution_count": 31,
   "metadata": {},
   "outputs": [
    {
     "data": {
      "text/html": [
       "<div>\n",
       "<style scoped>\n",
       "    .dataframe tbody tr th:only-of-type {\n",
       "        vertical-align: middle;\n",
       "    }\n",
       "\n",
       "    .dataframe tbody tr th {\n",
       "        vertical-align: top;\n",
       "    }\n",
       "\n",
       "    .dataframe thead th {\n",
       "        text-align: right;\n",
       "    }\n",
       "</style>\n",
       "<table border=\"1\" class=\"dataframe\">\n",
       "  <thead>\n",
       "    <tr style=\"text-align: right;\">\n",
       "      <th></th>\n",
       "      <th>asin</th>\n",
       "      <th>reviewText</th>\n",
       "      <th>overall</th>\n",
       "      <th>bin</th>\n",
       "      <th>words</th>\n",
       "    </tr>\n",
       "  </thead>\n",
       "  <tbody>\n",
       "    <tr>\n",
       "      <td>0</td>\n",
       "      <td>0528881469</td>\n",
       "      <td>We got this GPS for my husband who is an (OTR)...</td>\n",
       "      <td>5</td>\n",
       "      <td>True</td>\n",
       "      <td>we got thi gp for my husband who is an otr ove...</td>\n",
       "    </tr>\n",
       "    <tr>\n",
       "      <td>1</td>\n",
       "      <td>0528881469</td>\n",
       "      <td>I'm a professional OTR truck driver, and I bou...</td>\n",
       "      <td>1</td>\n",
       "      <td>False</td>\n",
       "      <td>profession otr truck driver and bought tnd 700...</td>\n",
       "    </tr>\n",
       "    <tr>\n",
       "      <td>2</td>\n",
       "      <td>0528881469</td>\n",
       "      <td>Well, what can I say.  I've had this unit in m...</td>\n",
       "      <td>3</td>\n",
       "      <td>False</td>\n",
       "      <td>well what can say ve had thi unit in my truck ...</td>\n",
       "    </tr>\n",
       "    <tr>\n",
       "      <td>3</td>\n",
       "      <td>0528881469</td>\n",
       "      <td>Not going to write a long review, even thought...</td>\n",
       "      <td>2</td>\n",
       "      <td>False</td>\n",
       "      <td>not go to write long review even thought thi u...</td>\n",
       "    </tr>\n",
       "    <tr>\n",
       "      <td>4</td>\n",
       "      <td>0528881469</td>\n",
       "      <td>I've had mine for a year and here's what we go...</td>\n",
       "      <td>1</td>\n",
       "      <td>False</td>\n",
       "      <td>ve had mine for year and here what we got it t...</td>\n",
       "    </tr>\n",
       "    <tr>\n",
       "      <td>...</td>\n",
       "      <td>...</td>\n",
       "      <td>...</td>\n",
       "      <td>...</td>\n",
       "      <td>...</td>\n",
       "      <td>...</td>\n",
       "    </tr>\n",
       "    <tr>\n",
       "      <td>4996</td>\n",
       "      <td>B00001WRSJ</td>\n",
       "      <td>Pro:Great sound.  Fairly effective sound isola...</td>\n",
       "      <td>3</td>\n",
       "      <td>False</td>\n",
       "      <td>pro great sound fairli effect sound isol well ...</td>\n",
       "    </tr>\n",
       "    <tr>\n",
       "      <td>4997</td>\n",
       "      <td>B00001WRSJ</td>\n",
       "      <td>I did not know that Sony made headphones of th...</td>\n",
       "      <td>5</td>\n",
       "      <td>True</td>\n",
       "      <td>did not know that soni made headphon of thi qu...</td>\n",
       "    </tr>\n",
       "    <tr>\n",
       "      <td>4998</td>\n",
       "      <td>B00001WRSJ</td>\n",
       "      <td>Just like the title of my review says, I've ha...</td>\n",
       "      <td>5</td>\n",
       "      <td>True</td>\n",
       "      <td>just like the titl of my review say ve had the...</td>\n",
       "    </tr>\n",
       "    <tr>\n",
       "      <td>4999</td>\n",
       "      <td>B00001WRSJ</td>\n",
       "      <td>I love these headphones. The sound is superb. ...</td>\n",
       "      <td>4</td>\n",
       "      <td>True</td>\n",
       "      <td>love these headphon the sound is superb bass t...</td>\n",
       "    </tr>\n",
       "    <tr>\n",
       "      <td>5000</td>\n",
       "      <td>B00001WRSJ</td>\n",
       "      <td>There has been a degeneration of Sony products...</td>\n",
       "      <td>3</td>\n",
       "      <td>False</td>\n",
       "      <td>there ha been degener of soni product these he...</td>\n",
       "    </tr>\n",
       "  </tbody>\n",
       "</table>\n",
       "<p>5001 rows × 5 columns</p>\n",
       "</div>"
      ],
      "text/plain": [
       "            asin                                         reviewText  overall  \\\n",
       "0     0528881469  We got this GPS for my husband who is an (OTR)...        5   \n",
       "1     0528881469  I'm a professional OTR truck driver, and I bou...        1   \n",
       "2     0528881469  Well, what can I say.  I've had this unit in m...        3   \n",
       "3     0528881469  Not going to write a long review, even thought...        2   \n",
       "4     0528881469  I've had mine for a year and here's what we go...        1   \n",
       "...          ...                                                ...      ...   \n",
       "4996  B00001WRSJ  Pro:Great sound.  Fairly effective sound isola...        3   \n",
       "4997  B00001WRSJ  I did not know that Sony made headphones of th...        5   \n",
       "4998  B00001WRSJ  Just like the title of my review says, I've ha...        5   \n",
       "4999  B00001WRSJ  I love these headphones. The sound is superb. ...        4   \n",
       "5000  B00001WRSJ  There has been a degeneration of Sony products...        3   \n",
       "\n",
       "        bin                                              words  \n",
       "0      True  we got thi gp for my husband who is an otr ove...  \n",
       "1     False  profession otr truck driver and bought tnd 700...  \n",
       "2     False  well what can say ve had thi unit in my truck ...  \n",
       "3     False  not go to write long review even thought thi u...  \n",
       "4     False  ve had mine for year and here what we got it t...  \n",
       "...     ...                                                ...  \n",
       "4996  False  pro great sound fairli effect sound isol well ...  \n",
       "4997   True  did not know that soni made headphon of thi qu...  \n",
       "4998   True  just like the titl of my review say ve had the...  \n",
       "4999   True  love these headphon the sound is superb bass t...  \n",
       "5000  False  there ha been degener of soni product these he...  \n",
       "\n",
       "[5001 rows x 5 columns]"
      ]
     },
     "execution_count": 31,
     "metadata": {},
     "output_type": "execute_result"
    }
   ],
   "source": [
    "dat"
   ]
  },
  {
   "cell_type": "markdown",
   "metadata": {},
   "source": [
    "## Разобьем вектора на выборки"
   ]
  },
  {
   "cell_type": "code",
   "execution_count": 32,
   "metadata": {},
   "outputs": [],
   "source": [
    "count_train_mtrx, count_test_mtrx, count_train_ans, count_test_ans = train_test_split(\n",
    "    dat_count, dat.bin, test_size=0.2)\n",
    "#dat_count.toarray()"
   ]
  },
  {
   "cell_type": "code",
   "execution_count": 33,
   "metadata": {},
   "outputs": [],
   "source": [
    "tfidf_train_mtrx, tfidf_test_mtrx, tfidf_train_ans, tfidf_test_ans = train_test_split(\n",
    "    dat_tfidf, dat.bin, test_size=0.2)\n",
    "#dat_tfidf.toarray()"
   ]
  },
  {
   "cell_type": "code",
   "execution_count": 34,
   "metadata": {},
   "outputs": [],
   "source": [
    "count_train_mtrx_dft, count_test_mtrx_dft, count_train_ans_dft, count_test_ans_dft = train_test_split(\n",
    "    dat_count_deft, dat.bin, test_size=0.2)"
   ]
  },
  {
   "cell_type": "code",
   "execution_count": 35,
   "metadata": {},
   "outputs": [],
   "source": [
    "tfidf_train_mtrx_dft, tfidf_test_mtrx_dft, tfidf_train_ans_dft, tfidf_test_ans_dft = train_test_split(\n",
    "    dat_tfidf_deft, dat.bin, test_size=0.2)"
   ]
  },
  {
   "cell_type": "markdown",
   "metadata": {},
   "source": [
    "## Обучим модели и посмотрим их точность"
   ]
  },
  {
   "cell_type": "code",
   "execution_count": 36,
   "metadata": {},
   "outputs": [
    {
     "data": {
      "text/plain": [
       "0.8121878121878122"
      ]
     },
     "execution_count": 36,
     "metadata": {},
     "output_type": "execute_result"
    }
   ],
   "source": [
    "clf.fit(count_train_mtrx, count_train_ans)\n",
    "cout_pred = clf.predict(count_test_mtrx)\n",
    "accuracy_score(cout_pred, count_test_ans)"
   ]
  },
  {
   "cell_type": "code",
   "execution_count": 37,
   "metadata": {},
   "outputs": [
    {
     "data": {
      "text/plain": [
       "0.8241758241758241"
      ]
     },
     "execution_count": 37,
     "metadata": {},
     "output_type": "execute_result"
    }
   ],
   "source": [
    "clf.fit(tfidf_train_mtrx, tfidf_train_ans)\n",
    "tfidf_pred = clf.predict(tfidf_test_mtrx)\n",
    "accuracy_score(tfidf_pred, tfidf_test_ans)"
   ]
  },
  {
   "cell_type": "code",
   "execution_count": 38,
   "metadata": {},
   "outputs": [
    {
     "data": {
      "text/plain": [
       "0.8161838161838162"
      ]
     },
     "execution_count": 38,
     "metadata": {},
     "output_type": "execute_result"
    }
   ],
   "source": [
    "clf.fit(count_train_mtrx_dft, count_train_ans_dft)\n",
    "cout_pred = clf.predict(count_test_mtrx_dft)\n",
    "accuracy_score(cout_pred, count_test_ans_dft)"
   ]
  },
  {
   "cell_type": "code",
   "execution_count": 39,
   "metadata": {},
   "outputs": [
    {
     "data": {
      "text/plain": [
       "0.8251748251748252"
      ]
     },
     "execution_count": 39,
     "metadata": {},
     "output_type": "execute_result"
    }
   ],
   "source": [
    "clf.fit(tfidf_train_mtrx_dft, tfidf_train_ans_dft)\n",
    "tfidf_pred = clf.predict(tfidf_test_mtrx_dft)\n",
    "accuracy_score(tfidf_pred, tfidf_test_ans_dft)"
   ]
  },
  {
   "cell_type": "code",
   "execution_count": 50,
   "metadata": {},
   "outputs": [
    {
     "name": "stdout",
     "output_type": "stream",
     "text": [
      "{'C': 0.5, 'penalty': 'l1'}\n"
     ]
    }
   ],
   "source": [
    "param_grid = {\n",
    "    'C': np.arange(0.5, 3, 0.1),\n",
    "    'penalty': ['l1', 'l2']\n",
    "}\n",
    "search = GridSearchCV(clf, param_grid, cv=5)\n",
    "search.fit(dat_count, dat.bin)\n",
    "print(search.best_params_)"
   ]
  },
  {
   "cell_type": "code",
   "execution_count": 53,
   "metadata": {},
   "outputs": [
    {
     "data": {
      "text/plain": [
       "0.8484303139372126"
      ]
     },
     "execution_count": 53,
     "metadata": {},
     "output_type": "execute_result"
    }
   ],
   "source": [
    "accuracy_score(dat.bin, search.best_estimator_.predict(dat_count))"
   ]
  },
  {
   "cell_type": "code",
   "execution_count": 42,
   "metadata": {},
   "outputs": [
    {
     "name": "stdout",
     "output_type": "stream",
     "text": [
      "{'C': 1.8999999999999997, 'penalty': 'l1'}\n"
     ]
    }
   ],
   "source": [
    "param_grid = {\n",
    "    'C': np.arange(0.5, 3, 0.1),\n",
    "    'penalty': ['l1', 'l2']\n",
    "}\n",
    "search = GridSearchCV(clf, param_grid, cv=5)\n",
    "search.fit(dat_tfidf, dat.bin)\n",
    "print(search.best_params_)"
   ]
  },
  {
   "cell_type": "code",
   "execution_count": 49,
   "metadata": {},
   "outputs": [
    {
     "data": {
      "text/plain": [
       "0.8524295140971806"
      ]
     },
     "execution_count": 49,
     "metadata": {},
     "output_type": "execute_result"
    }
   ],
   "source": [
    "accuracy_score(dat.bin, search.best_estimator_.predict(dat_tfidf))"
   ]
  },
  {
   "cell_type": "code",
   "execution_count": 54,
   "metadata": {},
   "outputs": [
    {
     "name": "stdout",
     "output_type": "stream",
     "text": [
      "{'C': 0.5, 'penalty': 'l2'}\n"
     ]
    }
   ],
   "source": [
    "param_grid = {\n",
    "    'C': np.arange(0.5, 3, 0.1),\n",
    "    'penalty': ['l1', 'l2']\n",
    "}\n",
    "search = GridSearchCV(clf, param_grid, cv=5)\n",
    "search.fit(dat_count_deft, dat.bin)\n",
    "print(search.best_params_)"
   ]
  },
  {
   "cell_type": "code",
   "execution_count": 55,
   "metadata": {},
   "outputs": [
    {
     "data": {
      "text/plain": [
       "0.8542291541691661"
      ]
     },
     "execution_count": 55,
     "metadata": {},
     "output_type": "execute_result"
    }
   ],
   "source": [
    "accuracy_score(dat.bin, search.best_estimator_.predict(dat_count_deft))"
   ]
  },
  {
   "cell_type": "code",
   "execution_count": 56,
   "metadata": {},
   "outputs": [
    {
     "name": "stdout",
     "output_type": "stream",
     "text": [
      "{'C': 1.4, 'penalty': 'l2'}\n"
     ]
    }
   ],
   "source": [
    "param_grid = {\n",
    "    'C': np.arange(0.5, 3, 0.1),\n",
    "    'penalty': ['l1', 'l2']\n",
    "}\n",
    "search = GridSearchCV(clf, param_grid, cv=5)\n",
    "search.fit(dat_tfidf_deft, dat.bin)\n",
    "print(search.best_params_)"
   ]
  },
  {
   "cell_type": "code",
   "execution_count": 57,
   "metadata": {},
   "outputs": [
    {
     "data": {
      "text/plain": [
       "0.8460307938412317"
      ]
     },
     "execution_count": 57,
     "metadata": {},
     "output_type": "execute_result"
    }
   ],
   "source": [
    "accuracy_score(dat.bin, search.best_estimator_.predict(dat_tfidf_deft))"
   ]
  },
  {
   "cell_type": "code",
   "execution_count": null,
   "metadata": {},
   "outputs": [],
   "source": []
  }
 ],
 "metadata": {
  "kernelspec": {
   "display_name": "Python 3",
   "language": "python",
   "name": "python3"
  },
  "language_info": {
   "codemirror_mode": {
    "name": "ipython",
    "version": 3
   },
   "file_extension": ".py",
   "mimetype": "text/x-python",
   "name": "python",
   "nbconvert_exporter": "python",
   "pygments_lexer": "ipython3",
   "version": "3.7.4"
  }
 },
 "nbformat": 4,
 "nbformat_minor": 2
}
