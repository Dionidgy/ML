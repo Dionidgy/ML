{
 "cells": [
  {
   "cell_type": "markdown",
   "metadata": {},
   "source": [
    "# Тестовое задание"
   ]
  },
  {
   "cell_type": "code",
   "execution_count": 238,
   "metadata": {},
   "outputs": [],
   "source": [
    "import pandas as pd\n",
    "import numpy as np\n",
    "import nltk\n",
    "from sklearn.feature_extraction.text import CountVectorizer,TfidfVectorizer\n",
    "from sklearn.linear_model import LogisticRegression\n",
    "from sklearn.model_selection import train_test_split\n",
    "from sklearn.metrics import accuracy_score\n",
    "from sklearn.model_selection import GridSearchCV\n",
    "import string"
   ]
  },
  {
   "cell_type": "code",
   "execution_count": 175,
   "metadata": {},
   "outputs": [],
   "source": [
    "count_vect = CountVectorizer(max_df = 0.9, min_df = 10, ngram_range=(1, 3))\n",
    "tfidf_vect = TfidfVectorizer(max_df = 0.9, min_df = 10, ngram_range=(1, 3))\n",
    "porter_stemmer = nltk.stem.PorterStemmer()\n",
    "tok = count_vect.build_tokenizer()\n",
    "clf = LogisticRegression(solver='liblinear')"
   ]
  },
  {
   "cell_type": "markdown",
   "metadata": {},
   "source": [
    "## Cкачиваем файл с данными"
   ]
  },
  {
   "cell_type": "code",
   "execution_count": 176,
   "metadata": {},
   "outputs": [],
   "source": [
    "#!wget http://snap.stanford.edu/data/amazon/productGraph/categoryFiles/reviews_Electronics_5.json.gz\n",
    "#или\n",
    "#!wget https://drive.google.com/open?id=1DwwTyIn5zW7KTxp4bONHtKNa6DlT9PUj"
   ]
  },
  {
   "cell_type": "markdown",
   "metadata": {},
   "source": [
    "## Если необходимо, преобразуем JSON к CSV"
   ]
  },
  {
   "cell_type": "code",
   "execution_count": 177,
   "metadata": {},
   "outputs": [],
   "source": [
    "#df = pd.read_json ('reviews_Electronics_5.json', lines=True )\n",
    "#df.to_csv ('Electronics_5.csv', index = None)"
   ]
  },
  {
   "cell_type": "markdown",
   "metadata": {},
   "source": [
    "# Предобработка"
   ]
  },
  {
   "cell_type": "code",
   "execution_count": 178,
   "metadata": {},
   "outputs": [],
   "source": [
    "dat = pd.read_csv(\"Electronics_5.csv\")[[\"asin\",\"reviewText\", \"overall\"]]"
   ]
  },
  {
   "cell_type": "markdown",
   "metadata": {},
   "source": [
    "## Добавляем бинрную оценку"
   ]
  },
  {
   "cell_type": "code",
   "execution_count": 179,
   "metadata": {},
   "outputs": [],
   "source": [
    "dat[\"bin\"] = dat.overall > 3"
   ]
  },
  {
   "cell_type": "markdown",
   "metadata": {},
   "source": [
    "## Отрежем кусок даты"
   ]
  },
  {
   "cell_type": "code",
   "execution_count": 180,
   "metadata": {},
   "outputs": [],
   "source": [
    "dat_t, dat = dat, dat[0:15000]"
   ]
  },
  {
   "cell_type": "code",
   "execution_count": 181,
   "metadata": {},
   "outputs": [],
   "source": [
    "train_dat, test_dat, train_ans, test_ans = train_test_split(\n",
    "    dat.reviewText, dat.bin, test_size=0.2)"
   ]
  },
  {
   "cell_type": "markdown",
   "metadata": {},
   "source": [
    "## Натравим на необработанные данные"
   ]
  },
  {
   "cell_type": "code",
   "execution_count": 357,
   "metadata": {},
   "outputs": [],
   "source": [
    "count_vect.fit(dat.reviewText.apply(lambda x: np.str_(x)))\n",
    "tfidf_vect.fit(dat.reviewText.apply(lambda x: np.str_(x)))\n",
    "count_train_mtrx_dft = count_vect.transform(train_dat.apply(lambda x: np.str_(x)))\n",
    "tfidf_train_mtrx_dft = tfidf_vect.transform(train_dat.apply(lambda x: np.str_(x)))\n",
    "count_test_mtrx_dft = count_vect.transform(test_dat.apply(lambda x: np.str_(x)))\n",
    "tfidf_test_mtrx_dft = tfidf_vect.transform(test_dat.apply(lambda x: np.str_(x)))"
   ]
  },
  {
   "cell_type": "markdown",
   "metadata": {},
   "source": [
    "## Приводим к базовой форме"
   ]
  },
  {
   "cell_type": "code",
   "execution_count": 183,
   "metadata": {},
   "outputs": [
    {
     "name": "stderr",
     "output_type": "stream",
     "text": [
      "/home/denis/anaconda3/lib/python3.7/site-packages/ipykernel_launcher.py:3: SettingWithCopyWarning: \n",
      "A value is trying to be set on a copy of a slice from a DataFrame.\n",
      "Try using .loc[row_indexer,col_indexer] = value instead\n",
      "\n",
      "See the caveats in the documentation: http://pandas.pydata.org/pandas-docs/stable/user_guide/indexing.html#returning-a-view-versus-a-copy\n",
      "  This is separate from the ipykernel package so we can avoid doing imports until\n"
     ]
    }
   ],
   "source": [
    "train_dat_tr = list(map(lambda elem: (\" \").join(map(lambda s: (porter_stemmer.stem(s)), elem)).lower().translate(str.maketrans('', '', string.punctuation)), map(lambda wrds: tok(wrds), train_dat.apply(lambda x: np.str_(x)))))\n",
    "test_dat_tr = list(map(lambda elem: (\" \").join(map(lambda s: (porter_stemmer.stem(s)), elem)).lower().translate(str.maketrans('', '', string.punctuation)), map(lambda wrds: tok(wrds), test_dat.apply(lambda x: np.str_(x)))))\n",
    "dat[\"words\"] = list(map(lambda elem: (\" \").join(map(lambda s: (porter_stemmer.stem(s)), elem)).lower().translate(str.maketrans('', '', string.punctuation)), map(lambda wrds: tok(wrds), dat.reviewText.apply(lambda x: np.str_(x)))))"
   ]
  },
  {
   "cell_type": "markdown",
   "metadata": {},
   "source": [
    "## Можно воспользоваться анализатором, который предоставляют векторайзеры"
   ]
  },
  {
   "cell_type": "code",
   "execution_count": 184,
   "metadata": {},
   "outputs": [],
   "source": [
    "# anlz = count_vect.build_analyzer()\n",
    "# dat.words = list(map(lambda s: (\" \").join(anlz(s)), dat.reviewText))"
   ]
  },
  {
   "cell_type": "markdown",
   "metadata": {},
   "source": [
    "## Натравим на обработанные данные"
   ]
  },
  {
   "cell_type": "code",
   "execution_count": 356,
   "metadata": {},
   "outputs": [],
   "source": [
    "count_vect.fit(dat.words)\n",
    "tfidf_vect.fit(dat.words)\n",
    "count_train_mtrx = count_vect.transform(train_dat_tr)\n",
    "tfidf_train_mtrx = tfidf_vect.transform(train_dat_tr)\n",
    "count_test_mtrx = count_vect.transform(test_dat_tr)\n",
    "tfidf_test_mtrx = tfidf_vect.transform(test_dat_tr)"
   ]
  },
  {
   "cell_type": "markdown",
   "metadata": {},
   "source": [
    "## Проверим, что получилось"
   ]
  },
  {
   "cell_type": "code",
   "execution_count": 186,
   "metadata": {},
   "outputs": [
    {
     "data": {
      "text/html": [
       "<div>\n",
       "<style scoped>\n",
       "    .dataframe tbody tr th:only-of-type {\n",
       "        vertical-align: middle;\n",
       "    }\n",
       "\n",
       "    .dataframe tbody tr th {\n",
       "        vertical-align: top;\n",
       "    }\n",
       "\n",
       "    .dataframe thead th {\n",
       "        text-align: right;\n",
       "    }\n",
       "</style>\n",
       "<table border=\"1\" class=\"dataframe\">\n",
       "  <thead>\n",
       "    <tr style=\"text-align: right;\">\n",
       "      <th></th>\n",
       "      <th>asin</th>\n",
       "      <th>reviewText</th>\n",
       "      <th>overall</th>\n",
       "      <th>bin</th>\n",
       "      <th>words</th>\n",
       "    </tr>\n",
       "  </thead>\n",
       "  <tbody>\n",
       "    <tr>\n",
       "      <td>0</td>\n",
       "      <td>0528881469</td>\n",
       "      <td>We got this GPS for my husband who is an (OTR)...</td>\n",
       "      <td>5</td>\n",
       "      <td>True</td>\n",
       "      <td>we got thi gp for my husband who is an otr ove...</td>\n",
       "    </tr>\n",
       "    <tr>\n",
       "      <td>1</td>\n",
       "      <td>0528881469</td>\n",
       "      <td>I'm a professional OTR truck driver, and I bou...</td>\n",
       "      <td>1</td>\n",
       "      <td>False</td>\n",
       "      <td>profession otr truck driver and bought tnd 700...</td>\n",
       "    </tr>\n",
       "    <tr>\n",
       "      <td>2</td>\n",
       "      <td>0528881469</td>\n",
       "      <td>Well, what can I say.  I've had this unit in m...</td>\n",
       "      <td>3</td>\n",
       "      <td>False</td>\n",
       "      <td>well what can say ve had thi unit in my truck ...</td>\n",
       "    </tr>\n",
       "    <tr>\n",
       "      <td>3</td>\n",
       "      <td>0528881469</td>\n",
       "      <td>Not going to write a long review, even thought...</td>\n",
       "      <td>2</td>\n",
       "      <td>False</td>\n",
       "      <td>not go to write long review even thought thi u...</td>\n",
       "    </tr>\n",
       "    <tr>\n",
       "      <td>4</td>\n",
       "      <td>0528881469</td>\n",
       "      <td>I've had mine for a year and here's what we go...</td>\n",
       "      <td>1</td>\n",
       "      <td>False</td>\n",
       "      <td>ve had mine for year and here what we got it t...</td>\n",
       "    </tr>\n",
       "    <tr>\n",
       "      <td>...</td>\n",
       "      <td>...</td>\n",
       "      <td>...</td>\n",
       "      <td>...</td>\n",
       "      <td>...</td>\n",
       "      <td>...</td>\n",
       "    </tr>\n",
       "    <tr>\n",
       "      <td>14995</td>\n",
       "      <td>B00004ZCJE</td>\n",
       "      <td>I bought this filter primarily for protecting ...</td>\n",
       "      <td>5</td>\n",
       "      <td>True</td>\n",
       "      <td>bought thi filter primarili for protect the fr...</td>\n",
       "    </tr>\n",
       "    <tr>\n",
       "      <td>14996</td>\n",
       "      <td>B00004ZCJE</td>\n",
       "      <td>Got if for my 50mm lens to protect it.The fit ...</td>\n",
       "      <td>3</td>\n",
       "      <td>False</td>\n",
       "      <td>got if for my 50mm len to protect it the fit i...</td>\n",
       "    </tr>\n",
       "    <tr>\n",
       "      <td>14997</td>\n",
       "      <td>B00004ZCJE</td>\n",
       "      <td>I wanted a lens to protect my expensive Nikon ...</td>\n",
       "      <td>5</td>\n",
       "      <td>True</td>\n",
       "      <td>want len to protect my expens nikon larger len...</td>\n",
       "    </tr>\n",
       "    <tr>\n",
       "      <td>14998</td>\n",
       "      <td>B00004ZCJE</td>\n",
       "      <td>I am comparing this with an multi-coated UV fi...</td>\n",
       "      <td>3</td>\n",
       "      <td>False</td>\n",
       "      <td>am compar thi with an multi coat uv filter tha...</td>\n",
       "    </tr>\n",
       "    <tr>\n",
       "      <td>14999</td>\n",
       "      <td>B00004ZCJE</td>\n",
       "      <td>Fit nicely on the end of my Canon EF 28-90mm l...</td>\n",
       "      <td>5</td>\n",
       "      <td>True</td>\n",
       "      <td>fit nice on the end of my canon ef 28 90mm len...</td>\n",
       "    </tr>\n",
       "  </tbody>\n",
       "</table>\n",
       "<p>15000 rows × 5 columns</p>\n",
       "</div>"
      ],
      "text/plain": [
       "             asin                                         reviewText  overall  \\\n",
       "0      0528881469  We got this GPS for my husband who is an (OTR)...        5   \n",
       "1      0528881469  I'm a professional OTR truck driver, and I bou...        1   \n",
       "2      0528881469  Well, what can I say.  I've had this unit in m...        3   \n",
       "3      0528881469  Not going to write a long review, even thought...        2   \n",
       "4      0528881469  I've had mine for a year and here's what we go...        1   \n",
       "...           ...                                                ...      ...   \n",
       "14995  B00004ZCJE  I bought this filter primarily for protecting ...        5   \n",
       "14996  B00004ZCJE  Got if for my 50mm lens to protect it.The fit ...        3   \n",
       "14997  B00004ZCJE  I wanted a lens to protect my expensive Nikon ...        5   \n",
       "14998  B00004ZCJE  I am comparing this with an multi-coated UV fi...        3   \n",
       "14999  B00004ZCJE  Fit nicely on the end of my Canon EF 28-90mm l...        5   \n",
       "\n",
       "         bin                                              words  \n",
       "0       True  we got thi gp for my husband who is an otr ove...  \n",
       "1      False  profession otr truck driver and bought tnd 700...  \n",
       "2      False  well what can say ve had thi unit in my truck ...  \n",
       "3      False  not go to write long review even thought thi u...  \n",
       "4      False  ve had mine for year and here what we got it t...  \n",
       "...      ...                                                ...  \n",
       "14995   True  bought thi filter primarili for protect the fr...  \n",
       "14996  False  got if for my 50mm len to protect it the fit i...  \n",
       "14997   True  want len to protect my expens nikon larger len...  \n",
       "14998  False  am compar thi with an multi coat uv filter tha...  \n",
       "14999   True  fit nice on the end of my canon ef 28 90mm len...  \n",
       "\n",
       "[15000 rows x 5 columns]"
      ]
     },
     "execution_count": 186,
     "metadata": {},
     "output_type": "execute_result"
    }
   ],
   "source": [
    "dat"
   ]
  },
  {
   "cell_type": "markdown",
   "metadata": {},
   "source": [
    "## Разобьем вектора на выборки"
   ]
  },
  {
   "cell_type": "code",
   "execution_count": 187,
   "metadata": {},
   "outputs": [],
   "source": [
    "# count_train_mtrx, count_test_mtrx, count_train_ans, count_test_ans = train_test_split(\n",
    "#     dat_count, dat.bin, test_size=0.2)\n",
    "# #dat_count.toarray()"
   ]
  },
  {
   "cell_type": "code",
   "execution_count": 188,
   "metadata": {},
   "outputs": [],
   "source": [
    "# tfidf_train_mtrx, tfidf_test_mtrx, tfidf_train_ans, tfidf_test_ans = train_test_split(\n",
    "#     dat_tfidf, dat.bin, test_size=0.2)\n",
    "# #dat_tfidf.toarray()"
   ]
  },
  {
   "cell_type": "code",
   "execution_count": 189,
   "metadata": {},
   "outputs": [],
   "source": [
    "# count_train_mtrx_dft, count_test_mtrx_dft, count_train_ans_dft, count_test_ans_dft = train_test_split(\n",
    "#     dat_count_deft, dat.bin, test_size=0.2)"
   ]
  },
  {
   "cell_type": "code",
   "execution_count": 190,
   "metadata": {},
   "outputs": [],
   "source": [
    "# tfidf_train_mtrx_dft, tfidf_test_mtrx_dft, tfidf_train_ans_dft, tfidf_test_ans_dft = train_test_split(\n",
    "#     dat_tfidf_deft, dat.bin, test_size=0.2)"
   ]
  },
  {
   "cell_type": "markdown",
   "metadata": {},
   "source": [
    "# Обучим модели и посмотрим их точность"
   ]
  },
  {
   "cell_type": "markdown",
   "metadata": {},
   "source": [
    "## Обработанные"
   ]
  },
  {
   "cell_type": "code",
   "execution_count": 191,
   "metadata": {},
   "outputs": [
    {
     "data": {
      "text/plain": [
       "0.8746666666666667"
      ]
     },
     "execution_count": 191,
     "metadata": {},
     "output_type": "execute_result"
    }
   ],
   "source": [
    "clf.fit(count_train_mtrx, train_ans)\n",
    "cout_pred = clf.predict(count_test_mtrx)\n",
    "accuracy_score(cout_pred, test_ans)"
   ]
  },
  {
   "cell_type": "code",
   "execution_count": 192,
   "metadata": {},
   "outputs": [
    {
     "data": {
      "text/plain": [
       "0.8543333333333333"
      ]
     },
     "execution_count": 192,
     "metadata": {},
     "output_type": "execute_result"
    }
   ],
   "source": [
    "clf.fit(tfidf_train_mtrx, train_ans)\n",
    "tfidf_pred = clf.predict(tfidf_test_mtrx)\n",
    "accuracy_score(tfidf_pred, test_ans)"
   ]
  },
  {
   "cell_type": "markdown",
   "metadata": {},
   "source": [
    "## Дефолтные"
   ]
  },
  {
   "cell_type": "code",
   "execution_count": 193,
   "metadata": {},
   "outputs": [
    {
     "data": {
      "text/plain": [
       "0.8743333333333333"
      ]
     },
     "execution_count": 193,
     "metadata": {},
     "output_type": "execute_result"
    }
   ],
   "source": [
    "clf.fit(count_train_mtrx_dft, train_ans)\n",
    "cout_pred = clf.predict(count_test_mtrx_dft)\n",
    "accuracy_score(cout_pred, test_ans)"
   ]
  },
  {
   "cell_type": "code",
   "execution_count": 194,
   "metadata": {},
   "outputs": [
    {
     "data": {
      "text/plain": [
       "0.8513333333333334"
      ]
     },
     "execution_count": 194,
     "metadata": {},
     "output_type": "execute_result"
    }
   ],
   "source": [
    "clf.fit(tfidf_train_mtrx_dft, train_ans)\n",
    "tfidf_pred = clf.predict(tfidf_test_mtrx_dft)\n",
    "accuracy_score(tfidf_pred, test_ans)"
   ]
  },
  {
   "cell_type": "markdown",
   "metadata": {},
   "source": [
    "## Обработанные с оптимальными параметрами"
   ]
  },
  {
   "cell_type": "code",
   "execution_count": 195,
   "metadata": {},
   "outputs": [
    {
     "name": "stdout",
     "output_type": "stream",
     "text": [
      "{'C': 0.1, 'penalty': 'l2'}\n"
     ]
    }
   ],
   "source": [
    "param_grid = {\n",
    "    'C': np.arange(0.1, 3, 0.1),\n",
    "    'penalty': ['l1', 'l2']\n",
    "}\n",
    "search = GridSearchCV(clf, param_grid, cv=5)\n",
    "search.fit(count_train_mtrx, train_ans)\n",
    "print(search.best_params_)"
   ]
  },
  {
   "cell_type": "code",
   "execution_count": 196,
   "metadata": {},
   "outputs": [
    {
     "data": {
      "text/plain": [
       "0.8746666666666667"
      ]
     },
     "execution_count": 196,
     "metadata": {},
     "output_type": "execute_result"
    }
   ],
   "source": [
    "accuracy_score(test_ans, search.best_estimator_.predict(count_test_mtrx))"
   ]
  },
  {
   "cell_type": "code",
   "execution_count": 344,
   "metadata": {},
   "outputs": [
    {
     "name": "stdout",
     "output_type": "stream",
     "text": [
      "{'C': 2.8000000000000003, 'penalty': 'l1'}\n"
     ]
    }
   ],
   "source": [
    "param_grid = {\n",
    "    'C': np.arange(0.1, 3, 0.1),\n",
    "    'penalty': ['l1', 'l2']\n",
    "}\n",
    "search = GridSearchCV(clf, param_grid, cv=5)\n",
    "search.fit(tfidf_train_mtrx,  train_ans)\n",
    "print(search.best_params_)"
   ]
  },
  {
   "cell_type": "code",
   "execution_count": 345,
   "metadata": {},
   "outputs": [
    {
     "data": {
      "text/plain": [
       "0.88"
      ]
     },
     "execution_count": 345,
     "metadata": {},
     "output_type": "execute_result"
    }
   ],
   "source": [
    "accuracy_score(test_ans, search.best_estimator_.predict(tfidf_test_mtrx))"
   ]
  },
  {
   "cell_type": "markdown",
   "metadata": {},
   "source": [
    "## Дефолтные с оптимальными параметрами"
   ]
  },
  {
   "cell_type": "code",
   "execution_count": 199,
   "metadata": {},
   "outputs": [
    {
     "name": "stdout",
     "output_type": "stream",
     "text": [
      "{'C': 0.2, 'penalty': 'l2'}\n"
     ]
    }
   ],
   "source": [
    "param_grid = {\n",
    "    'C': np.arange(0.1, 3, 0.1),\n",
    "    'penalty': ['l1', 'l2']\n",
    "}\n",
    "search = GridSearchCV(clf, param_grid, cv=5)\n",
    "search.fit(count_train_mtrx_dft, train_ans)\n",
    "print(search.best_params_)"
   ]
  },
  {
   "cell_type": "code",
   "execution_count": 200,
   "metadata": {},
   "outputs": [
    {
     "data": {
      "text/plain": [
       "0.8733333333333333"
      ]
     },
     "execution_count": 200,
     "metadata": {},
     "output_type": "execute_result"
    }
   ],
   "source": [
    "accuracy_score(test_ans, search.best_estimator_.predict(count_test_mtrx_dft))"
   ]
  },
  {
   "cell_type": "code",
   "execution_count": 352,
   "metadata": {},
   "outputs": [
    {
     "name": "stdout",
     "output_type": "stream",
     "text": [
      "{'C': 2.6, 'penalty': 'l1'}\n"
     ]
    }
   ],
   "source": [
    "param_grid = {\n",
    "    'C': np.arange(0.1, 3, 0.1),\n",
    "    'penalty': ['l1', 'l2']\n",
    "}\n",
    "search = GridSearchCV(clf, param_grid, cv=5)\n",
    "search.fit(tfidf_train_mtrx_dft, train_ans)\n",
    "print(search.best_params_)"
   ]
  },
  {
   "cell_type": "code",
   "execution_count": 353,
   "metadata": {},
   "outputs": [
    {
     "data": {
      "text/plain": [
       "0.8753333333333333"
      ]
     },
     "execution_count": 353,
     "metadata": {},
     "output_type": "execute_result"
    }
   ],
   "source": [
    "accuracy_score(test_ans, search.best_estimator_.predict(tfidf_test_mtrx_dft))"
   ]
  },
  {
   "cell_type": "markdown",
   "metadata": {},
   "source": [
    "## Проверим баланс классов"
   ]
  },
  {
   "cell_type": "code",
   "execution_count": 203,
   "metadata": {},
   "outputs": [
    {
     "name": "stdout",
     "output_type": "stream",
     "text": [
      "All :\n",
      "1 -  12390 \n",
      "0 -  2610\n",
      "Train :\n",
      "1 -  9908 \n",
      "0 -  2092\n",
      "Test :\n",
      "1 -  2482 \n",
      "0 -  518\n"
     ]
    }
   ],
   "source": [
    "print(\"All :\\n1 - \", sum(dat.bin), \"\\n0 - \", len(dat.bin) - sum(dat.bin)) \n",
    "print(\"Train :\\n1 - \", sum(train_ans), \"\\n0 - \", len(train_ans) - sum(train_ans)) \n",
    "print(\"Test :\\n1 - \", sum(test_ans), \"\\n0 - \", len(test_ans) - sum(test_ans)) "
   ]
  },
  {
   "cell_type": "markdown",
   "metadata": {},
   "source": [
    "# Возьмем новый набор данных"
   ]
  },
  {
   "cell_type": "code",
   "execution_count": 280,
   "metadata": {},
   "outputs": [],
   "source": [
    "dat2 = pd.read_json(\"Tools_and_Home_Improvement_5.json\", lines = True)[[\"reviewText\", \"overall\"]]"
   ]
  },
  {
   "cell_type": "code",
   "execution_count": 281,
   "metadata": {},
   "outputs": [],
   "source": [
    "dat2[\"bin\"] = dat2.overall > 3"
   ]
  },
  {
   "cell_type": "markdown",
   "metadata": {},
   "source": [
    "## Случайный выбор"
   ]
  },
  {
   "cell_type": "code",
   "execution_count": 339,
   "metadata": {},
   "outputs": [
    {
     "name": "stdout",
     "output_type": "stream",
     "text": [
      "Соотношение false/true: 20874  /  113602\n"
     ]
    }
   ],
   "source": [
    "rat = (len(dat2.bin)-sum(dat2.bin)) / sum(dat2.bin)\n",
    "print(\"Соотношение false/true:\",len(dat2.bin)-sum(dat2.bin), \" / \", sum(dat2.bin))"
   ]
  },
  {
   "cell_type": "code",
   "execution_count": 340,
   "metadata": {},
   "outputs": [
    {
     "name": "stderr",
     "output_type": "stream",
     "text": [
      "/home/denis/anaconda3/lib/python3.7/site-packages/ipykernel_launcher.py:3: SettingWithCopyWarning: \n",
      "A value is trying to be set on a copy of a slice from a DataFrame\n",
      "\n",
      "See the caveats in the documentation: http://pandas.pydata.org/pandas-docs/stable/user_guide/indexing.html#returning-a-view-versus-a-copy\n",
      "  This is separate from the ipykernel package so we can avoid doing imports until\n"
     ]
    }
   ],
   "source": [
    "dat2[\"Choice\"] = 0\n",
    "for i in range(len(dat2.bin)):\n",
    "    dat2.Choice[i] = (np.random.randint(round(10 / rat)) if dat2.bin[i] else np.random.randint(round(10)))"
   ]
  },
  {
   "cell_type": "code",
   "execution_count": 341,
   "metadata": {},
   "outputs": [
    {
     "data": {
      "text/html": [
       "<div>\n",
       "<style scoped>\n",
       "    .dataframe tbody tr th:only-of-type {\n",
       "        vertical-align: middle;\n",
       "    }\n",
       "\n",
       "    .dataframe tbody tr th {\n",
       "        vertical-align: top;\n",
       "    }\n",
       "\n",
       "    .dataframe thead th {\n",
       "        text-align: right;\n",
       "    }\n",
       "</style>\n",
       "<table border=\"1\" class=\"dataframe\">\n",
       "  <thead>\n",
       "    <tr style=\"text-align: right;\">\n",
       "      <th></th>\n",
       "      <th>reviewText</th>\n",
       "      <th>overall</th>\n",
       "      <th>bin</th>\n",
       "    </tr>\n",
       "  </thead>\n",
       "  <tbody>\n",
       "    <tr>\n",
       "      <td>26</td>\n",
       "      <td>This light is useless for reading in bed next ...</td>\n",
       "      <td>2</td>\n",
       "      <td>False</td>\n",
       "    </tr>\n",
       "    <tr>\n",
       "      <td>56</td>\n",
       "      <td>These burn out really fast.  I buy them becaus...</td>\n",
       "      <td>1</td>\n",
       "      <td>False</td>\n",
       "    </tr>\n",
       "    <tr>\n",
       "      <td>75</td>\n",
       "      <td>Still looking for the 'dimmable' option--only ...</td>\n",
       "      <td>4</td>\n",
       "      <td>True</td>\n",
       "    </tr>\n",
       "    <tr>\n",
       "      <td>83</td>\n",
       "      <td>My desk lamp was a bust. Imagine my surprise w...</td>\n",
       "      <td>1</td>\n",
       "      <td>False</td>\n",
       "    </tr>\n",
       "    <tr>\n",
       "      <td>201</td>\n",
       "      <td>While the motor and blade assembly of this too...</td>\n",
       "      <td>3</td>\n",
       "      <td>False</td>\n",
       "    </tr>\n",
       "    <tr>\n",
       "      <td>...</td>\n",
       "      <td>...</td>\n",
       "      <td>...</td>\n",
       "      <td>...</td>\n",
       "    </tr>\n",
       "    <tr>\n",
       "      <td>134405</td>\n",
       "      <td>Need to get a stuck bolt off? These pliers hav...</td>\n",
       "      <td>4</td>\n",
       "      <td>True</td>\n",
       "    </tr>\n",
       "    <tr>\n",
       "      <td>134422</td>\n",
       "      <td>This is my second rechargeable lantern by Ivat...</td>\n",
       "      <td>5</td>\n",
       "      <td>True</td>\n",
       "    </tr>\n",
       "    <tr>\n",
       "      <td>134446</td>\n",
       "      <td>It's a very high standard cigar scissor that i...</td>\n",
       "      <td>5</td>\n",
       "      <td>True</td>\n",
       "    </tr>\n",
       "    <tr>\n",
       "      <td>134451</td>\n",
       "      <td>My husband loves this punch, super easy to use...</td>\n",
       "      <td>5</td>\n",
       "      <td>True</td>\n",
       "    </tr>\n",
       "    <tr>\n",
       "      <td>134470</td>\n",
       "      <td>Great light, a must have for any rider</td>\n",
       "      <td>5</td>\n",
       "      <td>True</td>\n",
       "    </tr>\n",
       "  </tbody>\n",
       "</table>\n",
       "<p>4137 rows × 3 columns</p>\n",
       "</div>"
      ],
      "text/plain": [
       "                                               reviewText  overall    bin\n",
       "26      This light is useless for reading in bed next ...        2  False\n",
       "56      These burn out really fast.  I buy them becaus...        1  False\n",
       "75      Still looking for the 'dimmable' option--only ...        4   True\n",
       "83      My desk lamp was a bust. Imagine my surprise w...        1  False\n",
       "201     While the motor and blade assembly of this too...        3  False\n",
       "...                                                   ...      ...    ...\n",
       "134405  Need to get a stuck bolt off? These pliers hav...        4   True\n",
       "134422  This is my second rechargeable lantern by Ivat...        5   True\n",
       "134446  It's a very high standard cigar scissor that i...        5   True\n",
       "134451  My husband loves this punch, super easy to use...        5   True\n",
       "134470             Great light, a must have for any rider        5   True\n",
       "\n",
       "[4137 rows x 3 columns]"
      ]
     },
     "execution_count": 341,
     "metadata": {},
     "output_type": "execute_result"
    }
   ],
   "source": [
    "new_test_dat = dat2.loc[dat2.Choice == 0][[\"reviewText\", \"overall\", \"bin\"]]\n",
    "new_test_dat"
   ]
  },
  {
   "cell_type": "code",
   "execution_count": 424,
   "metadata": {},
   "outputs": [
    {
     "name": "stdout",
     "output_type": "stream",
     "text": [
      "Соотношение false/true: 2071  /  2066\n",
      "Всего  4137\n"
     ]
    }
   ],
   "source": [
    "print(\"Соотношение false/true:\",len(new_test_dat.bin)-sum(new_test_dat.bin), \" / \", sum(new_test_dat.bin))\n",
    "print(\"Всего \" , (len(new_test_dat.bin)))"
   ]
  },
  {
   "cell_type": "markdown",
   "metadata": {},
   "source": [
    "### Без обработки"
   ]
  },
  {
   "cell_type": "code",
   "execution_count": 359,
   "metadata": {},
   "outputs": [
    {
     "data": {
      "text/plain": [
       "0.6925308194343728"
      ]
     },
     "execution_count": 359,
     "metadata": {},
     "output_type": "execute_result"
    }
   ],
   "source": [
    "accuracy_score(new_test_dat.bin, search.best_estimator_.predict(tfidf_vect.transform(new_test_dat.reviewText)))"
   ]
  },
  {
   "cell_type": "markdown",
   "metadata": {},
   "source": [
    "## По уверености классификатора"
   ]
  },
  {
   "cell_type": "code",
   "execution_count": null,
   "metadata": {},
   "outputs": [],
   "source": [
    "prob = search.best_estimator_.predict_proba(tfidf_vect.transform(dat2.reviewText))"
   ]
  },
  {
   "cell_type": "code",
   "execution_count": 412,
   "metadata": {},
   "outputs": [],
   "source": [
    "dat2[\"chance\"] = prob"
   ]
  },
  {
   "cell_type": "markdown",
   "metadata": {},
   "source": [
    "### Уверенность, что оценка <= 3"
   ]
  },
  {
   "cell_type": "code",
   "execution_count": 415,
   "metadata": {},
   "outputs": [],
   "source": [
    "dat2 = dat2.sort_values(by = \"chance\")"
   ]
  },
  {
   "cell_type": "code",
   "execution_count": 430,
   "metadata": {},
   "outputs": [
    {
     "data": {
      "text/html": [
       "<div>\n",
       "<style scoped>\n",
       "    .dataframe tbody tr th:only-of-type {\n",
       "        vertical-align: middle;\n",
       "    }\n",
       "\n",
       "    .dataframe tbody tr th {\n",
       "        vertical-align: top;\n",
       "    }\n",
       "\n",
       "    .dataframe thead th {\n",
       "        text-align: right;\n",
       "    }\n",
       "</style>\n",
       "<table border=\"1\" class=\"dataframe\">\n",
       "  <thead>\n",
       "    <tr style=\"text-align: right;\">\n",
       "      <th></th>\n",
       "      <th>reviewText</th>\n",
       "      <th>overall</th>\n",
       "      <th>bin</th>\n",
       "      <th>Choice</th>\n",
       "      <th>chance</th>\n",
       "    </tr>\n",
       "  </thead>\n",
       "  <tbody>\n",
       "    <tr>\n",
       "      <td>27435</td>\n",
       "      <td>GREAT.. ........... .......... ............ .....</td>\n",
       "      <td>5</td>\n",
       "      <td>True</td>\n",
       "      <td>46</td>\n",
       "      <td>4.877299e-10</td>\n",
       "    </tr>\n",
       "    <tr>\n",
       "      <td>50418</td>\n",
       "      <td>GREAT</td>\n",
       "      <td>5</td>\n",
       "      <td>True</td>\n",
       "      <td>29</td>\n",
       "      <td>4.877299e-10</td>\n",
       "    </tr>\n",
       "    <tr>\n",
       "      <td>51595</td>\n",
       "      <td>Great hammer.</td>\n",
       "      <td>5</td>\n",
       "      <td>True</td>\n",
       "      <td>12</td>\n",
       "      <td>4.877299e-10</td>\n",
       "    </tr>\n",
       "    <tr>\n",
       "      <td>52596</td>\n",
       "      <td>great sharpener</td>\n",
       "      <td>5</td>\n",
       "      <td>True</td>\n",
       "      <td>49</td>\n",
       "      <td>4.877299e-10</td>\n",
       "    </tr>\n",
       "    <tr>\n",
       "      <td>43376</td>\n",
       "      <td>Great thermostat</td>\n",
       "      <td>4</td>\n",
       "      <td>True</td>\n",
       "      <td>35</td>\n",
       "      <td>4.877299e-10</td>\n",
       "    </tr>\n",
       "    <tr>\n",
       "      <td>...</td>\n",
       "      <td>...</td>\n",
       "      <td>...</td>\n",
       "      <td>...</td>\n",
       "      <td>...</td>\n",
       "      <td>...</td>\n",
       "    </tr>\n",
       "    <tr>\n",
       "      <td>18782</td>\n",
       "      <td>I unfortunately waited until the return period...</td>\n",
       "      <td>1</td>\n",
       "      <td>False</td>\n",
       "      <td>4</td>\n",
       "      <td>9.998844e-01</td>\n",
       "    </tr>\n",
       "    <tr>\n",
       "      <td>29841</td>\n",
       "      <td>Flimsy doesn't work to well, would not commend...</td>\n",
       "      <td>2</td>\n",
       "      <td>False</td>\n",
       "      <td>9</td>\n",
       "      <td>9.999268e-01</td>\n",
       "    </tr>\n",
       "    <tr>\n",
       "      <td>31175</td>\n",
       "      <td>This seemed OK when I first got it. But it sto...</td>\n",
       "      <td>1</td>\n",
       "      <td>False</td>\n",
       "      <td>8</td>\n",
       "      <td>9.999309e-01</td>\n",
       "    </tr>\n",
       "    <tr>\n",
       "      <td>28396</td>\n",
       "      <td>returned</td>\n",
       "      <td>1</td>\n",
       "      <td>False</td>\n",
       "      <td>9</td>\n",
       "      <td>9.999337e-01</td>\n",
       "    </tr>\n",
       "    <tr>\n",
       "      <td>11975</td>\n",
       "      <td>useless</td>\n",
       "      <td>1</td>\n",
       "      <td>False</td>\n",
       "      <td>0</td>\n",
       "      <td>9.999854e-01</td>\n",
       "    </tr>\n",
       "  </tbody>\n",
       "</table>\n",
       "<p>134476 rows × 5 columns</p>\n",
       "</div>"
      ],
      "text/plain": [
       "                                              reviewText  overall    bin  \\\n",
       "27435  GREAT.. ........... .......... ............ .....        5   True   \n",
       "50418                                              GREAT        5   True   \n",
       "51595                                      Great hammer.        5   True   \n",
       "52596                                    great sharpener        5   True   \n",
       "43376                                   Great thermostat        4   True   \n",
       "...                                                  ...      ...    ...   \n",
       "18782  I unfortunately waited until the return period...        1  False   \n",
       "29841  Flimsy doesn't work to well, would not commend...        2  False   \n",
       "31175  This seemed OK when I first got it. But it sto...        1  False   \n",
       "28396                                           returned        1  False   \n",
       "11975                                            useless        1  False   \n",
       "\n",
       "       Choice        chance  \n",
       "27435      46  4.877299e-10  \n",
       "50418      29  4.877299e-10  \n",
       "51595      12  4.877299e-10  \n",
       "52596      49  4.877299e-10  \n",
       "43376      35  4.877299e-10  \n",
       "...       ...           ...  \n",
       "18782       4  9.998844e-01  \n",
       "29841       9  9.999268e-01  \n",
       "31175       8  9.999309e-01  \n",
       "28396       9  9.999337e-01  \n",
       "11975       0  9.999854e-01  \n",
       "\n",
       "[134476 rows x 5 columns]"
      ]
     },
     "execution_count": 430,
     "metadata": {},
     "output_type": "execute_result"
    }
   ],
   "source": [
    "dat2"
   ]
  },
  {
   "cell_type": "code",
   "execution_count": 435,
   "metadata": {},
   "outputs": [
    {
     "name": "stderr",
     "output_type": "stream",
     "text": [
      "/home/denis/anaconda3/lib/python3.7/site-packages/ipykernel_launcher.py:2: SettingWithCopyWarning: \n",
      "A value is trying to be set on a copy of a slice from a DataFrame\n",
      "\n",
      "See the caveats in the documentation: http://pandas.pydata.org/pandas-docs/stable/user_guide/indexing.html#returning-a-view-versus-a-copy\n",
      "  \n",
      "/home/denis/anaconda3/lib/python3.7/site-packages/pandas/core/indexing.py:205: SettingWithCopyWarning: \n",
      "A value is trying to be set on a copy of a slice from a DataFrame\n",
      "\n",
      "See the caveats in the documentation: http://pandas.pydata.org/pandas-docs/stable/user_guide/indexing.html#returning-a-view-versus-a-copy\n",
      "  self._setitem_with_indexer(indexer, value)\n"
     ]
    }
   ],
   "source": [
    "for i in range(len(dat2.Choice)):\n",
    "    dat2.Choice[i] = (i % 32 == 0)"
   ]
  },
  {
   "cell_type": "code",
   "execution_count": 437,
   "metadata": {},
   "outputs": [
    {
     "data": {
      "text/html": [
       "<div>\n",
       "<style scoped>\n",
       "    .dataframe tbody tr th:only-of-type {\n",
       "        vertical-align: middle;\n",
       "    }\n",
       "\n",
       "    .dataframe tbody tr th {\n",
       "        vertical-align: top;\n",
       "    }\n",
       "\n",
       "    .dataframe thead th {\n",
       "        text-align: right;\n",
       "    }\n",
       "</style>\n",
       "<table border=\"1\" class=\"dataframe\">\n",
       "  <thead>\n",
       "    <tr style=\"text-align: right;\">\n",
       "      <th></th>\n",
       "      <th>reviewText</th>\n",
       "      <th>overall</th>\n",
       "      <th>bin</th>\n",
       "      <th>Choice</th>\n",
       "      <th>chance</th>\n",
       "    </tr>\n",
       "  </thead>\n",
       "  <tbody>\n",
       "    <tr>\n",
       "      <td>61600</td>\n",
       "      <td>Works great.</td>\n",
       "      <td>5</td>\n",
       "      <td>True</td>\n",
       "      <td>True</td>\n",
       "      <td>0.000010</td>\n",
       "    </tr>\n",
       "    <tr>\n",
       "      <td>91488</td>\n",
       "      <td>Let me make this simple:Pros:1. Excellent ligh...</td>\n",
       "      <td>4</td>\n",
       "      <td>True</td>\n",
       "      <td>True</td>\n",
       "      <td>0.000051</td>\n",
       "    </tr>\n",
       "    <tr>\n",
       "      <td>130208</td>\n",
       "      <td>This is a great buy.  Love the color and price.</td>\n",
       "      <td>5</td>\n",
       "      <td>True</td>\n",
       "      <td>True</td>\n",
       "      <td>0.000101</td>\n",
       "    </tr>\n",
       "    <tr>\n",
       "      <td>74080</td>\n",
       "      <td>This is great! Exactly what I needed - lights ...</td>\n",
       "      <td>5</td>\n",
       "      <td>True</td>\n",
       "      <td>True</td>\n",
       "      <td>0.000109</td>\n",
       "    </tr>\n",
       "    <tr>\n",
       "      <td>75424</td>\n",
       "      <td>This is great glue. Very nice bottle/dispenser...</td>\n",
       "      <td>5</td>\n",
       "      <td>True</td>\n",
       "      <td>True</td>\n",
       "      <td>0.000146</td>\n",
       "    </tr>\n",
       "    <tr>\n",
       "      <td>...</td>\n",
       "      <td>...</td>\n",
       "      <td>...</td>\n",
       "      <td>...</td>\n",
       "      <td>...</td>\n",
       "      <td>...</td>\n",
       "    </tr>\n",
       "    <tr>\n",
       "      <td>128800</td>\n",
       "      <td>I was extremely excited to get this kit for my...</td>\n",
       "      <td>2</td>\n",
       "      <td>False</td>\n",
       "      <td>True</td>\n",
       "      <td>0.994280</td>\n",
       "    </tr>\n",
       "    <tr>\n",
       "      <td>75968</td>\n",
       "      <td>I loved the flexibility and length however, in...</td>\n",
       "      <td>2</td>\n",
       "      <td>False</td>\n",
       "      <td>True</td>\n",
       "      <td>0.995618</td>\n",
       "    </tr>\n",
       "    <tr>\n",
       "      <td>121536</td>\n",
       "      <td>The light is nice and bright when it decides t...</td>\n",
       "      <td>3</td>\n",
       "      <td>False</td>\n",
       "      <td>True</td>\n",
       "      <td>0.998483</td>\n",
       "    </tr>\n",
       "    <tr>\n",
       "      <td>57056</td>\n",
       "      <td>Very expensive and just equally as worthless. ...</td>\n",
       "      <td>1</td>\n",
       "      <td>False</td>\n",
       "      <td>True</td>\n",
       "      <td>0.998600</td>\n",
       "    </tr>\n",
       "    <tr>\n",
       "      <td>58432</td>\n",
       "      <td>Not worth of money, I had to replace 3 Ac adap...</td>\n",
       "      <td>1</td>\n",
       "      <td>False</td>\n",
       "      <td>True</td>\n",
       "      <td>0.999122</td>\n",
       "    </tr>\n",
       "  </tbody>\n",
       "</table>\n",
       "<p>4203 rows × 5 columns</p>\n",
       "</div>"
      ],
      "text/plain": [
       "                                               reviewText  overall    bin  \\\n",
       "61600                                        Works great.        5   True   \n",
       "91488   Let me make this simple:Pros:1. Excellent ligh...        4   True   \n",
       "130208    This is a great buy.  Love the color and price.        5   True   \n",
       "74080   This is great! Exactly what I needed - lights ...        5   True   \n",
       "75424   This is great glue. Very nice bottle/dispenser...        5   True   \n",
       "...                                                   ...      ...    ...   \n",
       "128800  I was extremely excited to get this kit for my...        2  False   \n",
       "75968   I loved the flexibility and length however, in...        2  False   \n",
       "121536  The light is nice and bright when it decides t...        3  False   \n",
       "57056   Very expensive and just equally as worthless. ...        1  False   \n",
       "58432   Not worth of money, I had to replace 3 Ac adap...        1  False   \n",
       "\n",
       "       Choice    chance  \n",
       "61600    True  0.000010  \n",
       "91488    True  0.000051  \n",
       "130208   True  0.000101  \n",
       "74080    True  0.000109  \n",
       "75424    True  0.000146  \n",
       "...       ...       ...  \n",
       "128800   True  0.994280  \n",
       "75968    True  0.995618  \n",
       "121536   True  0.998483  \n",
       "57056    True  0.998600  \n",
       "58432    True  0.999122  \n",
       "\n",
       "[4203 rows x 5 columns]"
      ]
     },
     "execution_count": 437,
     "metadata": {},
     "output_type": "execute_result"
    }
   ],
   "source": [
    "new_test_dat_2 = dat2.loc[dat2.Choice]\n",
    "new_test_dat_2"
   ]
  },
  {
   "cell_type": "code",
   "execution_count": 438,
   "metadata": {},
   "outputs": [
    {
     "name": "stdout",
     "output_type": "stream",
     "text": [
      "Соотношение false/true: 639  /  3564\n",
      "Всего  4203\n"
     ]
    }
   ],
   "source": [
    "print(\"Соотношение false/true:\",len(new_test_dat_2.bin)-sum(new_test_dat_2.bin), \" / \", sum(new_test_dat_2.bin))\n",
    "print(\"Всего \" , (len(new_test_dat_2.bin)))"
   ]
  },
  {
   "cell_type": "code",
   "execution_count": 439,
   "metadata": {},
   "outputs": [
    {
     "data": {
      "text/plain": [
       "0.8784201760647157"
      ]
     },
     "execution_count": 439,
     "metadata": {},
     "output_type": "execute_result"
    }
   ],
   "source": [
    "accuracy_score(new_test_dat_2.bin, search.best_estimator_.predict(tfidf_vect.transform(new_test_dat_2.reviewText)))"
   ]
  },
  {
   "cell_type": "code",
   "execution_count": null,
   "metadata": {},
   "outputs": [],
   "source": []
  }
 ],
 "metadata": {
  "kernelspec": {
   "display_name": "Python 3",
   "language": "python",
   "name": "python3"
  },
  "language_info": {
   "codemirror_mode": {
    "name": "ipython",
    "version": 3
   },
   "file_extension": ".py",
   "mimetype": "text/x-python",
   "name": "python",
   "nbconvert_exporter": "python",
   "pygments_lexer": "ipython3",
   "version": "3.7.4"
  }
 },
 "nbformat": 4,
 "nbformat_minor": 2
}
