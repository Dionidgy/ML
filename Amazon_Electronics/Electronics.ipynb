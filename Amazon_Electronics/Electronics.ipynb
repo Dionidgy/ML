{
 "cells": [
  {
   "cell_type": "markdown",
   "metadata": {},
   "source": [
    "# Тестовое задание"
   ]
  },
  {
   "cell_type": "code",
   "execution_count": 449,
   "metadata": {},
   "outputs": [],
   "source": [
    "import pandas as pd\n",
    "import numpy as np\n",
    "import nltk\n",
    "from sklearn.feature_extraction.text import CountVectorizer,TfidfVectorizer\n",
    "import string"
   ]
  },
  {
   "cell_type": "code",
   "execution_count": 450,
   "metadata": {},
   "outputs": [],
   "source": [
    "count_vect = CountVectorizer(max_df = 0.55, min_df = 0.05, ngram_range=(1, 3))\n",
    "tfidf_vect = TfidfVectorizer(max_df = 0.55, min_df = 0.05, ngram_range=(1, 3))\n",
    "porter_stemmer = nltk.stem.PorterStemmer()\n",
    "tok = count_vect.build_tokenizer()"
   ]
  },
  {
   "cell_type": "markdown",
   "metadata": {},
   "source": [
    "## Cкачиваем файл с данными"
   ]
  },
  {
   "cell_type": "code",
   "execution_count": 451,
   "metadata": {},
   "outputs": [],
   "source": [
    "#!wget http://snap.stanford.edu/data/amazon/productGraph/categoryFiles/reviews_Electronics_5.json.gz\n",
    "#или\n",
    "#!wget https://drive.google.com/open?id=1DwwTyIn5zW7KTxp4bONHtKNa6DlT9PUj"
   ]
  },
  {
   "cell_type": "markdown",
   "metadata": {},
   "source": [
    "## Если необходимо, преобразуем JSON к CSV"
   ]
  },
  {
   "cell_type": "code",
   "execution_count": 452,
   "metadata": {},
   "outputs": [],
   "source": [
    "#df = pd.read_json ('reviews_Electronics_5.json', lines=True )\n",
    "#df.to_csv ('Electronics_5.csv', index = None)"
   ]
  },
  {
   "cell_type": "markdown",
   "metadata": {},
   "source": [
    "# Предобработка"
   ]
  },
  {
   "cell_type": "code",
   "execution_count": 453,
   "metadata": {},
   "outputs": [],
   "source": [
    "dat = pd.read_csv(\"Electronics_5.csv\")[[\"asin\",\"reviewText\", \"overall\"]]"
   ]
  },
  {
   "cell_type": "markdown",
   "metadata": {},
   "source": [
    "## Добавляем бинрную оценку"
   ]
  },
  {
   "cell_type": "code",
   "execution_count": 454,
   "metadata": {},
   "outputs": [],
   "source": [
    "dat[\"bin\"] = dat.overall > 3"
   ]
  },
  {
   "cell_type": "markdown",
   "metadata": {},
   "source": [
    "## Отрежем кусок даты"
   ]
  },
  {
   "cell_type": "code",
   "execution_count": 455,
   "metadata": {},
   "outputs": [],
   "source": [
    "dat_t, dat = dat, dat[0:11]"
   ]
  },
  {
   "cell_type": "markdown",
   "metadata": {},
   "source": [
    "## Натравим на необработанные данные"
   ]
  },
  {
   "cell_type": "code",
   "execution_count": 456,
   "metadata": {},
   "outputs": [],
   "source": [
    "dat_count_deft = count_vect.fit_transform(dat.reviewText)\n",
    "dat_tfidf_deft = tfidf_vect.fit_transform(dat.reviewText)\n"
   ]
  },
  {
   "cell_type": "markdown",
   "metadata": {},
   "source": [
    "## Приводим к базовой форме"
   ]
  },
  {
   "cell_type": "code",
   "execution_count": 457,
   "metadata": {},
   "outputs": [
    {
     "name": "stderr",
     "output_type": "stream",
     "text": [
      "/home/denis/anaconda3/lib/python3.7/site-packages/ipykernel_launcher.py:1: SettingWithCopyWarning: \n",
      "A value is trying to be set on a copy of a slice from a DataFrame.\n",
      "Try using .loc[row_indexer,col_indexer] = value instead\n",
      "\n",
      "See the caveats in the documentation: http://pandas.pydata.org/pandas-docs/stable/user_guide/indexing.html#returning-a-view-versus-a-copy\n",
      "  \"\"\"Entry point for launching an IPython kernel.\n"
     ]
    }
   ],
   "source": [
    "dat[\"words\"] = list(map(lambda elem: (\" \").join(map(lambda s: (porter_stemmer.stem(s)), elem)).lower().translate(str.maketrans('', '', string.punctuation)), map(lambda wrds: tok(wrds), dat.reviewText)))"
   ]
  },
  {
   "cell_type": "markdown",
   "metadata": {},
   "source": [
    "## Можно воспользоваться анализатором, который предоставляют векторайзеры"
   ]
  },
  {
   "cell_type": "code",
   "execution_count": 458,
   "metadata": {},
   "outputs": [],
   "source": [
    "# anlz = count_vect.build_analyzer()\n",
    "# dat.words = list(map(lambda s: (\" \").join(anlz(s)), dat.reviewText))"
   ]
  },
  {
   "cell_type": "markdown",
   "metadata": {},
   "source": [
    "## Натравим на обработанные данные"
   ]
  },
  {
   "cell_type": "code",
   "execution_count": 459,
   "metadata": {},
   "outputs": [],
   "source": [
    "dat_count = count_vect.fit_transform(dat.words)\n",
    "dat_tfidf = tfidf_vect.fit_transform(dat.words)"
   ]
  },
  {
   "cell_type": "markdown",
   "metadata": {},
   "source": [
    "## Проверим, что получилось"
   ]
  },
  {
   "cell_type": "code",
   "execution_count": 460,
   "metadata": {},
   "outputs": [
    {
     "data": {
      "text/html": [
       "<div>\n",
       "<style scoped>\n",
       "    .dataframe tbody tr th:only-of-type {\n",
       "        vertical-align: middle;\n",
       "    }\n",
       "\n",
       "    .dataframe tbody tr th {\n",
       "        vertical-align: top;\n",
       "    }\n",
       "\n",
       "    .dataframe thead th {\n",
       "        text-align: right;\n",
       "    }\n",
       "</style>\n",
       "<table border=\"1\" class=\"dataframe\">\n",
       "  <thead>\n",
       "    <tr style=\"text-align: right;\">\n",
       "      <th></th>\n",
       "      <th>asin</th>\n",
       "      <th>reviewText</th>\n",
       "      <th>overall</th>\n",
       "      <th>bin</th>\n",
       "      <th>words</th>\n",
       "    </tr>\n",
       "  </thead>\n",
       "  <tbody>\n",
       "    <tr>\n",
       "      <td>0</td>\n",
       "      <td>0528881469</td>\n",
       "      <td>We got this GPS for my husband who is an (OTR)...</td>\n",
       "      <td>5</td>\n",
       "      <td>True</td>\n",
       "      <td>we got thi gp for my husband who is an otr ove...</td>\n",
       "    </tr>\n",
       "    <tr>\n",
       "      <td>1</td>\n",
       "      <td>0528881469</td>\n",
       "      <td>I'm a professional OTR truck driver, and I bou...</td>\n",
       "      <td>1</td>\n",
       "      <td>False</td>\n",
       "      <td>profession otr truck driver and bought tnd 700...</td>\n",
       "    </tr>\n",
       "    <tr>\n",
       "      <td>2</td>\n",
       "      <td>0528881469</td>\n",
       "      <td>Well, what can I say.  I've had this unit in m...</td>\n",
       "      <td>3</td>\n",
       "      <td>False</td>\n",
       "      <td>well what can say ve had thi unit in my truck ...</td>\n",
       "    </tr>\n",
       "    <tr>\n",
       "      <td>3</td>\n",
       "      <td>0528881469</td>\n",
       "      <td>Not going to write a long review, even thought...</td>\n",
       "      <td>2</td>\n",
       "      <td>False</td>\n",
       "      <td>not go to write long review even thought thi u...</td>\n",
       "    </tr>\n",
       "    <tr>\n",
       "      <td>4</td>\n",
       "      <td>0528881469</td>\n",
       "      <td>I've had mine for a year and here's what we go...</td>\n",
       "      <td>1</td>\n",
       "      <td>False</td>\n",
       "      <td>ve had mine for year and here what we got it t...</td>\n",
       "    </tr>\n",
       "    <tr>\n",
       "      <td>5</td>\n",
       "      <td>0594451647</td>\n",
       "      <td>I am using this with a Nook HD+. It works as d...</td>\n",
       "      <td>5</td>\n",
       "      <td>True</td>\n",
       "      <td>am use thi with nook hd it work as describ the...</td>\n",
       "    </tr>\n",
       "    <tr>\n",
       "      <td>6</td>\n",
       "      <td>0594451647</td>\n",
       "      <td>The cable is very wobbly and sometimes disconn...</td>\n",
       "      <td>2</td>\n",
       "      <td>False</td>\n",
       "      <td>the cabl is veri wobbl and sometim disconnect ...</td>\n",
       "    </tr>\n",
       "    <tr>\n",
       "      <td>7</td>\n",
       "      <td>0594451647</td>\n",
       "      <td>This adaptor is real easy to setup and use rig...</td>\n",
       "      <td>5</td>\n",
       "      <td>True</td>\n",
       "      <td>thi adaptor is real easi to setup and use righ...</td>\n",
       "    </tr>\n",
       "    <tr>\n",
       "      <td>8</td>\n",
       "      <td>0594451647</td>\n",
       "      <td>This adapter easily connects my Nook HD 7&amp;#34;...</td>\n",
       "      <td>4</td>\n",
       "      <td>True</td>\n",
       "      <td>thi adapt easili connect my nook hd 34 to my h...</td>\n",
       "    </tr>\n",
       "    <tr>\n",
       "      <td>9</td>\n",
       "      <td>0594451647</td>\n",
       "      <td>This product really works great but I found th...</td>\n",
       "      <td>5</td>\n",
       "      <td>True</td>\n",
       "      <td>thi product realli work great but found the fo...</td>\n",
       "    </tr>\n",
       "    <tr>\n",
       "      <td>10</td>\n",
       "      <td>0594481813</td>\n",
       "      <td>This item is just as was described in the orig...</td>\n",
       "      <td>4</td>\n",
       "      <td>True</td>\n",
       "      <td>thi item is just as wa describ in the origin d...</td>\n",
       "    </tr>\n",
       "  </tbody>\n",
       "</table>\n",
       "</div>"
      ],
      "text/plain": [
       "          asin                                         reviewText  overall  \\\n",
       "0   0528881469  We got this GPS for my husband who is an (OTR)...        5   \n",
       "1   0528881469  I'm a professional OTR truck driver, and I bou...        1   \n",
       "2   0528881469  Well, what can I say.  I've had this unit in m...        3   \n",
       "3   0528881469  Not going to write a long review, even thought...        2   \n",
       "4   0528881469  I've had mine for a year and here's what we go...        1   \n",
       "5   0594451647  I am using this with a Nook HD+. It works as d...        5   \n",
       "6   0594451647  The cable is very wobbly and sometimes disconn...        2   \n",
       "7   0594451647  This adaptor is real easy to setup and use rig...        5   \n",
       "8   0594451647  This adapter easily connects my Nook HD 7&#34;...        4   \n",
       "9   0594451647  This product really works great but I found th...        5   \n",
       "10  0594481813  This item is just as was described in the orig...        4   \n",
       "\n",
       "      bin                                              words  \n",
       "0    True  we got thi gp for my husband who is an otr ove...  \n",
       "1   False  profession otr truck driver and bought tnd 700...  \n",
       "2   False  well what can say ve had thi unit in my truck ...  \n",
       "3   False  not go to write long review even thought thi u...  \n",
       "4   False  ve had mine for year and here what we got it t...  \n",
       "5    True  am use thi with nook hd it work as describ the...  \n",
       "6   False  the cabl is veri wobbl and sometim disconnect ...  \n",
       "7    True  thi adaptor is real easi to setup and use righ...  \n",
       "8    True  thi adapt easili connect my nook hd 34 to my h...  \n",
       "9    True  thi product realli work great but found the fo...  \n",
       "10   True  thi item is just as wa describ in the origin d...  "
      ]
     },
     "execution_count": 460,
     "metadata": {},
     "output_type": "execute_result"
    }
   ],
   "source": [
    "dat"
   ]
  },
  {
   "cell_type": "code",
   "execution_count": 467,
   "metadata": {},
   "outputs": [
    {
     "data": {
      "text/plain": [
       "array([[0, 0, 0, ..., 0, 0, 0],\n",
       "       [1, 1, 1, ..., 0, 0, 0],\n",
       "       [0, 0, 0, ..., 0, 0, 0],\n",
       "       ...,\n",
       "       [0, 0, 0, ..., 0, 0, 0],\n",
       "       [0, 0, 0, ..., 1, 1, 1],\n",
       "       [0, 0, 0, ..., 0, 0, 0]])"
      ]
     },
     "execution_count": 467,
     "metadata": {},
     "output_type": "execute_result"
    }
   ],
   "source": [
    "dat_count.toarray()"
   ]
  },
  {
   "cell_type": "code",
   "execution_count": 462,
   "metadata": {},
   "outputs": [
    {
     "data": {
      "text/plain": [
       "array([[0.        , 0.        , 0.        , ..., 0.        , 0.        ,\n",
       "        0.        ],\n",
       "       [0.02766308, 0.02766308, 0.02766308, ..., 0.        , 0.        ,\n",
       "        0.        ],\n",
       "       [0.        , 0.        , 0.        , ..., 0.        , 0.        ,\n",
       "        0.        ],\n",
       "       ...,\n",
       "       [0.        , 0.        , 0.        , ..., 0.        , 0.        ,\n",
       "        0.        ],\n",
       "       [0.        , 0.        , 0.        , ..., 0.04362035, 0.04362035,\n",
       "        0.04362035],\n",
       "       [0.        , 0.        , 0.        , ..., 0.        , 0.        ,\n",
       "        0.        ]])"
      ]
     },
     "execution_count": 462,
     "metadata": {},
     "output_type": "execute_result"
    }
   ],
   "source": [
    "dat_tfidf.toarray()"
   ]
  },
  {
   "cell_type": "code",
   "execution_count": 468,
   "metadata": {},
   "outputs": [
    {
     "data": {
      "text/plain": [
       "array([[0, 0, 0, ..., 0, 0, 0],\n",
       "       [1, 1, 1, ..., 0, 0, 0],\n",
       "       [0, 0, 0, ..., 0, 0, 0],\n",
       "       ...,\n",
       "       [0, 0, 0, ..., 0, 0, 0],\n",
       "       [0, 0, 0, ..., 1, 1, 1],\n",
       "       [0, 0, 0, ..., 0, 0, 0]])"
      ]
     },
     "execution_count": 468,
     "metadata": {},
     "output_type": "execute_result"
    }
   ],
   "source": [
    "dat_count_deft.toarray()"
   ]
  },
  {
   "cell_type": "code",
   "execution_count": 464,
   "metadata": {},
   "outputs": [
    {
     "data": {
      "text/plain": [
       "{'and',\n",
       " 'as',\n",
       " 'be',\n",
       " 'for',\n",
       " 'in',\n",
       " 'is',\n",
       " 'it',\n",
       " 'my',\n",
       " 'on',\n",
       " 'that',\n",
       " 'the',\n",
       " 'thi',\n",
       " 'to',\n",
       " 'with'}"
      ]
     },
     "execution_count": 464,
     "metadata": {},
     "output_type": "execute_result"
    }
   ],
   "source": [
    "count_vect.stop_words_"
   ]
  },
  {
   "cell_type": "code",
   "execution_count": null,
   "metadata": {},
   "outputs": [],
   "source": []
  }
 ],
 "metadata": {
  "kernelspec": {
   "display_name": "Python 3",
   "language": "python",
   "name": "python3"
  },
  "language_info": {
   "codemirror_mode": {
    "name": "ipython",
    "version": 3
   },
   "file_extension": ".py",
   "mimetype": "text/x-python",
   "name": "python",
   "nbconvert_exporter": "python",
   "pygments_lexer": "ipython3",
   "version": "3.7.4"
  }
 },
 "nbformat": 4,
 "nbformat_minor": 2
}
