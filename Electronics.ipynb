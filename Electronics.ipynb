{
  "nbformat": 4,
  "nbformat_minor": 0,
  "metadata": {
    "colab": {
      "name": "Electronics.ipynb",
      "provenance": [],
      "collapsed_sections": [
        "PN4vwkRlT13X"
      ],
      "toc_visible": true
    },
    "kernelspec": {
      "display_name": "Python 3",
      "language": "python",
      "name": "python3"
    },
    "language_info": {
      "codemirror_mode": {
        "name": "ipython",
        "version": 3
      },
      "file_extension": ".py",
      "mimetype": "text/x-python",
      "name": "python",
      "nbconvert_exporter": "python",
      "pygments_lexer": "ipython3",
      "version": "3.7.6"
    }
  },
  "cells": [
    {
      "cell_type": "markdown",
      "metadata": {
        "id": "CxoFIkyXT13G"
      },
      "source": [
        "# Тестовое задание"
      ]
    },
    {
      "cell_type": "code",
      "metadata": {
        "id": "M5wAMvqLT13I"
      },
      "source": [
        "import pandas as pd\n",
        "import numpy as np\n",
        "import nltk\n",
        "from sklearn.feature_extraction.text import CountVectorizer,TfidfVectorizer\n",
        "from sklearn.linear_model import LogisticRegression\n",
        "from sklearn.model_selection import train_test_split\n",
        "from sklearn.metrics import accuracy_score\n",
        "from sklearn.metrics import classification_report\n",
        "from sklearn.model_selection import GridSearchCV\n",
        "import string"
      ],
      "execution_count": null,
      "outputs": []
    },
    {
      "cell_type": "code",
      "metadata": {
        "id": "OqnGLn-dT13Q"
      },
      "source": [
        "count_vect = CountVectorizer(max_df = 0.9, min_df = 10, ngram_range=(1, 3))\n",
        "tfidf_vect = TfidfVectorizer(max_df = 0.9, min_df = 10, ngram_range=(1, 3))\n",
        "porter_stemmer = nltk.stem.PorterStemmer()\n",
        "tok = count_vect.build_tokenizer()\n",
        "# tok = tfidf_vect.build_tokenizer()\n",
        "# tok = nltk.tokenize.RegexpTokenizer(r'\\w+').tokenize\n",
        "clf = LogisticRegression(solver='liblinear', class_weight = {0:4, 1:1}, penalty='l2')"
      ],
      "execution_count": null,
      "outputs": []
    },
    {
      "cell_type": "markdown",
      "metadata": {
        "id": "_On0-OnAT13T"
      },
      "source": [
        "## Cкачиваем файл с данными"
      ]
    },
    {
      "cell_type": "code",
      "metadata": {
        "id": "iCHXmYR2T13U"
      },
      "source": [
        "# !wget http://snap.stanford.edu/data/amazon/productGraph/categoryFiles/reviews_Electronics_5.json.gz\n",
        "#или\n",
        "#!wget https://drive.google.com/open?id=1DwwTyIn5zW7KTxp4bONHtKNa6DlT9PUj"
      ],
      "execution_count": null,
      "outputs": []
    },
    {
      "cell_type": "markdown",
      "metadata": {
        "id": "PN4vwkRlT13X"
      },
      "source": [
        "## Если необходимо, преобразуем JSON к CSV"
      ]
    },
    {
      "cell_type": "code",
      "metadata": {
        "colab": {
          "base_uri": "https://localhost:8080/",
          "height": 323
        },
        "id": "iPC9DuoAT13Y",
        "outputId": "79d901c9-65fe-49b9-c531-5a9464524212"
      },
      "source": [
        "df = pd.read_json ('Electronics_5.json', lines=True )\n",
        "df.to_csv ('Electronics_5.csv', index = None)"
      ],
      "execution_count": null,
      "outputs": [
        {
          "output_type": "error",
          "ename": "ValueError",
          "evalue": "ignored",
          "traceback": [
            "\u001b[0;31m---------------------------------------------------------------------------\u001b[0m",
            "\u001b[0;31mValueError\u001b[0m                                Traceback (most recent call last)",
            "\u001b[0;32m<ipython-input-41-0e482f428cbd>\u001b[0m in \u001b[0;36m<module>\u001b[0;34m()\u001b[0m\n\u001b[0;32m----> 1\u001b[0;31m \u001b[0mdf\u001b[0m \u001b[0;34m=\u001b[0m \u001b[0mpd\u001b[0m\u001b[0;34m.\u001b[0m\u001b[0mread_json\u001b[0m \u001b[0;34m(\u001b[0m\u001b[0;34m'Electronics_5.json'\u001b[0m\u001b[0;34m,\u001b[0m \u001b[0mlines\u001b[0m\u001b[0;34m=\u001b[0m\u001b[0;32mTrue\u001b[0m \u001b[0;34m)\u001b[0m\u001b[0;34m\u001b[0m\u001b[0;34m\u001b[0m\u001b[0m\n\u001b[0m\u001b[1;32m      2\u001b[0m \u001b[0mdf\u001b[0m\u001b[0;34m.\u001b[0m\u001b[0mto_csv\u001b[0m \u001b[0;34m(\u001b[0m\u001b[0;34m'Electronics_5.csv'\u001b[0m\u001b[0;34m,\u001b[0m \u001b[0mindex\u001b[0m \u001b[0;34m=\u001b[0m \u001b[0;32mNone\u001b[0m\u001b[0;34m)\u001b[0m\u001b[0;34m\u001b[0m\u001b[0;34m\u001b[0m\u001b[0m\n",
            "\u001b[0;32m/usr/local/lib/python3.7/dist-packages/pandas/util/_decorators.py\u001b[0m in \u001b[0;36mwrapper\u001b[0;34m(*args, **kwargs)\u001b[0m\n\u001b[1;32m    197\u001b[0m                 \u001b[0;32melse\u001b[0m\u001b[0;34m:\u001b[0m\u001b[0;34m\u001b[0m\u001b[0;34m\u001b[0m\u001b[0m\n\u001b[1;32m    198\u001b[0m                     \u001b[0mkwargs\u001b[0m\u001b[0;34m[\u001b[0m\u001b[0mnew_arg_name\u001b[0m\u001b[0;34m]\u001b[0m \u001b[0;34m=\u001b[0m \u001b[0mnew_arg_value\u001b[0m\u001b[0;34m\u001b[0m\u001b[0;34m\u001b[0m\u001b[0m\n\u001b[0;32m--> 199\u001b[0;31m             \u001b[0;32mreturn\u001b[0m \u001b[0mfunc\u001b[0m\u001b[0;34m(\u001b[0m\u001b[0;34m*\u001b[0m\u001b[0margs\u001b[0m\u001b[0;34m,\u001b[0m \u001b[0;34m**\u001b[0m\u001b[0mkwargs\u001b[0m\u001b[0;34m)\u001b[0m\u001b[0;34m\u001b[0m\u001b[0;34m\u001b[0m\u001b[0m\n\u001b[0m\u001b[1;32m    200\u001b[0m \u001b[0;34m\u001b[0m\u001b[0m\n\u001b[1;32m    201\u001b[0m         \u001b[0;32mreturn\u001b[0m \u001b[0mcast\u001b[0m\u001b[0;34m(\u001b[0m\u001b[0mF\u001b[0m\u001b[0;34m,\u001b[0m \u001b[0mwrapper\u001b[0m\u001b[0;34m)\u001b[0m\u001b[0;34m\u001b[0m\u001b[0;34m\u001b[0m\u001b[0m\n",
            "\u001b[0;32m/usr/local/lib/python3.7/dist-packages/pandas/util/_decorators.py\u001b[0m in \u001b[0;36mwrapper\u001b[0;34m(*args, **kwargs)\u001b[0m\n\u001b[1;32m    294\u001b[0m                 )\n\u001b[1;32m    295\u001b[0m                 \u001b[0mwarnings\u001b[0m\u001b[0;34m.\u001b[0m\u001b[0mwarn\u001b[0m\u001b[0;34m(\u001b[0m\u001b[0mmsg\u001b[0m\u001b[0;34m,\u001b[0m \u001b[0mFutureWarning\u001b[0m\u001b[0;34m,\u001b[0m \u001b[0mstacklevel\u001b[0m\u001b[0;34m=\u001b[0m\u001b[0mstacklevel\u001b[0m\u001b[0;34m)\u001b[0m\u001b[0;34m\u001b[0m\u001b[0;34m\u001b[0m\u001b[0m\n\u001b[0;32m--> 296\u001b[0;31m             \u001b[0;32mreturn\u001b[0m \u001b[0mfunc\u001b[0m\u001b[0;34m(\u001b[0m\u001b[0;34m*\u001b[0m\u001b[0margs\u001b[0m\u001b[0;34m,\u001b[0m \u001b[0;34m**\u001b[0m\u001b[0mkwargs\u001b[0m\u001b[0;34m)\u001b[0m\u001b[0;34m\u001b[0m\u001b[0;34m\u001b[0m\u001b[0m\n\u001b[0m\u001b[1;32m    297\u001b[0m \u001b[0;34m\u001b[0m\u001b[0m\n\u001b[1;32m    298\u001b[0m         \u001b[0;32mreturn\u001b[0m \u001b[0mwrapper\u001b[0m\u001b[0;34m\u001b[0m\u001b[0;34m\u001b[0m\u001b[0m\n",
            "\u001b[0;32m/usr/local/lib/python3.7/dist-packages/pandas/io/json/_json.py\u001b[0m in \u001b[0;36mread_json\u001b[0;34m(path_or_buf, orient, typ, dtype, convert_axes, convert_dates, keep_default_dates, numpy, precise_float, date_unit, encoding, lines, chunksize, compression, nrows)\u001b[0m\n\u001b[1;32m    616\u001b[0m         \u001b[0;32mreturn\u001b[0m \u001b[0mjson_reader\u001b[0m\u001b[0;34m\u001b[0m\u001b[0;34m\u001b[0m\u001b[0m\n\u001b[1;32m    617\u001b[0m \u001b[0;34m\u001b[0m\u001b[0m\n\u001b[0;32m--> 618\u001b[0;31m     \u001b[0mresult\u001b[0m \u001b[0;34m=\u001b[0m \u001b[0mjson_reader\u001b[0m\u001b[0;34m.\u001b[0m\u001b[0mread\u001b[0m\u001b[0;34m(\u001b[0m\u001b[0;34m)\u001b[0m\u001b[0;34m\u001b[0m\u001b[0;34m\u001b[0m\u001b[0m\n\u001b[0m\u001b[1;32m    619\u001b[0m     \u001b[0;32mif\u001b[0m \u001b[0mshould_close\u001b[0m\u001b[0;34m:\u001b[0m\u001b[0;34m\u001b[0m\u001b[0;34m\u001b[0m\u001b[0m\n\u001b[1;32m    620\u001b[0m         \u001b[0mfilepath_or_buffer\u001b[0m\u001b[0;34m.\u001b[0m\u001b[0mclose\u001b[0m\u001b[0;34m(\u001b[0m\u001b[0;34m)\u001b[0m\u001b[0;34m\u001b[0m\u001b[0;34m\u001b[0m\u001b[0m\n",
            "\u001b[0;32m/usr/local/lib/python3.7/dist-packages/pandas/io/json/_json.py\u001b[0m in \u001b[0;36mread\u001b[0;34m(self)\u001b[0m\n\u001b[1;32m    751\u001b[0m                 \u001b[0mdata\u001b[0m \u001b[0;34m=\u001b[0m \u001b[0mensure_str\u001b[0m\u001b[0;34m(\u001b[0m\u001b[0mself\u001b[0m\u001b[0;34m.\u001b[0m\u001b[0mdata\u001b[0m\u001b[0;34m)\u001b[0m\u001b[0;34m\u001b[0m\u001b[0;34m\u001b[0m\u001b[0m\n\u001b[1;32m    752\u001b[0m                 \u001b[0mdata\u001b[0m \u001b[0;34m=\u001b[0m \u001b[0mdata\u001b[0m\u001b[0;34m.\u001b[0m\u001b[0msplit\u001b[0m\u001b[0;34m(\u001b[0m\u001b[0;34m\"\\n\"\u001b[0m\u001b[0;34m)\u001b[0m\u001b[0;34m\u001b[0m\u001b[0;34m\u001b[0m\u001b[0m\n\u001b[0;32m--> 753\u001b[0;31m                 \u001b[0mobj\u001b[0m \u001b[0;34m=\u001b[0m \u001b[0mself\u001b[0m\u001b[0;34m.\u001b[0m\u001b[0m_get_object_parser\u001b[0m\u001b[0;34m(\u001b[0m\u001b[0mself\u001b[0m\u001b[0;34m.\u001b[0m\u001b[0m_combine_lines\u001b[0m\u001b[0;34m(\u001b[0m\u001b[0mdata\u001b[0m\u001b[0;34m)\u001b[0m\u001b[0;34m)\u001b[0m\u001b[0;34m\u001b[0m\u001b[0;34m\u001b[0m\u001b[0m\n\u001b[0m\u001b[1;32m    754\u001b[0m         \u001b[0;32melse\u001b[0m\u001b[0;34m:\u001b[0m\u001b[0;34m\u001b[0m\u001b[0;34m\u001b[0m\u001b[0m\n\u001b[1;32m    755\u001b[0m             \u001b[0mobj\u001b[0m \u001b[0;34m=\u001b[0m \u001b[0mself\u001b[0m\u001b[0;34m.\u001b[0m\u001b[0m_get_object_parser\u001b[0m\u001b[0;34m(\u001b[0m\u001b[0mself\u001b[0m\u001b[0;34m.\u001b[0m\u001b[0mdata\u001b[0m\u001b[0;34m)\u001b[0m\u001b[0;34m\u001b[0m\u001b[0;34m\u001b[0m\u001b[0m\n",
            "\u001b[0;32m/usr/local/lib/python3.7/dist-packages/pandas/io/json/_json.py\u001b[0m in \u001b[0;36m_get_object_parser\u001b[0;34m(self, json)\u001b[0m\n\u001b[1;32m    775\u001b[0m         \u001b[0mobj\u001b[0m \u001b[0;34m=\u001b[0m \u001b[0;32mNone\u001b[0m\u001b[0;34m\u001b[0m\u001b[0;34m\u001b[0m\u001b[0m\n\u001b[1;32m    776\u001b[0m         \u001b[0;32mif\u001b[0m \u001b[0mtyp\u001b[0m \u001b[0;34m==\u001b[0m \u001b[0;34m\"frame\"\u001b[0m\u001b[0;34m:\u001b[0m\u001b[0;34m\u001b[0m\u001b[0;34m\u001b[0m\u001b[0m\n\u001b[0;32m--> 777\u001b[0;31m             \u001b[0mobj\u001b[0m \u001b[0;34m=\u001b[0m \u001b[0mFrameParser\u001b[0m\u001b[0;34m(\u001b[0m\u001b[0mjson\u001b[0m\u001b[0;34m,\u001b[0m \u001b[0;34m**\u001b[0m\u001b[0mkwargs\u001b[0m\u001b[0;34m)\u001b[0m\u001b[0;34m.\u001b[0m\u001b[0mparse\u001b[0m\u001b[0;34m(\u001b[0m\u001b[0;34m)\u001b[0m\u001b[0;34m\u001b[0m\u001b[0;34m\u001b[0m\u001b[0m\n\u001b[0m\u001b[1;32m    778\u001b[0m \u001b[0;34m\u001b[0m\u001b[0m\n\u001b[1;32m    779\u001b[0m         \u001b[0;32mif\u001b[0m \u001b[0mtyp\u001b[0m \u001b[0;34m==\u001b[0m \u001b[0;34m\"series\"\u001b[0m \u001b[0;32mor\u001b[0m \u001b[0mobj\u001b[0m \u001b[0;32mis\u001b[0m \u001b[0;32mNone\u001b[0m\u001b[0;34m:\u001b[0m\u001b[0;34m\u001b[0m\u001b[0;34m\u001b[0m\u001b[0m\n",
            "\u001b[0;32m/usr/local/lib/python3.7/dist-packages/pandas/io/json/_json.py\u001b[0m in \u001b[0;36mparse\u001b[0;34m(self)\u001b[0m\n\u001b[1;32m    884\u001b[0m \u001b[0;34m\u001b[0m\u001b[0m\n\u001b[1;32m    885\u001b[0m         \u001b[0;32melse\u001b[0m\u001b[0;34m:\u001b[0m\u001b[0;34m\u001b[0m\u001b[0;34m\u001b[0m\u001b[0m\n\u001b[0;32m--> 886\u001b[0;31m             \u001b[0mself\u001b[0m\u001b[0;34m.\u001b[0m\u001b[0m_parse_no_numpy\u001b[0m\u001b[0;34m(\u001b[0m\u001b[0;34m)\u001b[0m\u001b[0;34m\u001b[0m\u001b[0;34m\u001b[0m\u001b[0m\n\u001b[0m\u001b[1;32m    887\u001b[0m \u001b[0;34m\u001b[0m\u001b[0m\n\u001b[1;32m    888\u001b[0m         \u001b[0;32mif\u001b[0m \u001b[0mself\u001b[0m\u001b[0;34m.\u001b[0m\u001b[0mobj\u001b[0m \u001b[0;32mis\u001b[0m \u001b[0;32mNone\u001b[0m\u001b[0;34m:\u001b[0m\u001b[0;34m\u001b[0m\u001b[0;34m\u001b[0m\u001b[0m\n",
            "\u001b[0;32m/usr/local/lib/python3.7/dist-packages/pandas/io/json/_json.py\u001b[0m in \u001b[0;36m_parse_no_numpy\u001b[0;34m(self)\u001b[0m\n\u001b[1;32m   1117\u001b[0m         \u001b[0;32mif\u001b[0m \u001b[0morient\u001b[0m \u001b[0;34m==\u001b[0m \u001b[0;34m\"columns\"\u001b[0m\u001b[0;34m:\u001b[0m\u001b[0;34m\u001b[0m\u001b[0;34m\u001b[0m\u001b[0m\n\u001b[1;32m   1118\u001b[0m             self.obj = DataFrame(\n\u001b[0;32m-> 1119\u001b[0;31m                 \u001b[0mloads\u001b[0m\u001b[0;34m(\u001b[0m\u001b[0mjson\u001b[0m\u001b[0;34m,\u001b[0m \u001b[0mprecise_float\u001b[0m\u001b[0;34m=\u001b[0m\u001b[0mself\u001b[0m\u001b[0;34m.\u001b[0m\u001b[0mprecise_float\u001b[0m\u001b[0;34m)\u001b[0m\u001b[0;34m,\u001b[0m \u001b[0mdtype\u001b[0m\u001b[0;34m=\u001b[0m\u001b[0;32mNone\u001b[0m\u001b[0;34m\u001b[0m\u001b[0;34m\u001b[0m\u001b[0m\n\u001b[0m\u001b[1;32m   1120\u001b[0m             )\n\u001b[1;32m   1121\u001b[0m         \u001b[0;32melif\u001b[0m \u001b[0morient\u001b[0m \u001b[0;34m==\u001b[0m \u001b[0;34m\"split\"\u001b[0m\u001b[0;34m:\u001b[0m\u001b[0;34m\u001b[0m\u001b[0;34m\u001b[0m\u001b[0m\n",
            "\u001b[0;31mValueError\u001b[0m: Expected object or value"
          ]
        }
      ]
    },
    {
      "cell_type": "markdown",
      "metadata": {
        "id": "XSsSwkVtT13c"
      },
      "source": [
        "# Предобработка"
      ]
    },
    {
      "cell_type": "code",
      "metadata": {
        "colab": {
          "base_uri": "https://localhost:8080/"
        },
        "id": "T4fBiAuDT13c",
        "outputId": "a2109f81-7713-468c-abef-b14064c15c5a"
      },
      "source": [
        "dat = pd.read_csv(\"Electronics_5.csv\", engine= 'python', error_bad_lines=False)[[\"asin\",\"reviewText\", \"overall\"]]"
      ],
      "execution_count": null,
      "outputs": [
        {
          "output_type": "stream",
          "text": [
            "Skipping line 160645: unexpected end of data\n"
          ],
          "name": "stderr"
        }
      ]
    },
    {
      "cell_type": "markdown",
      "metadata": {
        "id": "_abF5fsDT13i"
      },
      "source": [
        "## Добавляем бинрную оценку"
      ]
    },
    {
      "cell_type": "code",
      "metadata": {
        "id": "BVu0ySB4T13j"
      },
      "source": [
        "dat[\"bin\"] = dat.overall > 3"
      ],
      "execution_count": null,
      "outputs": []
    },
    {
      "cell_type": "markdown",
      "metadata": {
        "id": "6pMIblyAT13o"
      },
      "source": [
        "## Отрежем кусок даты"
      ]
    },
    {
      "cell_type": "code",
      "metadata": {
        "id": "Z-F8fy_8T13p"
      },
      "source": [
        "dat_t, dat = dat, dat[:16000]"
      ],
      "execution_count": null,
      "outputs": []
    },
    {
      "cell_type": "code",
      "metadata": {
        "id": "XEOjagyhxWkW"
      },
      "source": [
        "train_dat, privat_dat, train_ans, privat_ans = train_test_split(\n",
        "    dat.reviewText, dat.bin, test_size=0.15)"
      ],
      "execution_count": null,
      "outputs": []
    },
    {
      "cell_type": "code",
      "metadata": {
        "id": "EchhjCcDT13t"
      },
      "source": [
        "train_dat, test_dat, train_ans, test_ans = train_test_split(\n",
        "    train_dat, train_ans, test_size=0.2)"
      ],
      "execution_count": null,
      "outputs": []
    },
    {
      "cell_type": "markdown",
      "metadata": {
        "id": "b1mFctcLT13z"
      },
      "source": [
        "## Натравим на необработанные данные"
      ]
    },
    {
      "cell_type": "code",
      "metadata": {
        "id": "gOaHzbaIT13z"
      },
      "source": [
        "count_vect.fit(dat.reviewText.apply(lambda x: np.str_(x)))\n",
        "tfidf_vect.fit(dat.reviewText.apply(lambda x: np.str_(x)))\n",
        "count_train_mtrx_dft = count_vect.transform(train_dat.apply(lambda x: np.str_(x)))\n",
        "tfidf_train_mtrx_dft = tfidf_vect.transform(train_dat.apply(lambda x: np.str_(x)))\n",
        "count_test_mtrx_dft = count_vect.transform(test_dat.apply(lambda x: np.str_(x)))\n",
        "tfidf_test_mtrx_dft = tfidf_vect.transform(test_dat.apply(lambda x: np.str_(x)))"
      ],
      "execution_count": null,
      "outputs": []
    },
    {
      "cell_type": "markdown",
      "metadata": {
        "id": "m2v-3HreT133"
      },
      "source": [
        "## Приводим к базовой форме"
      ]
    },
    {
      "cell_type": "code",
      "metadata": {
        "colab": {
          "base_uri": "https://localhost:8080/"
        },
        "id": "QJf4kOnFT134",
        "outputId": "64a08bd1-89b9-4775-9568-39a05c0b4d8c"
      },
      "source": [
        "train_dat_tr = list(map(lambda elem: (\" \").join(map(lambda s: (porter_stemmer.stem(s)), elem)).lower().translate(str.maketrans('', '', string.punctuation)), map(lambda wrds: tok(wrds), train_dat.apply(lambda x: np.str_(x)))))\n",
        "test_dat_tr = list(map(lambda elem: (\" \").join(map(lambda s: (porter_stemmer.stem(s)), elem)).lower().translate(str.maketrans('', '', string.punctuation)), map(lambda wrds: tok(wrds), test_dat.apply(lambda x: np.str_(x)))))\n",
        "privat_dat_tr = list(map(lambda elem: (\" \").join(map(lambda s: (porter_stemmer.stem(s)), elem)).lower().translate(str.maketrans('', '', string.punctuation)), map(lambda wrds: tok(wrds), privat_dat.apply(lambda x: np.str_(x)))))\n",
        "dat[\"words\"] = list(map(lambda elem: (\" \").join(map(lambda s: (porter_stemmer.stem(s)), elem)).lower().translate(str.maketrans('', '', string.punctuation)), map(lambda wrds: tok(wrds), dat.reviewText.apply(lambda x: np.str_(x)))))"
      ],
      "execution_count": null,
      "outputs": [
        {
          "output_type": "stream",
          "text": [
            "/usr/local/lib/python3.7/dist-packages/ipykernel_launcher.py:4: SettingWithCopyWarning: \n",
            "A value is trying to be set on a copy of a slice from a DataFrame.\n",
            "Try using .loc[row_indexer,col_indexer] = value instead\n",
            "\n",
            "See the caveats in the documentation: https://pandas.pydata.org/pandas-docs/stable/user_guide/indexing.html#returning-a-view-versus-a-copy\n",
            "  after removing the cwd from sys.path.\n"
          ],
          "name": "stderr"
        }
      ]
    },
    {
      "cell_type": "markdown",
      "metadata": {
        "id": "U-2Nvu3UT13_"
      },
      "source": [
        "## Натравим на обработанные данные"
      ]
    },
    {
      "cell_type": "code",
      "metadata": {
        "id": "yGcQfQLJT14A"
      },
      "source": [
        "# count_vect.fit(dat.words)\n",
        "# tfidf_vect.fit(dat.words)\n",
        "count_train_mtrx = count_vect.transform(train_dat_tr)\n",
        "tfidf_train_mtrx = tfidf_vect.transform(train_dat_tr)\n",
        "count_test_mtrx = count_vect.transform(test_dat_tr)\n",
        "tfidf_test_mtrx = tfidf_vect.transform(test_dat_tr)"
      ],
      "execution_count": null,
      "outputs": []
    },
    {
      "cell_type": "markdown",
      "metadata": {
        "id": "TWUItNUsT14F"
      },
      "source": [
        "## Проверим, что получилось"
      ]
    },
    {
      "cell_type": "code",
      "metadata": {
        "id": "sMyxM4wuT14F",
        "colab": {
          "base_uri": "https://localhost:8080/",
          "height": 419
        },
        "outputId": "cbdae904-47f3-444e-c13c-2096a1d17888"
      },
      "source": [
        "dat"
      ],
      "execution_count": null,
      "outputs": [
        {
          "output_type": "execute_result",
          "data": {
            "text/html": [
              "<div>\n",
              "<style scoped>\n",
              "    .dataframe tbody tr th:only-of-type {\n",
              "        vertical-align: middle;\n",
              "    }\n",
              "\n",
              "    .dataframe tbody tr th {\n",
              "        vertical-align: top;\n",
              "    }\n",
              "\n",
              "    .dataframe thead th {\n",
              "        text-align: right;\n",
              "    }\n",
              "</style>\n",
              "<table border=\"1\" class=\"dataframe\">\n",
              "  <thead>\n",
              "    <tr style=\"text-align: right;\">\n",
              "      <th></th>\n",
              "      <th>asin</th>\n",
              "      <th>reviewText</th>\n",
              "      <th>overall</th>\n",
              "      <th>bin</th>\n",
              "      <th>words</th>\n",
              "    </tr>\n",
              "  </thead>\n",
              "  <tbody>\n",
              "    <tr>\n",
              "      <th>0</th>\n",
              "      <td>0528881469</td>\n",
              "      <td>We got this GPS for my husband who is an (OTR)...</td>\n",
              "      <td>5</td>\n",
              "      <td>True</td>\n",
              "      <td>we got thi gp for my husband who is an otr ove...</td>\n",
              "    </tr>\n",
              "    <tr>\n",
              "      <th>1</th>\n",
              "      <td>0528881469</td>\n",
              "      <td>I'm a professional OTR truck driver, and I bou...</td>\n",
              "      <td>1</td>\n",
              "      <td>False</td>\n",
              "      <td>profession otr truck driver and bought tnd 700...</td>\n",
              "    </tr>\n",
              "    <tr>\n",
              "      <th>2</th>\n",
              "      <td>0528881469</td>\n",
              "      <td>Well, what can I say.  I've had this unit in m...</td>\n",
              "      <td>3</td>\n",
              "      <td>False</td>\n",
              "      <td>well what can say ve had thi unit in my truck ...</td>\n",
              "    </tr>\n",
              "    <tr>\n",
              "      <th>3</th>\n",
              "      <td>0528881469</td>\n",
              "      <td>Not going to write a long review, even thought...</td>\n",
              "      <td>2</td>\n",
              "      <td>False</td>\n",
              "      <td>not go to write long review even thought thi u...</td>\n",
              "    </tr>\n",
              "    <tr>\n",
              "      <th>4</th>\n",
              "      <td>0528881469</td>\n",
              "      <td>I've had mine for a year and here's what we go...</td>\n",
              "      <td>1</td>\n",
              "      <td>False</td>\n",
              "      <td>ve had mine for year and here what we got it t...</td>\n",
              "    </tr>\n",
              "    <tr>\n",
              "      <th>...</th>\n",
              "      <td>...</td>\n",
              "      <td>...</td>\n",
              "      <td>...</td>\n",
              "      <td>...</td>\n",
              "      <td>...</td>\n",
              "    </tr>\n",
              "    <tr>\n",
              "      <th>15995</th>\n",
              "      <td>B00004ZCJE</td>\n",
              "      <td>I could not ask more of the Tiffen 58mm UV Pro...</td>\n",
              "      <td>5</td>\n",
              "      <td>True</td>\n",
              "      <td>could not ask more of the tiffen 58mm uv prote...</td>\n",
              "    </tr>\n",
              "    <tr>\n",
              "      <th>15996</th>\n",
              "      <td>B00004ZCJE</td>\n",
              "      <td>I ordered 2 Tiffen 52 mm UV filters for the 2 ...</td>\n",
              "      <td>4</td>\n",
              "      <td>True</td>\n",
              "      <td>order tiffen 52 mm uv filter for the lens that...</td>\n",
              "    </tr>\n",
              "    <tr>\n",
              "      <th>15997</th>\n",
              "      <td>B00004ZCJE</td>\n",
              "      <td>It protects the lens. But I still have glare f...</td>\n",
              "      <td>4</td>\n",
              "      <td>True</td>\n",
              "      <td>it protect the len but still have glare from l...</td>\n",
              "    </tr>\n",
              "    <tr>\n",
              "      <th>15998</th>\n",
              "      <td>B00004ZCJE</td>\n",
              "      <td>buena calidad, resistente, producto bien hecho...</td>\n",
              "      <td>5</td>\n",
              "      <td>True</td>\n",
              "      <td>buena calidad resistent producto bien hecho la...</td>\n",
              "    </tr>\n",
              "    <tr>\n",
              "      <th>15999</th>\n",
              "      <td>B00004ZCJE</td>\n",
              "      <td>I bought this for my Nikon 80~400 tele-zoom.I ...</td>\n",
              "      <td>3</td>\n",
              "      <td>False</td>\n",
              "      <td>bought thi for my nikon 80 400 tele zoom disap...</td>\n",
              "    </tr>\n",
              "  </tbody>\n",
              "</table>\n",
              "<p>16000 rows × 5 columns</p>\n",
              "</div>"
            ],
            "text/plain": [
              "             asin  ...                                              words\n",
              "0      0528881469  ...  we got thi gp for my husband who is an otr ove...\n",
              "1      0528881469  ...  profession otr truck driver and bought tnd 700...\n",
              "2      0528881469  ...  well what can say ve had thi unit in my truck ...\n",
              "3      0528881469  ...  not go to write long review even thought thi u...\n",
              "4      0528881469  ...  ve had mine for year and here what we got it t...\n",
              "...           ...  ...                                                ...\n",
              "15995  B00004ZCJE  ...  could not ask more of the tiffen 58mm uv prote...\n",
              "15996  B00004ZCJE  ...  order tiffen 52 mm uv filter for the lens that...\n",
              "15997  B00004ZCJE  ...  it protect the len but still have glare from l...\n",
              "15998  B00004ZCJE  ...  buena calidad resistent producto bien hecho la...\n",
              "15999  B00004ZCJE  ...  bought thi for my nikon 80 400 tele zoom disap...\n",
              "\n",
              "[16000 rows x 5 columns]"
            ]
          },
          "metadata": {
            "tags": []
          },
          "execution_count": 12
        }
      ]
    },
    {
      "cell_type": "markdown",
      "metadata": {
        "id": "oMHaxOqbT14X"
      },
      "source": [
        "# Обучим модели и посмотрим их точность"
      ]
    },
    {
      "cell_type": "markdown",
      "metadata": {
        "id": "1KRU-MlYT14o"
      },
      "source": [
        "## Обработанные с оптимальными параметрами"
      ]
    },
    {
      "cell_type": "code",
      "metadata": {
        "colab": {
          "base_uri": "https://localhost:8080/"
        },
        "id": "0ikfTfLLT14p",
        "outputId": "71f7eb98-37ca-4b85-d1cc-4b90a95ceb6a"
      },
      "source": [
        "param_grid = {\n",
        "    'C': np.arange(0.1, 3, 0.1),\n",
        "    'penalty': ['l1', 'l2'],\n",
        "    'class_weight': ['balanced', None, {0:4, 1:1}, {0:1, 1:1}]\n",
        "}\n",
        "search = GridSearchCV(clf, param_grid, cv=5)\n",
        "search.fit(count_train_mtrx, train_ans)\n",
        "print(search.best_params_)"
      ],
      "execution_count": null,
      "outputs": [
        {
          "output_type": "stream",
          "text": [
            "{'C': 0.1, 'class_weight': None, 'penalty': 'l2'}\n"
          ],
          "name": "stdout"
        }
      ]
    },
    {
      "cell_type": "code",
      "metadata": {
        "colab": {
          "base_uri": "https://localhost:8080/"
        },
        "id": "prdP9LAsT14s",
        "outputId": "c11139d2-ed76-434c-df35-5126c4f3c41f"
      },
      "source": [
        "accuracy_score(test_ans, search.best_estimator_.predict(count_test_mtrx))"
      ],
      "execution_count": null,
      "outputs": [
        {
          "output_type": "execute_result",
          "data": {
            "text/plain": [
              "0.8647058823529412"
            ]
          },
          "metadata": {
            "tags": []
          },
          "execution_count": 14
        }
      ]
    },
    {
      "cell_type": "code",
      "metadata": {
        "colab": {
          "base_uri": "https://localhost:8080/"
        },
        "id": "OcW5uCN5T14x",
        "outputId": "03fa1887-614a-4c95-91c4-b35b057e2528"
      },
      "source": [
        "param_grid = {\n",
        "    'C': np.arange(0.1, 3, 0.1),\n",
        "    'penalty': ['l1', 'l2'],\n",
        "    'class_weight': ['balanced', None, {0:4, 1:1}, {0:1, 1:1}]\n",
        "}\n",
        "search = GridSearchCV(clf, param_grid, cv=5)\n",
        "search.fit(tfidf_train_mtrx,  train_ans)\n",
        "print(search.best_params_)"
      ],
      "execution_count": null,
      "outputs": [
        {
          "output_type": "stream",
          "text": [
            "{'C': 2.7, 'class_weight': None, 'penalty': 'l1'}\n"
          ],
          "name": "stdout"
        }
      ]
    },
    {
      "cell_type": "code",
      "metadata": {
        "colab": {
          "base_uri": "https://localhost:8080/"
        },
        "id": "glaCIf6fT142",
        "outputId": "cda9cf67-b42b-42ae-d566-68436acb1b33"
      },
      "source": [
        "accuracy_score(test_ans, search.best_estimator_.predict(tfidf_test_mtrx))"
      ],
      "execution_count": null,
      "outputs": [
        {
          "output_type": "execute_result",
          "data": {
            "text/plain": [
              "0.8713235294117647"
            ]
          },
          "metadata": {
            "tags": []
          },
          "execution_count": 16
        }
      ]
    },
    {
      "cell_type": "markdown",
      "metadata": {
        "id": "u0RjLjipT146"
      },
      "source": [
        "## Дефолтные с оптимальными параметрами"
      ]
    },
    {
      "cell_type": "code",
      "metadata": {
        "colab": {
          "base_uri": "https://localhost:8080/"
        },
        "id": "Arw1VIsGT146",
        "outputId": "fff0ed4a-a8c2-474c-af62-dffd916ff6b7"
      },
      "source": [
        "param_grid = {\n",
        "    'C': np.arange(0.1, 3, 0.1),\n",
        "    'penalty': ['l1', 'l2'],\n",
        "    'class_weight': ['balanced', None, {0:4, 1:1}, {0:1, 1:1}]\n",
        "}\n",
        "search = GridSearchCV(clf, param_grid, cv=5)\n",
        "search.fit(count_train_mtrx_dft, train_ans)\n",
        "print(search.best_params_)"
      ],
      "execution_count": null,
      "outputs": [
        {
          "output_type": "stream",
          "text": [
            "{'C': 0.2, 'class_weight': None, 'penalty': 'l2'}\n"
          ],
          "name": "stdout"
        }
      ]
    },
    {
      "cell_type": "code",
      "metadata": {
        "colab": {
          "base_uri": "https://localhost:8080/"
        },
        "id": "xc94WCv5T14-",
        "outputId": "38ef207e-8c88-4102-e7a8-3fbce7dd4603"
      },
      "source": [
        "print(accuracy_score(test_ans, search.best_estimator_.predict(count_test_mtrx_dft)))\r\n",
        "print(classification_report(test_ans, search.best_estimator_.predict(count_test_mtrx_dft)))"
      ],
      "execution_count": null,
      "outputs": [
        {
          "output_type": "stream",
          "text": [
            "0.8702205882352941\n",
            "              precision    recall  f1-score   support\n",
            "\n",
            "       False       0.71      0.48      0.58       496\n",
            "        True       0.89      0.96      0.92      2224\n",
            "\n",
            "    accuracy                           0.87      2720\n",
            "   macro avg       0.80      0.72      0.75      2720\n",
            "weighted avg       0.86      0.87      0.86      2720\n",
            "\n"
          ],
          "name": "stdout"
        }
      ]
    },
    {
      "cell_type": "code",
      "metadata": {
        "id": "kKFl6p8fT15B",
        "colab": {
          "base_uri": "https://localhost:8080/"
        },
        "outputId": "d74654e2-8211-4d4c-c51a-5f79f516c675"
      },
      "source": [
        "param_grid = {\n",
        "    'C': np.arange(0.1, 3, 0.1),\n",
        "    'penalty': ['l1', 'l2'],\n",
        "    'class_weight': ['balanced', None, {0:4, 1:1}]\n",
        "}\n",
        "search = GridSearchCV(clf, param_grid, cv=5)\n",
        "search.fit(tfidf_train_mtrx_dft, train_ans)\n",
        "print(search.best_params_)"
      ],
      "execution_count": null,
      "outputs": [
        {
          "output_type": "stream",
          "text": [
            "{'C': 2.6, 'class_weight': {0: 4, 1: 1}, 'penalty': 'l2'}\n"
          ],
          "name": "stdout"
        }
      ]
    },
    {
      "cell_type": "code",
      "metadata": {
        "id": "5qx3bIRwT15G",
        "colab": {
          "base_uri": "https://localhost:8080/"
        },
        "outputId": "6aa1f1ad-0704-4df3-ed1c-38be1bfafae2"
      },
      "source": [
        "print(accuracy_score(test_ans, search.best_estimator_.predict(tfidf_test_mtrx_dft)))\r\n",
        "print(classification_report(test_ans, search.best_estimator_.predict(tfidf_test_mtrx_dft)))\r\n"
      ],
      "execution_count": null,
      "outputs": [
        {
          "output_type": "stream",
          "text": [
            "0.8735294117647059\n",
            "              precision    recall  f1-score   support\n",
            "\n",
            "       False       0.65      0.67      0.66       496\n",
            "        True       0.93      0.92      0.92      2224\n",
            "\n",
            "    accuracy                           0.87      2720\n",
            "   macro avg       0.79      0.79      0.79      2720\n",
            "weighted avg       0.88      0.87      0.87      2720\n",
            "\n"
          ],
          "name": "stdout"
        }
      ]
    },
    {
      "cell_type": "markdown",
      "metadata": {
        "id": "xOGPLPjA18ZE"
      },
      "source": [
        "# Лучший результат у tfidf на необработанных данных"
      ]
    },
    {
      "cell_type": "code",
      "metadata": {
        "id": "SKUwa1jw2CyR",
        "colab": {
          "base_uri": "https://localhost:8080/"
        },
        "outputId": "8c2e5379-e2ce-4af9-b56d-c4acb42ca936"
      },
      "source": [
        "clf = LogisticRegression(solver='liblinear', class_weight = {0:4, 1:1}, C=2.6, penalty='l2')\n",
        "clf.fit(tfidf_train_mtrx_dft, train_ans)\n",
        "pred = clf.predict(tfidf_vect.transform(privat_dat.apply(lambda x: np.str_(x))))\n",
        "print(accuracy_score(pred, privat_ans))\n",
        "print(classification_report(pred, privat_ans))"
      ],
      "execution_count": null,
      "outputs": [
        {
          "output_type": "stream",
          "text": [
            "0.8658333333333333\n",
            "              precision    recall  f1-score   support\n",
            "\n",
            "       False       0.60      0.59      0.59       400\n",
            "        True       0.92      0.92      0.92      2000\n",
            "\n",
            "    accuracy                           0.87      2400\n",
            "   macro avg       0.76      0.76      0.76      2400\n",
            "weighted avg       0.87      0.87      0.87      2400\n",
            "\n"
          ],
          "name": "stdout"
        }
      ]
    },
    {
      "cell_type": "markdown",
      "metadata": {
        "id": "prgxtCZhT15J"
      },
      "source": [
        "## Проверим баланс классов"
      ]
    },
    {
      "cell_type": "code",
      "metadata": {
        "id": "mss1yJyDT15K",
        "colab": {
          "base_uri": "https://localhost:8080/"
        },
        "outputId": "222f4961-ab6d-40d3-ee02-ab0fa0762195"
      },
      "source": [
        "print(\"All :\\n1 - \", sum(dat.bin), \"\\n0 - \", len(dat.bin) - sum(dat.bin), \"\\n\", round(100*sum(dat.bin)/len(dat.bin), 2)) \n",
        "print(\"\\nTrain :\\n1 - \", sum(train_ans), \"\\n0 - \", len(train_ans) - sum(train_ans), \"\\n\", round(100*sum(train_ans)/len(train_ans), 2)) \n",
        "print(\"\\nTest :\\n1 - \", sum(test_ans), \"\\n0 - \", len(test_ans) - sum(test_ans), \"\\n\", round(100*sum(test_ans)/len(test_ans), 2) )\n",
        "print(\"\\nPrivat_ans :\\n1 - \", sum(privat_ans), \"\\n0 - \", len(privat_ans) - sum(privat_ans), \"\\n\", round(100*sum(privat_ans)/len(privat_ans), 2) ) "
      ],
      "execution_count": null,
      "outputs": [
        {
          "output_type": "stream",
          "text": [
            "All :\n",
            "1 -  13194 \n",
            "0 -  2806 \n",
            " 82.46\n",
            "\n",
            "Train :\n",
            "1 -  8964 \n",
            "0 -  1916 \n",
            " 82.39\n",
            "\n",
            "Test :\n",
            "1 -  2224 \n",
            "0 -  496 \n",
            " 81.76\n",
            "\n",
            "Privat_ans :\n",
            "1 -  2006 \n",
            "0 -  394 \n",
            " 83.58\n"
          ],
          "name": "stdout"
        }
      ]
    },
    {
      "cell_type": "markdown",
      "metadata": {
        "id": "kQkm2OVIT15O"
      },
      "source": [
        "# Возьмем новый набор данных"
      ]
    },
    {
      "cell_type": "code",
      "metadata": {
        "id": "8bZ4gOE8T15P"
      },
      "source": [
        "dat2 = pd.read_json(\"Tools_and_Home_Improvement_5.json\", lines = True)[[\"reviewText\", \"overall\"]]"
      ],
      "execution_count": null,
      "outputs": []
    },
    {
      "cell_type": "code",
      "metadata": {
        "id": "pwMrNIGiT15T"
      },
      "source": [
        "dat2[\"bin\"] = dat2.overall > 3"
      ],
      "execution_count": null,
      "outputs": []
    },
    {
      "cell_type": "markdown",
      "metadata": {
        "id": "AMgetfbUT15V"
      },
      "source": [
        "## Истинное значение"
      ]
    },
    {
      "cell_type": "code",
      "metadata": {
        "colab": {
          "base_uri": "https://localhost:8080/"
        },
        "id": "V6B_P7ByT15X",
        "outputId": "411e2204-8aa3-4d32-84e8-a1d0baf03d85"
      },
      "source": [
        "rat = (len(dat2.bin)-sum(dat2.bin)) / sum(dat2.bin)\n",
        "print(\"Соотношение false/true:\",len(dat2.bin)-sum(dat2.bin), \" / \", sum(dat2.bin))\n",
        "print(accuracy_score(dat2.bin, search.best_estimator_.predict(tfidf_vect.transform(dat2.reviewText))))\n",
        "print(classification_report(dat2.bin, search.best_estimator_.predict(tfidf_vect.transform(dat2.reviewText))))"
      ],
      "execution_count": null,
      "outputs": [
        {
          "output_type": "stream",
          "text": [
            "Соотношение false/true: 20874  /  113602\n",
            "0.84983194027187\n",
            "              precision    recall  f1-score   support\n",
            "\n",
            "       False       0.51      0.64      0.57     20874\n",
            "        True       0.93      0.89      0.91    113602\n",
            "\n",
            "    accuracy                           0.85    134476\n",
            "   macro avg       0.72      0.76      0.74    134476\n",
            "weighted avg       0.87      0.85      0.86    134476\n",
            "\n"
          ],
          "name": "stdout"
        }
      ]
    },
    {
      "cell_type": "markdown",
      "metadata": {
        "id": "QaZts_am_Xlp"
      },
      "source": [
        "## Случайный выбор"
      ]
    },
    {
      "cell_type": "code",
      "metadata": {
        "colab": {
          "base_uri": "https://localhost:8080/"
        },
        "id": "FoyAAEQo_jdP",
        "outputId": "50a076e4-ac26-4173-b4a1-5f3f3569b52c"
      },
      "source": [
        "df_rand_ch = dat2.sample(4000)\r\n",
        "print(\"Соотношение false/true:\",len(df_rand_ch.bin)-sum(df_rand_ch.bin), \" / \", sum(df_rand_ch.bin))\r\n",
        "print(accuracy_score(df_rand_ch.bin, search.best_estimator_.predict(tfidf_vect.transform(df_rand_ch.reviewText))))\r\n",
        "print(classification_report(df_rand_ch.bin, search.best_estimator_.predict(tfidf_vect.transform(df_rand_ch.reviewText))))"
      ],
      "execution_count": null,
      "outputs": [
        {
          "output_type": "stream",
          "text": [
            "Соотношение false/true: 639  /  3361\n",
            "0.8515\n",
            "              precision    recall  f1-score   support\n",
            "\n",
            "       False       0.53      0.65      0.58       639\n",
            "        True       0.93      0.89      0.91      3361\n",
            "\n",
            "    accuracy                           0.85      4000\n",
            "   macro avg       0.73      0.77      0.75      4000\n",
            "weighted avg       0.87      0.85      0.86      4000\n",
            "\n"
          ],
          "name": "stdout"
        }
      ]
    },
    {
      "cell_type": "markdown",
      "metadata": {
        "id": "JjldfO9D_GTt"
      },
      "source": [
        "## Случайный равномерный выбор"
      ]
    },
    {
      "cell_type": "code",
      "metadata": {
        "colab": {
          "base_uri": "https://localhost:8080/"
        },
        "id": "q6B4LaEwT15b",
        "outputId": "fed5f3e7-da49-4818-a92f-f9906ece9a4d"
      },
      "source": [
        "dat2[\"Choice\"] = 0\n",
        "for i in range(len(dat2.bin)):\n",
        "    dat2['Choice'][i] = (np.random.randint(round(10 / rat)) if dat2.bin[i] else np.random.randint(round(10)))"
      ],
      "execution_count": null,
      "outputs": [
        {
          "output_type": "stream",
          "text": [
            "/usr/local/lib/python3.7/dist-packages/ipykernel_launcher.py:3: SettingWithCopyWarning: \n",
            "A value is trying to be set on a copy of a slice from a DataFrame\n",
            "\n",
            "See the caveats in the documentation: https://pandas.pydata.org/pandas-docs/stable/user_guide/indexing.html#returning-a-view-versus-a-copy\n",
            "  This is separate from the ipykernel package so we can avoid doing imports until\n"
          ],
          "name": "stderr"
        }
      ]
    },
    {
      "cell_type": "code",
      "metadata": {
        "id": "qUdwjKTLT15e",
        "colab": {
          "base_uri": "https://localhost:8080/",
          "height": 419
        },
        "outputId": "4018a50c-f260-4e2d-e2ff-369a69c8fea6"
      },
      "source": [
        "new_test_dat = dat2.loc[dat2.Choice == 0][[\"reviewText\", \"overall\", \"bin\", \"Choice\"]]\n",
        "new_test_dat"
      ],
      "execution_count": null,
      "outputs": [
        {
          "output_type": "execute_result",
          "data": {
            "text/html": [
              "<div>\n",
              "<style scoped>\n",
              "    .dataframe tbody tr th:only-of-type {\n",
              "        vertical-align: middle;\n",
              "    }\n",
              "\n",
              "    .dataframe tbody tr th {\n",
              "        vertical-align: top;\n",
              "    }\n",
              "\n",
              "    .dataframe thead th {\n",
              "        text-align: right;\n",
              "    }\n",
              "</style>\n",
              "<table border=\"1\" class=\"dataframe\">\n",
              "  <thead>\n",
              "    <tr style=\"text-align: right;\">\n",
              "      <th></th>\n",
              "      <th>reviewText</th>\n",
              "      <th>overall</th>\n",
              "      <th>bin</th>\n",
              "      <th>Choice</th>\n",
              "    </tr>\n",
              "  </thead>\n",
              "  <tbody>\n",
              "    <tr>\n",
              "      <th>17</th>\n",
              "      <td>From reading all the glowing reviews here, I t...</td>\n",
              "      <td>3</td>\n",
              "      <td>False</td>\n",
              "      <td>0</td>\n",
              "    </tr>\n",
              "    <tr>\n",
              "      <th>26</th>\n",
              "      <td>This light is useless for reading in bed next ...</td>\n",
              "      <td>2</td>\n",
              "      <td>False</td>\n",
              "      <td>0</td>\n",
              "    </tr>\n",
              "    <tr>\n",
              "      <th>46</th>\n",
              "      <td>Good price and works well.  I use it in my Ken...</td>\n",
              "      <td>5</td>\n",
              "      <td>True</td>\n",
              "      <td>0</td>\n",
              "    </tr>\n",
              "    <tr>\n",
              "      <th>60</th>\n",
              "      <td>this is not a standard size bulb, it is smalle...</td>\n",
              "      <td>3</td>\n",
              "      <td>False</td>\n",
              "      <td>0</td>\n",
              "    </tr>\n",
              "    <tr>\n",
              "      <th>70</th>\n",
              "      <td>The bulbs came all in one small ziplock bag, w...</td>\n",
              "      <td>3</td>\n",
              "      <td>False</td>\n",
              "      <td>0</td>\n",
              "    </tr>\n",
              "    <tr>\n",
              "      <th>...</th>\n",
              "      <td>...</td>\n",
              "      <td>...</td>\n",
              "      <td>...</td>\n",
              "      <td>...</td>\n",
              "    </tr>\n",
              "    <tr>\n",
              "      <th>134218</th>\n",
              "      <td>Yes, this is easy to retrofit; the easy video ...</td>\n",
              "      <td>3</td>\n",
              "      <td>False</td>\n",
              "      <td>0</td>\n",
              "    </tr>\n",
              "    <tr>\n",
              "      <th>134223</th>\n",
              "      <td>This is not what I thought it was when I order...</td>\n",
              "      <td>3</td>\n",
              "      <td>False</td>\n",
              "      <td>0</td>\n",
              "    </tr>\n",
              "    <tr>\n",
              "      <th>134291</th>\n",
              "      <td>Really like this light, its does the job and m...</td>\n",
              "      <td>5</td>\n",
              "      <td>True</td>\n",
              "      <td>0</td>\n",
              "    </tr>\n",
              "    <tr>\n",
              "      <th>134341</th>\n",
              "      <td>Bought this so I can use thus with my nook, I ...</td>\n",
              "      <td>5</td>\n",
              "      <td>True</td>\n",
              "      <td>0</td>\n",
              "    </tr>\n",
              "    <tr>\n",
              "      <th>134466</th>\n",
              "      <td>This cigar cutter is very slick looking. The b...</td>\n",
              "      <td>5</td>\n",
              "      <td>True</td>\n",
              "      <td>0</td>\n",
              "    </tr>\n",
              "  </tbody>\n",
              "</table>\n",
              "<p>4218 rows × 4 columns</p>\n",
              "</div>"
            ],
            "text/plain": [
              "                                               reviewText  ...  Choice\n",
              "17      From reading all the glowing reviews here, I t...  ...       0\n",
              "26      This light is useless for reading in bed next ...  ...       0\n",
              "46      Good price and works well.  I use it in my Ken...  ...       0\n",
              "60      this is not a standard size bulb, it is smalle...  ...       0\n",
              "70      The bulbs came all in one small ziplock bag, w...  ...       0\n",
              "...                                                   ...  ...     ...\n",
              "134218  Yes, this is easy to retrofit; the easy video ...  ...       0\n",
              "134223  This is not what I thought it was when I order...  ...       0\n",
              "134291  Really like this light, its does the job and m...  ...       0\n",
              "134341  Bought this so I can use thus with my nook, I ...  ...       0\n",
              "134466  This cigar cutter is very slick looking. The b...  ...       0\n",
              "\n",
              "[4218 rows x 4 columns]"
            ]
          },
          "metadata": {
            "tags": []
          },
          "execution_count": 97
        }
      ]
    },
    {
      "cell_type": "code",
      "metadata": {
        "id": "y4m7OhKYT15h",
        "colab": {
          "base_uri": "https://localhost:8080/"
        },
        "outputId": "10cc563e-45ba-402f-f372-9b4d72eee804"
      },
      "source": [
        "print(\"Соотношение false/true:\",len(new_test_dat.bin)-sum(new_test_dat.bin), \" / \", sum(new_test_dat.bin))\n",
        "print(\"Всего \" , (len(new_test_dat.bin)))\n",
        "print(accuracy_score(new_test_dat.bin, search.best_estimator_.predict(tfidf_vect.transform(new_test_dat.reviewText))))\n",
        "print(classification_report(new_test_dat.bin, search.best_estimator_.predict(tfidf_vect.transform(new_test_dat.reviewText))))"
      ],
      "execution_count": null,
      "outputs": [
        {
          "output_type": "stream",
          "text": [
            "Соотношение false/true: 2132  /  2086\n",
            "Всего  4218\n",
            "0.7726410621147464\n",
            "              precision    recall  f1-score   support\n",
            "\n",
            "       False       0.86      0.66      0.75      2132\n",
            "        True       0.72      0.89      0.79      2086\n",
            "\n",
            "    accuracy                           0.77      4218\n",
            "   macro avg       0.79      0.77      0.77      4218\n",
            "weighted avg       0.79      0.77      0.77      4218\n",
            "\n"
          ],
          "name": "stdout"
        }
      ]
    },
    {
      "cell_type": "markdown",
      "metadata": {
        "id": "GINOkkwCAd5N"
      },
      "source": [
        "## Случайный выбор с сохраненем баланса классов"
      ]
    },
    {
      "cell_type": "code",
      "metadata": {
        "colab": {
          "base_uri": "https://localhost:8080/"
        },
        "id": "Q-oZv9KXAvCN",
        "outputId": "aa4daef3-1788-4c53-dbd7-d70e8babcf7c"
      },
      "source": [
        "df_rc_2 = pd.concat([dat2.loc[dat2['bin']].sample(round(4000*(1/(rat+1)))), dat2.loc[dat2['bin'] != True].sample(round(4000*rat/(rat+1)))], ignore_index=True)\r\n",
        "print(\"Соотношение false/true:\",len(df_rc_2.bin)-sum(df_rc_2.bin), \" / \", sum(df_rc_2.bin))\r\n",
        "print(accuracy_score(df_rc_2.bin, search.best_estimator_.predict(tfidf_vect.transform(df_rc_2.reviewText))))\r\n",
        "print(classification_report(df_rc_2.bin, search.best_estimator_.predict(tfidf_vect.transform(df_rc_2.reviewText))))"
      ],
      "execution_count": null,
      "outputs": [
        {
          "output_type": "stream",
          "text": [
            "Соотношение false/true: 621  /  3379\n",
            "0.84025\n",
            "              precision    recall  f1-score   support\n",
            "\n",
            "       False       0.49      0.60      0.54       621\n",
            "        True       0.92      0.88      0.90      3379\n",
            "\n",
            "    accuracy                           0.84      4000\n",
            "   macro avg       0.71      0.74      0.72      4000\n",
            "weighted avg       0.86      0.84      0.85      4000\n",
            "\n"
          ],
          "name": "stdout"
        }
      ]
    },
    {
      "cell_type": "markdown",
      "metadata": {
        "id": "j0Ck6EBLT15q"
      },
      "source": [
        "## По уверености классификатора"
      ]
    },
    {
      "cell_type": "code",
      "metadata": {
        "id": "_HqKIPWhT15r"
      },
      "source": [
        "prob = search.best_estimator_.predict_proba(tfidf_vect.transform(dat2.reviewText))\r\n",
        "prob = [x[0] for x in prob]"
      ],
      "execution_count": null,
      "outputs": []
    },
    {
      "cell_type": "code",
      "metadata": {
        "id": "p-NPa_GiT15u"
      },
      "source": [
        "dat2[\"chance\"] = prob"
      ],
      "execution_count": null,
      "outputs": []
    },
    {
      "cell_type": "markdown",
      "metadata": {
        "id": "q7TQ2aqvT15x"
      },
      "source": [
        "### Уверенность, что оценка <= 3"
      ]
    },
    {
      "cell_type": "code",
      "metadata": {
        "id": "s5sSJDrbT15z"
      },
      "source": [
        "dat2 = dat2.sort_values(by = \"chance\")"
      ],
      "execution_count": null,
      "outputs": []
    },
    {
      "cell_type": "code",
      "metadata": {
        "id": "I3N3jBIUT152",
        "colab": {
          "base_uri": "https://localhost:8080/",
          "height": 419
        },
        "outputId": "84c386de-26fb-46cb-f6a7-ede006271218"
      },
      "source": [
        "dat2"
      ],
      "execution_count": null,
      "outputs": [
        {
          "output_type": "execute_result",
          "data": {
            "text/html": [
              "<div>\n",
              "<style scoped>\n",
              "    .dataframe tbody tr th:only-of-type {\n",
              "        vertical-align: middle;\n",
              "    }\n",
              "\n",
              "    .dataframe tbody tr th {\n",
              "        vertical-align: top;\n",
              "    }\n",
              "\n",
              "    .dataframe thead th {\n",
              "        text-align: right;\n",
              "    }\n",
              "</style>\n",
              "<table border=\"1\" class=\"dataframe\">\n",
              "  <thead>\n",
              "    <tr style=\"text-align: right;\">\n",
              "      <th></th>\n",
              "      <th>reviewText</th>\n",
              "      <th>overall</th>\n",
              "      <th>bin</th>\n",
              "      <th>Choice</th>\n",
              "      <th>chance</th>\n",
              "    </tr>\n",
              "  </thead>\n",
              "  <tbody>\n",
              "    <tr>\n",
              "      <th>43376</th>\n",
              "      <td>Great thermostat</td>\n",
              "      <td>4</td>\n",
              "      <td>True</td>\n",
              "      <td>26</td>\n",
              "      <td>0.000020</td>\n",
              "    </tr>\n",
              "    <tr>\n",
              "      <th>50418</th>\n",
              "      <td>GREAT</td>\n",
              "      <td>5</td>\n",
              "      <td>True</td>\n",
              "      <td>35</td>\n",
              "      <td>0.000020</td>\n",
              "    </tr>\n",
              "    <tr>\n",
              "      <th>51595</th>\n",
              "      <td>Great hammer.</td>\n",
              "      <td>5</td>\n",
              "      <td>True</td>\n",
              "      <td>21</td>\n",
              "      <td>0.000020</td>\n",
              "    </tr>\n",
              "    <tr>\n",
              "      <th>27435</th>\n",
              "      <td>GREAT.. ........... .......... ............ .....</td>\n",
              "      <td>5</td>\n",
              "      <td>True</td>\n",
              "      <td>28</td>\n",
              "      <td>0.000020</td>\n",
              "    </tr>\n",
              "    <tr>\n",
              "      <th>52596</th>\n",
              "      <td>great sharpener</td>\n",
              "      <td>5</td>\n",
              "      <td>True</td>\n",
              "      <td>2</td>\n",
              "      <td>0.000020</td>\n",
              "    </tr>\n",
              "    <tr>\n",
              "      <th>...</th>\n",
              "      <td>...</td>\n",
              "      <td>...</td>\n",
              "      <td>...</td>\n",
              "      <td>...</td>\n",
              "      <td>...</td>\n",
              "    </tr>\n",
              "    <tr>\n",
              "      <th>98628</th>\n",
              "      <td>At first, we were very pleased with the STI-34...</td>\n",
              "      <td>1</td>\n",
              "      <td>False</td>\n",
              "      <td>9</td>\n",
              "      <td>0.996168</td>\n",
              "    </tr>\n",
              "    <tr>\n",
              "      <th>92229</th>\n",
              "      <td>The metal of a product is not measured by how ...</td>\n",
              "      <td>2</td>\n",
              "      <td>False</td>\n",
              "      <td>4</td>\n",
              "      <td>0.996580</td>\n",
              "    </tr>\n",
              "    <tr>\n",
              "      <th>31175</th>\n",
              "      <td>This seemed OK when I first got it. But it sto...</td>\n",
              "      <td>1</td>\n",
              "      <td>False</td>\n",
              "      <td>9</td>\n",
              "      <td>0.997447</td>\n",
              "    </tr>\n",
              "    <tr>\n",
              "      <th>116804</th>\n",
              "      <td>what a waste of my time.  All 5 I ordered did ...</td>\n",
              "      <td>1</td>\n",
              "      <td>False</td>\n",
              "      <td>0</td>\n",
              "      <td>0.997805</td>\n",
              "    </tr>\n",
              "    <tr>\n",
              "      <th>77560</th>\n",
              "      <td>size &amp; brightness is good, but the motion acti...</td>\n",
              "      <td>2</td>\n",
              "      <td>False</td>\n",
              "      <td>6</td>\n",
              "      <td>0.998812</td>\n",
              "    </tr>\n",
              "  </tbody>\n",
              "</table>\n",
              "<p>134476 rows × 5 columns</p>\n",
              "</div>"
            ],
            "text/plain": [
              "                                               reviewText  ...    chance\n",
              "43376                                    Great thermostat  ...  0.000020\n",
              "50418                                               GREAT  ...  0.000020\n",
              "51595                                       Great hammer.  ...  0.000020\n",
              "27435   GREAT.. ........... .......... ............ .....  ...  0.000020\n",
              "52596                                     great sharpener  ...  0.000020\n",
              "...                                                   ...  ...       ...\n",
              "98628   At first, we were very pleased with the STI-34...  ...  0.996168\n",
              "92229   The metal of a product is not measured by how ...  ...  0.996580\n",
              "31175   This seemed OK when I first got it. But it sto...  ...  0.997447\n",
              "116804  what a waste of my time.  All 5 I ordered did ...  ...  0.997805\n",
              "77560   size & brightness is good, but the motion acti...  ...  0.998812\n",
              "\n",
              "[134476 rows x 5 columns]"
            ]
          },
          "metadata": {
            "tags": []
          },
          "execution_count": 103
        }
      ]
    },
    {
      "cell_type": "code",
      "metadata": {
        "id": "KKRNIJACT156",
        "colab": {
          "base_uri": "https://localhost:8080/"
        },
        "outputId": "5b53c782-4550-446c-d95e-6aecee72fce0"
      },
      "source": [
        "for i in range(len(dat2.Choice)):\n",
        "    dat2.Choice[i] = (i % 32 == 0)"
      ],
      "execution_count": null,
      "outputs": [
        {
          "output_type": "stream",
          "text": [
            "/usr/local/lib/python3.7/dist-packages/ipykernel_launcher.py:2: SettingWithCopyWarning: \n",
            "A value is trying to be set on a copy of a slice from a DataFrame\n",
            "\n",
            "See the caveats in the documentation: https://pandas.pydata.org/pandas-docs/stable/user_guide/indexing.html#returning-a-view-versus-a-copy\n",
            "  \n",
            "/usr/local/lib/python3.7/dist-packages/pandas/core/indexing.py:670: SettingWithCopyWarning: \n",
            "A value is trying to be set on a copy of a slice from a DataFrame\n",
            "\n",
            "See the caveats in the documentation: https://pandas.pydata.org/pandas-docs/stable/user_guide/indexing.html#returning-a-view-versus-a-copy\n",
            "  iloc._setitem_with_indexer(indexer, value)\n"
          ],
          "name": "stderr"
        }
      ]
    },
    {
      "cell_type": "code",
      "metadata": {
        "id": "EXGBe1jQT158",
        "colab": {
          "base_uri": "https://localhost:8080/",
          "height": 419
        },
        "outputId": "7b36ab70-ad0d-4aa0-ab99-be54364f0393"
      },
      "source": [
        "new_test_dat_2 = dat2.loc[dat2.Choice]\n",
        "new_test_dat_2"
      ],
      "execution_count": null,
      "outputs": [
        {
          "output_type": "execute_result",
          "data": {
            "text/html": [
              "<div>\n",
              "<style scoped>\n",
              "    .dataframe tbody tr th:only-of-type {\n",
              "        vertical-align: middle;\n",
              "    }\n",
              "\n",
              "    .dataframe tbody tr th {\n",
              "        vertical-align: top;\n",
              "    }\n",
              "\n",
              "    .dataframe thead th {\n",
              "        text-align: right;\n",
              "    }\n",
              "</style>\n",
              "<table border=\"1\" class=\"dataframe\">\n",
              "  <thead>\n",
              "    <tr style=\"text-align: right;\">\n",
              "      <th></th>\n",
              "      <th>reviewText</th>\n",
              "      <th>overall</th>\n",
              "      <th>bin</th>\n",
              "      <th>Choice</th>\n",
              "      <th>chance</th>\n",
              "    </tr>\n",
              "  </thead>\n",
              "  <tbody>\n",
              "    <tr>\n",
              "      <th>61600</th>\n",
              "      <td>Works great.</td>\n",
              "      <td>5</td>\n",
              "      <td>True</td>\n",
              "      <td>True</td>\n",
              "      <td>0.000289</td>\n",
              "    </tr>\n",
              "    <tr>\n",
              "      <th>37344</th>\n",
              "      <td>Great jig saw.  The light is great and makes i...</td>\n",
              "      <td>5</td>\n",
              "      <td>True</td>\n",
              "      <td>True</td>\n",
              "      <td>0.001163</td>\n",
              "    </tr>\n",
              "    <tr>\n",
              "      <th>130208</th>\n",
              "      <td>This is a great buy.  Love the color and price.</td>\n",
              "      <td>5</td>\n",
              "      <td>True</td>\n",
              "      <td>True</td>\n",
              "      <td>0.001590</td>\n",
              "    </tr>\n",
              "    <tr>\n",
              "      <th>128096</th>\n",
              "      <td>This is one of the best flashlights I have com...</td>\n",
              "      <td>5</td>\n",
              "      <td>True</td>\n",
              "      <td>True</td>\n",
              "      <td>0.001881</td>\n",
              "    </tr>\n",
              "    <tr>\n",
              "      <th>70656</th>\n",
              "      <td>I love this system.  I've used it to build sev...</td>\n",
              "      <td>5</td>\n",
              "      <td>True</td>\n",
              "      <td>True</td>\n",
              "      <td>0.002094</td>\n",
              "    </tr>\n",
              "    <tr>\n",
              "      <th>...</th>\n",
              "      <td>...</td>\n",
              "      <td>...</td>\n",
              "      <td>...</td>\n",
              "      <td>...</td>\n",
              "      <td>...</td>\n",
              "    </tr>\n",
              "    <tr>\n",
              "      <th>91904</th>\n",
              "      <td>We bought 4 of these back in 2010.  One has st...</td>\n",
              "      <td>2</td>\n",
              "      <td>False</td>\n",
              "      <td>True</td>\n",
              "      <td>0.988569</td>\n",
              "    </tr>\n",
              "    <tr>\n",
              "      <th>60384</th>\n",
              "      <td>I have had this replaced 3 times now thru the ...</td>\n",
              "      <td>1</td>\n",
              "      <td>False</td>\n",
              "      <td>True</td>\n",
              "      <td>0.989966</td>\n",
              "    </tr>\n",
              "    <tr>\n",
              "      <th>121568</th>\n",
              "      <td>The flashlight casing is ok but the charger un...</td>\n",
              "      <td>1</td>\n",
              "      <td>False</td>\n",
              "      <td>True</td>\n",
              "      <td>0.990595</td>\n",
              "    </tr>\n",
              "    <tr>\n",
              "      <th>57056</th>\n",
              "      <td>Very expensive and just equally as worthless. ...</td>\n",
              "      <td>1</td>\n",
              "      <td>False</td>\n",
              "      <td>True</td>\n",
              "      <td>0.993496</td>\n",
              "    </tr>\n",
              "    <tr>\n",
              "      <th>121536</th>\n",
              "      <td>The light is nice and bright when it decides t...</td>\n",
              "      <td>3</td>\n",
              "      <td>False</td>\n",
              "      <td>True</td>\n",
              "      <td>0.995272</td>\n",
              "    </tr>\n",
              "  </tbody>\n",
              "</table>\n",
              "<p>4203 rows × 5 columns</p>\n",
              "</div>"
            ],
            "text/plain": [
              "                                               reviewText  ...    chance\n",
              "61600                                        Works great.  ...  0.000289\n",
              "37344   Great jig saw.  The light is great and makes i...  ...  0.001163\n",
              "130208    This is a great buy.  Love the color and price.  ...  0.001590\n",
              "128096  This is one of the best flashlights I have com...  ...  0.001881\n",
              "70656   I love this system.  I've used it to build sev...  ...  0.002094\n",
              "...                                                   ...  ...       ...\n",
              "91904   We bought 4 of these back in 2010.  One has st...  ...  0.988569\n",
              "60384   I have had this replaced 3 times now thru the ...  ...  0.989966\n",
              "121568  The flashlight casing is ok but the charger un...  ...  0.990595\n",
              "57056   Very expensive and just equally as worthless. ...  ...  0.993496\n",
              "121536  The light is nice and bright when it decides t...  ...  0.995272\n",
              "\n",
              "[4203 rows x 5 columns]"
            ]
          },
          "metadata": {
            "tags": []
          },
          "execution_count": 105
        }
      ]
    },
    {
      "cell_type": "code",
      "metadata": {
        "id": "UPpf4NelT16A",
        "colab": {
          "base_uri": "https://localhost:8080/"
        },
        "outputId": "97aa9095-7fd1-4007-db8d-97cef37ae461"
      },
      "source": [
        "print(\"Соотношение false/true:\",len(new_test_dat_2.bin)-sum(new_test_dat_2.bin), \" / \", sum(new_test_dat_2.bin))\n",
        "print(\"Всего \" , (len(new_test_dat_2.bin)))"
      ],
      "execution_count": null,
      "outputs": [
        {
          "output_type": "stream",
          "text": [
            "Соотношение false/true: 639  /  3564\n",
            "Всего  4203\n"
          ],
          "name": "stdout"
        }
      ]
    },
    {
      "cell_type": "code",
      "metadata": {
        "id": "blEoJ8kyT16D",
        "colab": {
          "base_uri": "https://localhost:8080/"
        },
        "outputId": "67d6f673-435d-4b38-c7fd-958556271c4a"
      },
      "source": [
        "print(accuracy_score(new_test_dat_2.bin, search.best_estimator_.predict(tfidf_vect.transform(new_test_dat_2.reviewText))))\r\n",
        "print(classification_report(new_test_dat_2.bin, search.best_estimator_.predict(tfidf_vect.transform(new_test_dat_2.reviewText))))"
      ],
      "execution_count": null,
      "outputs": [
        {
          "output_type": "stream",
          "text": [
            "0.8532000951701166\n",
            "              precision    recall  f1-score   support\n",
            "\n",
            "       False       0.51      0.64      0.57       639\n",
            "        True       0.93      0.89      0.91      3564\n",
            "\n",
            "    accuracy                           0.85      4203\n",
            "   macro avg       0.72      0.76      0.74      4203\n",
            "weighted avg       0.87      0.85      0.86      4203\n",
            "\n"
          ],
          "name": "stdout"
        }
      ]
    },
    {
      "cell_type": "code",
      "metadata": {
        "id": "gPZun6tTT16G"
      },
      "source": [
        ""
      ],
      "execution_count": null,
      "outputs": []
    }
  ]
}