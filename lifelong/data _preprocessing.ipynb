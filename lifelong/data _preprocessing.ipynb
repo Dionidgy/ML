{
 "cells": [
  {
   "cell_type": "code",
   "execution_count": 3,
   "metadata": {},
   "outputs": [
    {
     "name": "stdout",
     "output_type": "stream",
     "text": [
      "Collecting nltk\n",
      "  Downloading nltk-3.6.7-py3-none-any.whl (1.5 MB)\n",
      "\u001b[K     |████████████████████████████████| 1.5 MB 1.7 MB/s eta 0:00:01\n",
      "\u001b[?25hCollecting click\n",
      "  Downloading click-8.0.4-py3-none-any.whl (97 kB)\n",
      "\u001b[K     |████████████████████████████████| 97 kB 9.8 MB/s  eta 0:00:01\n",
      "\u001b[?25hRequirement already satisfied: tqdm in /usr/local/lib/python3.6/dist-packages (from nltk) (4.45.0)\n",
      "Requirement already satisfied: joblib in /usr/local/lib/python3.6/dist-packages (from nltk) (0.14.1)\n",
      "Collecting regex>=2021.8.3\n",
      "  Downloading regex-2022.3.15-cp36-cp36m-manylinux_2_17_x86_64.manylinux2014_x86_64.whl (749 kB)\n",
      "\u001b[K     |████████████████████████████████| 749 kB 157.1 MB/s eta 0:00:01\n",
      "\u001b[?25hRequirement already satisfied: importlib-metadata; python_version < \"3.8\" in /usr/local/lib/python3.6/dist-packages (from click->nltk) (1.6.0)\n",
      "Requirement already satisfied: zipp>=0.5 in /usr/local/lib/python3.6/dist-packages (from importlib-metadata; python_version < \"3.8\"->click->nltk) (3.1.0)\n",
      "Installing collected packages: click, regex, nltk\n",
      "Successfully installed click-8.0.4 nltk-3.6.7 regex-2022.3.15\n",
      "\u001b[33mWARNING: You are using pip version 20.0.2; however, version 21.3.1 is available.\n",
      "You should consider upgrading via the '/usr/bin/python3.6 -m pip install --upgrade pip' command.\u001b[0m\n"
     ]
    }
   ],
   "source": [
    "!pip install nltk"
   ]
  },
  {
   "cell_type": "code",
   "execution_count": 8,
   "metadata": {},
   "outputs": [
    {
     "name": "stderr",
     "output_type": "stream",
     "text": [
      "[nltk_data] Downloading package punkt to /root/nltk_data...\n",
      "[nltk_data]   Unzipping tokenizers/punkt.zip.\n"
     ]
    }
   ],
   "source": [
    "import numpy as np\n",
    "import pandas as pd\n",
    "import nltk\n",
    "import string\n",
    "import datetime\n",
    "import random\n",
    "\n",
    "from sklearn.model_selection import StratifiedKFold\n",
    "\n",
    "nltk.download('punkt')\n",
    "random.seed(1580)"
   ]
  },
  {
   "cell_type": "code",
   "execution_count": 9,
   "metadata": {},
   "outputs": [],
   "source": [
    "porter_stemmer = nltk.stem.PorterStemmer()\n",
    "tok = nltk.tokenize.word_tokenize\n",
    "df_all = pd.read_csv('Electronics_5.csv')\n",
    "df_all.reviewTime = pd.to_datetime(df_all.reviewTime, format=\"%m %d, %Y\")\n",
    "df_all = df_all.sort_values(by = 'reviewTime').reset_index(drop = True)\n",
    "df_all['label'] = df_all.overall\n",
    "df_all[\"words\"] = list(map(lambda elem: (\" \").join(map(lambda s: (porter_stemmer.stem(s)), elem)).lower().translate(str.maketrans('', '', string.punctuation)), map(lambda wrds: tok(wrds), df_all.reviewText.apply(lambda x: np.str_(x)))))"
   ]
  },
  {
   "cell_type": "code",
   "execution_count": 11,
   "metadata": {},
   "outputs": [
    {
     "name": "stdout",
     "output_type": "stream",
     "text": [
      "1999 72\n",
      "5    49\n",
      "4    12\n",
      "2     6\n",
      "3     3\n",
      "1     2\n",
      "Name: label, dtype: int64 \n",
      "\n",
      "2000 817\n",
      "5    478\n",
      "4    208\n",
      "3     75\n",
      "2     28\n",
      "1     28\n",
      "Name: label, dtype: int64 \n",
      "\n",
      "2001 1609\n",
      "5    894\n",
      "4    398\n",
      "3    144\n",
      "1    102\n",
      "2     71\n",
      "Name: label, dtype: int64 \n",
      "\n",
      "2002 2315\n",
      "5    1220\n",
      "4     582\n",
      "3     215\n",
      "1     154\n",
      "2     144\n",
      "Name: label, dtype: int64 \n",
      "\n",
      "2003 3547\n",
      "5    1797\n",
      "4     866\n",
      "3     328\n",
      "1     306\n",
      "2     250\n",
      "Name: label, dtype: int64 \n",
      "\n",
      "2004 5159\n",
      "5    2488\n",
      "4    1167\n",
      "1     620\n",
      "3     501\n",
      "2     383\n",
      "Name: label, dtype: int64 \n",
      "\n",
      "2005 9638\n",
      "5    4630\n",
      "4    2364\n",
      "1    1068\n",
      "3     897\n",
      "2     679\n",
      "Name: label, dtype: int64 \n",
      "\n",
      "2006 15447\n",
      "5    7770\n",
      "4    3758\n",
      "1    1490\n",
      "3    1395\n",
      "2    1034\n",
      "Name: label, dtype: int64 \n",
      "\n",
      "2007 35976\n",
      "5    19766\n",
      "4     8638\n",
      "3     3019\n",
      "1     2584\n",
      "2     1969\n",
      "Name: label, dtype: int64 \n",
      "\n",
      "2008 49872\n",
      "5    27533\n",
      "4    11927\n",
      "3     4224\n",
      "1     3471\n",
      "2     2717\n",
      "Name: label, dtype: int64 \n",
      "\n",
      "2009 70666\n",
      "5    39081\n",
      "4    16223\n",
      "3     6176\n",
      "1     5330\n",
      "2     3856\n",
      "Name: label, dtype: int64 \n",
      "\n",
      "2010 103797\n",
      "5    56697\n",
      "4    23778\n",
      "3     9475\n",
      "1     8018\n",
      "2     5829\n",
      "Name: label, dtype: int64 \n",
      "\n",
      "2011 173395\n",
      "5    97539\n",
      "4    37321\n",
      "3    15351\n",
      "1    13513\n",
      "2     9671\n",
      "Name: label, dtype: int64 \n",
      "\n",
      "2012 282942\n",
      "5    167615\n",
      "4     56944\n",
      "3     23758\n",
      "1     20275\n",
      "2     14350\n",
      "Name: label, dtype: int64 \n",
      "\n",
      "2013 592748\n",
      "5    366240\n",
      "4    118941\n",
      "3     49102\n",
      "1     32499\n",
      "2     25966\n",
      "Name: label, dtype: int64 \n",
      "\n",
      "2014 341188\n",
      "5    215229\n",
      "4     63914\n",
      "3     27594\n",
      "1     19265\n",
      "2     15186\n",
      "Name: label, dtype: int64 \n",
      "\n"
     ]
    }
   ],
   "source": [
    "df_by_years = {}\n",
    "for year in df_all.reviewTime.dt.year.unique().tolist():\n",
    "    df_by_years[year] = df_all[df_all.reviewTime.dt.year == year].reset_index(drop = True)\n",
    "    print(year, len(df_by_years[year]))\n",
    "    print(df_by_years[year].label.value_counts(), '\\n')"
   ]
  },
  {
   "cell_type": "code",
   "execution_count": 13,
   "metadata": {},
   "outputs": [
    {
     "name": "stdout",
     "output_type": "stream",
     "text": [
      "2007\n",
      "2008\n",
      "2009\n",
      "2010\n",
      "2011\n",
      "2012\n",
      "2013\n",
      "2014\n"
     ]
    }
   ],
   "source": [
    "skf = StratifiedKFold(n_splits=7)\n",
    "for year in range(2007, 2015):\n",
    "    data_tmp = df_by_years[year].sample(35000)\n",
    "    data_list = []\n",
    "    index = 0\n",
    "    for train_index, test_index in skf.split(data_tmp.words, data_tmp.label):\n",
    "        data = data_tmp.iloc[test_index]\n",
    "        data[['words', 'label']].to_csv('data/{0}_{1}.csv'.format(year, index))\n",
    "        index += 1\n",
    "    print(year)"
   ]
  },
  {
   "cell_type": "code",
   "execution_count": null,
   "metadata": {},
   "outputs": [],
   "source": []
  }
 ],
 "metadata": {
  "kernelspec": {
   "display_name": "Python 3",
   "language": "python",
   "name": "python3"
  },
  "language_info": {
   "codemirror_mode": {
    "name": "ipython",
    "version": 3
   },
   "file_extension": ".py",
   "mimetype": "text/x-python",
   "name": "python",
   "nbconvert_exporter": "python",
   "pygments_lexer": "ipython3",
   "version": "3.6.9"
  }
 },
 "nbformat": 4,
 "nbformat_minor": 4
}
