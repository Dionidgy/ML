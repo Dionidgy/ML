{
 "cells": [
  {
   "cell_type": "code",
   "execution_count": 204,
   "metadata": {},
   "outputs": [],
   "source": [
    "import numpy as np\n",
    "import pandas as pd\n",
    "from scipy.special import rel_entr, kl_div\n",
    "from scipy.stats import entropy, ks_2samp\n",
    "from scipy.spatial.distance import jensenshannon\n",
    "from skmultiflow.drift_detection import DDM, PageHinkley, ADWIN\n",
    "from skmultiflow.data import ConceptDriftStream"
   ]
  },
  {
   "cell_type": "markdown",
   "metadata": {},
   "source": [
    "# Lifelong learning"
   ]
  },
  {
   "cell_type": "markdown",
   "metadata": {},
   "source": [
    "###### Continual Lifelong Learning with Neural Networks: A Review\n",
    "https://arxiv.org/abs/1802.07569"
   ]
  },
  {
   "cell_type": "markdown",
   "metadata": {},
   "source": [
    "# Feature drift"
   ]
  },
  {
   "cell_type": "markdown",
   "metadata": {},
   "source": [
    "### A survey on feature drift adaptation: Definition, benchmark, challenges and future directions\n",
    "https://www.sciencedirect.com/science/article/pii/S0164121216301030#bib0046\n",
    "# $$\\Downarrow$$\n",
    "#### Dynamic Feature Space and Incremental Feature Selection for the Classiflcation of Textual Data Streams\n",
    "www.researchgate.net/publication/250302474_Dynamic_Feature_Space_and_Incremental_Feature_Selection_for_the_Classiflcation_of_Textual_Data_Streams\n",
    "###### Dataset:\n",
    "https://spamassassin.apache.org/old/publiccorpus/\n",
    "\n",
    "###### Another interesting dataset about spam (): \n",
    "https://www.csie.ntu.edu.tw/~cjlin/libsvmtools/datasets/binary.html#webspam\n",
    "\n",
    "#### Heterogeneous Ensemble for Feature Drifts in Data Streams\n",
    "https://www.researchgate.net/publication/229067302_Heterogeneous_Ensemble_for_Feature_Drifts_in_Data_Streams\n",
    "###### Dataset:\n",
    "http://kdd.ics.uci.edu/databases/kddcup99/kddcup99.html"
   ]
  },
  {
   "cell_type": "markdown",
   "metadata": {},
   "source": [
    "### Drift Detection Using Uncertainty Distribution Divergence\n",
    "https://www.researchgate.net/publication/220766509_Drift_Detection_Using_Uncertainty_Distribution_Divergence\n",
    "\n",
    "###### Datasets:\n",
    "1) http://www.daviddlewis.com/resources/testcollections/reuters21578/  \n",
    "2) http://qwone.com/~jason/20Newsgroups/"
   ]
  },
  {
   "cell_type": "markdown",
   "metadata": {},
   "source": [
    "## Total Variance Distance \n",
    "### tvd = $\\frac{\\sum diff_{abs}}{2}$"
   ]
  },
  {
   "cell_type": "markdown",
   "metadata": {},
   "source": [
    "http://data8.org/fa15/text/3_inference.html \\\n",
    "https://docs.aws.amazon.com/sagemaker/latest/dg/sagemaker-dg.pdf#clarify-data-bias-metric-total-variation-distance"
   ]
  },
  {
   "cell_type": "code",
   "execution_count": 162,
   "metadata": {},
   "outputs": [],
   "source": [
    "dist1 = np.array([0.15, 0.18, 0.12, 0.54, 0.01])\n",
    "dist2 = np.array([0.26, 0.08, 0.08, 0.54, 0.04])"
   ]
  },
  {
   "cell_type": "code",
   "execution_count": 163,
   "metadata": {},
   "outputs": [
    {
     "data": {
      "text/plain": [
       "0.14"
      ]
     },
     "execution_count": 163,
     "metadata": {},
     "output_type": "execute_result"
    }
   ],
   "source": [
    "tvd = sum(abs(dist1 - dist2))/2\n",
    "tvd"
   ]
  },
  {
   "cell_type": "markdown",
   "metadata": {},
   "source": [
    "## Kullback-Leibler Divergence"
   ]
  },
  {
   "cell_type": "markdown",
   "metadata": {},
   "source": [
    "### $D_{KL}(P||Q) = \\sum P(x)\\log(\\frac{P(x)}{Q(x)})$"
   ]
  },
  {
   "cell_type": "markdown",
   "metadata": {},
   "source": [
    "https://machinelearningmastery.com/divergence-between-probability-distributions/"
   ]
  },
  {
   "cell_type": "code",
   "execution_count": 164,
   "metadata": {},
   "outputs": [
    {
     "name": "stdout",
     "output_type": "stream",
     "text": [
      "rel_entr:  0.09825335774282917\n",
      "kl_div:  0.0982533577428292\n",
      "entropy:  0.09825335774282917\n"
     ]
    }
   ],
   "source": [
    "print('rel_entr: ', sum(rel_entr(dist1, dist2)))\n",
    "print('kl_div: ', sum(kl_div(dist1, dist2))) # kl_div = rel_entr( x, y ) - x + y\n",
    "print('entropy: ', entropy(dist1, dist2))"
   ]
  },
  {
   "cell_type": "markdown",
   "metadata": {},
   "source": [
    "## Jensen-Shannon Divergence"
   ]
  },
  {
   "cell_type": "markdown",
   "metadata": {},
   "source": [
    "$D_{JS}(P || Q) = \\frac{1}{2} * D_{KL}(P || M) + \\frac{1}{2} * D_{KL}(Q || M)$ \\\n",
    "$M = \\frac{Q+P}{2}$ \\\n",
    "$DIST_{JS} = \\sqrt{D_{JS}}$"
   ]
  },
  {
   "cell_type": "code",
   "execution_count": 165,
   "metadata": {},
   "outputs": [
    {
     "name": "stdout",
     "output_type": "stream",
     "text": [
      "jensenshannon:  0.15546410214041506\n",
      "js_div:  0.024169087054325404\n"
     ]
    }
   ],
   "source": [
    "js_div = lambda x, y: (entropy(x, (x + y)/2) + entropy(y, (x + y)/2))/2\n",
    "print('jensenshannon: ', jensenshannon(dist1, dist2))\n",
    "print('js_div: ', js_div(dist1, dist2))"
   ]
  },
  {
   "cell_type": "markdown",
   "metadata": {},
   "source": [
    "## Kolmogorov-Smirnov test"
   ]
  },
  {
   "cell_type": "markdown",
   "metadata": {},
   "source": [
    "https://www.datadoghq.com/blog/engineering/robust-statistical-distances-for-machine-learning/"
   ]
  },
  {
   "cell_type": "code",
   "execution_count": 166,
   "metadata": {},
   "outputs": [
    {
     "data": {
      "text/plain": [
       "Ks_2sampResult(statistic=0.4, pvalue=0.873015873015873)"
      ]
     },
     "execution_count": 166,
     "metadata": {},
     "output_type": "execute_result"
    }
   ],
   "source": [
    "ks_2samp(dist1, dist2)"
   ]
  },
  {
   "cell_type": "markdown",
   "metadata": {},
   "source": [
    "# Concept drift"
   ]
  },
  {
   "cell_type": "markdown",
   "metadata": {},
   "source": [
    "https://scikit-multiflow.readthedocs.io/en/stable/api/api.html#module-skmultiflow.drift_detection"
   ]
  },
  {
   "cell_type": "markdown",
   "metadata": {},
   "source": [
    "## DDM"
   ]
  },
  {
   "cell_type": "markdown",
   "metadata": {},
   "source": [
    "https://scikit-multiflow.readthedocs.io/en/stable/api/generated/skmultiflow.drift_detection.DDM.html#skmultiflow.drift_detection.DDM"
   ]
  },
  {
   "cell_type": "code",
   "execution_count": 180,
   "metadata": {},
   "outputs": [],
   "source": []
  },
  {
   "cell_type": "code",
   "execution_count": 188,
   "metadata": {},
   "outputs": [
    {
     "name": "stdout",
     "output_type": "stream",
     "text": [
      "Change has been detected in data: 1 - of index: 1740\n"
     ]
    }
   ],
   "source": [
    "ddm = DDM()\n",
    "\n",
    "data_stream = np.random.randint(2, size=2000)\n",
    "for i in range(999, 1500):\n",
    "    data_stream[i] = 0\n",
    "    \n",
    "for i in range(2000):\n",
    "    ddm.add_element(data_stream[i])\n",
    "#     if ddm.detected_warning_zone():\n",
    "#         print('Warning zone has been detected in data: ' + str(data_stream[i]) + ' - of index: ' + str(i))\n",
    "    if ddm.detected_change():\n",
    "        print('Change has been detected in data: ' + str(data_stream[i]) + ' - of index: ' + str(i))"
   ]
  },
  {
   "cell_type": "code",
   "execution_count": 182,
   "metadata": {},
   "outputs": [],
   "source": [
    "stream = ConceptDriftStream()"
   ]
  },
  {
   "cell_type": "code",
   "execution_count": 183,
   "metadata": {},
   "outputs": [
    {
     "data": {
      "text/plain": [
       "9"
      ]
     },
     "execution_count": 183,
     "metadata": {},
     "output_type": "execute_result"
    }
   ],
   "source": [
    "stream.n_features #= 1"
   ]
  },
  {
   "cell_type": "markdown",
   "metadata": {},
   "source": [
    "## PageHinkley"
   ]
  },
  {
   "cell_type": "markdown",
   "metadata": {},
   "source": [
    "https://scikit-multiflow.readthedocs.io/en/stable/api/generated/skmultiflow.drift_detection.PageHinkley.html?highlight=PageHinkley"
   ]
  },
  {
   "cell_type": "code",
   "execution_count": 186,
   "metadata": {},
   "outputs": [
    {
     "name": "stdout",
     "output_type": "stream",
     "text": [
      "Change has been detected in data: 6 - of index: 1009\n"
     ]
    }
   ],
   "source": [
    "ph = PageHinkley()\n",
    "\n",
    "data_stream = np.random.randint(2, size=2000)\n",
    "\n",
    "for i in range(999, 2000):\n",
    "    data_stream[i] = np.random.randint(4, high=8)\n",
    "\n",
    "for i in range(2000):\n",
    "    ph.add_element(data_stream[i])\n",
    "    if ph.detected_change():\n",
    "        print('Change has been detected in data: ' + str(data_stream[i]) + ' - of index: ' + str(i))"
   ]
  },
  {
   "cell_type": "markdown",
   "metadata": {},
   "source": [
    "## ADWIN"
   ]
  },
  {
   "cell_type": "markdown",
   "metadata": {},
   "source": [
    "https://scikit-multiflow.readthedocs.io/en/stable/api/generated/skmultiflow.drift_detection.ADWIN.html?highlight=ADWIN"
   ]
  },
  {
   "cell_type": "code",
   "execution_count": 202,
   "metadata": {},
   "outputs": [
    {
     "name": "stdout",
     "output_type": "stream",
     "text": [
      "Change detected in data: 6 - at index: 1023\n",
      "Change detected in data: 6 - at index: 1055\n",
      "Change detected in data: 4 - at index: 1087\n",
      "Change detected in data: 6 - at index: 1311\n"
     ]
    }
   ],
   "source": [
    "adwin = ADWIN()\n",
    "\n",
    "data_stream = np.random.randint(2, size=2000)\n",
    "\n",
    "for i in range(999, 2000):\n",
    "    data_stream[i] = np.random.randint(4, high=8)\n",
    "    \n",
    "for i in range(2000):\n",
    "    adwin.add_element(data_stream[i])\n",
    "    if adwin.detected_change():\n",
    "        print('Change detected in data: ' + str(data_stream[i]) + ' - at index: ' + str(i))"
   ]
  },
  {
   "cell_type": "markdown",
   "metadata": {},
   "source": [
    "## Paired Learners"
   ]
  },
  {
   "cell_type": "markdown",
   "metadata": {},
   "source": [
    "http://cs.brown.edu/people/sbach/files/bach-icdm08.pdf"
   ]
  },
  {
   "cell_type": "code",
   "execution_count": null,
   "metadata": {},
   "outputs": [],
   "source": []
  }
 ],
 "metadata": {
  "kernelspec": {
   "display_name": "Python 3",
   "language": "python",
   "name": "python3"
  },
  "language_info": {
   "codemirror_mode": {
    "name": "ipython",
    "version": 3
   },
   "file_extension": ".py",
   "mimetype": "text/x-python",
   "name": "python",
   "nbconvert_exporter": "python",
   "pygments_lexer": "ipython3",
   "version": "3.7.6"
  }
 },
 "nbformat": 4,
 "nbformat_minor": 4
}
