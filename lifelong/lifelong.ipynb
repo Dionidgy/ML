{
 "cells": [
  {
   "cell_type": "code",
   "execution_count": 14,
   "metadata": {},
   "outputs": [],
   "source": [
    "import numpy as np\n",
    "import pandas as pd\n",
    "from scipy.special import rel_entr, kl_div\n",
    "from scipy.stats import entropy, ks_2samp\n",
    "from scipy.spatial.distance import jensenshannon\n",
    "from skmultiflow.drift_detection import DDM, PageHinkley, ADWIN\n",
    "from skmultiflow.data import ConceptDriftStream\n",
    "import datetime\n",
    "import matplotlib.pyplot as plt"
   ]
  },
  {
   "cell_type": "markdown",
   "metadata": {},
   "source": [
    "# Lifelong learning"
   ]
  },
  {
   "cell_type": "markdown",
   "metadata": {},
   "source": [
    "###### Continual Lifelong Learning with Neural Networks: A Review\n",
    "https://arxiv.org/abs/1802.07569"
   ]
  },
  {
   "cell_type": "markdown",
   "metadata": {},
   "source": [
    "# Feature drift"
   ]
  },
  {
   "cell_type": "markdown",
   "metadata": {},
   "source": [
    "### A survey on feature drift adaptation: Definition, benchmark, challenges and future directions\n",
    "https://www.sciencedirect.com/science/article/pii/S0164121216301030#bib0046\n",
    "# $$\\Downarrow$$\n",
    "#### Dynamic Feature Space and Incremental Feature Selection for the Classiflcation of Textual Data Streams\n",
    "www.researchgate.net/publication/250302474_Dynamic_Feature_Space_and_Incremental_Feature_Selection_for_the_Classiflcation_of_Textual_Data_Streams\n",
    "###### Dataset:\n",
    "https://spamassassin.apache.org/old/publiccorpus/\n",
    "\n",
    "###### Another interesting dataset about spam (): \n",
    "https://www.csie.ntu.edu.tw/~cjlin/libsvmtools/datasets/binary.html#webspam\n",
    "\n",
    "#### Heterogeneous Ensemble for Feature Drifts in Data Streams\n",
    "https://www.researchgate.net/publication/229067302_Heterogeneous_Ensemble_for_Feature_Drifts_in_Data_Streams\n",
    "###### Dataset:\n",
    "http://kdd.ics.uci.edu/databases/kddcup99/kddcup99.html"
   ]
  },
  {
   "cell_type": "markdown",
   "metadata": {},
   "source": [
    "### Drift Detection Using Uncertainty Distribution Divergence\n",
    "https://www.researchgate.net/publication/220766509_Drift_Detection_Using_Uncertainty_Distribution_Divergence\n",
    "\n",
    "###### Datasets:\n",
    "1) http://www.daviddlewis.com/resources/testcollections/reuters21578/  \n",
    "2) http://qwone.com/~jason/20Newsgroups/"
   ]
  },
  {
   "cell_type": "markdown",
   "metadata": {},
   "source": [
    "### USP DATA STREAM REPOSITORY:\n",
    "https://sites.google.com/view/uspdsrepository"
   ]
  },
  {
   "cell_type": "markdown",
   "metadata": {},
   "source": [
    "### Learning model trees from evolving data streams\n",
    "https://www.researchgate.net/publication/225878881_Learning_model_trees_from_evolving_data_streams\n",
    "\n",
    "#### Airline dataset\n",
    "https://community.amstat.org/jointscsg-section/dataexpo/dataexpo2009"
   ]
  },
  {
   "cell_type": "markdown",
   "metadata": {},
   "source": [
    "## Total Variance Distance \n",
    "### tvd = $\\frac{\\sum diff_{abs}}{2}$"
   ]
  },
  {
   "cell_type": "markdown",
   "metadata": {},
   "source": [
    "http://data8.org/fa15/text/3_inference.html \\\n",
    "https://docs.aws.amazon.com/sagemaker/latest/dg/sagemaker-dg.pdf#clarify-data-bias-metric-total-variation-distance"
   ]
  },
  {
   "cell_type": "code",
   "execution_count": 162,
   "metadata": {},
   "outputs": [],
   "source": [
    "dist1 = np.array([0.15, 0.18, 0.12, 0.54, 0.01])\n",
    "dist2 = np.array([0.26, 0.08, 0.08, 0.54, 0.04])"
   ]
  },
  {
   "cell_type": "code",
   "execution_count": 163,
   "metadata": {},
   "outputs": [
    {
     "data": {
      "text/plain": [
       "0.14"
      ]
     },
     "execution_count": 163,
     "metadata": {},
     "output_type": "execute_result"
    }
   ],
   "source": [
    "tvd = sum(abs(dist1 - dist2))/2\n",
    "tvd"
   ]
  },
  {
   "cell_type": "markdown",
   "metadata": {},
   "source": [
    "## Kullback-Leibler Divergence"
   ]
  },
  {
   "cell_type": "markdown",
   "metadata": {},
   "source": [
    "### $D_{KL}(P||Q) = \\sum P(x)\\log(\\frac{P(x)}{Q(x)})$"
   ]
  },
  {
   "cell_type": "markdown",
   "metadata": {},
   "source": [
    "https://machinelearningmastery.com/divergence-between-probability-distributions/"
   ]
  },
  {
   "cell_type": "code",
   "execution_count": 164,
   "metadata": {},
   "outputs": [
    {
     "name": "stdout",
     "output_type": "stream",
     "text": [
      "rel_entr:  0.09825335774282917\n",
      "kl_div:  0.0982533577428292\n",
      "entropy:  0.09825335774282917\n"
     ]
    }
   ],
   "source": [
    "print('rel_entr: ', sum(rel_entr(dist1, dist2)))\n",
    "print('kl_div: ', sum(kl_div(dist1, dist2))) # kl_div = rel_entr( x, y ) - x + y\n",
    "print('entropy: ', entropy(dist1, dist2))"
   ]
  },
  {
   "cell_type": "markdown",
   "metadata": {},
   "source": [
    "## Jensen-Shannon Divergence"
   ]
  },
  {
   "cell_type": "markdown",
   "metadata": {},
   "source": [
    "$D_{JS}(P || Q) = \\frac{1}{2} * D_{KL}(P || M) + \\frac{1}{2} * D_{KL}(Q || M)$ \\\n",
    "$M = \\frac{Q+P}{2}$ \\\n",
    "$DIST_{JS} = \\sqrt{D_{JS}}$"
   ]
  },
  {
   "cell_type": "code",
   "execution_count": 165,
   "metadata": {},
   "outputs": [
    {
     "name": "stdout",
     "output_type": "stream",
     "text": [
      "jensenshannon:  0.15546410214041506\n",
      "js_div:  0.024169087054325404\n"
     ]
    }
   ],
   "source": [
    "js_div = lambda x, y: (entropy(x, (x + y)/2) + entropy(y, (x + y)/2))/2\n",
    "print('jensenshannon: ', jensenshannon(dist1, dist2))\n",
    "print('js_div: ', js_div(dist1, dist2))"
   ]
  },
  {
   "cell_type": "markdown",
   "metadata": {},
   "source": [
    "## Kolmogorov-Smirnov test"
   ]
  },
  {
   "cell_type": "markdown",
   "metadata": {},
   "source": [
    "https://www.datadoghq.com/blog/engineering/robust-statistical-distances-for-machine-learning/"
   ]
  },
  {
   "cell_type": "code",
   "execution_count": 166,
   "metadata": {},
   "outputs": [
    {
     "data": {
      "text/plain": [
       "Ks_2sampResult(statistic=0.4, pvalue=0.873015873015873)"
      ]
     },
     "execution_count": 166,
     "metadata": {},
     "output_type": "execute_result"
    }
   ],
   "source": [
    "ks_2samp(dist1, dist2)"
   ]
  },
  {
   "cell_type": "markdown",
   "metadata": {},
   "source": [
    "# Concept drift"
   ]
  },
  {
   "cell_type": "markdown",
   "metadata": {},
   "source": [
    "https://scikit-multiflow.readthedocs.io/en/stable/api/api.html#module-skmultiflow.drift_detection"
   ]
  },
  {
   "cell_type": "markdown",
   "metadata": {},
   "source": [
    "## DDM"
   ]
  },
  {
   "cell_type": "markdown",
   "metadata": {},
   "source": [
    "https://scikit-multiflow.readthedocs.io/en/stable/api/generated/skmultiflow.drift_detection.DDM.html#skmultiflow.drift_detection.DDM"
   ]
  },
  {
   "cell_type": "code",
   "execution_count": 180,
   "metadata": {},
   "outputs": [],
   "source": []
  },
  {
   "cell_type": "code",
   "execution_count": 188,
   "metadata": {},
   "outputs": [
    {
     "name": "stdout",
     "output_type": "stream",
     "text": [
      "Change has been detected in data: 1 - of index: 1740\n"
     ]
    }
   ],
   "source": [
    "ddm = DDM()\n",
    "\n",
    "data_stream = np.random.randint(2, size=2000)\n",
    "for i in range(999, 1500):\n",
    "    data_stream[i] = 0\n",
    "    \n",
    "for i in range(2000):\n",
    "    ddm.add_element(data_stream[i])\n",
    "#     if ddm.detected_warning_zone():\n",
    "#         print('Warning zone has been detected in data: ' + str(data_stream[i]) + ' - of index: ' + str(i))\n",
    "    if ddm.detected_change():\n",
    "        print('Change has been detected in data: ' + str(data_stream[i]) + ' - of index: ' + str(i))"
   ]
  },
  {
   "cell_type": "code",
   "execution_count": 182,
   "metadata": {},
   "outputs": [],
   "source": [
    "stream = ConceptDriftStream()"
   ]
  },
  {
   "cell_type": "code",
   "execution_count": 183,
   "metadata": {},
   "outputs": [
    {
     "data": {
      "text/plain": [
       "9"
      ]
     },
     "execution_count": 183,
     "metadata": {},
     "output_type": "execute_result"
    }
   ],
   "source": [
    "stream.n_features #= 1"
   ]
  },
  {
   "cell_type": "markdown",
   "metadata": {},
   "source": [
    "## PageHinkley"
   ]
  },
  {
   "cell_type": "markdown",
   "metadata": {},
   "source": [
    "https://scikit-multiflow.readthedocs.io/en/stable/api/generated/skmultiflow.drift_detection.PageHinkley.html?highlight=PageHinkley"
   ]
  },
  {
   "cell_type": "code",
   "execution_count": 186,
   "metadata": {},
   "outputs": [
    {
     "name": "stdout",
     "output_type": "stream",
     "text": [
      "Change has been detected in data: 6 - of index: 1009\n"
     ]
    }
   ],
   "source": [
    "ph = PageHinkley()\n",
    "\n",
    "data_stream = np.random.randint(2, size=2000)\n",
    "\n",
    "for i in range(999, 2000):\n",
    "    data_stream[i] = np.random.randint(4, high=8)\n",
    "\n",
    "for i in range(2000):\n",
    "    ph.add_element(data_stream[i])\n",
    "    if ph.detected_change():\n",
    "        print('Change has been detected in data: ' + str(data_stream[i]) + ' - of index: ' + str(i))"
   ]
  },
  {
   "cell_type": "markdown",
   "metadata": {},
   "source": [
    "## ADWIN"
   ]
  },
  {
   "cell_type": "markdown",
   "metadata": {},
   "source": [
    "https://scikit-multiflow.readthedocs.io/en/stable/api/generated/skmultiflow.drift_detection.ADWIN.html?highlight=ADWIN"
   ]
  },
  {
   "cell_type": "code",
   "execution_count": 202,
   "metadata": {},
   "outputs": [
    {
     "name": "stdout",
     "output_type": "stream",
     "text": [
      "Change detected in data: 6 - at index: 1023\n",
      "Change detected in data: 6 - at index: 1055\n",
      "Change detected in data: 4 - at index: 1087\n",
      "Change detected in data: 6 - at index: 1311\n"
     ]
    }
   ],
   "source": [
    "adwin = ADWIN()\n",
    "\n",
    "data_stream = np.random.randint(2, size=2000)\n",
    "\n",
    "for i in range(999, 2000):\n",
    "    data_stream[i] = np.random.randint(4, high=8)\n",
    "    \n",
    "for i in range(2000):\n",
    "    adwin.add_element(data_stream[i])\n",
    "    if adwin.detected_change():\n",
    "        print('Change detected in data: ' + str(data_stream[i]) + ' - at index: ' + str(i))"
   ]
  },
  {
   "cell_type": "markdown",
   "metadata": {},
   "source": [
    "## Paired Learners"
   ]
  },
  {
   "cell_type": "markdown",
   "metadata": {},
   "source": [
    "http://cs.brown.edu/people/sbach/files/bach-icdm08.pdf"
   ]
  },
  {
   "cell_type": "markdown",
   "metadata": {},
   "source": [
    "# Testing datasets"
   ]
  },
  {
   "cell_type": "markdown",
   "metadata": {},
   "source": [
    "### 1) Airlines"
   ]
  },
  {
   "cell_type": "code",
   "execution_count": 20,
   "metadata": {},
   "outputs": [
    {
     "name": "stdout",
     "output_type": "stream",
     "text": [
      "Done at  2021-09-23 23:53:26.511210\n"
     ]
    }
   ],
   "source": [
    "df_airlines_2008 = pd.read_csv('DataExpo2009/2008.csv')\n",
    "df_airlines_2000 = pd.read_csv('DataExpo2009/2000.csv')\n",
    "df_airlines_1987 = pd.read_csv('DataExpo2009/1987.csv')\n",
    "print('Done at ', datetime.datetime.now())"
   ]
  },
  {
   "cell_type": "code",
   "execution_count": 29,
   "metadata": {},
   "outputs": [
    {
     "data": {
      "text/html": [
       "<div>\n",
       "<style scoped>\n",
       "    .dataframe tbody tr th:only-of-type {\n",
       "        vertical-align: middle;\n",
       "    }\n",
       "\n",
       "    .dataframe tbody tr th {\n",
       "        vertical-align: top;\n",
       "    }\n",
       "\n",
       "    .dataframe thead th {\n",
       "        text-align: right;\n",
       "    }\n",
       "</style>\n",
       "<table border=\"1\" class=\"dataframe\">\n",
       "  <thead>\n",
       "    <tr style=\"text-align: right;\">\n",
       "      <th></th>\n",
       "      <th>Year</th>\n",
       "      <th>Month</th>\n",
       "      <th>DayofMonth</th>\n",
       "      <th>DayOfWeek</th>\n",
       "      <th>DepTime</th>\n",
       "      <th>CRSDepTime</th>\n",
       "      <th>ArrTime</th>\n",
       "      <th>CRSArrTime</th>\n",
       "      <th>UniqueCarrier</th>\n",
       "      <th>FlightNum</th>\n",
       "      <th>...</th>\n",
       "      <th>TaxiIn</th>\n",
       "      <th>TaxiOut</th>\n",
       "      <th>Cancelled</th>\n",
       "      <th>CancellationCode</th>\n",
       "      <th>Diverted</th>\n",
       "      <th>CarrierDelay</th>\n",
       "      <th>WeatherDelay</th>\n",
       "      <th>NASDelay</th>\n",
       "      <th>SecurityDelay</th>\n",
       "      <th>LateAircraftDelay</th>\n",
       "    </tr>\n",
       "  </thead>\n",
       "  <tbody>\n",
       "    <tr>\n",
       "      <th>0</th>\n",
       "      <td>2000</td>\n",
       "      <td>1</td>\n",
       "      <td>28</td>\n",
       "      <td>5</td>\n",
       "      <td>1647.0</td>\n",
       "      <td>1647</td>\n",
       "      <td>1906.0</td>\n",
       "      <td>1859</td>\n",
       "      <td>HP</td>\n",
       "      <td>154</td>\n",
       "      <td>...</td>\n",
       "      <td>15</td>\n",
       "      <td>11</td>\n",
       "      <td>0</td>\n",
       "      <td>NaN</td>\n",
       "      <td>0</td>\n",
       "      <td>NaN</td>\n",
       "      <td>NaN</td>\n",
       "      <td>NaN</td>\n",
       "      <td>NaN</td>\n",
       "      <td>NaN</td>\n",
       "    </tr>\n",
       "    <tr>\n",
       "      <th>1</th>\n",
       "      <td>2000</td>\n",
       "      <td>1</td>\n",
       "      <td>29</td>\n",
       "      <td>6</td>\n",
       "      <td>1648.0</td>\n",
       "      <td>1647</td>\n",
       "      <td>1939.0</td>\n",
       "      <td>1859</td>\n",
       "      <td>HP</td>\n",
       "      <td>154</td>\n",
       "      <td>...</td>\n",
       "      <td>5</td>\n",
       "      <td>47</td>\n",
       "      <td>0</td>\n",
       "      <td>NaN</td>\n",
       "      <td>0</td>\n",
       "      <td>NaN</td>\n",
       "      <td>NaN</td>\n",
       "      <td>NaN</td>\n",
       "      <td>NaN</td>\n",
       "      <td>NaN</td>\n",
       "    </tr>\n",
       "    <tr>\n",
       "      <th>2</th>\n",
       "      <td>2000</td>\n",
       "      <td>1</td>\n",
       "      <td>30</td>\n",
       "      <td>7</td>\n",
       "      <td>NaN</td>\n",
       "      <td>1647</td>\n",
       "      <td>NaN</td>\n",
       "      <td>1859</td>\n",
       "      <td>HP</td>\n",
       "      <td>154</td>\n",
       "      <td>...</td>\n",
       "      <td>0</td>\n",
       "      <td>0</td>\n",
       "      <td>1</td>\n",
       "      <td>NaN</td>\n",
       "      <td>0</td>\n",
       "      <td>NaN</td>\n",
       "      <td>NaN</td>\n",
       "      <td>NaN</td>\n",
       "      <td>NaN</td>\n",
       "      <td>NaN</td>\n",
       "    </tr>\n",
       "    <tr>\n",
       "      <th>3</th>\n",
       "      <td>2000</td>\n",
       "      <td>1</td>\n",
       "      <td>31</td>\n",
       "      <td>1</td>\n",
       "      <td>1645.0</td>\n",
       "      <td>1647</td>\n",
       "      <td>1852.0</td>\n",
       "      <td>1859</td>\n",
       "      <td>HP</td>\n",
       "      <td>154</td>\n",
       "      <td>...</td>\n",
       "      <td>7</td>\n",
       "      <td>14</td>\n",
       "      <td>0</td>\n",
       "      <td>NaN</td>\n",
       "      <td>0</td>\n",
       "      <td>NaN</td>\n",
       "      <td>NaN</td>\n",
       "      <td>NaN</td>\n",
       "      <td>NaN</td>\n",
       "      <td>NaN</td>\n",
       "    </tr>\n",
       "    <tr>\n",
       "      <th>4</th>\n",
       "      <td>2000</td>\n",
       "      <td>1</td>\n",
       "      <td>1</td>\n",
       "      <td>6</td>\n",
       "      <td>842.0</td>\n",
       "      <td>846</td>\n",
       "      <td>1057.0</td>\n",
       "      <td>1101</td>\n",
       "      <td>HP</td>\n",
       "      <td>609</td>\n",
       "      <td>...</td>\n",
       "      <td>3</td>\n",
       "      <td>8</td>\n",
       "      <td>0</td>\n",
       "      <td>NaN</td>\n",
       "      <td>0</td>\n",
       "      <td>NaN</td>\n",
       "      <td>NaN</td>\n",
       "      <td>NaN</td>\n",
       "      <td>NaN</td>\n",
       "      <td>NaN</td>\n",
       "    </tr>\n",
       "    <tr>\n",
       "      <th>...</th>\n",
       "      <td>...</td>\n",
       "      <td>...</td>\n",
       "      <td>...</td>\n",
       "      <td>...</td>\n",
       "      <td>...</td>\n",
       "      <td>...</td>\n",
       "      <td>...</td>\n",
       "      <td>...</td>\n",
       "      <td>...</td>\n",
       "      <td>...</td>\n",
       "      <td>...</td>\n",
       "      <td>...</td>\n",
       "      <td>...</td>\n",
       "      <td>...</td>\n",
       "      <td>...</td>\n",
       "      <td>...</td>\n",
       "      <td>...</td>\n",
       "      <td>...</td>\n",
       "      <td>...</td>\n",
       "      <td>...</td>\n",
       "      <td>...</td>\n",
       "    </tr>\n",
       "    <tr>\n",
       "      <th>5683042</th>\n",
       "      <td>2000</td>\n",
       "      <td>12</td>\n",
       "      <td>9</td>\n",
       "      <td>6</td>\n",
       "      <td>615.0</td>\n",
       "      <td>613</td>\n",
       "      <td>941.0</td>\n",
       "      <td>945</td>\n",
       "      <td>AA</td>\n",
       "      <td>705</td>\n",
       "      <td>...</td>\n",
       "      <td>11</td>\n",
       "      <td>18</td>\n",
       "      <td>0</td>\n",
       "      <td>NaN</td>\n",
       "      <td>0</td>\n",
       "      <td>NaN</td>\n",
       "      <td>NaN</td>\n",
       "      <td>NaN</td>\n",
       "      <td>NaN</td>\n",
       "      <td>NaN</td>\n",
       "    </tr>\n",
       "    <tr>\n",
       "      <th>5683043</th>\n",
       "      <td>2000</td>\n",
       "      <td>12</td>\n",
       "      <td>10</td>\n",
       "      <td>7</td>\n",
       "      <td>619.0</td>\n",
       "      <td>613</td>\n",
       "      <td>925.0</td>\n",
       "      <td>945</td>\n",
       "      <td>AA</td>\n",
       "      <td>705</td>\n",
       "      <td>...</td>\n",
       "      <td>8</td>\n",
       "      <td>15</td>\n",
       "      <td>0</td>\n",
       "      <td>NaN</td>\n",
       "      <td>0</td>\n",
       "      <td>NaN</td>\n",
       "      <td>NaN</td>\n",
       "      <td>NaN</td>\n",
       "      <td>NaN</td>\n",
       "      <td>NaN</td>\n",
       "    </tr>\n",
       "    <tr>\n",
       "      <th>5683044</th>\n",
       "      <td>2000</td>\n",
       "      <td>12</td>\n",
       "      <td>11</td>\n",
       "      <td>1</td>\n",
       "      <td>611.0</td>\n",
       "      <td>613</td>\n",
       "      <td>949.0</td>\n",
       "      <td>945</td>\n",
       "      <td>AA</td>\n",
       "      <td>705</td>\n",
       "      <td>...</td>\n",
       "      <td>8</td>\n",
       "      <td>12</td>\n",
       "      <td>0</td>\n",
       "      <td>NaN</td>\n",
       "      <td>0</td>\n",
       "      <td>NaN</td>\n",
       "      <td>NaN</td>\n",
       "      <td>NaN</td>\n",
       "      <td>NaN</td>\n",
       "      <td>NaN</td>\n",
       "    </tr>\n",
       "    <tr>\n",
       "      <th>5683045</th>\n",
       "      <td>2000</td>\n",
       "      <td>12</td>\n",
       "      <td>12</td>\n",
       "      <td>2</td>\n",
       "      <td>613.0</td>\n",
       "      <td>613</td>\n",
       "      <td>1005.0</td>\n",
       "      <td>945</td>\n",
       "      <td>AA</td>\n",
       "      <td>705</td>\n",
       "      <td>...</td>\n",
       "      <td>9</td>\n",
       "      <td>18</td>\n",
       "      <td>0</td>\n",
       "      <td>NaN</td>\n",
       "      <td>0</td>\n",
       "      <td>NaN</td>\n",
       "      <td>NaN</td>\n",
       "      <td>NaN</td>\n",
       "      <td>NaN</td>\n",
       "      <td>NaN</td>\n",
       "    </tr>\n",
       "    <tr>\n",
       "      <th>5683046</th>\n",
       "      <td>2000</td>\n",
       "      <td>12</td>\n",
       "      <td>13</td>\n",
       "      <td>3</td>\n",
       "      <td>614.0</td>\n",
       "      <td>613</td>\n",
       "      <td>948.0</td>\n",
       "      <td>945</td>\n",
       "      <td>AA</td>\n",
       "      <td>705</td>\n",
       "      <td>...</td>\n",
       "      <td>12</td>\n",
       "      <td>23</td>\n",
       "      <td>0</td>\n",
       "      <td>NaN</td>\n",
       "      <td>0</td>\n",
       "      <td>NaN</td>\n",
       "      <td>NaN</td>\n",
       "      <td>NaN</td>\n",
       "      <td>NaN</td>\n",
       "      <td>NaN</td>\n",
       "    </tr>\n",
       "  </tbody>\n",
       "</table>\n",
       "<p>5683047 rows × 29 columns</p>\n",
       "</div>"
      ],
      "text/plain": [
       "         Year  Month  DayofMonth  DayOfWeek  DepTime  CRSDepTime  ArrTime  \\\n",
       "0        2000      1          28          5   1647.0        1647   1906.0   \n",
       "1        2000      1          29          6   1648.0        1647   1939.0   \n",
       "2        2000      1          30          7      NaN        1647      NaN   \n",
       "3        2000      1          31          1   1645.0        1647   1852.0   \n",
       "4        2000      1           1          6    842.0         846   1057.0   \n",
       "...       ...    ...         ...        ...      ...         ...      ...   \n",
       "5683042  2000     12           9          6    615.0         613    941.0   \n",
       "5683043  2000     12          10          7    619.0         613    925.0   \n",
       "5683044  2000     12          11          1    611.0         613    949.0   \n",
       "5683045  2000     12          12          2    613.0         613   1005.0   \n",
       "5683046  2000     12          13          3    614.0         613    948.0   \n",
       "\n",
       "         CRSArrTime UniqueCarrier  FlightNum  ... TaxiIn  TaxiOut  Cancelled  \\\n",
       "0              1859            HP        154  ...     15       11          0   \n",
       "1              1859            HP        154  ...      5       47          0   \n",
       "2              1859            HP        154  ...      0        0          1   \n",
       "3              1859            HP        154  ...      7       14          0   \n",
       "4              1101            HP        609  ...      3        8          0   \n",
       "...             ...           ...        ...  ...    ...      ...        ...   \n",
       "5683042         945            AA        705  ...     11       18          0   \n",
       "5683043         945            AA        705  ...      8       15          0   \n",
       "5683044         945            AA        705  ...      8       12          0   \n",
       "5683045         945            AA        705  ...      9       18          0   \n",
       "5683046         945            AA        705  ...     12       23          0   \n",
       "\n",
       "         CancellationCode  Diverted  CarrierDelay WeatherDelay NASDelay  \\\n",
       "0                     NaN         0           NaN          NaN      NaN   \n",
       "1                     NaN         0           NaN          NaN      NaN   \n",
       "2                     NaN         0           NaN          NaN      NaN   \n",
       "3                     NaN         0           NaN          NaN      NaN   \n",
       "4                     NaN         0           NaN          NaN      NaN   \n",
       "...                   ...       ...           ...          ...      ...   \n",
       "5683042               NaN         0           NaN          NaN      NaN   \n",
       "5683043               NaN         0           NaN          NaN      NaN   \n",
       "5683044               NaN         0           NaN          NaN      NaN   \n",
       "5683045               NaN         0           NaN          NaN      NaN   \n",
       "5683046               NaN         0           NaN          NaN      NaN   \n",
       "\n",
       "         SecurityDelay  LateAircraftDelay  \n",
       "0                  NaN                NaN  \n",
       "1                  NaN                NaN  \n",
       "2                  NaN                NaN  \n",
       "3                  NaN                NaN  \n",
       "4                  NaN                NaN  \n",
       "...                ...                ...  \n",
       "5683042            NaN                NaN  \n",
       "5683043            NaN                NaN  \n",
       "5683044            NaN                NaN  \n",
       "5683045            NaN                NaN  \n",
       "5683046            NaN                NaN  \n",
       "\n",
       "[5683047 rows x 29 columns]"
      ]
     },
     "execution_count": 29,
     "metadata": {},
     "output_type": "execute_result"
    }
   ],
   "source": [
    "df_airlines_2000[pd.isnull(df_airlines_2000.CarrierDelay).apply(lambda x: x)]"
   ]
  },
  {
   "cell_type": "code",
   "execution_count": 4,
   "metadata": {},
   "outputs": [
    {
     "name": "stdout",
     "output_type": "stream",
     "text": [
      "[2000]\n",
      "[ 1  2  3  4  5  6  7  8  9 10 11 12]\n",
      "[28 29 30 31  1  2  3  4  5  6  7  9 10 11 12 13 14 16 17 18 19 20 21 23\n",
      " 24 25 26 27  8 15 22]\n",
      "[5 6 7 1 2 3 4]\n",
      "[1647. 1648.   nan ...  426.  427.  412.]\n",
      "[1647  846 1657 ...  534  230 2357]\n",
      "[1906. 1939.   nan ...  403.  405.  401.]\n",
      "[1859 1101 1908 ...  237  454  219]\n",
      "['HP' 'WN' 'CO' 'US' 'DL' 'UA' 'AA' 'NW' 'AS' 'TW' 'AQ']\n",
      "[ 154  609  611 ... 6541 6430 2900]\n",
      "['N808AW' 'N653AW' 'N801AW' ... 'N3739P' 'N3738B' 'N3740C']\n",
      "[259. 291.  nan 247. 255. 299. 277. 250. 243. 266. 275. 239. 236. 254.\n",
      " 253. 261. 234. 246. 251. 233. 245. 263. 258. 283. 265. 272. 248. 279.\n",
      " 249. 260. 271. 269. 274. 257. 244. 252. 268. 278. 378. 143. 147. 155.\n",
      " 156. 158. 145. 148. 138. 149. 136. 140. 146. 152. 137. 151. 157. 142.\n",
      " 154. 126. 160. 153. 150. 164. 163. 168. 159. 141. 144. 173. 172. 165.\n",
      " 161. 129. 134. 167. 169. 135. 133. 139. 166. 127. 130. 132. 131. 162.\n",
      " 230. 235. 237. 225. 223. 226. 241. 232. 238. 229. 220. 210. 227. 240.\n",
      " 267. 231. 242. 218. 217. 219. 211. 213. 216. 224. 221. 228. 348. 351.\n",
      " 353. 343. 338. 364. 376. 387. 318. 358. 345. 350. 355. 370. 367. 336.\n",
      " 354. 320. 314. 321. 363. 398. 375. 346. 360. 341. 344. 381. 366. 347.\n",
      " 361. 369. 328. 332. 316. 324. 388. 368. 334. 349. 352. 365. 359. 325.\n",
      " 322. 330. 371. 362. 357. 319.  73.  84.  83.  91.  77.  78.  82.  80.\n",
      "  74.  71.  87.  96.  81.  79.  86.  69.  88.  85.  76.  95. 101.  89.\n",
      "  92.  75. 103.  93.  97.  68.  72.  70.  65.  67.  90. 105.  66.  64.\n",
      "  62.  63.  61.  57.  60. 315. 313. 298. 294. 312. 323. 305. 306. 311.\n",
      " 284. 287. 295. 286. 310. 297. 302. 296. 300. 356. 285. 288. 335. 273.\n",
      " 308. 329. 301. 292. 317. 327. 290. 304. 303. 309. 293. 281. 333. 289.\n",
      " 280. 421. 282. 262. 264. 276. 256. 270. 307. 116. 115. 119.  98.  94.\n",
      "  99. 104. 100. 109. 111. 112. 113. 110. 106. 107. 117. 121. 118. 122.\n",
      " 114. 124. 123. 326. 207. 222. 340. 120. 125. 108. 128. 102. 176. 171.\n",
      " 183. 208. 185. 188. 201. 177. 198. 181. 175. 170. 186. 187. 174. 184.\n",
      "  59. 337. 445. 342. 372. 339. 417. 477. 390. 430. 331. 384. 380. 373.\n",
      " 382. 178. 199. 192. 182. 179. 180. 202. 191. 193. 197. 189. 206. 205.\n",
      " 215. 214. 212. 379. 377. 395.  50.  54.  55.  58.  51.  56.  52.  49.\n",
      "  53.  48.  47.  45.  40.  46.  44.  42. 196. 195. 190. 194. 204. 209.\n",
      " 200. 203.  37.  39.  43.  38.  36.  41.  35.  33.  31.  34.  32.  27.\n",
      "  29.  30.  28.  25.  26.  21.  24.  19.  13.  15.  18.  17.  16.  14.\n",
      "  20.  23.  12. 403. 406. 374. 383. 394. 397. 441. 404. 409. 396. 399.\n",
      " 412. 437. 393. 402. 407. 391. 424. 385. 449. 511. 400. 408. 413. 392.\n",
      " 401. 414. 450. 420. 429. 479. 451. 415. 554. 425. 426. 416. 386. 405.\n",
      " 428. 423. 459. 456. 442. 410. 432. 431. 550. 474. 422. 436. 495. 440.\n",
      " 472. 427. 433. 418. 453. 389. 446. 496. 434. 435. 460. 444. 438. 411.\n",
      " 471. 439. 419. 448. 476. 464. 454. 478. 475. 465. 443. 452. 497. 447.\n",
      " 458. 473. 457. 481. 561. 520. 521. 499. 469. 487. 512. 491. 462. 455.\n",
      " 468. 466.  22. 482. 470. 500. 531. 467. 489. 461. 504. 492. 483. 493.\n",
      " 480. 463. 523. 498. 490. 486. 522. 485. 516. 488. 507. 541. 494. 515.\n",
      " 514. 510. 518. 508. 535. 509. 552. 562. 558. 564. 540. 513. 530. 565.\n",
      " 543. 604. 556. 568. 532. 533. 586. 577. 560. 572. 571. 566. 628. 624.\n",
      " 605. 582. 596. 612. 595. 570. 620. 579. 502. 503. 501. 537. 539. 680.\n",
      " 484. 517. 505. 524. 626. 569. 563. 574. 547. 585. 657. 600. 573. 584.\n",
      " 625. 669. 622. 555. 581. 580. 583. 634. 627. 615. 633. 592. 621. 603.\n",
      " 642. 694. 666. 696. 663. 651. 679. 682. 711. 613. 635. 598. 597. 534.\n",
      " 536. 606. 551. 529. 528. 542. 549. 559. 506. 546. 548. 525. 553. 557.\n",
      " 588. 614. 599. 575. 538. 589.  11. 576. 591. 610. 578. 519. 594. 593.\n",
      " 567. 590. 637. 662. 673. 671. 656. 665. 686. 691. 629. 708. 630. 631.\n",
      " 526. 527. 544. 602. 545. 616. 607. 623. 646. 658. 648. 638. 611. 601.\n",
      " 609. 608.  -2.  -6.   4. 783.  10. 652. 644. 654. 660. 636. 850. 643.\n",
      " 653. 703. 587. 618. 744. 707. 619. 670. 741. 701. 768. 693. 617. 649.\n",
      " 645. 647. 655. 650. 639. 664. 683. 640. 659. 817. 678.]\n",
      "[252. 255. 251. 261. 250. 253. 143. 146. 142. 148. 147. 150. 145. 140.\n",
      " 235. 240. 230. 347. 357. 348. 349. 356. 353.  78.  79.  80.  81.  83.\n",
      "  77.  76.  75.  70.  65. 307. 303. 301. 308. 309. 300. 310. 305. 279.\n",
      " 269. 275. 271. 260. 266. 277. 258. 257. 259. 109. 111. 108. 106. 107.\n",
      " 242. 246. 248. 121. 115. 117. 113. 118. 116. 114. 119. 112. 104. 110.\n",
      " 105. 158. 160. 153. 152. 159. 151. 155. 154. 164. 149. 156. 276. 268.\n",
      " 270. 267. 265. 264. 262.  74.  82. 336. 345. 344. 337. 330. 340. 328.\n",
      " 342. 332. 313. 165. 170. 302. 296. 293. 167. 169. 162. 177. 225. 229.\n",
      " 238. 233. 333. 331. 329.  56.  67.  69.  68.  72.  71.  62.  55.  61.\n",
      "  57.  63.  60.  86.  73. 185. 175. 173. 174. 171. 179. 286. 284. 295.\n",
      " 210. 234. 243. 226. 228. 231. 214. 206. 207. 212. 193. 209. 208. 197.\n",
      " 199. 211. 203. 198. 204. 201. 200. 205. 202. 168.  66. 236. 237. 232.\n",
      " 223. 220. 219. 218. 227. 224. 221. 213. 144. 316. 314. 320. 322. 315.\n",
      " 323. 335.  99. 100. 101.  95.  64. 161. 163. 157.  97.  93. 102.  98.\n",
      "  96.  90. 103.  88. 216. 304. 306.  30.  45.  41.  48.  47.  44.  43.\n",
      "  49.  51.  52.  46.  42.  40.  54.  53.  84.  89.  92.  59.  58.  38.\n",
      "  85. 166. 239.  91. 120. 124. 135. 139. 141. 123. 132. 122. 133. 278.\n",
      " 273.  94.  50.  21. 125. 186. 192. 190. 182. 178. 249. 134. 138. 130.\n",
      " 215. 131. 137. 129. 128. 127. 126. 290.  87.  35. 245. 222. 217. 280.\n",
      " 272. 256.  31.  39.  33. 176. 188. 191. 195. 196. 281. 397. 381. 136.\n",
      " 189. 194. 187. 283. 298. 369. 370. 326. 377. 359. 241. 263. 254. 311.\n",
      " 247.  36. 172. 180. 181. 183. 184. 380. 285. 274. 294. 292. 291. 312.\n",
      " 375. 385. 325. 324. 319. 339. 343. 338. 299. 390. 365. 297. 287. 408.\n",
      " 395. 367. 361. 327. 244. 379.  nan 413. 396. 415. 399. 407. 401. 392.\n",
      " 387. 394. 398. 389. 358. 354. 350. 341. 318. 384. 391. 393. 400. 383.\n",
      " 376. 371. 378. 373. 374. 288. 289. 282. 352. 351. 355. 386. 406. 382.\n",
      " 388. 366. 362. 372. 410. 317. 470.  28.  22. 479.  34.  37.  32. 321.\n",
      " 458. 449. 457. 364. 488. 489. 475. 439. 421. 428. 420.  29. 515. 516.\n",
      " 545. 575. 521. 507. 504. 506. 490. 589. 590. 591. 635. 495. 368. 346.\n",
      " 525. 531. 512. 573. 560. 540. 547. 561. 559. 440. 360. 334. 363.  20.\n",
      "  27.  17.   0. 474. 464. 537.  25. 546.   2.  -1.  18.   6.  19. 455.\n",
      " 478. 426. 430. 425. 555. 562. 487. 620. 480. 522. 445. 411. 466. 447.\n",
      " 520. 486. 532. 527. 427. 482. 477. 429. 435. 463. 460. 465. 526. 513.\n",
      " 505.  14.   1. 462. 483. 558. 473. 469. 533. 450. 503. -27. 444. 476.\n",
      " 485. 424. 640.   4. 496.  26. 502. 557.  23. 423. 433. 443. 409. 417.\n",
      " 402. 405. 416. 442. 452. 517. 578.  10. 684. 500.]\n",
      "[233. 239.  nan 226. 244. 267. 232. 241. 224. 220. 237. 235. 217. 227.\n",
      " 218. 212. 222. 238. 243. 246. 240. 248. 230. 253. 225. 258. 249. 252.\n",
      " 211. 210. 236. 229. 234. 127. 130. 137. 139. 145. 136. 133. 120. 126.\n",
      " 131. 117. 125. 118. 123. 129. 134. 140. 128. 116. 121. 144. 142. 156.\n",
      " 135. 124. 132. 138. 153. 150. 147. 122. 146. 141. 154. 152. 155. 143.\n",
      " 113. 114. 149. 157. 215. 228. 216. 231. 213. 214. 209. 201. 223. 219.\n",
      " 204. 205. 193. 200. 207. 198. 242. 208. 221. 203. 317. 314. 323. 324.\n",
      " 318. 339. 349. 326. 297. 335. 310. 331. 332. 330. 328. 316. 300. 298.\n",
      " 290. 342. 351. 325. 303. 337. 333. 320. 309. 289. 296. 294. 292. 360.\n",
      " 341. 299. 327. 322. 346. 350. 338. 340. 301. 293. 295. 321. 311. 334.\n",
      " 305. 319. 329. 343. 353.  58.  66.  68.  73.  64.  67.  62.  63.  60.\n",
      "  65.  57.  78.  59.  61.  69.  70.  71.  72.  75.  45.  56.  53.  55.\n",
      "  76.  54.  52.  80.  50.  51.  49. 273. 281. 304. 288. 274. 269. 278.\n",
      " 283. 312. 280. 270. 276. 284. 262. 286. 265. 306. 291. 308. 266. 268.\n",
      " 272. 282. 285. 279. 261. 251. 302. 256. 307. 287. 275. 271. 264. 255.\n",
      " 260. 254. 259. 245. 247. 257. 250. 263. 206. 104.  85.  90.  98.  89.\n",
      "  82.  88.  87.  81.  86.  83.  84.  91.  92.  96. 102.  94.  93.  95.\n",
      "  97.  99. 195. 100. 105. 103.  79. 101.  77. 106. 148. 119. 115. 151.\n",
      " 164. 158.  47.  74. 313. 315. 277. 160. 166. 165. 159. 163. 176. 171.\n",
      " 172. 170. 167. 175. 177. 161. 162. 173. 180. 168. 179. 110. 202. 199.\n",
      " 191.  41.  36.  48.  44.  46.  42.  40.  38.  43.  39.  37.  34.  35.\n",
      "  32.  33. 186. 169. 182. 183. 192. 194. 197. 187. 188. 190. 185. 181.\n",
      " 196. 178. 174. 189. 184. 108. 112. 109. 111. 344. 348. 107.  31.  27.\n",
      "  22.  24.  30.  26.  29.  23.  25.  28.  17.  19.  20.  21.  18.  16.\n",
      "  15.  14.  13.  12.  10.   8.  11.   9.   7. 379. 376. 358. 365. 354.\n",
      " 359. 399. 361. 363. 371. 383. 368. 374. 372. 366. 345. 336. 378. 352.\n",
      " 367. 355. 347. 370. 377. 381. 357. 369. 403. 394. 398. 408. 386. 392.\n",
      " 362. 356. 373. 364. 389. 382. 406. 393. 414. 423. 390. 380. 405. 395.\n",
      " 375. 396. 401. 424. 388. 387. 431. 454. 385. 419. 404. 410. 391. 384.\n",
      " 407. 429. 412. 400. 421. 427. 415. 413. 402. 409. 418. 397. 422. 425.\n",
      " 420. 416. 411. 417. 457. 465. 464. 453. 493. 473. 460. 441. 440. 428.\n",
      " 430. 443. 448. 452. 438. 436. 445. 449. 450. 437. 466. 476. 489. 461.\n",
      " 467. 463. 459. 447. 432. 434. 433. 456. 477. 471. 451. 435. 439. 455.\n",
      " 462. 458. 494. 442. 426. 480. 487. 488. 486. 482. 485. 444. 446. 483.\n",
      " 490. 517. 525. 528. 516. 535. 530. 532. 510. 497. 484. 495. 508. 499.\n",
      " 527. 514. 521. 546. 534. 573. 540. 513. 507. 551. 531. 541. 552. 553.\n",
      " 549. 559. 602. 592. 580. 561. 566. 557. 469. 479. 511. 474. 502. 475.\n",
      " 478. 468. 472. 544. 542. 529. 564. 581. 569. 568. 567. 545. 575. 576.\n",
      " 585. 572. 533. 556. 558. 547. 515. 526. 512. 550. 590. 591. 582. 586.\n",
      " 588. 563. 589. 577. 624. 623. 638. 632. 646. 643. 648. 578. 597. 496.\n",
      " 481. 509. 518. 500. 505. 491. 498. 519. 501. 503. 492. 524. 539. 548.\n",
      " 538. 504. 562. 506. 522.   5. 523. 555. 574. 570. 537. 536. 470. 565.\n",
      " 560. 554. 584. 598. 634. 600. 618. 622. 609. 612. 628. 621. 651. 601.\n",
      " 613. 593. 603. 605. 520. 543.   3. 619. 587. 604. 583.   4. 595. 611.\n",
      " 637. 610. 608. 571.   1. 606. 579.   6. 594. 599. 596. 615. 607. 635.\n",
      " 616.]\n",
      "[   7.   40.   nan ...  954. 1274.  755.]\n",
      "[ 0.000e+00  1.000e+00        nan ...  1.303e+03 -4.100e+01  6.530e+02]\n"
     ]
    },
    {
     "name": "stdout",
     "output_type": "stream",
     "text": [
      "['ATL' 'AUS' 'BHM' 'BNA' 'BOS' 'BUR' 'BWI' 'CLE' 'CLT' 'CMH' 'COS' 'CVG'\n",
      " 'DEN' 'DFW' 'DTW' 'ELP' 'EWR' 'FLL' 'HOU' 'IAD' 'IAH' 'ICT' 'IND' 'JFK'\n",
      " 'LAS' 'LAX' 'LGB' 'LIT' 'MCI' 'MCO' 'MDW' 'MEM' 'MIA' 'MKE' 'MSP' 'MSY'\n",
      " 'OAK' 'OKC' 'OMA' 'ONT' 'ORD' 'PDX' 'PHL' 'PIT' 'PVD' 'RNO' 'SAN' 'SAT'\n",
      " 'SDF' 'SEA' 'SFO' 'SJC' 'SLC' 'SMF' 'SNA' 'STL' 'TPA' 'TUL' 'TUS' 'ABE'\n",
      " 'ALB' 'AVP' 'BDL' 'BGM' 'BTV' 'BUF' 'CAK' 'CRW' 'DAY' 'DCA' 'ELM' 'ERI'\n",
      " 'GRR' 'GSO' 'HPN' 'ITH' 'LEX' 'LGA' 'MDT' 'MHT' 'ORF' 'PBI' 'PHX' 'PWM'\n",
      " 'RDU' 'RIC' 'ROA' 'ROC' 'RSW' 'SBN' 'SJU' 'SYR' 'TOL' 'JAX' 'MLU' 'MOB'\n",
      " 'GEG' 'JNU' 'WRG' 'BOI' 'ABQ' 'DAL' 'HRL' 'ANC' 'FAI' 'HNL' 'KTN' 'PSP'\n",
      " 'EGE' 'EUG' 'KOA' 'LIH' 'MFR' 'MRY' 'OGG' 'SBA' 'JAN' 'STT' 'BIL' 'BZN'\n",
      " 'FCA' 'GTF' 'HLN' 'JAC' 'MSO' 'PSC' 'CID' 'DSM' 'FSD' 'HDN' 'LNK' 'MLI'\n",
      " 'PIA' 'SGF' 'SHV' 'SRQ' 'TYS' 'ISP' 'PSG' 'CDV' 'GSP' 'BTR' 'GPT' 'VPS'\n",
      " 'STX' 'HSV' 'MGM' 'PNS' 'AZO' 'BIS' 'DLH' 'FAR' 'GFK' 'GRB' 'LAN' 'LSE'\n",
      " 'MBS' 'MOT' 'MSN' 'RAP' 'RST' 'SUX' 'OTZ' 'SWF' 'OME' 'DRO' 'FAT' 'GUC'\n",
      " 'MFE' 'AKN' 'FNT' 'FWA' 'TVC' 'LBB' 'MAF' 'CHS' 'DAB' 'MTJ' 'MYR' 'SAV'\n",
      " 'BRW' 'CRP' 'SIT' 'YAK' 'AMA' 'ADQ' 'BET' 'DLG' 'DUT' 'SCC' 'AGS' 'CAE'\n",
      " 'MLB' 'TLH' 'AVL' 'CHA' 'FAY' 'ILM' 'TRI' 'BRO' 'LFT' 'LWB' 'GST' 'MIB'\n",
      " 'ITO' 'BQN']\n",
      "['PHX' 'PIA' 'PIT' 'PNS' 'PSC' 'PSG' 'PSP' 'PVD' 'PWM' 'RAP' 'RDU' 'RIC'\n",
      " 'RNO' 'ROA' 'ROC' 'RST' 'RSW' 'SAN' 'SAT' 'SAV' 'SBA' 'SBN' 'SCC' 'SDF'\n",
      " 'SEA' 'SFO' 'SGF' 'SHV' 'SIT' 'SJC' 'SJU' 'SLC' 'SMF' 'SNA' 'SRQ' 'STL'\n",
      " 'STT' 'STX' 'SUX' 'SWF' 'SYR' 'TLH' 'TOL' 'TPA' 'TRI' 'TUL' 'TUS' 'TVC'\n",
      " 'TYS' 'VPS' 'WRG' 'YAK' 'LAX' 'LBB' 'LEX' 'LGA' 'LGB' 'LIH' 'LIT' 'LNK'\n",
      " 'LSE' 'MAF' 'MBS' 'MCI' 'MCO' 'MDT' 'MDW' 'MEM' 'MFE' 'MFR' 'MGM' 'MHT'\n",
      " 'MIA' 'MKE' 'MLB' 'MLI' 'MLU' 'MOB' 'MOT' 'MRY' 'MSN' 'MSO' 'MSP' 'MSY'\n",
      " 'MTJ' 'MYR' 'OAK' 'OGG' 'OKC' 'OMA' 'OME' 'ONT' 'ORD' 'ORF' 'OTZ' 'PBI'\n",
      " 'PDX' 'PHL' 'DFW' 'DLG' 'DLH' 'DRO' 'DSM' 'DTW' 'DUT' 'EGE' 'ELM' 'ELP'\n",
      " 'ERI' 'EUG' 'EWR' 'FAI' 'FAR' 'FAT' 'FAY' 'FCA' 'FLL' 'FNT' 'FSD' 'FWA'\n",
      " 'GEG' 'GFK' 'GPT' 'GRB' 'GRR' 'GSO' 'GSP' 'GTF' 'GUC' 'HDN' 'HLN' 'HNL'\n",
      " 'HOU' 'HPN' 'HRL' 'HSV' 'IAD' 'IAH' 'ICT' 'ILM' 'IND' 'ISP' 'ITH' 'JAC'\n",
      " 'JAN' 'JAX' 'JFK' 'JNU' 'KOA' 'KTN' 'LAN' 'LAS' 'ABE' 'ABQ' 'ADQ' 'AGS'\n",
      " 'AKN' 'ALB' 'AMA' 'ANC' 'ATL' 'AUS' 'AVL' 'AVP' 'AZO' 'BDL' 'BET' 'BGM'\n",
      " 'BHM' 'BIL' 'BIS' 'BNA' 'BOI' 'BOS' 'BRW' 'BTR' 'BTV' 'BUF' 'BUR' 'BWI'\n",
      " 'BZN' 'CAE' 'CAK' 'CDV' 'CHA' 'CHS' 'CID' 'CLE' 'CLT' 'CMH' 'COS' 'CRP'\n",
      " 'CRW' 'CVG' 'DAB' 'DAL' 'DAY' 'DCA' 'DEN' 'BRO' 'LFT' 'LWB' 'GST' 'MIB'\n",
      " 'ITO' 'BQN']\n",
      "[1587  872 1455 ... 1585 1618 1670]\n",
      "[ 15   5   0   7   3   8   6   4   9  12  38  24  10  13  17  20  21  11\n",
      "  18   2   1  14  19  32  16  23  36  22  31  39  29  27  26  40  46  25\n",
      "  37  35  28  33  30  43  66  34  48  45  49  42  41  59  64  47  44  56\n",
      "  53  61  50  51  87  60  52  57  54  69  63  88  55  92  70  62  84 117\n",
      "  67 109  76 106  58  72  97 111  68  71  94  91  74  82  73  86  85  77\n",
      "  83 110  89  65  90  75 115  96  81  79 136 102  80  95 125 149 104 112\n",
      " 121 154  78 151 100  93 124 128 107 101  99 113 150 130 167 137 105 114\n",
      "  98 103 129 120 108 131 138 257 118 123 176 159 174 171 194 119 116 217\n",
      " 203 132 165 155 166 140 143 122 178 225 177 147 127 126 134 133 180 186\n",
      " 200 199 205 164 148 162 172 201 168 179 173 169 191 183 135 153 141 158\n",
      " 144 188]\n",
      "[ 11  47   0  14   8  24  27  13   7  20  38  10  12  19  26  15  17  25\n",
      "  32  23  16  18  21   5  22  31 144   9   6   4  54  34  30  33  37  62\n",
      "  40  41  36   3  76  75  70 152  29  45  42  28  73  68  35  46  43  50\n",
      "  39  92  57  48  87 112  53  59  51  52 157  74  49 180  55 119  99 151\n",
      "  44  67  65  69  60  58 124  98 184 111  93  82  63  61  80 108  72  84\n",
      " 125  56   2  66  90  96 101 131 188  78  95 105  86  83 136  64  85  79\n",
      " 146  71 288 100 181 117  81 122  94  77 118 120 102 162  91 142  89 103\n",
      " 106 174 107  97 129 169  88 121 182 109   1 141 211 154 132 104 110 189\n",
      " 127 185 246 134 218 156 138 114 200 116 197 195 205 163 139 147 113 243\n",
      " 165 164 140 239 135 215 143 166 176 191 133 168 171 282 222 123 126 148\n",
      " 167 249 207 158 130 128 216 153 242 178 186 203 150 115 190 160 196 192\n",
      " 149 155 172 279 201 145 265 221 170 159 137 202 290 214 179 310 213 208\n",
      " 223 175 183 260 271 277 272 276 177 161 229 206 252 224 220 300 219 250\n",
      " 226 301 225 273 187 194 232 198 238 193 209 228 266 217 297 244 268 247\n",
      " 253 263 361 234 199 240 233 173 256 235 212 241 210 231 248 230 308 237\n",
      " 251 227 255 204 311 257 332 262 245 306 304 323 436 410 312 267 314 319\n",
      " 280 313 259 269 326 321 360 295 275 261 334 236 335 322 328 296 293 258\n",
      " 281 291 315 285 292 394 278 270 264 289 318 303 298 254 375 338 286 357\n",
      " 368 302 320 347 372 284 274 287 331 294 336 283 309 324 339 363 358 374\n",
      " 423 333 346]\n",
      "[0 1]\n",
      "[nan]\n",
      "[0 1]\n",
      "[nan]\n",
      "[nan]\n",
      "[nan]\n",
      "[nan]\n",
      "[nan]\n"
     ]
    }
   ],
   "source": [
    "for col in df_airlines_2000:\n",
    "    print(df_airlines_2000[col].unique())"
   ]
  },
  {
   "cell_type": "code",
   "execution_count": 31,
   "metadata": {},
   "outputs": [
    {
     "name": "stdout",
     "output_type": "stream",
     "text": [
      "1987\n"
     ]
    },
    {
     "data": {
      "image/png": "[encoded data removed]",
      "text/plain": [
       "<Figure size 432x288 with 1 Axes>"
      ]
     },
     "metadata": {},
     "output_type": "display_data"
    },
    {
     "data": {
      "text/html": [
       "<div>\n",
       "<style scoped>\n",
       "    .dataframe tbody tr th:only-of-type {\n",
       "        vertical-align: middle;\n",
       "    }\n",
       "\n",
       "    .dataframe tbody tr th {\n",
       "        vertical-align: top;\n",
       "    }\n",
       "\n",
       "    .dataframe thead th {\n",
       "        text-align: right;\n",
       "    }\n",
       "</style>\n",
       "<table border=\"1\" class=\"dataframe\">\n",
       "  <thead>\n",
       "    <tr style=\"text-align: right;\">\n",
       "      <th></th>\n",
       "      <th>Cancelled</th>\n",
       "    </tr>\n",
       "    <tr>\n",
       "      <th>Cancelled</th>\n",
       "      <th></th>\n",
       "    </tr>\n",
       "  </thead>\n",
       "  <tbody>\n",
       "    <tr>\n",
       "      <th>0</th>\n",
       "      <td>0.984994</td>\n",
       "    </tr>\n",
       "    <tr>\n",
       "      <th>1</th>\n",
       "      <td>0.015006</td>\n",
       "    </tr>\n",
       "  </tbody>\n",
       "</table>\n",
       "</div>"
      ],
      "text/plain": [
       "           Cancelled\n",
       "Cancelled           \n",
       "0           0.984994\n",
       "1           0.015006"
      ]
     },
     "execution_count": 31,
     "metadata": {},
     "output_type": "execute_result"
    }
   ],
   "source": [
    "fig, ax = plt.subplots()\n",
    "ax.pie(df_airlines_1987.groupby('Cancelled').agg({'Cancelled' : 'count'})['Cancelled'], labels= [0, 1])\n",
    "print(1987)\n",
    "plt.show()\n",
    "df_airlines_1987.groupby('Cancelled').agg({'Cancelled': lambda x: x.count()/ df_airlines_1987['Cancelled'].count()})"
   ]
  },
  {
   "cell_type": "code",
   "execution_count": 32,
   "metadata": {},
   "outputs": [
    {
     "name": "stdout",
     "output_type": "stream",
     "text": [
      "2000\n"
     ]
    },
    {
     "data": {
      "image/png": "[encoded data removed]",
      "text/plain": [
       "<Figure size 432x288 with 1 Axes>"
      ]
     },
     "metadata": {},
     "output_type": "display_data"
    },
    {
     "data": {
      "text/html": [
       "<div>\n",
       "<style scoped>\n",
       "    .dataframe tbody tr th:only-of-type {\n",
       "        vertical-align: middle;\n",
       "    }\n",
       "\n",
       "    .dataframe tbody tr th {\n",
       "        vertical-align: top;\n",
       "    }\n",
       "\n",
       "    .dataframe thead th {\n",
       "        text-align: right;\n",
       "    }\n",
       "</style>\n",
       "<table border=\"1\" class=\"dataframe\">\n",
       "  <thead>\n",
       "    <tr style=\"text-align: right;\">\n",
       "      <th></th>\n",
       "      <th>Cancelled</th>\n",
       "    </tr>\n",
       "    <tr>\n",
       "      <th>Cancelled</th>\n",
       "      <th></th>\n",
       "    </tr>\n",
       "  </thead>\n",
       "  <tbody>\n",
       "    <tr>\n",
       "      <th>0</th>\n",
       "      <td>0.967009</td>\n",
       "    </tr>\n",
       "    <tr>\n",
       "      <th>1</th>\n",
       "      <td>0.032991</td>\n",
       "    </tr>\n",
       "  </tbody>\n",
       "</table>\n",
       "</div>"
      ],
      "text/plain": [
       "           Cancelled\n",
       "Cancelled           \n",
       "0           0.967009\n",
       "1           0.032991"
      ]
     },
     "execution_count": 32,
     "metadata": {},
     "output_type": "execute_result"
    }
   ],
   "source": [
    "fig, ax = plt.subplots()\n",
    "ax.pie(df_airlines_2000.groupby('Cancelled').agg({'Cancelled' : 'count'})['Cancelled'], labels= [0, 1])\n",
    "print(2000)\n",
    "plt.show()\n",
    "df_airlines_2000.groupby('Cancelled').agg({'Cancelled': lambda x: x.count()/ df_airlines_2000['Cancelled'].count()})"
   ]
  },
  {
   "cell_type": "code",
   "execution_count": 33,
   "metadata": {},
   "outputs": [
    {
     "name": "stdout",
     "output_type": "stream",
     "text": [
      "2008\n"
     ]
    },
    {
     "data": {
      "image/png": "[encoded data removed]",
      "text/plain": [
       "<Figure size 432x288 with 1 Axes>"
      ]
     },
     "metadata": {},
     "output_type": "display_data"
    },
    {
     "data": {
      "text/html": [
       "<div>\n",
       "<style scoped>\n",
       "    .dataframe tbody tr th:only-of-type {\n",
       "        vertical-align: middle;\n",
       "    }\n",
       "\n",
       "    .dataframe tbody tr th {\n",
       "        vertical-align: top;\n",
       "    }\n",
       "\n",
       "    .dataframe thead th {\n",
       "        text-align: right;\n",
       "    }\n",
       "</style>\n",
       "<table border=\"1\" class=\"dataframe\">\n",
       "  <thead>\n",
       "    <tr style=\"text-align: right;\">\n",
       "      <th></th>\n",
       "      <th>Cancelled</th>\n",
       "    </tr>\n",
       "    <tr>\n",
       "      <th>Cancelled</th>\n",
       "      <th></th>\n",
       "    </tr>\n",
       "  </thead>\n",
       "  <tbody>\n",
       "    <tr>\n",
       "      <th>0</th>\n",
       "      <td>0.980394</td>\n",
       "    </tr>\n",
       "    <tr>\n",
       "      <th>1</th>\n",
       "      <td>0.019606</td>\n",
       "    </tr>\n",
       "  </tbody>\n",
       "</table>\n",
       "</div>"
      ],
      "text/plain": [
       "           Cancelled\n",
       "Cancelled           \n",
       "0           0.980394\n",
       "1           0.019606"
      ]
     },
     "execution_count": 33,
     "metadata": {},
     "output_type": "execute_result"
    }
   ],
   "source": [
    "fig, ax = plt.subplots()\n",
    "ax.pie(df_airlines_1987.groupby('Cancelled').agg({'Cancelled' : 'count'})['Cancelled'], labels= [0, 1])\n",
    "print(2008)\n",
    "plt.show()\n",
    "df_airlines_2008.groupby('Cancelled').agg({'Cancelled': lambda x: x.count()/ df_airlines_2008['Cancelled'].count()})"
   ]
  },
  {
   "cell_type": "code",
   "execution_count": 52,
   "metadata": {},
   "outputs": [
    {
     "name": "stdout",
     "output_type": "stream",
     "text": [
      "1987\n",
      "1988\n",
      "1989\n",
      "1990\n",
      "1991\n",
      "1992\n",
      "1993\n",
      "1994\n",
      "1995\n",
      "1996\n",
      "1997\n",
      "1998\n",
      "1999\n",
      "2000\n",
      "2001\n",
      "2002\n",
      "2003\n"
     ]
    },
    {
     "name": "stderr",
     "output_type": "stream",
     "text": [
      "<string>:2: DtypeWarning: Columns (22) have mixed types.Specify dtype option on import or set low_memory=False.\n"
     ]
    },
    {
     "name": "stdout",
     "output_type": "stream",
     "text": [
      "2004\n",
      "2005\n",
      "2006\n",
      "2007\n",
      "2008\n",
      "Wall time: 6min 10s\n"
     ]
    }
   ],
   "source": [
    "%%time\n",
    "cancelled_flight = []\n",
    "for year in range(1987, 2009):\n",
    "    print(year)\n",
    "    df_tmp = pd.read_csv('DataExpo2009/{0}.csv'.format(year))\n",
    "    cancelled_flight.append(df_tmp.groupby('Cancelled') \\\n",
    "                            .agg({'Cancelled': lambda x: x.count()/ df_tmp['Cancelled'].count()})['Cancelled'][1])"
   ]
  },
  {
   "cell_type": "code",
   "execution_count": 68,
   "metadata": {},
   "outputs": [
    {
     "data": {
      "text/plain": [
       "[<matplotlib.lines.Line2D at 0x184a7459308>]"
      ]
     },
     "execution_count": 68,
     "metadata": {},
     "output_type": "execute_result"
    },
    {
     "data": {
      "image/png": "[encoded data removed]",
      "text/plain": [
       "<Figure size 720x720 with 1 Axes>"
      ]
     },
     "metadata": {
      "needs_background": "light"
     },
     "output_type": "display_data"
    }
   ],
   "source": [
    "plt.figure(figsize=(10, 10))\n",
    "plt.ylim(0, max(cancelled_flight))\n",
    "plt.xticks(range(1987, 2009), rotation=45)\n",
    "plt.grid()\n",
    "plt.plot(range(1987, 2009), cancelled_flight)"
   ]
  },
  {
   "cell_type": "code",
   "execution_count": null,
   "metadata": {},
   "outputs": [],
   "source": []
  }
 ],
 "metadata": {
  "kernelspec": {
   "display_name": "Python 3",
   "language": "python",
   "name": "python3"
  },
  "language_info": {
   "codemirror_mode": {
    "name": "ipython",
    "version": 3
   },
   "file_extension": ".py",
   "mimetype": "text/x-python",
   "name": "python",
   "nbconvert_exporter": "python",
   "pygments_lexer": "ipython3",
   "version": "3.7.6"
  }
 },
 "nbformat": 4,
 "nbformat_minor": 4
}
